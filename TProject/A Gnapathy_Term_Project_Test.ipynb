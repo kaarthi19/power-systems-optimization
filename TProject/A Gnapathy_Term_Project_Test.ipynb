{
 "cells": [
  {
   "cell_type": "markdown",
   "id": "302ece29-15d0-4431-b606-f4272d83ce7e",
   "metadata": {},
   "source": [
    "# Capacity Expansion Planning with EV Inclusion \n",
    "\n",
    "(Title will be revised in Final Version)\n",
    "\n",
    "_Written by Kaarthi A Gnapathy for MAE 243 - Electric Power Systems Modelling Course, Fall 23_"
   ]
  },
  {
   "cell_type": "markdown",
   "id": "613072cf-5715-4c5a-a08e-f11ca52155b3",
   "metadata": {},
   "source": [
    "### Loading Packages"
   ]
  },
  {
   "cell_type": "code",
   "execution_count": 3,
   "id": "25a402da-f699-4e69-8fc3-c77c37dce500",
   "metadata": {},
   "outputs": [],
   "source": [
    "using JuMP\n",
    "using HiGHS\n",
    "using Plots\n",
    "using DataFrames, CSV\n",
    "using Clp\n",
    "using GLPK"
   ]
  },
  {
   "cell_type": "markdown",
   "id": "b9a5ce44-6046-465f-bb35-a2e952b41efa",
   "metadata": {},
   "source": [
    "### Loading Inputs (1)"
   ]
  },
  {
   "cell_type": "code",
   "execution_count": 1,
   "id": "17a75106-2be5-4b5e-b663-22d2d679aa23",
   "metadata": {},
   "outputs": [
    {
     "data": {
      "text/plain": [
       "\"complex_expansion_data/10_days/\""
      ]
     },
     "execution_count": 1,
     "metadata": {},
     "output_type": "execute_result"
    }
   ],
   "source": [
    "#working directory **CHANGE IF WORKING FROM A DIFFERENT DIRECTORY/COMPUTER\n",
    "\n",
    "#input path for reference electrification\n",
    "inputs_path_ref = \"complex_expansion_data/10_days/\"\n",
    "\n",
    "#input path for high electrification\n",
    "#inputs_path_high = \"wecc_2045_all_clean_expansion/high_electrification_16_weeks/\""
   ]
  },
  {
   "cell_type": "code",
   "execution_count": 26,
   "id": "722e79aa-ede4-4a11-932e-823ecb4c4233",
   "metadata": {},
   "outputs": [],
   "source": [
    "#similar generator info will be used since only demand profiles are different between both datasets\n",
    "generators = DataFrame(CSV.File(joinpath(inputs_path_ref, \"Generators_data.csv\")));\n",
    "\n",
    "#ID for all generators for easy reference\n",
    "G = generators.R_ID;\n",
    "\n",
    "#generators"
   ]
  },
  {
   "cell_type": "code",
   "execution_count": 4,
   "id": "c537aa46-dbd9-4f0d-8d9b-a5b5f951e62c",
   "metadata": {},
   "outputs": [],
   "source": [
    "#reading reference demand input data\n",
    "demand_inputs_ref = DataFrame(CSV.File(joinpath(inputs_path_ref, \"Load_data.csv\")))\n",
    "\n",
    "#value of losr load (cost of involuntary non-served energy)\n",
    "VOLL = demand_inputs_ref.Voll[1]\n",
    "\n",
    "#set of price responsive demand (non-served energy) segments\n",
    "S = convert(Array{Int64}, collect(skipmissing(demand_inputs_ref.Demand_segment)))\n",
    "\n",
    "#creating a data frame for nse segments\n",
    "nse = DataFrame(Segment = S, \n",
    "                NSE_Cost = VOLL.*collect(skipmissing(demand_inputs_ref.Cost_of_demand_curtailment_perMW)),\n",
    "                NSE_Max = collect(skipmissing(demand_inputs_ref.Max_demand_curtailment)))\n",
    "\n",
    "#set of sequential hours per sub-period\n",
    "hours_per_period = convert(Int64, demand_inputs_ref.Hours_per_period[1])\n",
    "#set of time sample sub-periods\n",
    "P = convert(Array{Int64}, 1:demand_inputs_ref.Subperiods[1])\n",
    "#sub-period cluster weights = number of hours represented by each sample period\n",
    "W = convert(Array{Int64}, collect(skipmissing(demand_inputs_ref.Sub_Weights)))\n",
    "#set of all time steps\n",
    "T = convert(Array{Int64}, demand_inputs_ref.Time_index)\n",
    "\n",
    "#creating a vector of sample weights\n",
    "sample_weight = zeros(Float64, size(T,1))\n",
    "t=1\n",
    "for p in P\n",
    "    for h in 1:hours_per_period\n",
    "        sample_weight[t]=W[p]/hours_per_period\n",
    "        t += 1\n",
    "    end\n",
    "end\n",
    "\n",
    "#set of zones\n",
    "Z = convert(Array{Int64}, 1:3)\n",
    "\n",
    "demand = select(demand_inputs_ref, :Load_MW_z1, :Load_MW_z2, :Load_MW_z3);\n",
    "\n",
    "#demand_ref"
   ]
  },
  {
   "cell_type": "code",
   "execution_count": 5,
   "id": "5099f92f-7961-4109-af8e-43463e5d8ff9",
   "metadata": {},
   "outputs": [],
   "source": [
    "#read generator capacity factors by hour\n",
    "variability = DataFrame(CSV.File(joinpath(inputs_path_ref, \"Generators_variability.csv\")))\n",
    "#cleaning up the data by removing the first column of indexes\n",
    "variability = variability[:,2:ncol(variability)];\n",
    "\n",
    "#variability"
   ]
  },
  {
   "cell_type": "code",
   "execution_count": 6,
   "id": "54a2523a-2042-42ed-ba5b-83d642eee74f",
   "metadata": {},
   "outputs": [],
   "source": [
    "#read fuels data\n",
    "fuels = DataFrame(CSV.File(joinpath(inputs_path_ref, \"Fuels_data.csv\")));\n",
    "\n",
    "#fuels"
   ]
  },
  {
   "cell_type": "code",
   "execution_count": 7,
   "id": "338cdee0-b273-4aec-9b63-1026f6b87fdb",
   "metadata": {},
   "outputs": [],
   "source": [
    "#reading network data\n",
    "lines = DataFrame(CSV.File(joinpath(inputs_path_ref, \"Network.csv\")));\n",
    "#removing the name of the line connections\n",
    "lines = select(lines[1:2,:], \n",
    "    :Network_lines, :z1, :z2, :z3, \n",
    "    :Line_Max_Flow_MW, :Line_Min_Flow_MW, :Line_Loss_Percentage, \n",
    "    :Line_Max_Reinforcement_MW, :Line_Reinforcement_Cost_per_MW_yr)\n",
    "#fixed O&M costs for lines\n",
    "lines.Line_Fixed_Cost_per_MW_yr = lines.Line_Reinforcement_Cost_per_MW_yr./20\n",
    "#set of all lines\n",
    "\n",
    "L = convert(Array{Int64}, lines.Network_lines);\n",
    "\n",
    "#lines"
   ]
  },
  {
   "cell_type": "code",
   "execution_count": 8,
   "id": "ca03e753-84d9-4510-b599-ded34e81018b",
   "metadata": {},
   "outputs": [],
   "source": [
    "#setting zones for easy reference\n",
    "zones = [\"z1\", \"z2\", \"z3\"];"
   ]
  },
  {
   "cell_type": "code",
   "execution_count": 11,
   "id": "abdc3bcb-273f-4809-96ec-ce9934e8f28f",
   "metadata": {},
   "outputs": [],
   "source": [
    "#calculating the associated variable costs for generators\n",
    "\n",
    "generators.Var_Cost = zeros(Float64, size(G,1))\n",
    "generators.CO2_Rate = zeros(Float64, size(G,1))\n",
    "generators.Start_Cost = zeros(Float64, size(G,1))\n",
    "generators.CO2_Per_Start = zeros(Float64, size(G,1))\n",
    "\n",
    "for g in G\n",
    "    # Variable cost ($/MWh) = variable O&M ($/MWh) + fuel cost ($/MMBtu) * heat rate (MMBtu/MWh)\n",
    "    generators.Var_Cost[g] = generators.Var_OM_cost_per_MWh[g] +\n",
    "        fuels[fuels.Fuel.==generators.Fuel[g],:Cost_per_MMBtu][1]*generators.Heat_rate_MMBTU_per_MWh[g]\n",
    "    # CO2 emissions rate (tCO2/MWh) = fuel CO2 content (tCO2/MMBtu) * heat rate (MMBtu/MWh)\n",
    "    generators.CO2_Rate[g] = fuels[fuels.Fuel.==generators.Fuel[g],:CO2_content_tons_per_MMBtu][1]*generators.Heat_rate_MMBTU_per_MWh[g]\n",
    "    # Start-up cost ($/start/MW) = start up O&M cost ($/start/MW) + fuel cost ($/MMBtu) * start up fuel use (MMBtu/start/MW) \n",
    "    generators.Start_Cost[g] = generators.Start_cost_per_MW[g] +\n",
    "        fuels[fuels.Fuel.==generators.Fuel[g],:Cost_per_MMBtu][1]*generators.Start_fuel_MMBTU_per_MW[g]\n",
    "    # Start-up CO2 emissions (tCO2/start/MW) = fuel CO2 content (tCO2/MMBtu) * start up fuel use (MMBtu/start/MW) \n",
    "    generators.CO2_Per_Start[g] = fuels[fuels.Fuel.==generators.Fuel[g],:CO2_content_tons_per_MMBtu][1]*generators.Start_fuel_MMBTU_per_MW[g]\n",
    "end\n"
   ]
  },
  {
   "cell_type": "code",
   "execution_count": 30,
   "id": "5d07dc10-bdf2-464d-9322-a8c88242f71b",
   "metadata": {},
   "outputs": [],
   "source": [
    "#Subset definition\n",
    "\n",
    "#subset of thermal generators that are subject to unit commitment constraints\n",
    "UC = intersect(generators.R_ID[generators.Commit.==1], G)\n",
    "\n",
    "#subset of generators that are not subject to unit commitment constraints\n",
    "ED = intersect(generators.R_ID[.!(generators.Commit.==1)], G)\n",
    "\n",
    "#subset of storage resources\n",
    "STOR = intersect(generators.R_ID[generators.STOR.>=1], G)\n",
    "\n",
    "#subset of variable renewable resources\n",
    "VRE = intersect(generators.R_ID[generators.DISP.==1], G)\n",
    "\n",
    "#subset of new build generators\n",
    "NEW = intersect(generators.R_ID[generators.New_Build.==1], G)\n",
    "\n",
    "#subset of existing generators\n",
    "OLD = intersect(generators.R_ID[.!(generators.New_Build.==1)], G)\n",
    "\n",
    "#subset of RPS qualifying resources\n",
    "RPS = intersect(generators.R_ID[generators.RPS.==1], G);\n",
    "\n",
    "#subset of time steps that begin a sub period\n",
    "START = 1:hours_per_period:maximum(T)\n",
    "\n",
    "#subset of time periods that do not begin a sub period\n",
    "INTERIOR = setdiff(T, START);"
   ]
  },
  {
   "cell_type": "markdown",
   "id": "6f59c101-da88-4a98-b6b8-069678f8588d",
   "metadata": {},
   "source": [
    "### Defining Model Function (2)"
   ]
  },
  {
   "cell_type": "code",
   "execution_count": 19,
   "id": "cb326966-cdbd-47e7-ac83-aa2f5da5f0f6",
   "metadata": {},
   "outputs": [
    {
     "data": {
      "text/plain": [
       "capacity_expansion (generic function with 2 methods)"
      ]
     },
     "execution_count": 19,
     "metadata": {},
     "output_type": "execute_result"
    }
   ],
   "source": [
    "#creating a function for the capacity expansion model to test out different scenarios\n",
    "\n",
    "function capacity_expansion(demand_profile, optimizer = HiGHS.Optimizer)\n",
    "    CE = Model(optimizer)\n",
    "\n",
    "\n",
    "    #DECISION VARIABLES\n",
    "\n",
    "    #Capacity decision variables\n",
    "    @variables(CE, begin\n",
    "\n",
    "            #standard capacity variables\n",
    "            vCAP[g in G]               >= 0 # power capacity (MW)\n",
    "            vRET_CAP[g in OLD]         >= 0 # retirement power capacity (MW)\n",
    "            vNEW_CAP[g in NEW]         >= 0 # new build power capacity (MW)\n",
    "            \n",
    "            #storage variables\n",
    "            vE_CAP[g in STOR]          >= 0 # storage energy capacity (MWh)\n",
    "            vRET_E_CAP[g in intersect(STOR, OLD)]   >= 0 # retirement storage energy capacity\n",
    "            vNEW_E_CAP[g in intersect(STOR, NEW)]   >= 0 # new build storage energy capacity\n",
    "\n",
    "            #transmission variables\n",
    "            vT_CAP[l in L]             >= 0 # transmission capacity (MW)\n",
    "            vRET_T_CAP[l in L]         >= 0 # retirement transmission capacity (MW)\n",
    "            vNEW_T_CAP[l in L]         >= 0 # new build transmission capacity (MW)\n",
    "    end)\n",
    "\n",
    "    #unbounded till max_cap data is received\n",
    "    #for g in NEW[generators[NEW, :Max_Cap_MW].>0]\n",
    "    #    set_upper_bound(vNew_CAP[g], generators.Max_Cap_MW[g])\n",
    "    #end\n",
    "\n",
    "    #set upper bounds on transmission capacity expansion\n",
    "    for l in L\n",
    "        set_upper_bound(vNEW_T_CAP[l], lines.Line_Max_Reinforcement_MW[l])\n",
    "    end\n",
    "\n",
    "    #operational decision variables\n",
    "    @variables(CE, begin\n",
    "            vGEN[T, G]          >= 0 # power generation (MW)\n",
    "            vCHARGE[T, STOR]    >= 0 # power charging (MW)\n",
    "            vSOC[T, STOR]       >= 0 # energy storage state of charge (MW)\n",
    "            vNSE[T, S, Z]       >= 0 # non-served energy/demand curtailment (MW)\n",
    "            vFLOW[T, L]         >= 0 # transmission line flow (MW)\n",
    "    end)\n",
    "\n",
    "    #CONSTRAINTS\n",
    "\n",
    "    #Supply Demand Balance Constraint\n",
    "    @constraint(CE, cDemandBalance[t in T, z in Z], \n",
    "        sum(vGEN[t,g] for g in intersect(generators[generators.zone.==z,:R_ID],G)) +\n",
    "        sum(vNSE[t,s,z] for s in S) - \n",
    "        sum(vCHARGE[t,g] for g in intersect(generators[generators.zone.==z,:R_ID],STOR)) -\n",
    "        demand_profile[t,z] - \n",
    "        sum(lines[l,Symbol(string(\"z\",z))] * vFLOW[t,l] for l in L) == 0\n",
    "        )\n",
    "\n",
    "    #capacitated constraints\n",
    "    @constraints(CE, begin\n",
    "\n",
    "            #max power constraint\n",
    "            cMaxPower[t in T, g in G], vGEN[t,g] <= variability[t,g]*vCAP[g]\n",
    "            #max charge constraint\n",
    "            cMaxCharge[t in T, g in STOR], vCHARGE[t,g] <= vCAP[g]\n",
    "            #max state of charge constraint\n",
    "            cMaxSOC[t in T, g in STOR], vSOC[t,g] <= vE_CAP[g]\n",
    "            #max NSE constraint\n",
    "            cMaxNSE[t in T, s in S, z in Z], vNSE[t,s,z] <= nse.NSE_Max[s]*demand_profile[t,z]\n",
    "            #max flow constraint\n",
    "            cMaxFlow[t in T, l in L], vFLOW[t,l] <= vT_CAP[l]\n",
    "            #min flow constraint\n",
    "            cMinFlow[t in T, l in L], vFLOW[t,l] >= -vT_CAP[l]        \n",
    "        end)\n",
    "\n",
    "    #total capacity constraint\n",
    "    @constraints(CE, begin\n",
    "\n",
    "            #total capacity for exisiting units\n",
    "            cCapOld[g in OLD], vCAP[g] == generators.Existing_Cap_MW[g] - vRET_CAP[g]\n",
    "\n",
    "            #total capacity for new units\n",
    "            cCapNew[g in NEW], vCAP[g] == vNEW_CAP[g]\n",
    "\n",
    "            #total energy storage capacity for existing units\n",
    "            cCapEnergyOld[g in intersect(STOR, OLD)], \n",
    "                vE_CAP[g] == generators.Existing_Cap_MWh[g] - vRET_E_CAP[g]\n",
    "\n",
    "            #total energy storage capacity for new units\n",
    "            cCapEnergyNew[g in intersect(STOR, NEW)], \n",
    "                vE_CAP[g] == vNEW_E_CAP[g]\n",
    "\n",
    "            #total transmission capacity\n",
    "            cTransCap[l in L], vT_CAP[l] == lines.Line_Max_Flow_MW[l] - vRET_T_CAP[l] + vNEW_T_CAP[l]            \n",
    "        end)\n",
    "\n",
    "    # time coupling constraints\n",
    "    @constraints(CE, begin\n",
    "\n",
    "            #ramp up, normal\n",
    "            cRampUp[t in INTERIOR, g in G],\n",
    "                vGEN[t,g] - vGEN[t-1,g] <= generators.Ramp_Up_percentage[g]*vCAP[g]\n",
    "\n",
    "            #ramp up, sub-period wrapping\n",
    "            cRampUpWrap[t in START, g in G],\n",
    "                vGEN[t,g] - vGEN[t+hours_per_period-1,g] <= generators.Ramp_Up_percentage[g]*vCAP[g]\n",
    "\n",
    "            #ramp down, normal\n",
    "            cRampDown[t in INTERIOR, g in G],\n",
    "                vGEN[t-1,g] - vGEN[t,g] <= generators.Ramp_Dn_percentage[g]*vCAP[g]\n",
    "\n",
    "            #ramp down, sub-period warping\n",
    "            cRampDownWrap[t in START, g in G],\n",
    "                vGEN[t+hours_per_period-1,g] - vGEN[t,g] <= generators.Ramp_Dn_percentage[g]*vCAP[g]\n",
    "\n",
    "            #storage state of charge, normal\n",
    "            cSOC[t in INTERIOR, g in STOR],\n",
    "                vSOC[t,g] == vSOC[t-1,g] + generators.Eff_up[g]*vCHARGE[t,g] - vGEN[t,g]/generators.Eff_down[g]\n",
    "\n",
    "            #storage state of charge, wrapping\n",
    "            cSOCWrap[t in START, g in STOR], \n",
    "                vSOC[t,g] == vSOC[t+hours_per_period-1,g] + generators.Eff_up[g]*vCHARGE[t,g] - vGEN[t,g]/generators.Eff_down[g]\n",
    "        end)\n",
    "\n",
    "    #OBJECTIVE FUNCTION\n",
    "    \n",
    "    #fixed cost for generation\n",
    "    @expression(CE, eFixedCostsGeneration,\n",
    "        #fixed costs for total capacity\n",
    "        sum(generators.Fixed_OM_cost_per_MWyr[g]*vCAP[g] for g in G) +\n",
    "        #investment costs for new capacity\n",
    "        sum(generators.Inv_cost_per_MWyr[g]*vNEW_CAP[g] for g in NEW)\n",
    "        )\n",
    "    \n",
    "    #fixed cost for storage\n",
    "    @expression(CE, eFixedCostsStorage,\n",
    "        #fixed costs for total storage capacity\n",
    "        sum(generators.Fixed_OM_cost_per_MWhyr[g]*vE_CAP[g] for g in STOR) + \n",
    "        #investment costs for new storage energy capacity\n",
    "        sum(generators.Inv_cost_per_MWhyr[g]*vNEW_E_CAP[g] for g in intersect(STOR, NEW))\n",
    "        )\n",
    "    \n",
    "    #fixed cost for transmission\n",
    "    @expression(CE, eFixedCostsTransmission,\n",
    "     # Investment and fixed O&M costs for transmission lines\n",
    "        sum(lines.Line_Fixed_Cost_per_MW_yr[l]*vT_CAP[l] +\n",
    "            lines.Line_Reinforcement_Cost_per_MW_yr[l]*vNEW_T_CAP[l] for l in L)\n",
    "        )\n",
    "\n",
    "    #variable costs for all generators\n",
    "    @expression(CE, eVariableCosts,\n",
    "     # Variable costs for generation, weighted by hourly sample weight \n",
    "    sum(sample_weight[t]*generators.Var_Cost[g]*vGEN[t,g] for t in T, g in G)\n",
    "        )\n",
    "\n",
    "    #NSE costs\n",
    "    @expression(CE, eNSECosts,\n",
    "     # Non-served energy costs, weighted by hourly sample weight to ensure non-served energy costs estimate annual costs\n",
    "    sum(sample_weight[t]*nse.NSE_Cost[s]*vNSE[t,s,z] for t in T, s in S, z in Z)\n",
    "        )\n",
    "\n",
    "    @objective(CE, Min,\n",
    "    eFixedCostsGeneration + eFixedCostsStorage + eFixedCostsTransmission +\n",
    "    eVariableCosts + eNSECosts\n",
    "        )\n",
    "    optimize!(CE)\n",
    "\n",
    "    return (\n",
    "        CAP = vCAP,\n",
    "        GEN = vGEN,\n",
    "        E_CAP = vE_CAP,\n",
    "        T_CAP = vT_CAP,\n",
    "        NSE = vNSE,\n",
    "        FixedCostsGeneration = eFixedCostsGeneration,\n",
    "        FixedCostsStorage = eFixedCostsStorage,\n",
    "        FixedCostsTransmission = eFixedCostsTransmission,\n",
    "        VariableCosts = eVariableCosts,\n",
    "        NSECosts = eNSECosts,\n",
    "        cost = objective_value(CE)\n",
    "        )\n",
    "end\n"
   ]
  },
  {
   "cell_type": "markdown",
   "id": "89aa23e9-411d-4d8a-b5e0-67bd983c24c8",
   "metadata": {},
   "source": [
    "### Solving the model (3)"
   ]
  },
  {
   "cell_type": "code",
   "execution_count": 21,
   "id": "a854bbb3-5766-4661-9a08-de492bdcf154",
   "metadata": {},
   "outputs": [
    {
     "name": "stdout",
     "output_type": "stream",
     "text": [
      "Running HiGHS 1.6.0: Copyright (c) 2023 HiGHS under MIT licence terms\n",
      "Presolving model\n",
      "39122 rows, 14864 cols, 116392 nonzeros\n",
      "39118 rows, 14864 cols, 116384 nonzeros\n",
      "Presolve : Reductions: rows 39118(-5822); columns 14864(-1818); elements 116384(-13498)\n",
      "Solving the presolved LP\n",
      "Using EKK dual simplex solver - serial\n",
      "  Iteration        Objective     Infeasibilities num(sum)\n",
      "          0     0.0000000000e+00 Pr: 482(3.17783e+06) 0s\n",
      "      11369     1.4606335766e+10 Pr: 0(0); Du: 0(1.35865e-09) 1s\n",
      "Solving the original LP from the solution after postsolve\n",
      "Model   status      : Optimal\n",
      "Simplex   iterations: 11369\n",
      "Objective value     :  1.4606335766e+10\n",
      "HiGHS run time      :          1.75\n",
      "  2.231167 seconds (2.55 M allocations: 163.162 MiB, 5.86% gc time)\n"
     ]
    }
   ],
   "source": [
    "@time solution = capacity_expansion(demand);"
   ]
  },
  {
   "cell_type": "markdown",
   "id": "a33e9a22-b757-460e-a0ba-51e636e59150",
   "metadata": {},
   "source": [
    "### Extracting results (4)"
   ]
  },
  {
   "cell_type": "code",
   "execution_count": 23,
   "id": "915708a6-c9c6-4923-816b-52115e694983",
   "metadata": {},
   "outputs": [],
   "source": [
    "# Record generation capacity and energy results\n",
    "generation = zeros(size(G,1))\n",
    "for i in 1:size(G,1) \n",
    "    generation[i] = sum(sample_weight.*value.(solution.GEN)[:,G[i]].data) \n",
    "end\n",
    "\n",
    "\n",
    "total_demand = sum(sum.(eachcol(sample_weight.*demand)))\n",
    "\n",
    "peak_demand = maximum(sum(eachcol(demand)))\n",
    "MWh_share = generation./total_demand.*100\n",
    "cap_share = value.(solution.CAP).data./peak_demand.*100\n",
    "\n",
    "generator_results = DataFrame(\n",
    "    ID = G, \n",
    "    Resource = generators.Resource[G],\n",
    "    Zone = generators.zone[G],\n",
    "    Total_MW = value.(solution.CAP).data,\n",
    "    Start_MW = generators.Existing_Cap_MW[G],\n",
    "    Change_in_MW = value.(solution.CAP).data.-generators.Existing_Cap_MW[G],\n",
    "    Percent_MW = cap_share,\n",
    "    GWh = generation/1000,\n",
    "    Percent_GWh = MWh_share\n",
    ")\n",
    "\n",
    "# energy storage energy capacity results (MWh)\n",
    "storage_results = DataFrame(\n",
    "    ID = STOR, \n",
    "    Zone = generators.zone[STOR],\n",
    "    Resource = generators.Resource[STOR],\n",
    "    Total_Storage_MWh = value.(solution.E_CAP).data,\n",
    "    Start_Storage_MWh = generators.Existing_Cap_MWh[STOR],\n",
    "    Change_in_Storage_MWh = value.(solution.E_CAP).data.-generators.Existing_Cap_MWh[STOR],\n",
    ")\n",
    "\n",
    "\n",
    "# transmission capacity results\n",
    "transmission_results = DataFrame(\n",
    "    Line = L, \n",
    "    Total_Transfer_Capacity = value.(solution.T_CAP).data,\n",
    "    Start_Transfer_Capacity = lines.Line_Max_Flow_MW,\n",
    "    Change_in_Transfer_Capacity = value.(solution.T_CAP).data.-lines.Line_Max_Flow_MW,\n",
    ")\n",
    "\n",
    "\n",
    "# non-served energy results by segment and zone\n",
    "num_segments = maximum(S)\n",
    "num_zones = maximum(Z)\n",
    "nse_results = DataFrame(\n",
    "    Segment = zeros(num_segments*num_zones),\n",
    "    Zone = zeros(num_segments*num_zones),\n",
    "    NSE_Price = zeros(num_segments*num_zones),\n",
    "    Max_NSE_MW = zeros(num_segments*num_zones),\n",
    "    Total_NSE_MWh = zeros(num_segments*num_zones),\n",
    "    NSE_Percent_of_Demand = zeros(num_segments*num_zones)\n",
    ")\n",
    "i=1\n",
    "for s in S\n",
    "    for z in Z\n",
    "        nse_results.Segment[i]=s\n",
    "        nse_results.Zone[i]=z\n",
    "        nse_results.NSE_Price[i]=nse.NSE_Cost[s]\n",
    "        nse_results.Max_NSE_MW[i]=maximum(value.(solution.NSE)[:,s,z].data)\n",
    "        nse_results.Total_NSE_MWh[i]=sum(sample_weight.*value.(solution.NSE)[:,s,z].data)\n",
    "        nse_results.NSE_Percent_of_Demand[i]=sum(sample_weight.*value.(solution.NSE)[:,s,z].data)/total_demand*100\n",
    "        i=i+1\n",
    "    end\n",
    "end\n",
    "\n",
    "#cost_results (recorded in million dollars)\n",
    "cost_results = DataFrame(\n",
    "    Total_Costs = solution.cost/10^6,\n",
    "    Fixed_Costs_Generation = value.(solution.FixedCostsGeneration)/10^6,\n",
    "    Fixed_Costs_Storage = value.(solution.FixedCostsStorage)/10^6,\n",
    "    Fixed_Costs_Transmission = value.(solution.FixedCostsTransmission)/10^6,\n",
    "    Variable_Costs = value.(solution.VariableCosts)/10^6,\n",
    "    NSE_Costs = value.(solution.NSECosts)/10^6\n",
    ");"
   ]
  },
  {
   "cell_type": "code",
   "execution_count": 24,
   "id": "d88124f2-6f5c-42d1-92ca-cc948ac47007",
   "metadata": {},
   "outputs": [
    {
     "data": {
      "text/html": [
       "<div><div style = \"float: left;\"><span>55×9 DataFrame</span></div><div style = \"float: right;\"><span style = \"font-style: italic;\">30 rows omitted</span></div><div style = \"clear: both;\"></div></div><div class = \"data-frame\" style = \"overflow-x: scroll;\"><table class = \"data-frame\" style = \"margin-bottom: 6px;\"><thead><tr class = \"header\"><th class = \"rowNumber\" style = \"font-weight: bold; text-align: right;\">Row</th><th style = \"text-align: left;\">ID</th><th style = \"text-align: left;\">Resource</th><th style = \"text-align: left;\">Zone</th><th style = \"text-align: left;\">Total_MW</th><th style = \"text-align: left;\">Start_MW</th><th style = \"text-align: left;\">Change_in_MW</th><th style = \"text-align: left;\">Percent_MW</th><th style = \"text-align: left;\">GWh</th><th style = \"text-align: left;\">Percent_GWh</th></tr><tr class = \"subheader headerLastRow\"><th class = \"rowNumber\" style = \"font-weight: bold; text-align: right;\"></th><th title = \"Int64\" style = \"text-align: left;\">Int64</th><th title = \"String\" style = \"text-align: left;\">String</th><th title = \"Int64\" style = \"text-align: left;\">Int64</th><th title = \"Float64\" style = \"text-align: left;\">Float64</th><th title = \"Float64\" style = \"text-align: left;\">Float64</th><th title = \"Float64\" style = \"text-align: left;\">Float64</th><th title = \"Float64\" style = \"text-align: left;\">Float64</th><th title = \"Float64\" style = \"text-align: left;\">Float64</th><th title = \"Float64\" style = \"text-align: left;\">Float64</th></tr></thead><tbody><tr><td class = \"rowNumber\" style = \"font-weight: bold; text-align: right;\">1</td><td style = \"text-align: right;\">1</td><td style = \"text-align: left;\">onshore_wind_turbine</td><td style = \"text-align: right;\">1</td><td style = \"text-align: right;\">6751.84</td><td style = \"text-align: right;\">8495.9</td><td style = \"text-align: right;\">-1744.06</td><td style = \"text-align: right;\">7.21482</td><td style = \"text-align: right;\">14638.2</td><td style = \"text-align: right;\">3.21055</td></tr><tr><td class = \"rowNumber\" style = \"font-weight: bold; text-align: right;\">2</td><td style = \"text-align: right;\">2</td><td style = \"text-align: left;\">biomass</td><td style = \"text-align: right;\">2</td><td style = \"text-align: right;\">0.0</td><td style = \"text-align: right;\">48.4</td><td style = \"text-align: right;\">-48.4</td><td style = \"text-align: right;\">0.0</td><td style = \"text-align: right;\">0.0</td><td style = \"text-align: right;\">0.0</td></tr><tr><td class = \"rowNumber\" style = \"font-weight: bold; text-align: right;\">3</td><td style = \"text-align: right;\">3</td><td style = \"text-align: left;\">conventional_hydroelectric</td><td style = \"text-align: right;\">2</td><td style = \"text-align: right;\">0.0</td><td style = \"text-align: right;\">467.02</td><td style = \"text-align: right;\">-467.02</td><td style = \"text-align: right;\">0.0</td><td style = \"text-align: right;\">0.0</td><td style = \"text-align: right;\">0.0</td></tr><tr><td class = \"rowNumber\" style = \"font-weight: bold; text-align: right;\">4</td><td style = \"text-align: right;\">4</td><td style = \"text-align: left;\">conventional_steam_coal</td><td style = \"text-align: right;\">2</td><td style = \"text-align: right;\">13567.7</td><td style = \"text-align: right;\">13567.7</td><td style = \"text-align: right;\">0.0</td><td style = \"text-align: right;\">14.498</td><td style = \"text-align: right;\">1.17736e5</td><td style = \"text-align: right;\">25.8227</td></tr><tr><td class = \"rowNumber\" style = \"font-weight: bold; text-align: right;\">5</td><td style = \"text-align: right;\">5</td><td style = \"text-align: left;\">natural_gas_fired_combined_cycle</td><td style = \"text-align: right;\">2</td><td style = \"text-align: right;\">35592.6</td><td style = \"text-align: right;\">36734.2</td><td style = \"text-align: right;\">-1141.6</td><td style = \"text-align: right;\">38.0332</td><td style = \"text-align: right;\">1.10697e5</td><td style = \"text-align: right;\">24.2787</td></tr><tr><td class = \"rowNumber\" style = \"font-weight: bold; text-align: right;\">6</td><td style = \"text-align: right;\">6</td><td style = \"text-align: left;\">natural_gas_fired_combustion_turbine</td><td style = \"text-align: right;\">2</td><td style = \"text-align: right;\">4704.48</td><td style = \"text-align: right;\">4704.48</td><td style = \"text-align: right;\">0.0</td><td style = \"text-align: right;\">5.02707</td><td style = \"text-align: right;\">76.212</td><td style = \"text-align: right;\">0.0167153</td></tr><tr><td class = \"rowNumber\" style = \"font-weight: bold; text-align: right;\">7</td><td style = \"text-align: right;\">7</td><td style = \"text-align: left;\">natural_gas_steam_turbine</td><td style = \"text-align: right;\">2</td><td style = \"text-align: right;\">0.0</td><td style = \"text-align: right;\">1118.5</td><td style = \"text-align: right;\">-1118.5</td><td style = \"text-align: right;\">0.0</td><td style = \"text-align: right;\">0.0</td><td style = \"text-align: right;\">0.0</td></tr><tr><td class = \"rowNumber\" style = \"font-weight: bold; text-align: right;\">8</td><td style = \"text-align: right;\">8</td><td style = \"text-align: left;\">nuclear</td><td style = \"text-align: right;\">2</td><td style = \"text-align: right;\">5020.0</td><td style = \"text-align: right;\">5020.0</td><td style = \"text-align: right;\">0.0</td><td style = \"text-align: right;\">5.36422</td><td style = \"text-align: right;\">43975.2</td><td style = \"text-align: right;\">9.64492</td></tr><tr><td class = \"rowNumber\" style = \"font-weight: bold; text-align: right;\">9</td><td style = \"text-align: right;\">9</td><td style = \"text-align: left;\">onshore_wind_turbine</td><td style = \"text-align: right;\">2</td><td style = \"text-align: right;\">6979.0</td><td style = \"text-align: right;\">6979.0</td><td style = \"text-align: right;\">0.0</td><td style = \"text-align: right;\">7.45755</td><td style = \"text-align: right;\">18093.0</td><td style = \"text-align: right;\">3.96827</td></tr><tr><td class = \"rowNumber\" style = \"font-weight: bold; text-align: right;\">10</td><td style = \"text-align: right;\">10</td><td style = \"text-align: left;\">small_hydroelectric</td><td style = \"text-align: right;\">2</td><td style = \"text-align: right;\">11.59</td><td style = \"text-align: right;\">11.59</td><td style = \"text-align: right;\">0.0</td><td style = \"text-align: right;\">0.0123847</td><td style = \"text-align: right;\">101.528</td><td style = \"text-align: right;\">0.0222679</td></tr><tr><td class = \"rowNumber\" style = \"font-weight: bold; text-align: right;\">11</td><td style = \"text-align: right;\">11</td><td style = \"text-align: left;\">solar_photovoltaic</td><td style = \"text-align: right;\">2</td><td style = \"text-align: right;\">454.5</td><td style = \"text-align: right;\">454.5</td><td style = \"text-align: right;\">0.0</td><td style = \"text-align: right;\">0.485665</td><td style = \"text-align: right;\">874.234</td><td style = \"text-align: right;\">0.191743</td></tr><tr><td class = \"rowNumber\" style = \"font-weight: bold; text-align: right;\">12</td><td style = \"text-align: right;\">12</td><td style = \"text-align: left;\">conventional_steam_coal</td><td style = \"text-align: right;\">3</td><td style = \"text-align: right;\">650.0</td><td style = \"text-align: right;\">650.0</td><td style = \"text-align: right;\">0.0</td><td style = \"text-align: right;\">0.694571</td><td style = \"text-align: right;\">3948.86</td><td style = \"text-align: right;\">0.866088</td></tr><tr><td class = \"rowNumber\" style = \"font-weight: bold; text-align: right;\">13</td><td style = \"text-align: right;\">13</td><td style = \"text-align: left;\">natural_gas_fired_combined_cycle</td><td style = \"text-align: right;\">3</td><td style = \"text-align: right;\">1838.75</td><td style = \"text-align: right;\">3427.34</td><td style = \"text-align: right;\">-1588.59</td><td style = \"text-align: right;\">1.96484</td><td style = \"text-align: right;\">7401.2</td><td style = \"text-align: right;\">1.62328</td></tr><tr><td style = \"text-align: right;\">&vellip;</td><td style = \"text-align: right;\">&vellip;</td><td style = \"text-align: right;\">&vellip;</td><td style = \"text-align: right;\">&vellip;</td><td style = \"text-align: right;\">&vellip;</td><td style = \"text-align: right;\">&vellip;</td><td style = \"text-align: right;\">&vellip;</td><td style = \"text-align: right;\">&vellip;</td><td style = \"text-align: right;\">&vellip;</td><td style = \"text-align: right;\">&vellip;</td></tr><tr><td class = \"rowNumber\" style = \"font-weight: bold; text-align: right;\">44</td><td style = \"text-align: right;\">44</td><td style = \"text-align: left;\">naturalgas_ctavgcf</td><td style = \"text-align: right;\">3</td><td style = \"text-align: right;\">0.0</td><td style = \"text-align: right;\">0.0</td><td style = \"text-align: right;\">0.0</td><td style = \"text-align: right;\">0.0</td><td style = \"text-align: right;\">0.0</td><td style = \"text-align: right;\">0.0</td></tr><tr><td class = \"rowNumber\" style = \"font-weight: bold; text-align: right;\">45</td><td style = \"text-align: right;\">45</td><td style = \"text-align: left;\">landbasedwind_ltrg1</td><td style = \"text-align: right;\">3</td><td style = \"text-align: right;\">0.0</td><td style = \"text-align: right;\">0.0</td><td style = \"text-align: right;\">0.0</td><td style = \"text-align: right;\">0.0</td><td style = \"text-align: right;\">0.0</td><td style = \"text-align: right;\">0.0</td></tr><tr><td class = \"rowNumber\" style = \"font-weight: bold; text-align: right;\">46</td><td style = \"text-align: right;\">46</td><td style = \"text-align: left;\">landbasedwind_ltrg1</td><td style = \"text-align: right;\">3</td><td style = \"text-align: right;\">0.0</td><td style = \"text-align: right;\">0.0</td><td style = \"text-align: right;\">0.0</td><td style = \"text-align: right;\">0.0</td><td style = \"text-align: right;\">0.0</td><td style = \"text-align: right;\">0.0</td></tr><tr><td class = \"rowNumber\" style = \"font-weight: bold; text-align: right;\">47</td><td style = \"text-align: right;\">47</td><td style = \"text-align: left;\">landbasedwind_ltrg1</td><td style = \"text-align: right;\">3</td><td style = \"text-align: right;\">0.0</td><td style = \"text-align: right;\">0.0</td><td style = \"text-align: right;\">0.0</td><td style = \"text-align: right;\">0.0</td><td style = \"text-align: right;\">0.0</td><td style = \"text-align: right;\">0.0</td></tr><tr><td class = \"rowNumber\" style = \"font-weight: bold; text-align: right;\">48</td><td style = \"text-align: right;\">48</td><td style = \"text-align: left;\">landbasedwind_ltrg1</td><td style = \"text-align: right;\">3</td><td style = \"text-align: right;\">0.0</td><td style = \"text-align: right;\">0.0</td><td style = \"text-align: right;\">0.0</td><td style = \"text-align: right;\">0.0</td><td style = \"text-align: right;\">0.0</td><td style = \"text-align: right;\">0.0</td></tr><tr><td class = \"rowNumber\" style = \"font-weight: bold; text-align: right;\">49</td><td style = \"text-align: right;\">49</td><td style = \"text-align: left;\">landbasedwind_ltrg1</td><td style = \"text-align: right;\">3</td><td style = \"text-align: right;\">0.0</td><td style = \"text-align: right;\">0.0</td><td style = \"text-align: right;\">0.0</td><td style = \"text-align: right;\">0.0</td><td style = \"text-align: right;\">0.0</td><td style = \"text-align: right;\">0.0</td></tr><tr><td class = \"rowNumber\" style = \"font-weight: bold; text-align: right;\">50</td><td style = \"text-align: right;\">50</td><td style = \"text-align: left;\">landbasedwind_ltrg1</td><td style = \"text-align: right;\">3</td><td style = \"text-align: right;\">0.0</td><td style = \"text-align: right;\">0.0</td><td style = \"text-align: right;\">0.0</td><td style = \"text-align: right;\">0.0</td><td style = \"text-align: right;\">0.0</td><td style = \"text-align: right;\">0.0</td></tr><tr><td class = \"rowNumber\" style = \"font-weight: bold; text-align: right;\">51</td><td style = \"text-align: right;\">51</td><td style = \"text-align: left;\">landbasedwind_ltrg1</td><td style = \"text-align: right;\">3</td><td style = \"text-align: right;\">0.0</td><td style = \"text-align: right;\">0.0</td><td style = \"text-align: right;\">0.0</td><td style = \"text-align: right;\">0.0</td><td style = \"text-align: right;\">0.0</td><td style = \"text-align: right;\">0.0</td></tr><tr><td class = \"rowNumber\" style = \"font-weight: bold; text-align: right;\">52</td><td style = \"text-align: right;\">52</td><td style = \"text-align: left;\">utilitypv_losangeles</td><td style = \"text-align: right;\">3</td><td style = \"text-align: right;\">0.0</td><td style = \"text-align: right;\">0.0</td><td style = \"text-align: right;\">0.0</td><td style = \"text-align: right;\">0.0</td><td style = \"text-align: right;\">0.0</td><td style = \"text-align: right;\">0.0</td></tr><tr><td class = \"rowNumber\" style = \"font-weight: bold; text-align: right;\">53</td><td style = \"text-align: right;\">53</td><td style = \"text-align: left;\">utilitypv_losangeles</td><td style = \"text-align: right;\">3</td><td style = \"text-align: right;\">0.0</td><td style = \"text-align: right;\">0.0</td><td style = \"text-align: right;\">0.0</td><td style = \"text-align: right;\">0.0</td><td style = \"text-align: right;\">0.0</td><td style = \"text-align: right;\">0.0</td></tr><tr><td class = \"rowNumber\" style = \"font-weight: bold; text-align: right;\">54</td><td style = \"text-align: right;\">54</td><td style = \"text-align: left;\">battery</td><td style = \"text-align: right;\">3</td><td style = \"text-align: right;\">-0.0</td><td style = \"text-align: right;\">0.0</td><td style = \"text-align: right;\">-0.0</td><td style = \"text-align: right;\">-0.0</td><td style = \"text-align: right;\">0.0</td><td style = \"text-align: right;\">0.0</td></tr><tr><td class = \"rowNumber\" style = \"font-weight: bold; text-align: right;\">55</td><td style = \"text-align: right;\">55</td><td style = \"text-align: left;\">naturalgas_ccs100</td><td style = \"text-align: right;\">3</td><td style = \"text-align: right;\">0.0</td><td style = \"text-align: right;\">0.0</td><td style = \"text-align: right;\">0.0</td><td style = \"text-align: right;\">0.0</td><td style = \"text-align: right;\">0.0</td><td style = \"text-align: right;\">0.0</td></tr></tbody></table></div>"
      ],
      "text/latex": [
       "\\begin{tabular}{r|ccccccc}\n",
       "\t& ID & Resource & Zone & Total\\_MW & Start\\_MW & Change\\_in\\_MW & \\\\\n",
       "\t\\hline\n",
       "\t& Int64 & String & Int64 & Float64 & Float64 & Float64 & \\\\\n",
       "\t\\hline\n",
       "\t1 & 1 & onshore\\_wind\\_turbine & 1 & 6751.84 & 8495.9 & -1744.06 & $\\dots$ \\\\\n",
       "\t2 & 2 & biomass & 2 & 0.0 & 48.4 & -48.4 & $\\dots$ \\\\\n",
       "\t3 & 3 & conventional\\_hydroelectric & 2 & 0.0 & 467.02 & -467.02 & $\\dots$ \\\\\n",
       "\t4 & 4 & conventional\\_steam\\_coal & 2 & 13567.7 & 13567.7 & 0.0 & $\\dots$ \\\\\n",
       "\t5 & 5 & natural\\_gas\\_fired\\_combined\\_cycle & 2 & 35592.6 & 36734.2 & -1141.6 & $\\dots$ \\\\\n",
       "\t6 & 6 & natural\\_gas\\_fired\\_combustion\\_turbine & 2 & 4704.48 & 4704.48 & 0.0 & $\\dots$ \\\\\n",
       "\t7 & 7 & natural\\_gas\\_steam\\_turbine & 2 & 0.0 & 1118.5 & -1118.5 & $\\dots$ \\\\\n",
       "\t8 & 8 & nuclear & 2 & 5020.0 & 5020.0 & 0.0 & $\\dots$ \\\\\n",
       "\t9 & 9 & onshore\\_wind\\_turbine & 2 & 6979.0 & 6979.0 & 0.0 & $\\dots$ \\\\\n",
       "\t10 & 10 & small\\_hydroelectric & 2 & 11.59 & 11.59 & 0.0 & $\\dots$ \\\\\n",
       "\t11 & 11 & solar\\_photovoltaic & 2 & 454.5 & 454.5 & 0.0 & $\\dots$ \\\\\n",
       "\t12 & 12 & conventional\\_steam\\_coal & 3 & 650.0 & 650.0 & 0.0 & $\\dots$ \\\\\n",
       "\t13 & 13 & natural\\_gas\\_fired\\_combined\\_cycle & 3 & 1838.75 & 3427.34 & -1588.59 & $\\dots$ \\\\\n",
       "\t14 & 14 & natural\\_gas\\_fired\\_combustion\\_turbine & 3 & 1207.96 & 1207.96 & 0.0 & $\\dots$ \\\\\n",
       "\t15 & 15 & onshore\\_wind\\_turbine & 3 & 1354.46 & 9450.5 & -8096.04 & $\\dots$ \\\\\n",
       "\t16 & 16 & solar\\_photovoltaic & 3 & 137.5 & 137.5 & 0.0 & $\\dots$ \\\\\n",
       "\t17 & 17 & naturalgas\\_ccccsavgcf & 1 & 0.0 & 0.0 & 0.0 & $\\dots$ \\\\\n",
       "\t18 & 18 & naturalgas\\_ccavgcf & 1 & -0.0 & 0.0 & -0.0 & $\\dots$ \\\\\n",
       "\t19 & 19 & naturalgas\\_ctavgcf & 1 & 0.0 & 0.0 & 0.0 & $\\dots$ \\\\\n",
       "\t20 & 20 & landbasedwind\\_ltrg1 & 1 & 0.0 & 0.0 & 0.0 & $\\dots$ \\\\\n",
       "\t21 & 21 & landbasedwind\\_ltrg1 & 1 & 0.0 & 0.0 & 0.0 & $\\dots$ \\\\\n",
       "\t22 & 22 & landbasedwind\\_ltrg1 & 1 & 0.0 & 0.0 & 0.0 & $\\dots$ \\\\\n",
       "\t23 & 23 & utilitypv\\_losangeles & 1 & 0.0 & 0.0 & 0.0 & $\\dots$ \\\\\n",
       "\t24 & 24 & utilitypv\\_losangeles & 1 & 0.0 & 0.0 & 0.0 & $\\dots$ \\\\\n",
       "\t25 & 25 & utilitypv\\_losangeles & 1 & 0.0 & 0.0 & 0.0 & $\\dots$ \\\\\n",
       "\t26 & 26 & utilitypv\\_losangeles & 1 & 0.0 & 0.0 & 0.0 & $\\dots$ \\\\\n",
       "\t27 & 27 & battery & 1 & -0.0 & 0.0 & -0.0 & $\\dots$ \\\\\n",
       "\t28 & 28 & naturalgas\\_ccs100 & 1 & 0.0 & 0.0 & 0.0 & $\\dots$ \\\\\n",
       "\t29 & 29 & naturalgas\\_ccccsavgcf & 2 & 0.0 & 0.0 & 0.0 & $\\dots$ \\\\\n",
       "\t30 & 30 & naturalgas\\_ccavgcf & 2 & 11684.6 & 0.0 & 11684.6 & $\\dots$ \\\\\n",
       "\t$\\dots$ & $\\dots$ & $\\dots$ & $\\dots$ & $\\dots$ & $\\dots$ & $\\dots$ &  \\\\\n",
       "\\end{tabular}\n"
      ],
      "text/plain": [
       "\u001b[1m55×9 DataFrame\u001b[0m\n",
       "\u001b[1m Row \u001b[0m│\u001b[1m ID    \u001b[0m\u001b[1m Resource                          \u001b[0m\u001b[1m Zone  \u001b[0m\u001b[1m Total_MW \u001b[0m\u001b[1m Start_MW \u001b[0m\u001b[1m Ch\u001b[0m ⋯\n",
       "     │\u001b[90m Int64 \u001b[0m\u001b[90m String                            \u001b[0m\u001b[90m Int64 \u001b[0m\u001b[90m Float64  \u001b[0m\u001b[90m Float64  \u001b[0m\u001b[90m Fl\u001b[0m ⋯\n",
       "─────┼──────────────────────────────────────────────────────────────────────────\n",
       "   1 │     1  onshore_wind_turbine                   1   6751.84   8495.9      ⋯\n",
       "   2 │     2  biomass                                2      0.0      48.4\n",
       "   3 │     3  conventional_hydroelectric             2      0.0     467.02\n",
       "   4 │     4  conventional_steam_coal                2  13567.7   13567.7\n",
       "   5 │     5  natural_gas_fired_combined_cycle       2  35592.6   36734.2      ⋯\n",
       "   6 │     6  natural_gas_fired_combustion_tur…      2   4704.48   4704.48\n",
       "   7 │     7  natural_gas_steam_turbine              2      0.0    1118.5\n",
       "   8 │     8  nuclear                                2   5020.0    5020.0\n",
       "   9 │     9  onshore_wind_turbine                   2   6979.0    6979.0      ⋯\n",
       "  10 │    10  small_hydroelectric                    2     11.59     11.59\n",
       "  11 │    11  solar_photovoltaic                     2    454.5     454.5\n",
       "  ⋮  │   ⋮                    ⋮                    ⋮       ⋮         ⋮         ⋱\n",
       "  46 │    46  landbasedwind_ltrg1                    3      0.0       0.0\n",
       "  47 │    47  landbasedwind_ltrg1                    3      0.0       0.0      ⋯\n",
       "  48 │    48  landbasedwind_ltrg1                    3      0.0       0.0\n",
       "  49 │    49  landbasedwind_ltrg1                    3      0.0       0.0\n",
       "  50 │    50  landbasedwind_ltrg1                    3      0.0       0.0\n",
       "  51 │    51  landbasedwind_ltrg1                    3      0.0       0.0      ⋯\n",
       "  52 │    52  utilitypv_losangeles                   3      0.0       0.0\n",
       "  53 │    53  utilitypv_losangeles                   3      0.0       0.0\n",
       "  54 │    54  battery                                3     -0.0       0.0\n",
       "  55 │    55  naturalgas_ccs100                      3      0.0       0.0      ⋯\n",
       "\u001b[36m                                                   4 columns and 34 rows omitted\u001b[0m"
      ]
     },
     "execution_count": 24,
     "metadata": {},
     "output_type": "execute_result"
    }
   ],
   "source": [
    "generator_results"
   ]
  },
  {
   "cell_type": "code",
   "execution_count": 25,
   "id": "0d006df4-54d5-42e5-83d5-9a0f26dc71cc",
   "metadata": {},
   "outputs": [
    {
     "data": {
      "text/html": [
       "<div><div style = \"float: left;\"><span>3×6 DataFrame</span></div><div style = \"clear: both;\"></div></div><div class = \"data-frame\" style = \"overflow-x: scroll;\"><table class = \"data-frame\" style = \"margin-bottom: 6px;\"><thead><tr class = \"header\"><th class = \"rowNumber\" style = \"font-weight: bold; text-align: right;\">Row</th><th style = \"text-align: left;\">ID</th><th style = \"text-align: left;\">Zone</th><th style = \"text-align: left;\">Resource</th><th style = \"text-align: left;\">Total_Storage_MWh</th><th style = \"text-align: left;\">Start_Storage_MWh</th><th style = \"text-align: left;\">Change_in_Storage_MWh</th></tr><tr class = \"subheader headerLastRow\"><th class = \"rowNumber\" style = \"font-weight: bold; text-align: right;\"></th><th title = \"Int64\" style = \"text-align: left;\">Int64</th><th title = \"Int64\" style = \"text-align: left;\">Int64</th><th title = \"String\" style = \"text-align: left;\">String</th><th title = \"Float64\" style = \"text-align: left;\">Float64</th><th title = \"Float64\" style = \"text-align: left;\">Float64</th><th title = \"Float64\" style = \"text-align: left;\">Float64</th></tr></thead><tbody><tr><td class = \"rowNumber\" style = \"font-weight: bold; text-align: right;\">1</td><td style = \"text-align: right;\">27</td><td style = \"text-align: right;\">1</td><td style = \"text-align: left;\">battery</td><td style = \"text-align: right;\">-0.0</td><td style = \"text-align: right;\">0.0</td><td style = \"text-align: right;\">-0.0</td></tr><tr><td class = \"rowNumber\" style = \"font-weight: bold; text-align: right;\">2</td><td style = \"text-align: right;\">40</td><td style = \"text-align: right;\">2</td><td style = \"text-align: left;\">battery</td><td style = \"text-align: right;\">-0.0</td><td style = \"text-align: right;\">0.0</td><td style = \"text-align: right;\">-0.0</td></tr><tr><td class = \"rowNumber\" style = \"font-weight: bold; text-align: right;\">3</td><td style = \"text-align: right;\">54</td><td style = \"text-align: right;\">3</td><td style = \"text-align: left;\">battery</td><td style = \"text-align: right;\">-0.0</td><td style = \"text-align: right;\">0.0</td><td style = \"text-align: right;\">-0.0</td></tr></tbody></table></div>"
      ],
      "text/latex": [
       "\\begin{tabular}{r|cccccc}\n",
       "\t& ID & Zone & Resource & Total\\_Storage\\_MWh & Start\\_Storage\\_MWh & Change\\_in\\_Storage\\_MWh\\\\\n",
       "\t\\hline\n",
       "\t& Int64 & Int64 & String & Float64 & Float64 & Float64\\\\\n",
       "\t\\hline\n",
       "\t1 & 27 & 1 & battery & -0.0 & 0.0 & -0.0 \\\\\n",
       "\t2 & 40 & 2 & battery & -0.0 & 0.0 & -0.0 \\\\\n",
       "\t3 & 54 & 3 & battery & -0.0 & 0.0 & -0.0 \\\\\n",
       "\\end{tabular}\n"
      ],
      "text/plain": [
       "\u001b[1m3×6 DataFrame\u001b[0m\n",
       "\u001b[1m Row \u001b[0m│\u001b[1m ID    \u001b[0m\u001b[1m Zone  \u001b[0m\u001b[1m Resource \u001b[0m\u001b[1m Total_Storage_MWh \u001b[0m\u001b[1m Start_Storage_MWh \u001b[0m\u001b[1m Change_in\u001b[0m ⋯\n",
       "     │\u001b[90m Int64 \u001b[0m\u001b[90m Int64 \u001b[0m\u001b[90m String   \u001b[0m\u001b[90m Float64           \u001b[0m\u001b[90m Float64           \u001b[0m\u001b[90m Float64  \u001b[0m ⋯\n",
       "─────┼──────────────────────────────────────────────────────────────────────────\n",
       "   1 │    27      1  battery                -0.0                0.0            ⋯\n",
       "   2 │    40      2  battery                -0.0                0.0\n",
       "   3 │    54      3  battery                -0.0                0.0\n",
       "\u001b[36m                                                                1 column omitted\u001b[0m"
      ]
     },
     "execution_count": 25,
     "metadata": {},
     "output_type": "execute_result"
    }
   ],
   "source": [
    "storage_results"
   ]
  },
  {
   "cell_type": "code",
   "execution_count": 27,
   "id": "30fef039-6120-421d-9509-1637b1e21283",
   "metadata": {},
   "outputs": [
    {
     "data": {
      "text/html": [
       "<div><div style = \"float: left;\"><span>2×4 DataFrame</span></div><div style = \"clear: both;\"></div></div><div class = \"data-frame\" style = \"overflow-x: scroll;\"><table class = \"data-frame\" style = \"margin-bottom: 6px;\"><thead><tr class = \"header\"><th class = \"rowNumber\" style = \"font-weight: bold; text-align: right;\">Row</th><th style = \"text-align: left;\">Line</th><th style = \"text-align: left;\">Total_Transfer_Capacity</th><th style = \"text-align: left;\">Start_Transfer_Capacity</th><th style = \"text-align: left;\">Change_in_Transfer_Capacity</th></tr><tr class = \"subheader headerLastRow\"><th class = \"rowNumber\" style = \"font-weight: bold; text-align: right;\"></th><th title = \"Int64\" style = \"text-align: left;\">Int64</th><th title = \"Float64\" style = \"text-align: left;\">Float64</th><th title = \"Union{Missing, Float64}\" style = \"text-align: left;\">Float64?</th><th title = \"Float64\" style = \"text-align: left;\">Float64</th></tr></thead><tbody><tr><td class = \"rowNumber\" style = \"font-weight: bold; text-align: right;\">1</td><td style = \"text-align: right;\">1</td><td style = \"text-align: right;\">3271.05</td><td style = \"text-align: right;\">3702.0</td><td style = \"text-align: right;\">-430.954</td></tr><tr><td class = \"rowNumber\" style = \"font-weight: bold; text-align: right;\">2</td><td style = \"text-align: right;\">2</td><td style = \"text-align: right;\">1451.34</td><td style = \"text-align: right;\">5529.0</td><td style = \"text-align: right;\">-4077.66</td></tr></tbody></table></div>"
      ],
      "text/latex": [
       "\\begin{tabular}{r|cccc}\n",
       "\t& Line & Total\\_Transfer\\_Capacity & Start\\_Transfer\\_Capacity & Change\\_in\\_Transfer\\_Capacity\\\\\n",
       "\t\\hline\n",
       "\t& Int64 & Float64 & Float64? & Float64\\\\\n",
       "\t\\hline\n",
       "\t1 & 1 & 3271.05 & 3702.0 & -430.954 \\\\\n",
       "\t2 & 2 & 1451.34 & 5529.0 & -4077.66 \\\\\n",
       "\\end{tabular}\n"
      ],
      "text/plain": [
       "\u001b[1m2×4 DataFrame\u001b[0m\n",
       "\u001b[1m Row \u001b[0m│\u001b[1m Line  \u001b[0m\u001b[1m Total_Transfer_Capacity \u001b[0m\u001b[1m Start_Transfer_Capacity \u001b[0m\u001b[1m Change_in_Tran\u001b[0m ⋯\n",
       "     │\u001b[90m Int64 \u001b[0m\u001b[90m Float64                 \u001b[0m\u001b[90m Union{Missing, Float64} \u001b[0m\u001b[90m Float64       \u001b[0m ⋯\n",
       "─────┼──────────────────────────────────────────────────────────────────────────\n",
       "   1 │     1                  3271.05                   3702.0                 ⋯\n",
       "   2 │     2                  1451.34                   5529.0\n",
       "\u001b[36m                                                                1 column omitted\u001b[0m"
      ]
     },
     "execution_count": 27,
     "metadata": {},
     "output_type": "execute_result"
    }
   ],
   "source": [
    "transmission_results"
   ]
  },
  {
   "cell_type": "code",
   "execution_count": 28,
   "id": "f2ef20d7-c245-4501-aedd-62c13abb4372",
   "metadata": {},
   "outputs": [
    {
     "data": {
      "text/html": [
       "<div><div style = \"float: left;\"><span>6×6 DataFrame</span></div><div style = \"clear: both;\"></div></div><div class = \"data-frame\" style = \"overflow-x: scroll;\"><table class = \"data-frame\" style = \"margin-bottom: 6px;\"><thead><tr class = \"header\"><th class = \"rowNumber\" style = \"font-weight: bold; text-align: right;\">Row</th><th style = \"text-align: left;\">Segment</th><th style = \"text-align: left;\">Zone</th><th style = \"text-align: left;\">NSE_Price</th><th style = \"text-align: left;\">Max_NSE_MW</th><th style = \"text-align: left;\">Total_NSE_MWh</th><th style = \"text-align: left;\">NSE_Percent_of_Demand</th></tr><tr class = \"subheader headerLastRow\"><th class = \"rowNumber\" style = \"font-weight: bold; text-align: right;\"></th><th title = \"Float64\" style = \"text-align: left;\">Float64</th><th title = \"Float64\" style = \"text-align: left;\">Float64</th><th title = \"Float64\" style = \"text-align: left;\">Float64</th><th title = \"Float64\" style = \"text-align: left;\">Float64</th><th title = \"Float64\" style = \"text-align: left;\">Float64</th><th title = \"Float64\" style = \"text-align: left;\">Float64</th></tr></thead><tbody><tr><td class = \"rowNumber\" style = \"font-weight: bold; text-align: right;\">1</td><td style = \"text-align: right;\">1.0</td><td style = \"text-align: right;\">1.0</td><td style = \"text-align: right;\">9000.0</td><td style = \"text-align: right;\">0.0</td><td style = \"text-align: right;\">0.0</td><td style = \"text-align: right;\">0.0</td></tr><tr><td class = \"rowNumber\" style = \"font-weight: bold; text-align: right;\">2</td><td style = \"text-align: right;\">1.0</td><td style = \"text-align: right;\">2.0</td><td style = \"text-align: right;\">9000.0</td><td style = \"text-align: right;\">0.0</td><td style = \"text-align: right;\">0.0</td><td style = \"text-align: right;\">0.0</td></tr><tr><td class = \"rowNumber\" style = \"font-weight: bold; text-align: right;\">3</td><td style = \"text-align: right;\">1.0</td><td style = \"text-align: right;\">3.0</td><td style = \"text-align: right;\">9000.0</td><td style = \"text-align: right;\">0.0</td><td style = \"text-align: right;\">0.0</td><td style = \"text-align: right;\">0.0</td></tr><tr><td class = \"rowNumber\" style = \"font-weight: bold; text-align: right;\">4</td><td style = \"text-align: right;\">2.0</td><td style = \"text-align: right;\">1.0</td><td style = \"text-align: right;\">603.0</td><td style = \"text-align: right;\">0.0</td><td style = \"text-align: right;\">0.0</td><td style = \"text-align: right;\">0.0</td></tr><tr><td class = \"rowNumber\" style = \"font-weight: bold; text-align: right;\">5</td><td style = \"text-align: right;\">2.0</td><td style = \"text-align: right;\">2.0</td><td style = \"text-align: right;\">603.0</td><td style = \"text-align: right;\">6606.45</td><td style = \"text-align: right;\">49326.3</td><td style = \"text-align: right;\">0.0108186</td></tr><tr><td class = \"rowNumber\" style = \"font-weight: bold; text-align: right;\">6</td><td style = \"text-align: right;\">2.0</td><td style = \"text-align: right;\">3.0</td><td style = \"text-align: right;\">603.0</td><td style = \"text-align: right;\">407.1</td><td style = \"text-align: right;\">1193.2</td><td style = \"text-align: right;\">0.0002617</td></tr></tbody></table></div>"
      ],
      "text/latex": [
       "\\begin{tabular}{r|cccccc}\n",
       "\t& Segment & Zone & NSE\\_Price & Max\\_NSE\\_MW & Total\\_NSE\\_MWh & NSE\\_Percent\\_of\\_Demand\\\\\n",
       "\t\\hline\n",
       "\t& Float64 & Float64 & Float64 & Float64 & Float64 & Float64\\\\\n",
       "\t\\hline\n",
       "\t1 & 1.0 & 1.0 & 9000.0 & 0.0 & 0.0 & 0.0 \\\\\n",
       "\t2 & 1.0 & 2.0 & 9000.0 & 0.0 & 0.0 & 0.0 \\\\\n",
       "\t3 & 1.0 & 3.0 & 9000.0 & 0.0 & 0.0 & 0.0 \\\\\n",
       "\t4 & 2.0 & 1.0 & 603.0 & 0.0 & 0.0 & 0.0 \\\\\n",
       "\t5 & 2.0 & 2.0 & 603.0 & 6606.45 & 49326.3 & 0.0108186 \\\\\n",
       "\t6 & 2.0 & 3.0 & 603.0 & 407.1 & 1193.2 & 0.0002617 \\\\\n",
       "\\end{tabular}\n"
      ],
      "text/plain": [
       "\u001b[1m6×6 DataFrame\u001b[0m\n",
       "\u001b[1m Row \u001b[0m│\u001b[1m Segment \u001b[0m\u001b[1m Zone    \u001b[0m\u001b[1m NSE_Price \u001b[0m\u001b[1m Max_NSE_MW \u001b[0m\u001b[1m Total_NSE_MWh \u001b[0m\u001b[1m NSE_Percent_of_\u001b[0m ⋯\n",
       "     │\u001b[90m Float64 \u001b[0m\u001b[90m Float64 \u001b[0m\u001b[90m Float64   \u001b[0m\u001b[90m Float64    \u001b[0m\u001b[90m Float64       \u001b[0m\u001b[90m Float64        \u001b[0m ⋯\n",
       "─────┼──────────────────────────────────────────────────────────────────────────\n",
       "   1 │     1.0      1.0     9000.0        0.0             0.0              0.0 ⋯\n",
       "   2 │     1.0      2.0     9000.0        0.0             0.0              0.0\n",
       "   3 │     1.0      3.0     9000.0        0.0             0.0              0.0\n",
       "   4 │     2.0      1.0      603.0        0.0             0.0              0.0\n",
       "   5 │     2.0      2.0      603.0     6606.45        49326.3              0.0 ⋯\n",
       "   6 │     2.0      3.0      603.0      407.1          1193.2              0.0\n",
       "\u001b[36m                                                                1 column omitted\u001b[0m"
      ]
     },
     "execution_count": 28,
     "metadata": {},
     "output_type": "execute_result"
    }
   ],
   "source": [
    "nse_results"
   ]
  },
  {
   "cell_type": "code",
   "execution_count": 29,
   "id": "265b6d94-be71-493d-83b8-0e49d4dfc701",
   "metadata": {},
   "outputs": [
    {
     "data": {
      "text/html": [
       "<div><div style = \"float: left;\"><span>1×6 DataFrame</span></div><div style = \"clear: both;\"></div></div><div class = \"data-frame\" style = \"overflow-x: scroll;\"><table class = \"data-frame\" style = \"margin-bottom: 6px;\"><thead><tr class = \"header\"><th class = \"rowNumber\" style = \"font-weight: bold; text-align: right;\">Row</th><th style = \"text-align: left;\">Total_Costs</th><th style = \"text-align: left;\">Fixed_Costs_Generation</th><th style = \"text-align: left;\">Fixed_Costs_Storage</th><th style = \"text-align: left;\">Fixed_Costs_Transmission</th><th style = \"text-align: left;\">Variable_Costs</th><th style = \"text-align: left;\">NSE_Costs</th></tr><tr class = \"subheader headerLastRow\"><th class = \"rowNumber\" style = \"font-weight: bold; text-align: right;\"></th><th title = \"Float64\" style = \"text-align: left;\">Float64</th><th title = \"Float64\" style = \"text-align: left;\">Float64</th><th title = \"Float64\" style = \"text-align: left;\">Float64</th><th title = \"Float64\" style = \"text-align: left;\">Float64</th><th title = \"Float64\" style = \"text-align: left;\">Float64</th><th title = \"Float64\" style = \"text-align: left;\">Float64</th></tr></thead><tbody><tr><td class = \"rowNumber\" style = \"font-weight: bold; text-align: right;\">1</td><td style = \"text-align: right;\">14606.3</td><td style = \"text-align: right;\">4529.87</td><td style = \"text-align: right;\">0.0</td><td style = \"text-align: right;\">5.44231</td><td style = \"text-align: right;\">10040.6</td><td style = \"text-align: right;\">30.4633</td></tr></tbody></table></div>"
      ],
      "text/latex": [
       "\\begin{tabular}{r|ccccc}\n",
       "\t& Total\\_Costs & Fixed\\_Costs\\_Generation & Fixed\\_Costs\\_Storage & Fixed\\_Costs\\_Transmission & \\\\\n",
       "\t\\hline\n",
       "\t& Float64 & Float64 & Float64 & Float64 & \\\\\n",
       "\t\\hline\n",
       "\t1 & 14606.3 & 4529.87 & 0.0 & 5.44231 & $\\dots$ \\\\\n",
       "\\end{tabular}\n"
      ],
      "text/plain": [
       "\u001b[1m1×6 DataFrame\u001b[0m\n",
       "\u001b[1m Row \u001b[0m│\u001b[1m Total_Costs \u001b[0m\u001b[1m Fixed_Costs_Generation \u001b[0m\u001b[1m Fixed_Costs_Storage \u001b[0m\u001b[1m Fixed_Costs_T\u001b[0m ⋯\n",
       "     │\u001b[90m Float64     \u001b[0m\u001b[90m Float64                \u001b[0m\u001b[90m Float64             \u001b[0m\u001b[90m Float64      \u001b[0m ⋯\n",
       "─────┼──────────────────────────────────────────────────────────────────────────\n",
       "   1 │     14606.3                 4529.87                  0.0                ⋯\n",
       "\u001b[36m                                                               3 columns omitted\u001b[0m"
      ]
     },
     "execution_count": 29,
     "metadata": {},
     "output_type": "execute_result"
    }
   ],
   "source": [
    "cost_results"
   ]
  }
 ],
 "metadata": {
  "kernelspec": {
   "display_name": "Julia 1.9.3",
   "language": "julia",
   "name": "julia-1.9"
  },
  "language_info": {
   "file_extension": ".jl",
   "mimetype": "application/julia",
   "name": "julia",
   "version": "1.9.3"
  }
 },
 "nbformat": 4,
 "nbformat_minor": 5
}
