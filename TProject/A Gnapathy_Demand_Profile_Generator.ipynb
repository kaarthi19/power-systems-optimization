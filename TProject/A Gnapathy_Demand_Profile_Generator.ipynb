{
 "cells": [
  {
   "cell_type": "code",
   "execution_count": 1,
   "id": "e425a767-b3b4-428f-907a-615669d0f07f",
   "metadata": {},
   "outputs": [],
   "source": [
    "#loading necessary packages\n",
    "using DataFrames\n",
    "using CSV"
   ]
  },
  {
   "cell_type": "code",
   "execution_count": 2,
   "id": "c2bca4a1-66a5-4607-ac20-4b578bc41d9b",
   "metadata": {},
   "outputs": [
    {
     "data": {
      "text/plain": [
       "\"wecc_2045_all_clean_expansion/high_electrification_16_weeks/\""
      ]
     },
     "execution_count": 2,
     "metadata": {},
     "output_type": "execute_result"
    }
   ],
   "source": [
    "#working directory\n",
    "\n",
    "#input path for reference electrification\n",
    "inputs_path_ref = \"wecc_2045_all_clean_expansion/reference_electrification_16_weeks/\"\n",
    "\n",
    "#input path for high electrification\n",
    "inputs_path_high = \"wecc_2045_all_clean_expansion/high_electrification_16_weeks/\""
   ]
  },
  {
   "cell_type": "code",
   "execution_count": null,
   "id": "7c3c5706-0837-4a32-a4a2-a9ca30ae5c8f",
   "metadata": {},
   "outputs": [],
   "source": [
    "#importing the demand profile files\n",
    "demand_inputs_ref = DataFrame(CSV.File(joinpath(inputs_path_ref, \"Load_data.csv\")))\n",
    "\n",
    "#truncating all the unnecessary columns\n",
    "demand_ref = select(demand_inputs, :Load_MW_z1, :Load"
   ]
  }
 ],
 "metadata": {
  "kernelspec": {
   "display_name": "Julia 1.9.3",
   "language": "julia",
   "name": "julia-1.9"
  },
  "language_info": {
   "file_extension": ".jl",
   "mimetype": "application/julia",
   "name": "julia",
   "version": "1.9.3"
  }
 },
 "nbformat": 4,
 "nbformat_minor": 5
}
