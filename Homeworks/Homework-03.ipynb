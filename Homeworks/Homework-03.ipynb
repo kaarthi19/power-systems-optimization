{
 "cells": [
  {
   "cell_type": "markdown",
   "metadata": {},
   "source": [
    "# Homework 3"
   ]
  },
  {
   "cell_type": "markdown",
   "metadata": {},
   "source": [
    "This Notebook builds on the unit commitment model introduced in [Notebook 5](https://github.com/east-winds/power-systems-optimization/tree/master/Notebooks) and the storage model introduced in [Notebook 2](https://github.com/east-winds/power-systems-optimization/tree/master/Notebooks).\n",
    "\n",
    "First, load (or install if necessary) a set of packages you'll need for this assignment..."
   ]
  },
  {
   "cell_type": "code",
   "execution_count": 1,
   "metadata": {},
   "outputs": [
    {
     "data": {
      "text/plain": [
       "value_to_df_2dim (generic function with 1 method)"
      ]
     },
     "execution_count": 1,
     "metadata": {},
     "output_type": "execute_result"
    }
   ],
   "source": [
    "# Uncomment and run this first line if you need to install or update packages\n",
    "#import Pkg; Pkg.add(\"JuMP\"); Pkg.add(\"HiGHS\"); Pkg.add(\"DataFrames\"); Pkg.add(\"CSV\"); Pkg.add(\"Plots\"); Pkg.add(\"VegaLite\")\n",
    "using JuMP\n",
    "using HiGHS\n",
    "using DataFrames\n",
    "using CSV\n",
    "using Plots; plotly();\n",
    "using VegaLite  # to make some nice plots\n",
    "\n",
    "#=\n",
    "Function to convert JuMP outputs (technically, AxisArrays) with two-indexes to a dataframe\n",
    "Inputs:\n",
    "    var -- JuMP AxisArray (e.g., value.(GEN))\n",
    "Reference: https://jump.dev/JuMP.jl/v0.19/containers/\n",
    "=#\n",
    "function value_to_df_2dim(var)\n",
    "    solution = DataFrame(var.data, :auto)\n",
    "    ax1 = var.axes[1]\n",
    "    ax2 = var.axes[2]\n",
    "    cols = names(solution)\n",
    "    insertcols!(solution, 1, :r_id => ax1)\n",
    "    solution = stack(solution, Not(:r_id), variable_name=:hour)\n",
    "    solution.hour = foldl(replace, [cols[i] => ax2[i] for i in 1:length(ax2)], init=solution.hour)\n",
    "    rename!(solution, :value => :gen)\n",
    "    solution.hour = convert.(Int64,solution.hour)\n",
    "    return solution\n",
    "end"
   ]
  },
  {
   "cell_type": "markdown",
   "metadata": {},
   "source": [
    "## Question 1 - Compare startup costs in unit commitment\n",
    "\n",
    "**A. Code and run basic model.**\n",
    "\n",
    "Data for this problem is stored in [`Homeworks/hw3_data`](hw3_data/).\n",
    "\n",
    "Following the `unit_commitment_simple` modeling formulation in [Notebook 5](https://github.com/east-winds/power-systems-optimization/tree/master/Notebooks), load the above data and create a unit commitment solver function with the following set of constraints:\n",
    "\n",
    "- Demand balance\n",
    "- Minimum / maximum generator constraints (non-committed)\n",
    "- Minimum / maximum generator constraints (committed)\n",
    "- Three-variable commitment formulation\n",
    "\n",
    "Note: the data (with hours 1-24) is already in local time. Hence, do not convert from GMT to GMT-8.\n",
    "\n",
    "Run the UC for the given day and plot a stacked area chart of generation using `@vlplot` from the `VegaLite` package.\n",
    "\n",
    "Throughout this assignment, please use a relative MIP gap of 1% for all questions. (If you are having difficulty getting this to solve on your computer in a reasonble amount of time, you can relax the gap but please then specify clearly in your comments that you have done so.)"
   ]
  },
  {
   "cell_type": "code",
   "execution_count": 2,
   "metadata": {},
   "outputs": [],
   "source": [
    "datadir = joinpath(\"hw3_data\") \n",
    "gen_info = CSV.read(joinpath(datadir,\"Generators_data.csv\"), DataFrame);\n",
    "fuels = CSV.read(joinpath(datadir,\"Fuels_data.csv\"), DataFrame);\n",
    "loads = CSV.read(joinpath(datadir,\"Demand.csv\"), DataFrame);\n",
    "gen_variable = CSV.read(joinpath(datadir,\"Generators_variability.csv\"), DataFrame);\n",
    "\n",
    "# Rename all columns to lowercase (by convention)\n",
    "for f in [gen_info, fuels, loads, gen_variable]\n",
    "    rename!(f,lowercase.(names(f)))\n",
    "end"
   ]
  },
  {
   "cell_type": "code",
   "execution_count": 7,
   "metadata": {},
   "outputs": [],
   "source": [
    "# Keep columns relevant to our UC model \n",
    "select!(gen_info, 1:26) # columns 1:26\n",
    "gen_df = outerjoin(gen_info,  fuels, on = :fuel) # load in fuel costs and add to data frame\n",
    "rename!(gen_df, :cost_per_mmbtu => :fuel_cost)   # rename column for fuel cost\n",
    "gen_df.fuel_cost[ismissing.(gen_df[:,:fuel_cost])] .= 0\n",
    "\n",
    "# create \"is_variable\" column to indicate if this is a variable generation source (e.g. wind, solar):\n",
    "gen_df[!, :is_variable] .= false\n",
    "gen_df[in([\"onshore_wind_turbine\",\"small_hydroelectric\",\"solar_photovoltaic\"]).(gen_df.resource),\n",
    "    :is_variable] .= true;\n",
    "\n",
    "# create full name of generator (including geographic location and cluster number)\n",
    "#  for use with variable generation dataframe\n",
    "gen_df.gen_full = lowercase.(gen_df.region .* \"_\" .* gen_df.resource .* \"_\" .* string.(gen_df.cluster) .* \".0\");\n",
    "\n",
    "# remove generators with no capacity (e.g. new build options that we'd use if this was capacity expansion problem)\n",
    "gen_df = gen_df[gen_df.existing_cap_mw .> 0,:];"
   ]
  },
  {
   "cell_type": "code",
   "execution_count": 10,
   "metadata": {},
   "outputs": [],
   "source": [
    "# 2. Convert from \"wide\" to \"long\" format\n",
    "gen_variable_long = stack(gen_variable, \n",
    "                        Not(:hour), \n",
    "                        variable_name=:gen_full,\n",
    "                        value_name=:cf);\n",
    "# Now we have a \"long\" dataframe"
   ]
  },
  {
   "cell_type": "code",
   "execution_count": 8,
   "metadata": {},
   "outputs": [
    {
     "data": {
      "text/plain": [
       "unit_commitment_simple (generic function with 1 method)"
      ]
     },
     "execution_count": 8,
     "metadata": {},
     "output_type": "execute_result"
    }
   ],
   "source": [
    "function unit_commitment_simple(gen_df, loads, gen_variable, mip_gap)\n",
    "    unit_commitment = Model(HiGHS.Optimizer)\n",
    "    set_optimizer_attribute(unit_commitment, \"mip_rel_gap\", mip_gap)\n",
    "    \n",
    "        # Thermal resources for which unit commitment constraints apply\n",
    "    G_thermal = gen_df[gen_df[!,:up_time] .> 0,:r_id] \n",
    "        # Non-thermal resources for which unit commitment constraints do NOT apply \n",
    "    G_nonthermal = gen_df[gen_df[!,:up_time] .== 0,:r_id]\n",
    "        # Variable renewable resources\n",
    "    G_var = gen_df[gen_df[!,:is_variable] .== 1,:r_id]\n",
    "        # Non-variable (dispatchable) resources\n",
    "    G_nonvar = gen_df[gen_df[!,:is_variable] .== 0,:r_id]\n",
    "        # Non-variable and non-thermal resources\n",
    "    G_nt_nonvar = intersect(G_nonvar, G_nonthermal)\n",
    "        # Set of all generators (above are all subsets of this)\n",
    "    G = gen_df.r_id\n",
    "        # All time periods (hours) over which we are optimizing\n",
    "    T = loads.hour\n",
    "        # A subset of time periods that excludes the last time period\n",
    "    T_red = loads.hour[1:end-1]  # reduced time periods without last one\n",
    "\n",
    "    # Generator capacity factor time series for variable generators\n",
    "    gen_var_cf = innerjoin(gen_variable, \n",
    "                    gen_df[gen_df.is_variable .== 1 , \n",
    "                        [:r_id, :gen_full, :existing_cap_mw]], \n",
    "                    on = :gen_full)\n",
    "        \n",
    "    # Decision variables   \n",
    "    @variables(unit_commitment, begin\n",
    "            # Continuous decision variables\n",
    "        GEN[G, T]  >= 0     # generation\n",
    "            # Bin = binary variables; \n",
    "            # the following are all binary decisions that \n",
    "            # can ONLY take the values 0 or 1\n",
    "            # The presence of these discrete decisions makes this an MILP\n",
    "        COMMIT[G_thermal, T], Bin # commitment status (Bin=binary)\n",
    "        START[G_thermal, T], Bin  # startup decision\n",
    "        SHUT[G_thermal, T], Bin   # shutdown decision\n",
    "    end)\n",
    "                \n",
    "    # Objective function\n",
    "        # Sum of variable costs + start-up costs for all generators and time periods\n",
    "    @objective(unit_commitment, Min, \n",
    "        sum( (gen_df[gen_df.r_id .== i,:heat_rate_mmbtu_per_mwh][1] * gen_df[gen_df.r_id .== i,:fuel_cost][1] +\n",
    "            gen_df[gen_df.r_id .== i,:var_om_cost_per_mwh][1]) * GEN[i,t] \n",
    "                        for i in G_nonvar for t in T) + \n",
    "        sum(gen_df[gen_df.r_id .== i,:var_om_cost_per_mwh][1] * GEN[i,t] \n",
    "                        for i in G_var for t in T)  + \n",
    "        sum(gen_df[gen_df.r_id .== i,:start_cost_per_mw][1] * \n",
    "            gen_df[gen_df.r_id .== i,:existing_cap_mw][1] *\n",
    "            START[i,t] \n",
    "                        for i in G_thermal for t in T)\n",
    "    )\n",
    "    \n",
    "    # Demand balance constraint (supply must = demand in all time periods)\n",
    "    @constraint(unit_commitment, cDemand[t in T], \n",
    "        sum(GEN[i,t] for i in G) == loads[loads.hour .== t,:demand][1])\n",
    "\n",
    "    # Capacity constraints \n",
    "      # 1. thermal generators requiring commitment\n",
    "    @constraint(unit_commitment, Cap_thermal_min[i in G_thermal, t in T], \n",
    "        GEN[i,t] >= COMMIT[i, t] * gen_df[gen_df.r_id .== i,:existing_cap_mw][1] *\n",
    "                        gen_df[gen_df.r_id .== i,:min_power][1])\n",
    "    @constraint(unit_commitment, Cap_thermal_max[i in G_thermal, t in T], \n",
    "        GEN[i,t] <= COMMIT[i, t] * gen_df[gen_df.r_id .== i,:existing_cap_mw][1])\n",
    "\n",
    "      # 2. non-variable generation not requiring commitment\n",
    "    @constraint(unit_commitment, Cap_nt_nonvar[i in G_nt_nonvar, t in T], \n",
    "        GEN[i,t] <= gen_df[gen_df.r_id .== i,:existing_cap_mw][1])\n",
    "    \n",
    "      # 3. variable generation, accounting for hourly capacity factor\n",
    "    @constraint(unit_commitment, Cap_var[i in 1:nrow(gen_var_cf)], \n",
    "            GEN[gen_var_cf[i,:r_id], gen_var_cf[i,:hour] ] <= \n",
    "                        gen_var_cf[i,:cf] *\n",
    "                        gen_var_cf[i,:existing_cap_mw])\n",
    "    \n",
    "    # Unit commitment constraints\n",
    "      # 1. Minimum up time\n",
    "    @constraint(unit_commitment, Startup[i in G_thermal, t in T],\n",
    "        COMMIT[i, t] >= sum(START[i, tt] \n",
    "                        for tt in intersect(T,\n",
    "                            (t-gen_df[gen_df.r_id .== i,:up_time][1]):t)))\n",
    "\n",
    "      # 2. Minimum down time\n",
    "    @constraint(unit_commitment, Shutdown[i in G_thermal, t in T],\n",
    "        1-COMMIT[i, t] >= sum(SHUT[i, tt] \n",
    "                        for tt in intersect(T,\n",
    "                            (t-gen_df[gen_df.r_id .== i,:down_time][1]):t)))\n",
    " \n",
    "      # 3. Commitment state\n",
    "    @constraint(unit_commitment, CommitmentStatus[i in G_thermal, t in T_red],\n",
    "        COMMIT[i,t+1] - COMMIT[i,t] == START[i,t+1] - SHUT[i,t+1])\n",
    "    \n",
    "    # Solve statement (! indicates runs in place)\n",
    "    optimize!(unit_commitment)\n",
    "\n",
    "    # Generation solution and convert to data frame \n",
    "    # with our helper function defined above\n",
    "    gen = value_to_df_2dim(value.(GEN))\n",
    "\n",
    "    # Commitment status solution and convert to data frame\n",
    "    commit = value_to_df_2dim(value.(COMMIT))\n",
    "\n",
    "    # Calculate curtailment = available wind and/or solar output that \n",
    "    # had to be wasted due to operating constraints\n",
    "    curtail = innerjoin(gen_var_cf, gen, on = [:r_id, :hour])\n",
    "    curtail.curt = curtail.cf .* curtail.existing_cap_mw - curtail.gen\n",
    "    \n",
    "    # Return the solution parameters and objective\n",
    "    return (\n",
    "        gen,\n",
    "        commit,\n",
    "        curtail,\n",
    "        cost = objective_value(unit_commitment),\n",
    "        status = termination_status(unit_commitment)\n",
    "    )\n",
    "\n",
    "end"
   ]
  },
  {
   "cell_type": "code",
   "execution_count": 14,
   "metadata": {},
   "outputs": [
    {
     "name": "stdout",
     "output_type": "stream",
     "text": [
      "Running HiGHS 1.6.0: Copyright (c) 2023 HiGHS under MIT licence terms\n",
      "Presolving model\n",
      "2013 rows, 1707 cols, 6595 nonzeros\n",
      "1791 rows, 1423 cols, 7349 nonzeros\n",
      "\n",
      "Solving MIP model with:\n",
      "   1791 rows\n",
      "   1423 cols (968 binary, 0 integer, 0 implied int., 455 continuous)\n",
      "   7349 nonzeros\n",
      "\n",
      "        Nodes      |    B&B Tree     |            Objective Bounds              |  Dynamic Constraints |       Work      \n",
      "     Proc. InQueue |  Leaves   Expl. | BestBound       BestSol              Gap |   Cuts   InLp Confl. | LpIters     Time\n",
      "\n",
      "         0       0         0   0.00%   0               inf                  inf        0      0      0         0     0.0s\n",
      "         0       0         0   0.00%   473023.409268   inf                  inf        0      0     14       505     0.1s\n",
      " R       0       0         0   0.00%   473144.350903   473965.776921      0.17%      107     13     28       532     0.1s\n",
      "\n",
      "Solving report\n",
      "  Status            Optimal\n",
      "  Primal bound      473965.776921\n",
      "  Dual bound        473144.350903\n",
      "  Gap               0.173% (tolerance: 1%)\n",
      "  Solution status   feasible\n",
      "                    473965.776921 (objective)\n",
      "                    0 (bound viol.)\n",
      "                    0 (int. viol.)\n",
      "                    0 (row viol.)\n",
      "  Timing            0.09 (total)\n",
      "                    0.03 (presolve)\n",
      "                    0.00 (postsolve)\n",
      "  Nodes             1\n",
      "  LP iterations     532 (total)\n",
      "                    0 (strong br.)\n",
      "                    27 (separation)\n",
      "                    0 (heuristics)\n"
     ]
    }
   ],
   "source": [
    "# A spring day\n",
    "#n=100\n",
    "T_period = 1:24\n",
    "\n",
    "# High solar case: 3,500 MW\n",
    "#gen_df_sens = copy(gen_df)\n",
    "#gen_df_sens[gen_df_sens.resource .== \"solar_photovoltaic\",\n",
    " #   :existing_cap_mw] .= 3500\n",
    "\n",
    "loads_multi = loads[in.(loads.hour,Ref(T_period)),:]\n",
    "gen_variable_multi = gen_variable_long[in.(gen_variable_long.hour,Ref(T_period)),:]\n",
    "\n",
    "# Note we reduce the MIP gap tolerance threshold here to increase tractability\n",
    "# Here we set it to a 1% gap (mip_gap=0.01), meaning that we will terminate once we have \n",
    "# a feasible integer solution guaranteed to be within 1% of the objective\n",
    "# function value of the optimal solution (e.g. the upper and lower bound are within 1% of\n",
    "# each other as HiGHS traverses the branch and bound tree).\n",
    "# HiGHS's default MIP gap is 0.0001 (0.01%), which can take a longer time for \n",
    "# any complex problem. So it is important to set this to a realistic value.\n",
    "# For a list of all solver options implemented via HiGHS.jl see \n",
    "# https://github.com/jump-dev/HiGHS.jl\n",
    "solution = unit_commitment_simple(\n",
    "    gen_df_sens, loads_multi, gen_variable_multi, 0.01); #1% MIP Gap"
   ]
  },
  {
   "cell_type": "code",
   "execution_count": 12,
   "metadata": {},
   "outputs": [
    {
     "data": {
      "application/vnd.vega.v5+json": {
       "$schema": "https://vega.github.io/schema/vega/v5.json",
       "axes": [
        {
         "aria": false,
         "domain": false,
         "grid": true,
         "gridScale": "y",
         "labels": false,
         "maxExtent": 0,
         "minExtent": 0,
         "orient": "bottom",
         "scale": "x",
         "tickCount": {
          "signal": "ceil(width/40)"
         },
         "ticks": false,
         "zindex": 0
        },
        {
         "aria": false,
         "domain": false,
         "grid": true,
         "gridScale": "x",
         "labels": false,
         "maxExtent": 0,
         "minExtent": 0,
         "orient": "left",
         "scale": "y",
         "tickCount": {
          "signal": "ceil(height/40)"
         },
         "ticks": false,
         "zindex": 0
        },
        {
         "grid": false,
         "labelFlush": true,
         "labelOverlap": true,
         "orient": "bottom",
         "scale": "x",
         "tickCount": {
          "signal": "ceil(width/40)"
         },
         "title": "hour",
         "zindex": 0
        },
        {
         "grid": false,
         "labelOverlap": true,
         "orient": "left",
         "scale": "y",
         "tickCount": {
          "signal": "ceil(height/40)"
         },
         "title": "gen_sum",
         "zindex": 0
        }
       ],
       "background": "white",
       "data": [
        {
         "name": "source_0",
         "values": [
          {
           "gen_sum": 21.4,
           "hour": 0,
           "resource": "biomass"
          },
          {
           "gen_sum": 100.00000000000003,
           "hour": 0,
           "resource": "hydroelectric_pumped_storage"
          },
          {
           "gen_sum": 767.7753,
           "hour": 0,
           "resource": "natural_gas_fired_combined_cycle"
          },
          {
           "gen_sum": 21.01970000000001,
           "hour": 0,
           "resource": "natural_gas_fired_combustion_turbine"
          },
          {
           "gen_sum": 150.1,
           "hour": 0,
           "resource": "_onshore_wind_turbine"
          },
          {
           "gen_sum": 21.755,
           "hour": 0,
           "resource": "_small_hydroelectric"
          },
          {
           "gen_sum": 0,
           "hour": 0,
           "resource": "_solar_photovoltaic"
          },
          {
           "gen_sum": 21.4,
           "hour": 1,
           "resource": "biomass"
          },
          {
           "gen_sum": 100,
           "hour": 1,
           "resource": "hydroelectric_pumped_storage"
          },
          {
           "gen_sum": 720.2753,
           "hour": 1,
           "resource": "natural_gas_fired_combined_cycle"
          },
          {
           "gen_sum": 21.01970000000001,
           "hour": 1,
           "resource": "natural_gas_fired_combustion_turbine"
          },
          {
           "gen_sum": 156.06,
           "hour": 1,
           "resource": "_onshore_wind_turbine"
          },
          {
           "gen_sum": 21.755,
           "hour": 1,
           "resource": "_small_hydroelectric"
          },
          {
           "gen_sum": 0,
           "hour": 1,
           "resource": "_solar_photovoltaic"
          },
          {
           "gen_sum": 21.4,
           "hour": 2,
           "resource": "biomass"
          },
          {
           "gen_sum": 100,
           "hour": 2,
           "resource": "hydroelectric_pumped_storage"
          },
          {
           "gen_sum": 747.0853,
           "hour": 2,
           "resource": "natural_gas_fired_combined_cycle"
          },
          {
           "gen_sum": 21.01970000000001,
           "hour": 2,
           "resource": "natural_gas_fired_combustion_turbine"
          },
          {
           "gen_sum": 105.80000000000001,
           "hour": 2,
           "resource": "_onshore_wind_turbine"
          },
          {
           "gen_sum": 21.755,
           "hour": 2,
           "resource": "_small_hydroelectric"
          },
          {
           "gen_sum": 0,
           "hour": 2,
           "resource": "_solar_photovoltaic"
          },
          {
           "gen_sum": 21.4,
           "hour": 3,
           "resource": "biomass"
          },
          {
           "gen_sum": 100.00000000000001,
           "hour": 3,
           "resource": "hydroelectric_pumped_storage"
          },
          {
           "gen_sum": 789.9452999999999,
           "hour": 3,
           "resource": "natural_gas_fired_combined_cycle"
          },
          {
           "gen_sum": 21.01970000000001,
           "hour": 3,
           "resource": "natural_gas_fired_combustion_turbine"
          },
          {
           "gen_sum": 92.42,
           "hour": 3,
           "resource": "_onshore_wind_turbine"
          },
          {
           "gen_sum": 21.755,
           "hour": 3,
           "resource": "_small_hydroelectric"
          },
          {
           "gen_sum": 0,
           "hour": 3,
           "resource": "_solar_photovoltaic"
          },
          {
           "gen_sum": 21.4,
           "hour": 4,
           "resource": "biomass"
          },
          {
           "gen_sum": 100,
           "hour": 4,
           "resource": "hydroelectric_pumped_storage"
          },
          {
           "gen_sum": 922.8752999999999,
           "hour": 4,
           "resource": "natural_gas_fired_combined_cycle"
          },
          {
           "gen_sum": 21.01970000000001,
           "hour": 4,
           "resource": "natural_gas_fired_combustion_turbine"
          },
          {
           "gen_sum": 74.06,
           "hour": 4,
           "resource": "_onshore_wind_turbine"
          },
          {
           "gen_sum": 21.755,
           "hour": 4,
           "resource": "_small_hydroelectric"
          },
          {
           "gen_sum": 0,
           "hour": 4,
           "resource": "_solar_photovoltaic"
          },
          {
           "gen_sum": 21.4,
           "hour": 5,
           "resource": "biomass"
          },
          {
           "gen_sum": 100,
           "hour": 5,
           "resource": "hydroelectric_pumped_storage"
          },
          {
           "gen_sum": 1031.8253,
           "hour": 5,
           "resource": "natural_gas_fired_combined_cycle"
          },
          {
           "gen_sum": 21.01970000000001,
           "hour": 5,
           "resource": "natural_gas_fired_combustion_turbine"
          },
          {
           "gen_sum": 127.91999999999999,
           "hour": 5,
           "resource": "_onshore_wind_turbine"
          },
          {
           "gen_sum": 21.755,
           "hour": 5,
           "resource": "_small_hydroelectric"
          },
          {
           "gen_sum": 0,
           "hour": 5,
           "resource": "_solar_photovoltaic"
          },
          {
           "gen_sum": 21.4,
           "hour": 6,
           "resource": "biomass"
          },
          {
           "gen_sum": 100.00000000000001,
           "hour": 6,
           "resource": "hydroelectric_pumped_storage"
          },
          {
           "gen_sum": 1097.6752999999999,
           "hour": 6,
           "resource": "natural_gas_fired_combined_cycle"
          },
          {
           "gen_sum": 21.01970000000001,
           "hour": 6,
           "resource": "natural_gas_fired_combustion_turbine"
          },
          {
           "gen_sum": 68.17999999999999,
           "hour": 6,
           "resource": "_onshore_wind_turbine"
          },
          {
           "gen_sum": 21.755,
           "hour": 6,
           "resource": "_small_hydroelectric"
          },
          {
           "gen_sum": 193.55,
           "hour": 6,
           "resource": "_solar_photovoltaic"
          },
          {
           "gen_sum": 21.4,
           "hour": 7,
           "resource": "biomass"
          },
          {
           "gen_sum": 100,
           "hour": 7,
           "resource": "hydroelectric_pumped_storage"
          },
          {
           "gen_sum": 777.605,
           "hour": 7,
           "resource": "natural_gas_fired_combined_cycle"
          },
          {
           "gen_sum": 0,
           "hour": 7,
           "resource": "natural_gas_fired_combustion_turbine"
          },
          {
           "gen_sum": 45.379999999999995,
           "hour": 7,
           "resource": "_onshore_wind_turbine"
          },
          {
           "gen_sum": 21.755,
           "hour": 7,
           "resource": "_small_hydroelectric"
          },
          {
           "gen_sum": 773.85,
           "hour": 7,
           "resource": "_solar_photovoltaic"
          },
          {
           "gen_sum": 0,
           "hour": 8,
           "resource": "biomass"
          },
          {
           "gen_sum": 0,
           "hour": 8,
           "resource": "hydroelectric_pumped_storage"
          },
          {
           "gen_sum": 392.7,
           "hour": 8,
           "resource": "natural_gas_fired_combined_cycle"
          },
          {
           "gen_sum": 0,
           "hour": 8,
           "resource": "natural_gas_fired_combustion_turbine"
          },
          {
           "gen_sum": 0,
           "hour": 8,
           "resource": "_onshore_wind_turbine"
          },
          {
           "gen_sum": 0,
           "hour": 8,
           "resource": "_small_hydroelectric"
          },
          {
           "gen_sum": 1508.76,
           "hour": 8,
           "resource": "_solar_photovoltaic"
          },
          {
           "gen_sum": 0,
           "hour": 9,
           "resource": "biomass"
          },
          {
           "gen_sum": 0,
           "hour": 9,
           "resource": "hydroelectric_pumped_storage"
          },
          {
           "gen_sum": 392.7,
           "hour": 9,
           "resource": "natural_gas_fired_combined_cycle"
          },
          {
           "gen_sum": 0,
           "hour": 9,
           "resource": "natural_gas_fired_combustion_turbine"
          },
          {
           "gen_sum": 0,
           "hour": 9,
           "resource": "_onshore_wind_turbine"
          },
          {
           "gen_sum": 0,
           "hour": 9,
           "resource": "_small_hydroelectric"
          },
          {
           "gen_sum": 1632.71,
           "hour": 9,
           "resource": "_solar_photovoltaic"
          },
          {
           "gen_sum": 0,
           "hour": 10,
           "resource": "biomass"
          },
          {
           "gen_sum": 0,
           "hour": 10,
           "resource": "hydroelectric_pumped_storage"
          },
          {
           "gen_sum": 392.7,
           "hour": 10,
           "resource": "natural_gas_fired_combined_cycle"
          },
          {
           "gen_sum": 0,
           "hour": 10,
           "resource": "natural_gas_fired_combustion_turbine"
          },
          {
           "gen_sum": 0,
           "hour": 10,
           "resource": "_onshore_wind_turbine"
          },
          {
           "gen_sum": 0,
           "hour": 10,
           "resource": "_small_hydroelectric"
          },
          {
           "gen_sum": 1701.05,
           "hour": 10,
           "resource": "_solar_photovoltaic"
          },
          {
           "gen_sum": 0,
           "hour": 11,
           "resource": "biomass"
          },
          {
           "gen_sum": 0,
           "hour": 11,
           "resource": "hydroelectric_pumped_storage"
          },
          {
           "gen_sum": 392.7,
           "hour": 11,
           "resource": "natural_gas_fired_combined_cycle"
          },
          {
           "gen_sum": 0,
           "hour": 11,
           "resource": "natural_gas_fired_combustion_turbine"
          },
          {
           "gen_sum": 0,
           "hour": 11,
           "resource": "_onshore_wind_turbine"
          },
          {
           "gen_sum": 0,
           "hour": 11,
           "resource": "_small_hydroelectric"
          },
          {
           "gen_sum": 1592.51,
           "hour": 11,
           "resource": "_solar_photovoltaic"
          },
          {
           "gen_sum": 0,
           "hour": 12,
           "resource": "biomass"
          },
          {
           "gen_sum": 0,
           "hour": 12,
           "resource": "hydroelectric_pumped_storage"
          },
          {
           "gen_sum": 392.7,
           "hour": 12,
           "resource": "natural_gas_fired_combined_cycle"
          },
          {
           "gen_sum": 0,
           "hour": 12,
           "resource": "natural_gas_fired_combustion_turbine"
          },
          {
           "gen_sum": 0,
           "hour": 12,
           "resource": "_onshore_wind_turbine"
          },
          {
           "gen_sum": 0,
           "hour": 12,
           "resource": "_small_hydroelectric"
          },
          {
           "gen_sum": 1445.11,
           "hour": 12,
           "resource": "_solar_photovoltaic"
          },
          {
           "gen_sum": 0,
           "hour": 13,
           "resource": "biomass"
          },
          {
           "gen_sum": 0,
           "hour": 13,
           "resource": "hydroelectric_pumped_storage"
          },
          {
           "gen_sum": 392.7,
           "hour": 13,
           "resource": "natural_gas_fired_combined_cycle"
          },
          {
           "gen_sum": 0,
           "hour": 13,
           "resource": "natural_gas_fired_combustion_turbine"
          },
          {
           "gen_sum": 0,
           "hour": 13,
           "resource": "_onshore_wind_turbine"
          },
          {
           "gen_sum": 0,
           "hour": 13,
           "resource": "_small_hydroelectric"
          },
          {
           "gen_sum": 1393.52,
           "hour": 13,
           "resource": "_solar_photovoltaic"
          },
          {
           "gen_sum": 0,
           "hour": 14,
           "resource": "biomass"
          },
          {
           "gen_sum": 0,
           "hour": 14,
           "resource": "hydroelectric_pumped_storage"
          },
          {
           "gen_sum": 392.7,
           "hour": 14,
           "resource": "natural_gas_fired_combined_cycle"
          },
          {
           "gen_sum": 0,
           "hour": 14,
           "resource": "natural_gas_fired_combustion_turbine"
          },
          {
           "gen_sum": 0,
           "hour": 14,
           "resource": "_onshore_wind_turbine"
          },
          {
           "gen_sum": 0,
           "hour": 14,
           "resource": "_small_hydroelectric"
          },
          {
           "gen_sum": 1334.56,
           "hour": 14,
           "resource": "_solar_photovoltaic"
          },
          {
           "gen_sum": 0,
           "hour": 15,
           "resource": "biomass"
          },
          {
           "gen_sum": 0,
           "hour": 15,
           "resource": "hydroelectric_pumped_storage"
          },
          {
           "gen_sum": 392.7,
           "hour": 15,
           "resource": "natural_gas_fired_combined_cycle"
          },
          {
           "gen_sum": 0,
           "hour": 15,
           "resource": "natural_gas_fired_combustion_turbine"
          },
          {
           "gen_sum": 0,
           "hour": 15,
           "resource": "_onshore_wind_turbine"
          },
          {
           "gen_sum": 0,
           "hour": 15,
           "resource": "_small_hydroelectric"
          },
          {
           "gen_sum": 1270.24,
           "hour": 15,
           "resource": "_solar_photovoltaic"
          },
          {
           "gen_sum": 0,
           "hour": 16,
           "resource": "biomass"
          },
          {
           "gen_sum": 0,
           "hour": 16,
           "resource": "hydroelectric_pumped_storage"
          },
          {
           "gen_sum": 392.7,
           "hour": 16,
           "resource": "natural_gas_fired_combined_cycle"
          },
          {
           "gen_sum": 0,
           "hour": 16,
           "resource": "natural_gas_fired_combustion_turbine"
          },
          {
           "gen_sum": 0,
           "hour": 16,
           "resource": "_onshore_wind_turbine"
          },
          {
           "gen_sum": 0,
           "hour": 16,
           "resource": "_small_hydroelectric"
          },
          {
           "gen_sum": 1387.49,
           "hour": 16,
           "resource": "_solar_photovoltaic"
          },
          {
           "gen_sum": 0,
           "hour": 17,
           "resource": "biomass"
          },
          {
           "gen_sum": 0,
           "hour": 17,
           "resource": "hydroelectric_pumped_storage"
          },
          {
           "gen_sum": 392.7,
           "hour": 17,
           "resource": "natural_gas_fired_combined_cycle"
          },
          {
           "gen_sum": 0,
           "hour": 17,
           "resource": "natural_gas_fired_combustion_turbine"
          },
          {
           "gen_sum": 104.245,
           "hour": 17,
           "resource": "_onshore_wind_turbine"
          },
          {
           "gen_sum": 21.755,
           "hour": 17,
           "resource": "_small_hydroelectric"
          },
          {
           "gen_sum": 1169.7,
           "hour": 17,
           "resource": "_solar_photovoltaic"
          },
          {
           "gen_sum": 21.4,
           "hour": 18,
           "resource": "biomass"
          },
          {
           "gen_sum": 100,
           "hour": 18,
           "resource": "hydroelectric_pumped_storage"
          },
          {
           "gen_sum": 1100,
           "hour": 18,
           "resource": "natural_gas_fired_combined_cycle"
          },
          {
           "gen_sum": 85.10500000000025,
           "hour": 18,
           "resource": "natural_gas_fired_combustion_turbine"
          },
          {
           "gen_sum": 152.89999999999998,
           "hour": 18,
           "resource": "_onshore_wind_turbine"
          },
          {
           "gen_sum": 21.755,
           "hour": 18,
           "resource": "_small_hydroelectric"
          },
          {
           "gen_sum": 192.5,
           "hour": 18,
           "resource": "_solar_photovoltaic"
          },
          {
           "gen_sum": 21.4,
           "hour": 19,
           "resource": "biomass"
          },
          {
           "gen_sum": 100.00000000000003,
           "hour": 19,
           "resource": "hydroelectric_pumped_storage"
          },
          {
           "gen_sum": 1100,
           "hour": 19,
           "resource": "natural_gas_fired_combined_cycle"
          },
          {
           "gen_sum": 341.09499999999997,
           "hour": 19,
           "resource": "natural_gas_fired_combustion_turbine"
          },
          {
           "gen_sum": 155.73999999999998,
           "hour": 19,
           "resource": "_onshore_wind_turbine"
          },
          {
           "gen_sum": 21.755,
           "hour": 19,
           "resource": "_small_hydroelectric"
          },
          {
           "gen_sum": 0,
           "hour": 19,
           "resource": "_solar_photovoltaic"
          },
          {
           "gen_sum": 21.4,
           "hour": 20,
           "resource": "biomass"
          },
          {
           "gen_sum": 100,
           "hour": 20,
           "resource": "hydroelectric_pumped_storage"
          },
          {
           "gen_sum": 1100,
           "hour": 20,
           "resource": "natural_gas_fired_combined_cycle"
          },
          {
           "gen_sum": 309.8450000000002,
           "hour": 20,
           "resource": "natural_gas_fired_combustion_turbine"
          },
          {
           "gen_sum": 164.88,
           "hour": 20,
           "resource": "_onshore_wind_turbine"
          },
          {
           "gen_sum": 21.755,
           "hour": 20,
           "resource": "_small_hydroelectric"
          },
          {
           "gen_sum": 0,
           "hour": 20,
           "resource": "_solar_photovoltaic"
          },
          {
           "gen_sum": 21.4,
           "hour": 21,
           "resource": "biomass"
          },
          {
           "gen_sum": 100.00000000000003,
           "hour": 21,
           "resource": "hydroelectric_pumped_storage"
          },
          {
           "gen_sum": 1100,
           "hour": 21,
           "resource": "natural_gas_fired_combined_cycle"
          },
          {
           "gen_sum": 148.13500000000008,
           "hour": 21,
           "resource": "natural_gas_fired_combustion_turbine"
          },
          {
           "gen_sum": 139.66,
           "hour": 21,
           "resource": "_onshore_wind_turbine"
          },
          {
           "gen_sum": 21.755,
           "hour": 21,
           "resource": "_small_hydroelectric"
          },
          {
           "gen_sum": 0,
           "hour": 21,
           "resource": "_solar_photovoltaic"
          },
          {
           "gen_sum": 21.4,
           "hour": 22,
           "resource": "biomass"
          },
          {
           "gen_sum": 100,
           "hour": 22,
           "resource": "hydroelectric_pumped_storage"
          },
          {
           "gen_sum": 1021.8349999999999,
           "hour": 22,
           "resource": "natural_gas_fired_combined_cycle"
          },
          {
           "gen_sum": 0,
           "hour": 22,
           "resource": "natural_gas_fired_combustion_turbine"
          },
          {
           "gen_sum": 148.88,
           "hour": 22,
           "resource": "_onshore_wind_turbine"
          },
          {
           "gen_sum": 21.755,
           "hour": 22,
           "resource": "_small_hydroelectric"
          },
          {
           "gen_sum": 0,
           "hour": 22,
           "resource": "_solar_photovoltaic"
          },
          {
           "gen_sum": 21.4,
           "hour": 23,
           "resource": "biomass"
          },
          {
           "gen_sum": 100.00000000000003,
           "hour": 23,
           "resource": "hydroelectric_pumped_storage"
          },
          {
           "gen_sum": 859.5550000000001,
           "hour": 23,
           "resource": "natural_gas_fired_combined_cycle"
          },
          {
           "gen_sum": 0,
           "hour": 23,
           "resource": "natural_gas_fired_combustion_turbine"
          },
          {
           "gen_sum": 134.28,
           "hour": 23,
           "resource": "_onshore_wind_turbine"
          },
          {
           "gen_sum": 21.755,
           "hour": 23,
           "resource": "_small_hydroelectric"
          },
          {
           "gen_sum": 0,
           "hour": 23,
           "resource": "_solar_photovoltaic"
          },
          {
           "gen_sum": 0,
           "hour": 0,
           "resource": "_solar_photovoltaic_btm"
          },
          {
           "gen_sum": 0,
           "hour": 1,
           "resource": "_solar_photovoltaic_btm"
          },
          {
           "gen_sum": 0,
           "hour": 2,
           "resource": "_solar_photovoltaic_btm"
          },
          {
           "gen_sum": 0,
           "hour": 3,
           "resource": "_solar_photovoltaic_btm"
          },
          {
           "gen_sum": 0,
           "hour": 4,
           "resource": "_solar_photovoltaic_btm"
          },
          {
           "gen_sum": 0,
           "hour": 5,
           "resource": "_solar_photovoltaic_btm"
          },
          {
           "gen_sum": 33.18,
           "hour": 6,
           "resource": "_solar_photovoltaic_btm"
          },
          {
           "gen_sum": 132.66,
           "hour": 7,
           "resource": "_solar_photovoltaic_btm"
          },
          {
           "gen_sum": 286.56,
           "hour": 8,
           "resource": "_solar_photovoltaic_btm"
          },
          {
           "gen_sum": 345.42,
           "hour": 9,
           "resource": "_solar_photovoltaic_btm"
          },
          {
           "gen_sum": 362.34,
           "hour": 10,
           "resource": "_solar_photovoltaic_btm"
          },
          {
           "gen_sum": 368.34,
           "hour": 11,
           "resource": "_solar_photovoltaic_btm"
          },
          {
           "gen_sum": 386.76,
           "hour": 12,
           "resource": "_solar_photovoltaic_btm"
          },
          {
           "gen_sum": 387.29999999999995,
           "hour": 13,
           "resource": "_solar_photovoltaic_btm"
          },
          {
           "gen_sum": 374.46,
           "hour": 14,
           "resource": "_solar_photovoltaic_btm"
          },
          {
           "gen_sum": 341.7,
           "hour": 15,
           "resource": "_solar_photovoltaic_btm"
          },
          {
           "gen_sum": 325.8,
           "hour": 16,
           "resource": "_solar_photovoltaic_btm"
          },
          {
           "gen_sum": 200.52,
           "hour": 17,
           "resource": "_solar_photovoltaic_btm"
          },
          {
           "gen_sum": 33,
           "hour": 18,
           "resource": "_solar_photovoltaic_btm"
          },
          {
           "gen_sum": 0,
           "hour": 19,
           "resource": "_solar_photovoltaic_btm"
          },
          {
           "gen_sum": 0,
           "hour": 20,
           "resource": "_solar_photovoltaic_btm"
          },
          {
           "gen_sum": 0,
           "hour": 21,
           "resource": "_solar_photovoltaic_btm"
          },
          {
           "gen_sum": 0,
           "hour": 22,
           "resource": "_solar_photovoltaic_btm"
          },
          {
           "gen_sum": 0,
           "hour": 23,
           "resource": "_solar_photovoltaic_btm"
          },
          {
           "gen_sum": 0,
           "hour": 0,
           "resource": "_curtailment"
          },
          {
           "gen_sum": 0,
           "hour": 1,
           "resource": "_curtailment"
          },
          {
           "gen_sum": 0,
           "hour": 2,
           "resource": "_curtailment"
          },
          {
           "gen_sum": 0,
           "hour": 3,
           "resource": "_curtailment"
          },
          {
           "gen_sum": 0,
           "hour": 4,
           "resource": "_curtailment"
          },
          {
           "gen_sum": 0,
           "hour": 5,
           "resource": "_curtailment"
          },
          {
           "gen_sum": 0,
           "hour": 6,
           "resource": "_curtailment"
          },
          {
           "gen_sum": 0,
           "hour": 7,
           "resource": "_curtailment"
          },
          {
           "gen_sum": 338.41500000000013,
           "hour": 8,
           "resource": "_curtailment"
          },
          {
           "gen_sum": 524.915,
           "hour": 9,
           "resource": "_curtailment"
          },
          {
           "gen_sum": 536.5550000000002,
           "hour": 10,
           "resource": "_curtailment"
          },
          {
           "gen_sum": 662.5550000000001,
           "hour": 11,
           "resource": "_curtailment"
          },
          {
           "gen_sum": 880.625,
           "hour": 12,
           "resource": "_curtailment"
          },
          {
           "gen_sum": 946.945,
           "hour": 13,
           "resource": "_curtailment"
          },
          {
           "gen_sum": 916.785,
           "hour": 14,
           "resource": "_curtailment"
          },
          {
           "gen_sum": 804.885,
           "hour": 15,
           "resource": "_curtailment"
          },
          {
           "gen_sum": 642.4850000000002,
           "hour": 16,
           "resource": "_curtailment"
          },
          {
           "gen_sum": 13.314999999999998,
           "hour": 17,
           "resource": "_curtailment"
          },
          {
           "gen_sum": 0,
           "hour": 18,
           "resource": "_curtailment"
          },
          {
           "gen_sum": 0,
           "hour": 19,
           "resource": "_curtailment"
          },
          {
           "gen_sum": 0,
           "hour": 20,
           "resource": "_curtailment"
          },
          {
           "gen_sum": 0,
           "hour": 21,
           "resource": "_curtailment"
          },
          {
           "gen_sum": 0,
           "hour": 22,
           "resource": "_curtailment"
          },
          {
           "gen_sum": 0,
           "hour": 23,
           "resource": "_curtailment"
          }
         ]
        },
        {
         "name": "data_0",
         "source": "source_0",
         "transform": [
          {
           "as": "hour",
           "expr": "toNumber(datum[\"hour\"])",
           "type": "formula"
          },
          {
           "field": "gen_sum",
           "groupby": [
            "resource"
           ],
           "key": "hour",
           "method": "value",
           "type": "impute",
           "value": 0
          },
          {
           "as": [
            "gen_sum_start",
            "gen_sum_end"
           ],
           "field": "gen_sum",
           "groupby": [
            "hour"
           ],
           "offset": "zero",
           "sort": {
            "field": [
             "resource"
            ],
            "order": [
             "descending"
            ]
           },
           "type": "stack"
          }
         ]
        }
       ],
       "height": 200,
       "legends": [
        {
         "fill": "color",
         "symbolType": "circle",
         "title": "resource"
        }
       ],
       "marks": [
        {
         "encode": {
          "update": {
           "height": {
            "field": {
             "group": "height"
            }
           },
           "width": {
            "field": {
             "group": "width"
            }
           }
          }
         },
         "from": {
          "facet": {
           "data": "data_0",
           "groupby": [
            "resource"
           ],
           "name": "faceted_path_main"
          }
         },
         "marks": [
          {
           "encode": {
            "update": {
             "defined": {
              "signal": "isValid(datum[\"hour\"]) && isFinite(+datum[\"hour\"]) && isValid(datum[\"gen_sum\"]) && isFinite(+datum[\"gen_sum\"])"
             },
             "description": {
              "signal": "\"hour: \" + (format(datum[\"hour\"], \"\")) + \"; gen_sum: \" + (format(datum[\"gen_sum\"], \"\")) + \"; resource: \" + (isValid(datum[\"resource\"]) ? datum[\"resource\"] : \"\"+datum[\"resource\"])"
             },
             "fill": {
              "field": "resource",
              "scale": "color"
             },
             "orient": {
              "value": "vertical"
             },
             "x": {
              "field": "hour",
              "scale": "x"
             },
             "y": {
              "field": "gen_sum_end",
              "scale": "y"
             },
             "y2": {
              "field": "gen_sum_start",
              "scale": "y"
             }
            }
           },
           "from": {
            "data": "faceted_path_main"
           },
           "name": "marks",
           "sort": {
            "field": "datum[\"hour\"]"
           },
           "style": [
            "area"
           ],
           "type": "area"
          }
         ],
         "name": "pathgroup",
         "type": "group"
        }
       ],
       "padding": 5,
       "scales": [
        {
         "domain": {
          "data": "data_0",
          "field": "hour"
         },
         "name": "x",
         "nice": true,
         "range": [
          0,
          {
           "signal": "width"
          }
         ],
         "type": "linear",
         "zero": false
        },
        {
         "domain": {
          "data": "data_0",
          "fields": [
           "gen_sum_start",
           "gen_sum_end"
          ]
         },
         "name": "y",
         "nice": true,
         "range": [
          {
           "signal": "height"
          },
          0
         ],
         "type": "linear",
         "zero": true
        },
        {
         "domain": {
          "data": "data_0",
          "field": "resource",
          "sort": true
         },
         "name": "color",
         "range": {
          "scheme": "category10"
         },
         "type": "ordinal"
        }
       ],
       "style": "cell",
       "width": 200
      },
      "image/png": "[encoded data removed]",
      "image/svg+xml": [
       "<svg xmlns=\"http://www.w3.org/2000/svg\" xmlns:xlink=\"http://www.w3.org/1999/xlink\" version=\"1.1\" class=\"marks\" width=\"450\" height=\"247\" viewBox=\"0 0 450 247\"><rect width=\"450\" height=\"247\" fill=\"white\"/><g fill=\"none\" stroke-miterlimit=\"10\" transform=\"translate(53,10)\"><g class=\"mark-group role-frame root\" role=\"graphics-object\" aria-roledescription=\"group mark container\"><g transform=\"translate(0,0)\"><path class=\"background\" aria-hidden=\"true\" d=\"M0.5,0.5h200v200h-200Z\" stroke=\"#ddd\"/><g><g class=\"mark-group role-axis\" aria-hidden=\"true\"><g transform=\"translate(0.5,200.5)\"><path class=\"background\" aria-hidden=\"true\" d=\"M0,0h0v0h0Z\" pointer-events=\"none\"/><g><g class=\"mark-rule role-axis-grid\" pointer-events=\"none\"><line transform=\"translate(0,-200)\" x2=\"0\" y2=\"200\" stroke=\"#ddd\" stroke-width=\"1\" opacity=\"1\"/><line transform=\"translate(42,-200)\" x2=\"0\" y2=\"200\" stroke=\"#ddd\" stroke-width=\"1\" opacity=\"1\"/><line transform=\"translate(83,-200)\" x2=\"0\" y2=\"200\" stroke=\"#ddd\" stroke-width=\"1\" opacity=\"1\"/><line transform=\"translate(125,-200)\" x2=\"0\" y2=\"200\" stroke=\"#ddd\" stroke-width=\"1\" opacity=\"1\"/><line transform=\"translate(167,-200)\" x2=\"0\" y2=\"200\" stroke=\"#ddd\" stroke-width=\"1\" opacity=\"1\"/></g></g><path class=\"foreground\" aria-hidden=\"true\" d=\"\" pointer-events=\"none\" display=\"none\"/></g></g><g class=\"mark-group role-axis\" aria-hidden=\"true\"><g transform=\"translate(0.5,0.5)\"><path class=\"background\" aria-hidden=\"true\" d=\"M0,0h0v0h0Z\" pointer-events=\"none\"/><g><g class=\"mark-rule role-axis-grid\" pointer-events=\"none\"><line transform=\"translate(0,200)\" x2=\"200\" y2=\"0\" stroke=\"#ddd\" stroke-width=\"1\" opacity=\"1\"/><line transform=\"translate(0,171)\" x2=\"200\" y2=\"0\" stroke=\"#ddd\" stroke-width=\"1\" opacity=\"1\"/><line transform=\"translate(0,143)\" x2=\"200\" y2=\"0\" stroke=\"#ddd\" stroke-width=\"1\" opacity=\"1\"/><line transform=\"translate(0,114)\" x2=\"200\" y2=\"0\" stroke=\"#ddd\" stroke-width=\"1\" opacity=\"1\"/><line transform=\"translate(0,86)\" x2=\"200\" y2=\"0\" stroke=\"#ddd\" stroke-width=\"1\" opacity=\"1\"/><line transform=\"translate(0,57)\" x2=\"200\" y2=\"0\" stroke=\"#ddd\" stroke-width=\"1\" opacity=\"1\"/><line transform=\"translate(0,29)\" x2=\"200\" y2=\"0\" stroke=\"#ddd\" stroke-width=\"1\" opacity=\"1\"/><line transform=\"translate(0,0)\" x2=\"200\" y2=\"0\" stroke=\"#ddd\" stroke-width=\"1\" opacity=\"1\"/></g></g><path class=\"foreground\" aria-hidden=\"true\" d=\"\" pointer-events=\"none\" display=\"none\"/></g></g><g class=\"mark-group role-axis\" role=\"graphics-symbol\" aria-roledescription=\"axis\" aria-label=\"X-axis titled 'hour' for a linear scale with values from 0 to 24\"><g transform=\"translate(0.5,200.5)\"><path class=\"background\" aria-hidden=\"true\" d=\"M0,0h0v0h0Z\" pointer-events=\"none\"/><g><g class=\"mark-rule role-axis-tick\" pointer-events=\"none\"><line transform=\"translate(0,0)\" x2=\"0\" y2=\"5\" stroke=\"#888\" stroke-width=\"1\" opacity=\"1\"/><line transform=\"translate(42,0)\" x2=\"0\" y2=\"5\" stroke=\"#888\" stroke-width=\"1\" opacity=\"1\"/><line transform=\"translate(83,0)\" x2=\"0\" y2=\"5\" stroke=\"#888\" stroke-width=\"1\" opacity=\"1\"/><line transform=\"translate(125,0)\" x2=\"0\" y2=\"5\" stroke=\"#888\" stroke-width=\"1\" opacity=\"1\"/><line transform=\"translate(167,0)\" x2=\"0\" y2=\"5\" stroke=\"#888\" stroke-width=\"1\" opacity=\"1\"/></g><g class=\"mark-text role-axis-label\" pointer-events=\"none\"><text text-anchor=\"start\" transform=\"translate(0,15)\" font-family=\"sans-serif\" font-size=\"10px\" fill=\"#000\" opacity=\"1\">0</text><text text-anchor=\"middle\" transform=\"translate(41.66666666666667,15)\" font-family=\"sans-serif\" font-size=\"10px\" fill=\"#000\" opacity=\"1\">5</text><text text-anchor=\"middle\" transform=\"translate(83.33333333333334,15)\" font-family=\"sans-serif\" font-size=\"10px\" fill=\"#000\" opacity=\"1\">10</text><text text-anchor=\"middle\" transform=\"translate(125,15)\" font-family=\"sans-serif\" font-size=\"10px\" fill=\"#000\" opacity=\"1\">15</text><text text-anchor=\"middle\" transform=\"translate(166.66666666666669,15)\" font-family=\"sans-serif\" font-size=\"10px\" fill=\"#000\" opacity=\"1\">20</text></g><g class=\"mark-rule role-axis-domain\" pointer-events=\"none\"><line transform=\"translate(0,0)\" x2=\"200\" y2=\"0\" stroke=\"#888\" stroke-width=\"1\" opacity=\"1\"/></g><g class=\"mark-text role-axis-title\" pointer-events=\"none\"><text text-anchor=\"middle\" transform=\"translate(100,30)\" font-family=\"sans-serif\" font-size=\"11px\" font-weight=\"bold\" fill=\"#000\" opacity=\"1\">hour</text></g></g><path class=\"foreground\" aria-hidden=\"true\" d=\"\" pointer-events=\"none\" display=\"none\"/></g></g><g class=\"mark-group role-axis\" role=\"graphics-symbol\" aria-roledescription=\"axis\" aria-label=\"Y-axis titled 'gen_sum' for a linear scale with values from 0 to 3,500\"><g transform=\"translate(0.5,0.5)\"><path class=\"background\" aria-hidden=\"true\" d=\"M0,0h0v0h0Z\" pointer-events=\"none\"/><g><g class=\"mark-rule role-axis-tick\" pointer-events=\"none\"><line transform=\"translate(0,200)\" x2=\"-5\" y2=\"0\" stroke=\"#888\" stroke-width=\"1\" opacity=\"1\"/><line transform=\"translate(0,171)\" x2=\"-5\" y2=\"0\" stroke=\"#888\" stroke-width=\"1\" opacity=\"1\"/><line transform=\"translate(0,143)\" x2=\"-5\" y2=\"0\" stroke=\"#888\" stroke-width=\"1\" opacity=\"1\"/><line transform=\"translate(0,114)\" x2=\"-5\" y2=\"0\" stroke=\"#888\" stroke-width=\"1\" opacity=\"1\"/><line transform=\"translate(0,86)\" x2=\"-5\" y2=\"0\" stroke=\"#888\" stroke-width=\"1\" opacity=\"1\"/><line transform=\"translate(0,57)\" x2=\"-5\" y2=\"0\" stroke=\"#888\" stroke-width=\"1\" opacity=\"1\"/><line transform=\"translate(0,29)\" x2=\"-5\" y2=\"0\" stroke=\"#888\" stroke-width=\"1\" opacity=\"1\"/><line transform=\"translate(0,0)\" x2=\"-5\" y2=\"0\" stroke=\"#888\" stroke-width=\"1\" opacity=\"1\"/></g><g class=\"mark-text role-axis-label\" pointer-events=\"none\"><text text-anchor=\"end\" transform=\"translate(-7,203)\" font-family=\"sans-serif\" font-size=\"10px\" fill=\"#000\" opacity=\"1\">0</text><text text-anchor=\"end\" transform=\"translate(-7,174.42857142857144)\" font-family=\"sans-serif\" font-size=\"10px\" fill=\"#000\" opacity=\"1\">500</text><text text-anchor=\"end\" transform=\"translate(-7,145.85714285714286)\" font-family=\"sans-serif\" font-size=\"10px\" fill=\"#000\" opacity=\"1\">1,000</text><text text-anchor=\"end\" transform=\"translate(-7,117.28571428571428)\" font-family=\"sans-serif\" font-size=\"10px\" fill=\"#000\" opacity=\"1\">1,500</text><text text-anchor=\"end\" transform=\"translate(-7,88.71428571428572)\" font-family=\"sans-serif\" font-size=\"10px\" fill=\"#000\" opacity=\"1\">2,000</text><text text-anchor=\"end\" transform=\"translate(-7,60.14285714285714)\" font-family=\"sans-serif\" font-size=\"10px\" fill=\"#000\" opacity=\"1\">2,500</text><text text-anchor=\"end\" transform=\"translate(-7,31.57142857142858)\" font-family=\"sans-serif\" font-size=\"10px\" fill=\"#000\" opacity=\"1\">3,000</text><text text-anchor=\"end\" transform=\"translate(-7,3)\" font-family=\"sans-serif\" font-size=\"10px\" fill=\"#000\" opacity=\"1\">3,500</text></g><g class=\"mark-rule role-axis-domain\" pointer-events=\"none\"><line transform=\"translate(0,200)\" x2=\"0\" y2=\"-200\" stroke=\"#888\" stroke-width=\"1\" opacity=\"1\"/></g><g class=\"mark-text role-axis-title\" pointer-events=\"none\"><text text-anchor=\"middle\" transform=\"translate(-36.0244140625,100) rotate(-90) translate(0,-2)\" font-family=\"sans-serif\" font-size=\"11px\" font-weight=\"bold\" fill=\"#000\" opacity=\"1\">gen_sum</text></g></g><path class=\"foreground\" aria-hidden=\"true\" d=\"\" pointer-events=\"none\" display=\"none\"/></g></g><g class=\"mark-group role-scope pathgroup\" role=\"graphics-object\" aria-roledescription=\"group mark container\"><g transform=\"translate(0,0)\"><path class=\"background\" aria-hidden=\"true\" d=\"M0,0h200v200h-200Z\"/><g><g class=\"mark-area role-mark marks\" role=\"graphics-object\" aria-roledescription=\"area mark container\"><path aria-label=\"hour: 0; gen_sum: 21.4; resource: biomass\" role=\"graphics-symbol\" aria-roledescription=\"area mark\" d=\"M0,147.989L8.333,150.703L16.667,149.171L25,146.722L33.333,139.126L41.667,132.9L50,129.137L58.333,148.628L66.667,177.56L75,177.56L83.333,177.56L91.667,177.56L100,177.56L108.333,177.56L116.667,177.56L125,177.56L133.333,177.56L141.667,177.56L150,125.343L158.333,110.715L166.667,112.5L175,121.741L183.333,134.672L191.667,143.945L191.667,145.168L183.333,135.895L175,122.964L166.667,113.723L158.333,111.937L150,126.565L141.667,177.56L133.333,177.56L125,177.56L116.667,177.56L108.333,177.56L100,177.56L91.667,177.56L83.333,177.56L75,177.56L66.667,177.56L58.333,149.851L50,130.36L41.667,134.123L33.333,140.349L25,147.945L16.667,150.394L8.333,151.926L0,149.212Z\" fill=\"#8c564b\"/></g></g><path class=\"foreground\" aria-hidden=\"true\" d=\"\" display=\"none\"/></g><g transform=\"translate(0,0)\"><path class=\"background\" aria-hidden=\"true\" d=\"M0,0h200v200h-200Z\"/><g><g class=\"mark-area role-mark marks\" role=\"graphics-object\" aria-roledescription=\"area mark container\"><path aria-label=\"hour: 0; gen_sum: 100; resource: hydroelectric_pumped_storage\" role=\"graphics-symbol\" aria-roledescription=\"area mark\" d=\"M0,149.212L8.333,151.926L16.667,150.394L25,147.945L33.333,140.349L41.667,134.123L50,130.36L58.333,149.851L66.667,177.56L75,177.56L83.333,177.56L91.667,177.56L100,177.56L108.333,177.56L116.667,177.56L125,177.56L133.333,177.56L141.667,177.56L150,126.565L158.333,111.937L166.667,113.723L175,122.964L183.333,135.895L191.667,145.168L191.667,150.883L183.333,141.609L175,128.678L166.667,119.437L158.333,117.652L150,132.28L141.667,177.56L133.333,177.56L125,177.56L116.667,177.56L108.333,177.56L100,177.56L91.667,177.56L83.333,177.56L75,177.56L66.667,177.56L58.333,155.565L50,136.075L41.667,139.837L33.333,146.063L25,153.659L16.667,156.108L8.333,157.64L0,154.926Z\" fill=\"#e377c2\"/></g></g><path class=\"foreground\" aria-hidden=\"true\" d=\"\" display=\"none\"/></g><g transform=\"translate(0,0)\"><path class=\"background\" aria-hidden=\"true\" d=\"M0,0h200v200h-200Z\"/><g><g class=\"mark-area role-mark marks\" role=\"graphics-object\" aria-roledescription=\"area mark container\"><path aria-label=\"hour: 0; gen_sum: 767.7753; resource: natural_gas_fired_combined_cycle\" role=\"graphics-symbol\" aria-roledescription=\"area mark\" d=\"M0,154.926L8.333,157.64L16.667,156.108L25,153.659L33.333,146.063L41.667,139.837L50,136.075L58.333,155.565L66.667,177.56L75,177.56L83.333,177.56L91.667,177.56L100,177.56L108.333,177.56L116.667,177.56L125,177.56L133.333,177.56L141.667,177.56L150,132.28L158.333,117.652L166.667,119.437L175,128.678L183.333,141.609L191.667,150.883L191.667,200L183.333,200L175,191.535L166.667,182.295L158.333,180.509L150,195.137L141.667,200L133.333,200L125,200L116.667,200L108.333,200L100,200L91.667,200L83.333,200L75,200L66.667,200L58.333,200L50,198.799L41.667,198.799L33.333,198.799L25,198.799L16.667,198.799L8.333,198.799L0,198.799Z\" fill=\"#7f7f7f\"/></g></g><path class=\"foreground\" aria-hidden=\"true\" d=\"\" display=\"none\"/></g><g transform=\"translate(0,0)\"><path class=\"background\" aria-hidden=\"true\" d=\"M0,0h200v200h-200Z\"/><g><g class=\"mark-area role-mark marks\" role=\"graphics-object\" aria-roledescription=\"area mark container\"><path aria-label=\"hour: 0; gen_sum: 21.0197; resource: natural_gas_fired_combustion_turbine\" role=\"graphics-symbol\" aria-roledescription=\"area mark\" d=\"M0,198.799L8.333,198.799L16.667,198.799L25,198.799L33.333,198.799L41.667,198.799L50,198.799L58.333,200L66.667,200L75,200L83.333,200L91.667,200L100,200L108.333,200L116.667,200L125,200L133.333,200L141.667,200L150,195.137L158.333,180.509L166.667,182.295L175,191.535L183.333,200L191.667,200L191.667,200L183.333,200L175,200L166.667,200L158.333,200L150,200L141.667,200L133.333,200L125,200L116.667,200L108.333,200L100,200L91.667,200L83.333,200L75,200L66.667,200L58.333,200L50,200L41.667,200L33.333,200L25,200L16.667,200L8.333,200L0,200Z\" fill=\"#bcbd22\"/></g></g><path class=\"foreground\" aria-hidden=\"true\" d=\"\" display=\"none\"/></g><g transform=\"translate(0,0)\"><path class=\"background\" aria-hidden=\"true\" d=\"M0,0h200v200h-200Z\"/><g><g class=\"mark-area role-mark marks\" role=\"graphics-object\" aria-roledescription=\"area mark container\"><path aria-label=\"hour: 0; gen_sum: 150.1; resource: _onshore_wind_turbine\" role=\"graphics-symbol\" aria-roledescription=\"area mark\" d=\"M0,138.169L8.333,140.542L16.667,141.882L25,140.198L33.333,133.651L41.667,124.347L50,111.042L58.333,92.991L66.667,74.97L75,64.524L83.333,59.652L91.667,65.511L100,72.882L108.333,75.799L116.667,79.902L125,85.449L133.333,79.658L141.667,92.062L150,102.477L158.333,100.572L166.667,101.835L175,112.517L183.333,124.922L191.667,135.029L191.667,142.702L183.333,133.429L175,120.498L166.667,111.257L158.333,109.471L150,111.214L141.667,98.019L133.333,79.658L125,85.449L116.667,79.902L108.333,75.799L100,72.882L91.667,65.511L83.333,59.652L75,64.524L66.667,74.97L58.333,95.585L50,114.938L41.667,131.657L33.333,137.883L25,145.479L16.667,147.928L8.333,149.46L0,146.746Z\" fill=\"#ff7f0e\"/></g></g><path class=\"foreground\" aria-hidden=\"true\" d=\"\" display=\"none\"/></g><g transform=\"translate(0,0)\"><path class=\"background\" aria-hidden=\"true\" d=\"M0,0h200v200h-200Z\"/><g><g class=\"mark-area role-mark marks\" role=\"graphics-object\" aria-roledescription=\"area mark container\"><path aria-label=\"hour: 0; gen_sum: 21.755; resource: _small_hydroelectric\" role=\"graphics-symbol\" aria-roledescription=\"area mark\" d=\"M0,146.746L8.333,149.46L16.667,147.928L25,145.479L33.333,137.883L41.667,131.657L50,114.938L58.333,95.585L66.667,74.97L75,64.524L83.333,59.652L91.667,65.511L100,72.882L108.333,75.799L116.667,79.902L125,85.449L133.333,79.658L141.667,98.019L150,111.214L158.333,109.471L166.667,111.257L175,120.498L183.333,133.429L191.667,142.702L191.667,143.945L183.333,134.672L175,121.741L166.667,112.5L158.333,110.715L150,112.457L141.667,99.262L133.333,79.658L125,85.449L116.667,79.902L108.333,75.799L100,72.882L91.667,65.511L83.333,59.652L75,64.524L66.667,74.97L58.333,96.828L50,116.181L41.667,132.9L33.333,139.126L25,146.722L16.667,149.171L8.333,150.703L0,147.989Z\" fill=\"#2ca02c\"/></g></g><path class=\"foreground\" aria-hidden=\"true\" d=\"\" display=\"none\"/></g><g transform=\"translate(0,0)\"><path class=\"background\" aria-hidden=\"true\" d=\"M0,0h200v200h-200Z\"/><g><g class=\"mark-area role-mark marks\" role=\"graphics-object\" aria-roledescription=\"area mark container\"><path aria-label=\"hour: 0; gen_sum: 0; resource: _solar_photovoltaic\" role=\"graphics-symbol\" aria-roledescription=\"area mark\" d=\"M0,147.989L8.333,150.703L16.667,149.171L25,146.722L33.333,139.126L41.667,132.9L50,116.181L58.333,96.828L66.667,74.97L75,64.524L83.333,59.652L91.667,65.511L100,72.882L108.333,75.799L116.667,79.902L125,85.449L133.333,79.658L141.667,99.262L150,112.457L158.333,110.715L166.667,112.5L175,121.741L183.333,134.672L191.667,143.945L191.667,143.945L183.333,134.672L175,121.741L166.667,112.5L158.333,110.715L150,123.457L141.667,166.102L133.333,158.943L125,158.034L116.667,156.162L108.333,155.429L100,155.459L91.667,156.512L83.333,156.855L75,157.822L66.667,161.185L58.333,141.048L50,127.241L41.667,132.9L33.333,139.126L25,146.722L16.667,149.171L8.333,150.703L0,147.989Z\" fill=\"#d62728\"/></g></g><path class=\"foreground\" aria-hidden=\"true\" d=\"\" display=\"none\"/></g><g transform=\"translate(0,0)\"><path class=\"background\" aria-hidden=\"true\" d=\"M0,0h200v200h-200Z\"/><g><g class=\"mark-area role-mark marks\" role=\"graphics-object\" aria-roledescription=\"area mark container\"><path aria-label=\"hour: 0; gen_sum: 0; resource: _solar_photovoltaic_btm\" role=\"graphics-symbol\" aria-roledescription=\"area mark\" d=\"M0,147.989L8.333,150.703L16.667,149.171L25,146.722L33.333,139.126L41.667,132.9L50,127.241L58.333,141.048L66.667,161.185L75,157.822L83.333,156.855L91.667,156.512L100,155.459L108.333,155.429L116.667,156.162L125,158.034L133.333,158.943L141.667,166.102L150,123.457L158.333,110.715L166.667,112.5L175,121.741L183.333,134.672L191.667,143.945L191.667,143.945L183.333,134.672L175,121.741L166.667,112.5L158.333,110.715L150,125.343L141.667,177.56L133.333,177.56L125,177.56L116.667,177.56L108.333,177.56L100,177.56L91.667,177.56L83.333,177.56L75,177.56L66.667,177.56L58.333,148.628L50,129.137L41.667,132.9L33.333,139.126L25,146.722L16.667,149.171L8.333,150.703L0,147.989Z\" fill=\"#9467bd\"/></g></g><path class=\"foreground\" aria-hidden=\"true\" d=\"\" display=\"none\"/></g><g transform=\"translate(0,0)\"><path class=\"background\" aria-hidden=\"true\" d=\"M0,0h200v200h-200Z\"/><g><g class=\"mark-area role-mark marks\" role=\"graphics-object\" aria-roledescription=\"area mark container\"><path aria-label=\"hour: 0; gen_sum: 0; resource: _curtailment\" role=\"graphics-symbol\" aria-roledescription=\"area mark\" d=\"M0,138.169L8.333,140.542L16.667,141.882L25,140.198L33.333,133.651L41.667,124.347L50,111.042L58.333,92.991L66.667,55.632L75,34.529L83.333,28.992L91.667,27.651L100,22.56L108.333,21.688L116.667,27.514L125,39.456L133.333,42.944L141.667,91.301L150,102.477L158.333,100.572L166.667,101.835L175,112.517L183.333,124.922L191.667,135.029L191.667,135.029L183.333,124.922L175,112.517L166.667,101.835L158.333,100.572L150,102.477L141.667,92.062L133.333,79.658L125,85.449L116.667,79.902L108.333,75.799L100,72.882L91.667,65.511L83.333,59.652L75,64.524L66.667,74.97L58.333,92.991L50,111.042L41.667,124.347L33.333,133.651L25,140.198L16.667,141.882L8.333,140.542L0,138.169Z\" fill=\"#1f77b4\"/></g></g><path class=\"foreground\" aria-hidden=\"true\" d=\"\" display=\"none\"/></g></g><g class=\"mark-group role-legend\" role=\"graphics-symbol\" aria-roledescription=\"legend\" aria-label=\"Symbol legend titled 'resource' for fill color with 9 values: _curtailment, _onshore_wind_turbine, _small_hydroelectric, _solar_photovoltaic, _solar_photovoltaic_btm, ending with natural_gas_fired_combustion_turbine\"><g transform=\"translate(218,0)\"><path class=\"background\" aria-hidden=\"true\" d=\"M0,0h174v131h-174Z\" pointer-events=\"none\"/><g><g class=\"mark-group role-legend-entry\"><g transform=\"translate(0,16)\"><path class=\"background\" aria-hidden=\"true\" d=\"M0,0h0v0h0Z\" pointer-events=\"none\"/><g><g class=\"mark-group role-scope\" role=\"graphics-object\" aria-roledescription=\"group mark container\"><g transform=\"translate(0,0)\"><path class=\"background\" aria-hidden=\"true\" d=\"M0,0h173.8759765625v11h-173.8759765625Z\" pointer-events=\"none\" opacity=\"1\"/><g><g class=\"mark-symbol role-legend-symbol\" pointer-events=\"none\"><path transform=\"translate(6,6)\" d=\"M5,0A5,5,0,1,1,-5,0A5,5,0,1,1,5,0\" fill=\"#1f77b4\" stroke-width=\"1.5\" opacity=\"1\"/></g><g class=\"mark-text role-legend-label\" pointer-events=\"none\"><text text-anchor=\"start\" transform=\"translate(16,9)\" font-family=\"sans-serif\" font-size=\"10px\" fill=\"#000\" opacity=\"1\">_curtailment</text></g></g><path class=\"foreground\" aria-hidden=\"true\" d=\"\" pointer-events=\"none\" display=\"none\"/></g><g transform=\"translate(0,13)\"><path class=\"background\" aria-hidden=\"true\" d=\"M0,0h173.8759765625v11h-173.8759765625Z\" pointer-events=\"none\" opacity=\"1\"/><g><g class=\"mark-symbol role-legend-symbol\" pointer-events=\"none\"><path transform=\"translate(6,6)\" d=\"M5,0A5,5,0,1,1,-5,0A5,5,0,1,1,5,0\" fill=\"#ff7f0e\" stroke-width=\"1.5\" opacity=\"1\"/></g><g class=\"mark-text role-legend-label\" pointer-events=\"none\"><text text-anchor=\"start\" transform=\"translate(16,9)\" font-family=\"sans-serif\" font-size=\"10px\" fill=\"#000\" opacity=\"1\">_onshore_wind_turbine</text></g></g><path class=\"foreground\" aria-hidden=\"true\" d=\"\" pointer-events=\"none\" display=\"none\"/></g><g transform=\"translate(0,26)\"><path class=\"background\" aria-hidden=\"true\" d=\"M0,0h173.8759765625v11h-173.8759765625Z\" pointer-events=\"none\" opacity=\"1\"/><g><g class=\"mark-symbol role-legend-symbol\" pointer-events=\"none\"><path transform=\"translate(6,6)\" d=\"M5,0A5,5,0,1,1,-5,0A5,5,0,1,1,5,0\" fill=\"#2ca02c\" stroke-width=\"1.5\" opacity=\"1\"/></g><g class=\"mark-text role-legend-label\" pointer-events=\"none\"><text text-anchor=\"start\" transform=\"translate(16,9)\" font-family=\"sans-serif\" font-size=\"10px\" fill=\"#000\" opacity=\"1\">_small_hydroelectric</text></g></g><path class=\"foreground\" aria-hidden=\"true\" d=\"\" pointer-events=\"none\" display=\"none\"/></g><g transform=\"translate(0,39)\"><path class=\"background\" aria-hidden=\"true\" d=\"M0,0h173.8759765625v11h-173.8759765625Z\" pointer-events=\"none\" opacity=\"1\"/><g><g class=\"mark-symbol role-legend-symbol\" pointer-events=\"none\"><path transform=\"translate(6,6)\" d=\"M5,0A5,5,0,1,1,-5,0A5,5,0,1,1,5,0\" fill=\"#d62728\" stroke-width=\"1.5\" opacity=\"1\"/></g><g class=\"mark-text role-legend-label\" pointer-events=\"none\"><text text-anchor=\"start\" transform=\"translate(16,9)\" font-family=\"sans-serif\" font-size=\"10px\" fill=\"#000\" opacity=\"1\">_solar_photovoltaic</text></g></g><path class=\"foreground\" aria-hidden=\"true\" d=\"\" pointer-events=\"none\" display=\"none\"/></g><g transform=\"translate(0,52)\"><path class=\"background\" aria-hidden=\"true\" d=\"M0,0h173.8759765625v11h-173.8759765625Z\" pointer-events=\"none\" opacity=\"1\"/><g><g class=\"mark-symbol role-legend-symbol\" pointer-events=\"none\"><path transform=\"translate(6,6)\" d=\"M5,0A5,5,0,1,1,-5,0A5,5,0,1,1,5,0\" fill=\"#9467bd\" stroke-width=\"1.5\" opacity=\"1\"/></g><g class=\"mark-text role-legend-label\" pointer-events=\"none\"><text text-anchor=\"start\" transform=\"translate(16,9)\" font-family=\"sans-serif\" font-size=\"10px\" fill=\"#000\" opacity=\"1\">_solar_photovoltaic_btm</text></g></g><path class=\"foreground\" aria-hidden=\"true\" d=\"\" pointer-events=\"none\" display=\"none\"/></g><g transform=\"translate(0,65)\"><path class=\"background\" aria-hidden=\"true\" d=\"M0,0h173.8759765625v11h-173.8759765625Z\" pointer-events=\"none\" opacity=\"1\"/><g><g class=\"mark-symbol role-legend-symbol\" pointer-events=\"none\"><path transform=\"translate(6,6)\" d=\"M5,0A5,5,0,1,1,-5,0A5,5,0,1,1,5,0\" fill=\"#8c564b\" stroke-width=\"1.5\" opacity=\"1\"/></g><g class=\"mark-text role-legend-label\" pointer-events=\"none\"><text text-anchor=\"start\" transform=\"translate(16,9)\" font-family=\"sans-serif\" font-size=\"10px\" fill=\"#000\" opacity=\"1\">biomass</text></g></g><path class=\"foreground\" aria-hidden=\"true\" d=\"\" pointer-events=\"none\" display=\"none\"/></g><g transform=\"translate(0,78)\"><path class=\"background\" aria-hidden=\"true\" d=\"M0,0h173.8759765625v11h-173.8759765625Z\" pointer-events=\"none\" opacity=\"1\"/><g><g class=\"mark-symbol role-legend-symbol\" pointer-events=\"none\"><path transform=\"translate(6,6)\" d=\"M5,0A5,5,0,1,1,-5,0A5,5,0,1,1,5,0\" fill=\"#e377c2\" stroke-width=\"1.5\" opacity=\"1\"/></g><g class=\"mark-text role-legend-label\" pointer-events=\"none\"><text text-anchor=\"start\" transform=\"translate(16,9)\" font-family=\"sans-serif\" font-size=\"10px\" fill=\"#000\" opacity=\"1\">hydroelectric_pumped_storage</text></g></g><path class=\"foreground\" aria-hidden=\"true\" d=\"\" pointer-events=\"none\" display=\"none\"/></g><g transform=\"translate(0,91)\"><path class=\"background\" aria-hidden=\"true\" d=\"M0,0h173.8759765625v11h-173.8759765625Z\" pointer-events=\"none\" opacity=\"1\"/><g><g class=\"mark-symbol role-legend-symbol\" pointer-events=\"none\"><path transform=\"translate(6,6)\" d=\"M5,0A5,5,0,1,1,-5,0A5,5,0,1,1,5,0\" fill=\"#7f7f7f\" stroke-width=\"1.5\" opacity=\"1\"/></g><g class=\"mark-text role-legend-label\" pointer-events=\"none\"><text text-anchor=\"start\" transform=\"translate(16,9)\" font-family=\"sans-serif\" font-size=\"10px\" fill=\"#000\" opacity=\"1\">natural_gas_fired_combined_cycle</text></g></g><path class=\"foreground\" aria-hidden=\"true\" d=\"\" pointer-events=\"none\" display=\"none\"/></g><g transform=\"translate(0,104)\"><path class=\"background\" aria-hidden=\"true\" d=\"M0,0h173.8759765625v11h-173.8759765625Z\" pointer-events=\"none\" opacity=\"1\"/><g><g class=\"mark-symbol role-legend-symbol\" pointer-events=\"none\"><path transform=\"translate(6,6)\" d=\"M5,0A5,5,0,1,1,-5,0A5,5,0,1,1,5,0\" fill=\"#bcbd22\" stroke-width=\"1.5\" opacity=\"1\"/></g><g class=\"mark-text role-legend-label\" pointer-events=\"none\"><text text-anchor=\"start\" transform=\"translate(16,9)\" font-family=\"sans-serif\" font-size=\"10px\" fill=\"#000\" opacity=\"1\">natural_gas_fired_combustion_tu…</text></g></g><path class=\"foreground\" aria-hidden=\"true\" d=\"\" pointer-events=\"none\" display=\"none\"/></g></g></g><path class=\"foreground\" aria-hidden=\"true\" d=\"\" pointer-events=\"none\" display=\"none\"/></g></g><g class=\"mark-text role-legend-title\" pointer-events=\"none\"><text text-anchor=\"start\" transform=\"translate(0,9)\" font-family=\"sans-serif\" font-size=\"11px\" font-weight=\"bold\" fill=\"#000\" opacity=\"1\">resource</text></g></g><path class=\"foreground\" aria-hidden=\"true\" d=\"\" pointer-events=\"none\" display=\"none\"/></g></g></g><path class=\"foreground\" aria-hidden=\"true\" d=\"\" display=\"none\"/></g></g></g></svg>"
      ],
      "text/plain": [
       "@vlplot(\n",
       "    mark=\"area\",\n",
       "    encoding={\n",
       "        x={\n",
       "            field=\"hour\"\n",
       "        },\n",
       "        y={\n",
       "            stack=\"zero\",\n",
       "            field=\"gen_sum\"\n",
       "        },\n",
       "        color={\n",
       "            scale={\n",
       "                scheme=\"category10\"\n",
       "            },\n",
       "            field=\"resource\",\n",
       "            type=\"nominal\"\n",
       "        }\n",
       "    },\n",
       "    data={\n",
       "        values=...\n",
       "    }\n",
       ")"
      ]
     },
     "execution_count": 12,
     "metadata": {},
     "output_type": "execute_result"
    }
   ],
   "source": [
    "# Add in BTM solar and curtailment and plot results\n",
    "\n",
    "sol_gen = innerjoin(solution.gen, \n",
    "                    gen_df[!, [:r_id, :resource]], \n",
    "                    on = :r_id)\n",
    "sol_gen = combine(groupby(sol_gen, [:resource, :hour]), \n",
    "            :gen => sum)\n",
    "\n",
    "# Rename generators (for plotting purposes)\n",
    "sol_gen[sol_gen.resource .== \"solar_photovoltaic\", :resource] .= \"_solar_photovoltaic\"\n",
    "sol_gen[sol_gen.resource .== \"onshore_wind_turbine\", :resource] .= \"_onshore_wind_turbine\"\n",
    "sol_gen[sol_gen.resource .== \"small_hydroelectric\", :resource] .= \"_small_hydroelectric\"\n",
    "\n",
    "# BTM solar\n",
    "btm = DataFrame(resource = repeat([\"_solar_photovoltaic_btm\"]; outer=length(T_period)), \n",
    "    hour = T_period,\n",
    "    gen_sum = gen_variable_multi[gen_variable_multi.gen_full .== \"wec_sdge_solar_photovoltaic_1.0\",:cf] * 600)\n",
    "append!(sol_gen, btm)\n",
    "\n",
    "# Curtailment\n",
    "curtail = combine(groupby(solution.curtail, [:hour]),\n",
    "            :curt => sum)\n",
    "curtail[!, :resource] .= \"_curtailment\"\n",
    "rename!(curtail, :curt_sum => :gen_sum)\n",
    "append!(sol_gen, curtail[:,[:resource, :hour, :gen_sum]])\n",
    "\n",
    "# Rescale hours\n",
    "sol_gen.hour = sol_gen.hour .- T_period[1]\n",
    "\n",
    "sol_gen |>\n",
    "@vlplot(:area, \n",
    "    x=:hour, y={:gen_sum, stack=:zero}, \n",
    "    color={\"resource:n\", scale={scheme=\"category10\"}})"
   ]
  },
  {
   "cell_type": "markdown",
   "metadata": {},
   "source": [
    "**B. Zero startup costs sensitivity**\n",
    "\n",
    "Next, create a modified version of the generator dataframe (`gen_df_sens = copy(gen_df)`) and set the startup costs for all generators to be 0.\n",
    "\n",
    "Rerun the UC and compare with the first solution. What are the main differences and why?"
   ]
  },
  {
   "cell_type": "code",
   "execution_count": 18,
   "metadata": {},
   "outputs": [
    {
     "data": {
      "text/html": [
       "<div><div style = \"float: left;\"><span>22×30 DataFrame</span></div><div style = \"clear: both;\"></div></div><div class = \"data-frame\" style = \"overflow-x: scroll;\"><table class = \"data-frame\" style = \"margin-bottom: 6px;\"><thead><tr class = \"header\"><th class = \"rowNumber\" style = \"font-weight: bold; text-align: right;\">Row</th><th style = \"text-align: left;\">r_id</th><th style = \"text-align: left;\">resource</th><th style = \"text-align: left;\">region</th><th style = \"text-align: left;\">existing_cap_mw</th><th style = \"text-align: left;\">num_units</th><th style = \"text-align: left;\">cap_size</th><th style = \"text-align: left;\">var_om_cost_per_mwh</th><th style = \"text-align: left;\">var_om_cost_per_mwh_in</th><th style = \"text-align: left;\">fuel</th><th style = \"text-align: left;\">heat_rate_mmbtu_per_mwh</th><th style = \"text-align: left;\">heat_rate_mmbtu_mwh_iqr</th><th style = \"text-align: left;\">heat_rate_mmbtu_mwh_std</th><th style = \"text-align: left;\">min_power</th><th style = \"text-align: left;\">ramp_up_percentage</th><th style = \"text-align: left;\">ramp_dn_percentage</th><th style = \"text-align: left;\">start_cost_per_mw</th><th style = \"text-align: left;\">start_fuel_mmbtu_per_mw</th><th style = \"text-align: left;\">up_time</th><th style = \"text-align: left;\">down_time</th><th style = \"text-align: left;\">self_disch</th><th style = \"text-align: left;\">eff_up</th><th style = \"text-align: left;\">eff_down</th><th style = \"text-align: left;\">ratio_power_to_energy</th><th style = \"text-align: left;\">min_duration</th><th style = \"text-align: left;\">max_duration</th><th style = \"text-align: left;\">cluster</th><th style = \"text-align: left;\">fuel_cost</th><th style = \"text-align: left;\">co2_content_tons_per_mmbtu</th><th style = \"text-align: left;\">is_variable</th><th style = \"text-align: left;\">gen_full</th></tr><tr class = \"subheader headerLastRow\"><th class = \"rowNumber\" style = \"font-weight: bold; text-align: right;\"></th><th title = \"Union{Missing, Int64}\" style = \"text-align: left;\">Int64?</th><th title = \"Union{Missing, String}\" style = \"text-align: left;\">String?</th><th title = \"Union{Missing, String15}\" style = \"text-align: left;\">String15?</th><th title = \"Union{Missing, Float64}\" style = \"text-align: left;\">Float64?</th><th title = \"Union{Missing, Int64}\" style = \"text-align: left;\">Int64?</th><th title = \"Union{Missing, Float64}\" style = \"text-align: left;\">Float64?</th><th title = \"Union{Missing, Float64}\" style = \"text-align: left;\">Float64?</th><th title = \"Union{Missing, Int64}\" style = \"text-align: left;\">Int64?</th><th title = \"String31\" style = \"text-align: left;\">String31</th><th title = \"Union{Missing, Float64}\" style = \"text-align: left;\">Float64?</th><th title = \"Union{Missing, Float64}\" style = \"text-align: left;\">Float64?</th><th title = \"Union{Missing, Float64}\" style = \"text-align: left;\">Float64?</th><th title = \"Union{Missing, Float64}\" style = \"text-align: left;\">Float64?</th><th title = \"Union{Missing, Float64}\" style = \"text-align: left;\">Float64?</th><th title = \"Union{Missing, Float64}\" style = \"text-align: left;\">Float64?</th><th title = \"Union{Missing, Int64}\" style = \"text-align: left;\">Int64?</th><th title = \"Union{Missing, Float64}\" style = \"text-align: left;\">Float64?</th><th title = \"Union{Missing, Int64}\" style = \"text-align: left;\">Int64?</th><th title = \"Union{Missing, Int64}\" style = \"text-align: left;\">Int64?</th><th title = \"Union{Missing, Int64}\" style = \"text-align: left;\">Int64?</th><th title = \"Union{Missing, Float64}\" style = \"text-align: left;\">Float64?</th><th title = \"Union{Missing, Float64}\" style = \"text-align: left;\">Float64?</th><th title = \"Union{Missing, Float64}\" style = \"text-align: left;\">Float64?</th><th title = \"Union{Missing, Int64}\" style = \"text-align: left;\">Int64?</th><th title = \"Union{Missing, Int64}\" style = \"text-align: left;\">Int64?</th><th title = \"Union{Missing, Int64}\" style = \"text-align: left;\">Int64?</th><th title = \"Union{Missing, Float64}\" style = \"text-align: left;\">Float64?</th><th title = \"Union{Missing, Float64}\" style = \"text-align: left;\">Float64?</th><th title = \"Bool\" style = \"text-align: left;\">Bool</th><th title = \"String\" style = \"text-align: left;\">String</th></tr></thead><tbody><tr><td class = \"rowNumber\" style = \"font-weight: bold; text-align: right;\">1</td><td style = \"text-align: right;\">1</td><td style = \"text-align: left;\">biomass</td><td style = \"text-align: left;\">WEC_SDGE</td><td style = \"text-align: right;\">21.4</td><td style = \"text-align: right;\">20</td><td style = \"text-align: right;\">1.07</td><td style = \"text-align: right;\">5.234</td><td style = \"text-align: right;\">0</td><td style = \"text-align: left;\">None</td><td style = \"text-align: right;\">12.76</td><td style = \"text-align: right;\">1.471</td><td style = \"text-align: right;\">4.147</td><td style = \"text-align: right;\">0.71</td><td style = \"text-align: right;\">1.0</td><td style = \"text-align: right;\">1.0</td><td style = \"text-align: right;\">0</td><td style = \"text-align: right;\">0.0</td><td style = \"text-align: right;\">0</td><td style = \"text-align: right;\">0</td><td style = \"text-align: right;\">0</td><td style = \"text-align: right;\">1.0</td><td style = \"text-align: right;\">1.0</td><td style = \"text-align: right;\">1.0</td><td style = \"text-align: right;\">0</td><td style = \"text-align: right;\">0</td><td style = \"text-align: right;\">1</td><td style = \"text-align: right;\">0.0</td><td style = \"text-align: right;\">0.0</td><td style = \"text-align: right;\">false</td><td style = \"text-align: left;\">wec_sdge_biomass_1.0</td></tr><tr><td class = \"rowNumber\" style = \"font-weight: bold; text-align: right;\">2</td><td style = \"text-align: right;\">2</td><td style = \"text-align: left;\">hydroelectric_pumped_storage</td><td style = \"text-align: left;\">WEC_SDGE</td><td style = \"text-align: right;\">100.0</td><td style = \"text-align: right;\">2</td><td style = \"text-align: right;\">21.0</td><td style = \"text-align: right;\">0.0</td><td style = \"text-align: right;\">0</td><td style = \"text-align: left;\">None</td><td style = \"text-align: right;\">0.0</td><td style = \"text-align: right;\">0.0</td><td style = \"text-align: right;\">0.0</td><td style = \"text-align: right;\">0.0</td><td style = \"text-align: right;\">1.0</td><td style = \"text-align: right;\">1.0</td><td style = \"text-align: right;\">0</td><td style = \"text-align: right;\">0.0</td><td style = \"text-align: right;\">0</td><td style = \"text-align: right;\">0</td><td style = \"text-align: right;\">0</td><td style = \"text-align: right;\">0.866</td><td style = \"text-align: right;\">0.866</td><td style = \"text-align: right;\">0.25</td><td style = \"text-align: right;\">0</td><td style = \"text-align: right;\">0</td><td style = \"text-align: right;\">1</td><td style = \"text-align: right;\">0.0</td><td style = \"text-align: right;\">0.0</td><td style = \"text-align: right;\">false</td><td style = \"text-align: left;\">wec_sdge_hydroelectric_pumped_storage_1.0</td></tr><tr><td class = \"rowNumber\" style = \"font-weight: bold; text-align: right;\">3</td><td style = \"text-align: right;\">3</td><td style = \"text-align: left;\">natural_gas_fired_combined_cycle</td><td style = \"text-align: left;\">WEC_SDGE</td><td style = \"text-align: right;\">600.0</td><td style = \"text-align: right;\">1</td><td style = \"text-align: right;\">607.1</td><td style = \"text-align: right;\">3.4</td><td style = \"text-align: right;\">0</td><td style = \"text-align: left;\">pacific_naturalgas</td><td style = \"text-align: right;\">7.52</td><td style = \"text-align: right;\">0.0</td><td style = \"text-align: right;\">0.0</td><td style = \"text-align: right;\">0.362</td><td style = \"text-align: right;\">0.4</td><td style = \"text-align: right;\">0.4</td><td style = \"text-align: right;\">87</td><td style = \"text-align: right;\">2.0</td><td style = \"text-align: right;\">6</td><td style = \"text-align: right;\">6</td><td style = \"text-align: right;\">0</td><td style = \"text-align: right;\">1.0</td><td style = \"text-align: right;\">1.0</td><td style = \"text-align: right;\">1.0</td><td style = \"text-align: right;\">0</td><td style = \"text-align: right;\">0</td><td style = \"text-align: right;\">1</td><td style = \"text-align: right;\">2.57</td><td style = \"text-align: right;\">0.05306</td><td style = \"text-align: right;\">false</td><td style = \"text-align: left;\">wec_sdge_natural_gas_fired_combined_cycle_1.0</td></tr><tr><td class = \"rowNumber\" style = \"font-weight: bold; text-align: right;\">4</td><td style = \"text-align: right;\">4</td><td style = \"text-align: left;\">natural_gas_fired_combined_cycle</td><td style = \"text-align: left;\">WEC_SDGE</td><td style = \"text-align: right;\">500.0</td><td style = \"text-align: right;\">1</td><td style = \"text-align: right;\">570.0</td><td style = \"text-align: right;\">3.4</td><td style = \"text-align: right;\">0</td><td style = \"text-align: left;\">pacific_naturalgas</td><td style = \"text-align: right;\">7.15</td><td style = \"text-align: right;\">0.0</td><td style = \"text-align: right;\">0.0</td><td style = \"text-align: right;\">0.351</td><td style = \"text-align: right;\">0.4</td><td style = \"text-align: right;\">0.4</td><td style = \"text-align: right;\">87</td><td style = \"text-align: right;\">2.0</td><td style = \"text-align: right;\">6</td><td style = \"text-align: right;\">6</td><td style = \"text-align: right;\">0</td><td style = \"text-align: right;\">1.0</td><td style = \"text-align: right;\">1.0</td><td style = \"text-align: right;\">1.0</td><td style = \"text-align: right;\">0</td><td style = \"text-align: right;\">0</td><td style = \"text-align: right;\">2</td><td style = \"text-align: right;\">2.57</td><td style = \"text-align: right;\">0.05306</td><td style = \"text-align: right;\">false</td><td style = \"text-align: left;\">wec_sdge_natural_gas_fired_combined_cycle_2.0</td></tr><tr><td class = \"rowNumber\" style = \"font-weight: bold; text-align: right;\">5</td><td style = \"text-align: right;\">5</td><td style = \"text-align: left;\">natural_gas_fired_combined_cycle</td><td style = \"text-align: left;\">WEC_SDGE</td><td style = \"text-align: right;\">336.0</td><td style = \"text-align: right;\">3</td><td style = \"text-align: right;\">112.0</td><td style = \"text-align: right;\">10.8</td><td style = \"text-align: right;\">0</td><td style = \"text-align: left;\">pacific_naturalgas</td><td style = \"text-align: right;\">10.03</td><td style = \"text-align: right;\">0.0</td><td style = \"text-align: right;\">0.0</td><td style = \"text-align: right;\">0.446</td><td style = \"text-align: right;\">3.78</td><td style = \"text-align: right;\">3.78</td><td style = \"text-align: right;\">113</td><td style = \"text-align: right;\">3.5</td><td style = \"text-align: right;\">6</td><td style = \"text-align: right;\">6</td><td style = \"text-align: right;\">0</td><td style = \"text-align: right;\">1.0</td><td style = \"text-align: right;\">1.0</td><td style = \"text-align: right;\">1.0</td><td style = \"text-align: right;\">0</td><td style = \"text-align: right;\">0</td><td style = \"text-align: right;\">3</td><td style = \"text-align: right;\">2.57</td><td style = \"text-align: right;\">0.05306</td><td style = \"text-align: right;\">false</td><td style = \"text-align: left;\">wec_sdge_natural_gas_fired_combined_cycle_3.0</td></tr><tr><td class = \"rowNumber\" style = \"font-weight: bold; text-align: right;\">6</td><td style = \"text-align: right;\">6</td><td style = \"text-align: left;\">natural_gas_fired_combustion_turbine</td><td style = \"text-align: left;\">WEC_SDGE</td><td style = \"text-align: right;\">91.6</td><td style = \"text-align: right;\">2</td><td style = \"text-align: right;\">45.8</td><td style = \"text-align: right;\">10.8</td><td style = \"text-align: right;\">0</td><td style = \"text-align: left;\">pacific_naturalgas</td><td style = \"text-align: right;\">10.69</td><td style = \"text-align: right;\">0.0</td><td style = \"text-align: right;\">0.0</td><td style = \"text-align: right;\">0.8</td><td style = \"text-align: right;\">3.78</td><td style = \"text-align: right;\">3.78</td><td style = \"text-align: right;\">113</td><td style = \"text-align: right;\">3.5</td><td style = \"text-align: right;\">1</td><td style = \"text-align: right;\">1</td><td style = \"text-align: right;\">0</td><td style = \"text-align: right;\">1.0</td><td style = \"text-align: right;\">1.0</td><td style = \"text-align: right;\">1.0</td><td style = \"text-align: right;\">0</td><td style = \"text-align: right;\">0</td><td style = \"text-align: right;\">1</td><td style = \"text-align: right;\">2.57</td><td style = \"text-align: right;\">0.05306</td><td style = \"text-align: right;\">false</td><td style = \"text-align: left;\">wec_sdge_natural_gas_fired_combustion_turbine_1.0</td></tr><tr><td class = \"rowNumber\" style = \"font-weight: bold; text-align: right;\">7</td><td style = \"text-align: right;\">7</td><td style = \"text-align: left;\">natural_gas_fired_combustion_turbine</td><td style = \"text-align: left;\">WEC_SDGE</td><td style = \"text-align: right;\">49.9</td><td style = \"text-align: right;\">1</td><td style = \"text-align: right;\">49.9</td><td style = \"text-align: right;\">10.8</td><td style = \"text-align: right;\">0</td><td style = \"text-align: left;\">pacific_naturalgas</td><td style = \"text-align: right;\">10.48</td><td style = \"text-align: right;\">0.0</td><td style = \"text-align: right;\">0.0</td><td style = \"text-align: right;\">0.487</td><td style = \"text-align: right;\">3.78</td><td style = \"text-align: right;\">3.78</td><td style = \"text-align: right;\">113</td><td style = \"text-align: right;\">3.5</td><td style = \"text-align: right;\">1</td><td style = \"text-align: right;\">1</td><td style = \"text-align: right;\">0</td><td style = \"text-align: right;\">1.0</td><td style = \"text-align: right;\">1.0</td><td style = \"text-align: right;\">1.0</td><td style = \"text-align: right;\">0</td><td style = \"text-align: right;\">0</td><td style = \"text-align: right;\">2</td><td style = \"text-align: right;\">2.57</td><td style = \"text-align: right;\">0.05306</td><td style = \"text-align: right;\">false</td><td style = \"text-align: left;\">wec_sdge_natural_gas_fired_combustion_turbine_2.0</td></tr><tr><td class = \"rowNumber\" style = \"font-weight: bold; text-align: right;\">8</td><td style = \"text-align: right;\">8</td><td style = \"text-align: left;\">natural_gas_fired_combustion_turbine</td><td style = \"text-align: left;\">WEC_SDGE</td><td style = \"text-align: right;\">48.1</td><td style = \"text-align: right;\">1</td><td style = \"text-align: right;\">48.1</td><td style = \"text-align: right;\">10.8</td><td style = \"text-align: right;\">0</td><td style = \"text-align: left;\">pacific_naturalgas</td><td style = \"text-align: right;\">11.04</td><td style = \"text-align: right;\">0.0</td><td style = \"text-align: right;\">0.0</td><td style = \"text-align: right;\">0.437</td><td style = \"text-align: right;\">3.78</td><td style = \"text-align: right;\">3.78</td><td style = \"text-align: right;\">113</td><td style = \"text-align: right;\">3.5</td><td style = \"text-align: right;\">1</td><td style = \"text-align: right;\">1</td><td style = \"text-align: right;\">0</td><td style = \"text-align: right;\">1.0</td><td style = \"text-align: right;\">1.0</td><td style = \"text-align: right;\">1.0</td><td style = \"text-align: right;\">0</td><td style = \"text-align: right;\">0</td><td style = \"text-align: right;\">3</td><td style = \"text-align: right;\">2.57</td><td style = \"text-align: right;\">0.05306</td><td style = \"text-align: right;\">false</td><td style = \"text-align: left;\">wec_sdge_natural_gas_fired_combustion_turbine_3.0</td></tr><tr><td class = \"rowNumber\" style = \"font-weight: bold; text-align: right;\">9</td><td style = \"text-align: right;\">9</td><td style = \"text-align: left;\">natural_gas_fired_combustion_turbine</td><td style = \"text-align: left;\">WEC_SDGE</td><td style = \"text-align: right;\">34.6</td><td style = \"text-align: right;\">1</td><td style = \"text-align: right;\">34.6</td><td style = \"text-align: right;\">10.8</td><td style = \"text-align: right;\">0</td><td style = \"text-align: left;\">pacific_naturalgas</td><td style = \"text-align: right;\">16.86</td><td style = \"text-align: right;\">0.0</td><td style = \"text-align: right;\">0.0</td><td style = \"text-align: right;\">0.954</td><td style = \"text-align: right;\">3.78</td><td style = \"text-align: right;\">3.78</td><td style = \"text-align: right;\">113</td><td style = \"text-align: right;\">3.5</td><td style = \"text-align: right;\">1</td><td style = \"text-align: right;\">1</td><td style = \"text-align: right;\">0</td><td style = \"text-align: right;\">1.0</td><td style = \"text-align: right;\">1.0</td><td style = \"text-align: right;\">1.0</td><td style = \"text-align: right;\">0</td><td style = \"text-align: right;\">0</td><td style = \"text-align: right;\">4</td><td style = \"text-align: right;\">2.57</td><td style = \"text-align: right;\">0.05306</td><td style = \"text-align: right;\">false</td><td style = \"text-align: left;\">wec_sdge_natural_gas_fired_combustion_turbine_4.0</td></tr><tr><td class = \"rowNumber\" style = \"font-weight: bold; text-align: right;\">10</td><td style = \"text-align: right;\">10</td><td style = \"text-align: left;\">natural_gas_fired_combustion_turbine</td><td style = \"text-align: left;\">WEC_SDGE</td><td style = \"text-align: right;\">96.6</td><td style = \"text-align: right;\">3</td><td style = \"text-align: right;\">32.2</td><td style = \"text-align: right;\">10.8</td><td style = \"text-align: right;\">0</td><td style = \"text-align: left;\">pacific_naturalgas</td><td style = \"text-align: right;\">10.5</td><td style = \"text-align: right;\">0.0</td><td style = \"text-align: right;\">0.0</td><td style = \"text-align: right;\">0.932</td><td style = \"text-align: right;\">3.78</td><td style = \"text-align: right;\">3.78</td><td style = \"text-align: right;\">113</td><td style = \"text-align: right;\">3.5</td><td style = \"text-align: right;\">1</td><td style = \"text-align: right;\">1</td><td style = \"text-align: right;\">0</td><td style = \"text-align: right;\">1.0</td><td style = \"text-align: right;\">1.0</td><td style = \"text-align: right;\">1.0</td><td style = \"text-align: right;\">0</td><td style = \"text-align: right;\">0</td><td style = \"text-align: right;\">5</td><td style = \"text-align: right;\">2.57</td><td style = \"text-align: right;\">0.05306</td><td style = \"text-align: right;\">false</td><td style = \"text-align: left;\">wec_sdge_natural_gas_fired_combustion_turbine_5.0</td></tr><tr><td class = \"rowNumber\" style = \"font-weight: bold; text-align: right;\">11</td><td style = \"text-align: right;\">11</td><td style = \"text-align: left;\">natural_gas_fired_combustion_turbine</td><td style = \"text-align: left;\">WEC_SDGE</td><td style = \"text-align: right;\">98.2</td><td style = \"text-align: right;\">2</td><td style = \"text-align: right;\">49.1</td><td style = \"text-align: right;\">10.8</td><td style = \"text-align: right;\">0</td><td style = \"text-align: left;\">pacific_naturalgas</td><td style = \"text-align: right;\">11.15</td><td style = \"text-align: right;\">0.0</td><td style = \"text-align: right;\">0.0</td><td style = \"text-align: right;\">0.329</td><td style = \"text-align: right;\">3.78</td><td style = \"text-align: right;\">3.78</td><td style = \"text-align: right;\">113</td><td style = \"text-align: right;\">3.5</td><td style = \"text-align: right;\">1</td><td style = \"text-align: right;\">1</td><td style = \"text-align: right;\">0</td><td style = \"text-align: right;\">1.0</td><td style = \"text-align: right;\">1.0</td><td style = \"text-align: right;\">1.0</td><td style = \"text-align: right;\">0</td><td style = \"text-align: right;\">0</td><td style = \"text-align: right;\">6</td><td style = \"text-align: right;\">2.57</td><td style = \"text-align: right;\">0.05306</td><td style = \"text-align: right;\">false</td><td style = \"text-align: left;\">wec_sdge_natural_gas_fired_combustion_turbine_6.0</td></tr><tr><td class = \"rowNumber\" style = \"font-weight: bold; text-align: right;\">12</td><td style = \"text-align: right;\">12</td><td style = \"text-align: left;\">natural_gas_fired_combustion_turbine</td><td style = \"text-align: left;\">WEC_SDGE</td><td style = \"text-align: right;\">98.2</td><td style = \"text-align: right;\">2</td><td style = \"text-align: right;\">49.1</td><td style = \"text-align: right;\">10.8</td><td style = \"text-align: right;\">0</td><td style = \"text-align: left;\">pacific_naturalgas</td><td style = \"text-align: right;\">11.2</td><td style = \"text-align: right;\">0.0</td><td style = \"text-align: right;\">0.0</td><td style = \"text-align: right;\">0.329</td><td style = \"text-align: right;\">3.78</td><td style = \"text-align: right;\">3.78</td><td style = \"text-align: right;\">113</td><td style = \"text-align: right;\">3.5</td><td style = \"text-align: right;\">1</td><td style = \"text-align: right;\">1</td><td style = \"text-align: right;\">0</td><td style = \"text-align: right;\">1.0</td><td style = \"text-align: right;\">1.0</td><td style = \"text-align: right;\">1.0</td><td style = \"text-align: right;\">0</td><td style = \"text-align: right;\">0</td><td style = \"text-align: right;\">7</td><td style = \"text-align: right;\">2.57</td><td style = \"text-align: right;\">0.05306</td><td style = \"text-align: right;\">false</td><td style = \"text-align: left;\">wec_sdge_natural_gas_fired_combustion_turbine_7.0</td></tr><tr><td class = \"rowNumber\" style = \"font-weight: bold; text-align: right;\">13</td><td style = \"text-align: right;\">13</td><td style = \"text-align: left;\">natural_gas_fired_combustion_turbine</td><td style = \"text-align: left;\">WEC_SDGE</td><td style = \"text-align: right;\">48.9</td><td style = \"text-align: right;\">1</td><td style = \"text-align: right;\">48.9</td><td style = \"text-align: right;\">10.8</td><td style = \"text-align: right;\">0</td><td style = \"text-align: left;\">pacific_naturalgas</td><td style = \"text-align: right;\">11.22</td><td style = \"text-align: right;\">0.0</td><td style = \"text-align: right;\">0.0</td><td style = \"text-align: right;\">0.654</td><td style = \"text-align: right;\">3.78</td><td style = \"text-align: right;\">3.78</td><td style = \"text-align: right;\">113</td><td style = \"text-align: right;\">3.5</td><td style = \"text-align: right;\">1</td><td style = \"text-align: right;\">1</td><td style = \"text-align: right;\">0</td><td style = \"text-align: right;\">1.0</td><td style = \"text-align: right;\">1.0</td><td style = \"text-align: right;\">1.0</td><td style = \"text-align: right;\">0</td><td style = \"text-align: right;\">0</td><td style = \"text-align: right;\">8</td><td style = \"text-align: right;\">2.57</td><td style = \"text-align: right;\">0.05306</td><td style = \"text-align: right;\">false</td><td style = \"text-align: left;\">wec_sdge_natural_gas_fired_combustion_turbine_8.0</td></tr><tr><td class = \"rowNumber\" style = \"font-weight: bold; text-align: right;\">14</td><td style = \"text-align: right;\">14</td><td style = \"text-align: left;\">natural_gas_fired_combustion_turbine</td><td style = \"text-align: left;\">WEC_SDGE</td><td style = \"text-align: right;\">48.9</td><td style = \"text-align: right;\">1</td><td style = \"text-align: right;\">48.9</td><td style = \"text-align: right;\">10.8</td><td style = \"text-align: right;\">0</td><td style = \"text-align: left;\">pacific_naturalgas</td><td style = \"text-align: right;\">11.3</td><td style = \"text-align: right;\">0.0</td><td style = \"text-align: right;\">0.0</td><td style = \"text-align: right;\">0.654</td><td style = \"text-align: right;\">3.78</td><td style = \"text-align: right;\">3.78</td><td style = \"text-align: right;\">113</td><td style = \"text-align: right;\">3.5</td><td style = \"text-align: right;\">1</td><td style = \"text-align: right;\">1</td><td style = \"text-align: right;\">0</td><td style = \"text-align: right;\">1.0</td><td style = \"text-align: right;\">1.0</td><td style = \"text-align: right;\">1.0</td><td style = \"text-align: right;\">0</td><td style = \"text-align: right;\">0</td><td style = \"text-align: right;\">9</td><td style = \"text-align: right;\">2.57</td><td style = \"text-align: right;\">0.05306</td><td style = \"text-align: right;\">false</td><td style = \"text-align: left;\">wec_sdge_natural_gas_fired_combustion_turbine_9.0</td></tr><tr><td class = \"rowNumber\" style = \"font-weight: bold; text-align: right;\">15</td><td style = \"text-align: right;\">15</td><td style = \"text-align: left;\">natural_gas_fired_combustion_turbine</td><td style = \"text-align: left;\">WEC_SDGE</td><td style = \"text-align: right;\">51.3</td><td style = \"text-align: right;\">1</td><td style = \"text-align: right;\">51.3</td><td style = \"text-align: right;\">10.8</td><td style = \"text-align: right;\">0</td><td style = \"text-align: left;\">pacific_naturalgas</td><td style = \"text-align: right;\">11.08</td><td style = \"text-align: right;\">0.0</td><td style = \"text-align: right;\">0.0</td><td style = \"text-align: right;\">0.409</td><td style = \"text-align: right;\">3.78</td><td style = \"text-align: right;\">3.78</td><td style = \"text-align: right;\">113</td><td style = \"text-align: right;\">3.5</td><td style = \"text-align: right;\">1</td><td style = \"text-align: right;\">1</td><td style = \"text-align: right;\">0</td><td style = \"text-align: right;\">1.0</td><td style = \"text-align: right;\">1.0</td><td style = \"text-align: right;\">1.0</td><td style = \"text-align: right;\">0</td><td style = \"text-align: right;\">0</td><td style = \"text-align: right;\">10</td><td style = \"text-align: right;\">2.57</td><td style = \"text-align: right;\">0.05306</td><td style = \"text-align: right;\">false</td><td style = \"text-align: left;\">wec_sdge_natural_gas_fired_combustion_turbine_10.0</td></tr><tr><td class = \"rowNumber\" style = \"font-weight: bold; text-align: right;\">16</td><td style = \"text-align: right;\">16</td><td style = \"text-align: left;\">natural_gas_fired_combustion_turbine</td><td style = \"text-align: left;\">WEC_SDGE</td><td style = \"text-align: right;\">51.3</td><td style = \"text-align: right;\">1</td><td style = \"text-align: right;\">51.3</td><td style = \"text-align: right;\">10.8</td><td style = \"text-align: right;\">0</td><td style = \"text-align: left;\">pacific_naturalgas</td><td style = \"text-align: right;\">11.12</td><td style = \"text-align: right;\">0.0</td><td style = \"text-align: right;\">0.0</td><td style = \"text-align: right;\">0.409</td><td style = \"text-align: right;\">3.78</td><td style = \"text-align: right;\">3.78</td><td style = \"text-align: right;\">113</td><td style = \"text-align: right;\">3.5</td><td style = \"text-align: right;\">1</td><td style = \"text-align: right;\">1</td><td style = \"text-align: right;\">0</td><td style = \"text-align: right;\">1.0</td><td style = \"text-align: right;\">1.0</td><td style = \"text-align: right;\">1.0</td><td style = \"text-align: right;\">0</td><td style = \"text-align: right;\">0</td><td style = \"text-align: right;\">11</td><td style = \"text-align: right;\">2.57</td><td style = \"text-align: right;\">0.05306</td><td style = \"text-align: right;\">false</td><td style = \"text-align: left;\">wec_sdge_natural_gas_fired_combustion_turbine_11.0</td></tr><tr><td class = \"rowNumber\" style = \"font-weight: bold; text-align: right;\">17</td><td style = \"text-align: right;\">17</td><td style = \"text-align: left;\">natural_gas_fired_combustion_turbine</td><td style = \"text-align: left;\">WEC_SDGE</td><td style = \"text-align: right;\">98.2</td><td style = \"text-align: right;\">2</td><td style = \"text-align: right;\">49.1</td><td style = \"text-align: right;\">10.8</td><td style = \"text-align: right;\">0</td><td style = \"text-align: left;\">pacific_naturalgas</td><td style = \"text-align: right;\">10.55</td><td style = \"text-align: right;\">0.0</td><td style = \"text-align: right;\">0.0</td><td style = \"text-align: right;\">0.329</td><td style = \"text-align: right;\">3.78</td><td style = \"text-align: right;\">3.78</td><td style = \"text-align: right;\">113</td><td style = \"text-align: right;\">3.5</td><td style = \"text-align: right;\">1</td><td style = \"text-align: right;\">1</td><td style = \"text-align: right;\">0</td><td style = \"text-align: right;\">1.0</td><td style = \"text-align: right;\">1.0</td><td style = \"text-align: right;\">1.0</td><td style = \"text-align: right;\">0</td><td style = \"text-align: right;\">0</td><td style = \"text-align: right;\">12</td><td style = \"text-align: right;\">2.57</td><td style = \"text-align: right;\">0.05306</td><td style = \"text-align: right;\">false</td><td style = \"text-align: left;\">wec_sdge_natural_gas_fired_combustion_turbine_12.0</td></tr><tr><td class = \"rowNumber\" style = \"font-weight: bold; text-align: right;\">18</td><td style = \"text-align: right;\">18</td><td style = \"text-align: left;\">natural_gas_fired_combustion_turbine</td><td style = \"text-align: left;\">WEC_SDGE</td><td style = \"text-align: right;\">98.2</td><td style = \"text-align: right;\">2</td><td style = \"text-align: right;\">49.1</td><td style = \"text-align: right;\">10.8</td><td style = \"text-align: right;\">0</td><td style = \"text-align: left;\">pacific_naturalgas</td><td style = \"text-align: right;\">10.55</td><td style = \"text-align: right;\">0.0</td><td style = \"text-align: right;\">0.0</td><td style = \"text-align: right;\">0.329</td><td style = \"text-align: right;\">3.78</td><td style = \"text-align: right;\">3.78</td><td style = \"text-align: right;\">113</td><td style = \"text-align: right;\">3.5</td><td style = \"text-align: right;\">1</td><td style = \"text-align: right;\">1</td><td style = \"text-align: right;\">0</td><td style = \"text-align: right;\">1.0</td><td style = \"text-align: right;\">1.0</td><td style = \"text-align: right;\">1.0</td><td style = \"text-align: right;\">0</td><td style = \"text-align: right;\">0</td><td style = \"text-align: right;\">13</td><td style = \"text-align: right;\">2.57</td><td style = \"text-align: right;\">0.05306</td><td style = \"text-align: right;\">false</td><td style = \"text-align: left;\">wec_sdge_natural_gas_fired_combustion_turbine_13.0</td></tr><tr><td class = \"rowNumber\" style = \"font-weight: bold; text-align: right;\">19</td><td style = \"text-align: right;\">19</td><td style = \"text-align: left;\">natural_gas_fired_combustion_turbine</td><td style = \"text-align: left;\">WEC_SDGE</td><td style = \"text-align: right;\">98.2</td><td style = \"text-align: right;\">2</td><td style = \"text-align: right;\">49.1</td><td style = \"text-align: right;\">10.8</td><td style = \"text-align: right;\">0</td><td style = \"text-align: left;\">pacific_naturalgas</td><td style = \"text-align: right;\">10.55</td><td style = \"text-align: right;\">0.0</td><td style = \"text-align: right;\">0.0</td><td style = \"text-align: right;\">0.329</td><td style = \"text-align: right;\">3.78</td><td style = \"text-align: right;\">3.78</td><td style = \"text-align: right;\">113</td><td style = \"text-align: right;\">3.5</td><td style = \"text-align: right;\">1</td><td style = \"text-align: right;\">1</td><td style = \"text-align: right;\">0</td><td style = \"text-align: right;\">1.0</td><td style = \"text-align: right;\">1.0</td><td style = \"text-align: right;\">1.0</td><td style = \"text-align: right;\">0</td><td style = \"text-align: right;\">0</td><td style = \"text-align: right;\">14</td><td style = \"text-align: right;\">2.57</td><td style = \"text-align: right;\">0.05306</td><td style = \"text-align: right;\">false</td><td style = \"text-align: left;\">wec_sdge_natural_gas_fired_combustion_turbine_14.0</td></tr><tr><td class = \"rowNumber\" style = \"font-weight: bold; text-align: right;\">20</td><td style = \"text-align: right;\">20</td><td style = \"text-align: left;\">onshore_wind_turbine</td><td style = \"text-align: left;\">WEC_SDGE</td><td style = \"text-align: right;\">200.0</td><td style = \"text-align: right;\">3</td><td style = \"text-align: right;\">64.67</td><td style = \"text-align: right;\">0.0</td><td style = \"text-align: right;\">0</td><td style = \"text-align: left;\">None</td><td style = \"text-align: right;\">9.12</td><td style = \"text-align: right;\">0.0</td><td style = \"text-align: right;\">0.0</td><td style = \"text-align: right;\">0.0</td><td style = \"text-align: right;\">1.0</td><td style = \"text-align: right;\">1.0</td><td style = \"text-align: right;\">0</td><td style = \"text-align: right;\">0.0</td><td style = \"text-align: right;\">0</td><td style = \"text-align: right;\">0</td><td style = \"text-align: right;\">0</td><td style = \"text-align: right;\">1.0</td><td style = \"text-align: right;\">1.0</td><td style = \"text-align: right;\">1.0</td><td style = \"text-align: right;\">0</td><td style = \"text-align: right;\">0</td><td style = \"text-align: right;\">1</td><td style = \"text-align: right;\">0.0</td><td style = \"text-align: right;\">0.0</td><td style = \"text-align: right;\">true</td><td style = \"text-align: left;\">wec_sdge_onshore_wind_turbine_1.0</td></tr><tr><td class = \"rowNumber\" style = \"font-weight: bold; text-align: right;\">21</td><td style = \"text-align: right;\">21</td><td style = \"text-align: left;\">small_hydroelectric</td><td style = \"text-align: left;\">WEC_SDGE</td><td style = \"text-align: right;\">50.0</td><td style = \"text-align: right;\">6</td><td style = \"text-align: right;\">1.22</td><td style = \"text-align: right;\">0.0</td><td style = \"text-align: right;\">0</td><td style = \"text-align: left;\">None</td><td style = \"text-align: right;\">9.12</td><td style = \"text-align: right;\">0.002</td><td style = \"text-align: right;\">0.001</td><td style = \"text-align: right;\">0.385</td><td style = \"text-align: right;\">1.0</td><td style = \"text-align: right;\">1.0</td><td style = \"text-align: right;\">0</td><td style = \"text-align: right;\">0.0</td><td style = \"text-align: right;\">0</td><td style = \"text-align: right;\">0</td><td style = \"text-align: right;\">0</td><td style = \"text-align: right;\">1.0</td><td style = \"text-align: right;\">1.0</td><td style = \"text-align: right;\">1.0</td><td style = \"text-align: right;\">0</td><td style = \"text-align: right;\">0</td><td style = \"text-align: right;\">1</td><td style = \"text-align: right;\">0.0</td><td style = \"text-align: right;\">0.0</td><td style = \"text-align: right;\">true</td><td style = \"text-align: left;\">wec_sdge_small_hydroelectric_1.0</td></tr><tr><td class = \"rowNumber\" style = \"font-weight: bold; text-align: right;\">22</td><td style = \"text-align: right;\">22</td><td style = \"text-align: left;\">solar_photovoltaic</td><td style = \"text-align: left;\">WEC_SDGE</td><td style = \"text-align: right;\">2500.0</td><td style = \"text-align: right;\">20</td><td style = \"text-align: right;\">8.48</td><td style = \"text-align: right;\">0.0</td><td style = \"text-align: right;\">0</td><td style = \"text-align: left;\">None</td><td style = \"text-align: right;\">9.16</td><td style = \"text-align: right;\">0.0</td><td style = \"text-align: right;\">0.021</td><td style = \"text-align: right;\">0.0</td><td style = \"text-align: right;\">1.0</td><td style = \"text-align: right;\">1.0</td><td style = \"text-align: right;\">0</td><td style = \"text-align: right;\">0.0</td><td style = \"text-align: right;\">0</td><td style = \"text-align: right;\">0</td><td style = \"text-align: right;\">0</td><td style = \"text-align: right;\">1.0</td><td style = \"text-align: right;\">1.0</td><td style = \"text-align: right;\">1.0</td><td style = \"text-align: right;\">0</td><td style = \"text-align: right;\">0</td><td style = \"text-align: right;\">1</td><td style = \"text-align: right;\">0.0</td><td style = \"text-align: right;\">0.0</td><td style = \"text-align: right;\">true</td><td style = \"text-align: left;\">wec_sdge_solar_photovoltaic_1.0</td></tr></tbody></table></div>"
      ],
      "text/latex": [
       "\\begin{tabular}{r|cccccc}\n",
       "\t& r\\_id & resource & region & existing\\_cap\\_mw & num\\_units & \\\\\n",
       "\t\\hline\n",
       "\t& Int64? & String? & String15? & Float64? & Int64? & \\\\\n",
       "\t\\hline\n",
       "\t1 & 1 & biomass & WEC\\_SDGE & 21.4 & 20 & $\\dots$ \\\\\n",
       "\t2 & 2 & hydroelectric\\_pumped\\_storage & WEC\\_SDGE & 100.0 & 2 & $\\dots$ \\\\\n",
       "\t3 & 3 & natural\\_gas\\_fired\\_combined\\_cycle & WEC\\_SDGE & 600.0 & 1 & $\\dots$ \\\\\n",
       "\t4 & 4 & natural\\_gas\\_fired\\_combined\\_cycle & WEC\\_SDGE & 500.0 & 1 & $\\dots$ \\\\\n",
       "\t5 & 5 & natural\\_gas\\_fired\\_combined\\_cycle & WEC\\_SDGE & 336.0 & 3 & $\\dots$ \\\\\n",
       "\t6 & 6 & natural\\_gas\\_fired\\_combustion\\_turbine & WEC\\_SDGE & 91.6 & 2 & $\\dots$ \\\\\n",
       "\t7 & 7 & natural\\_gas\\_fired\\_combustion\\_turbine & WEC\\_SDGE & 49.9 & 1 & $\\dots$ \\\\\n",
       "\t8 & 8 & natural\\_gas\\_fired\\_combustion\\_turbine & WEC\\_SDGE & 48.1 & 1 & $\\dots$ \\\\\n",
       "\t9 & 9 & natural\\_gas\\_fired\\_combustion\\_turbine & WEC\\_SDGE & 34.6 & 1 & $\\dots$ \\\\\n",
       "\t10 & 10 & natural\\_gas\\_fired\\_combustion\\_turbine & WEC\\_SDGE & 96.6 & 3 & $\\dots$ \\\\\n",
       "\t11 & 11 & natural\\_gas\\_fired\\_combustion\\_turbine & WEC\\_SDGE & 98.2 & 2 & $\\dots$ \\\\\n",
       "\t12 & 12 & natural\\_gas\\_fired\\_combustion\\_turbine & WEC\\_SDGE & 98.2 & 2 & $\\dots$ \\\\\n",
       "\t13 & 13 & natural\\_gas\\_fired\\_combustion\\_turbine & WEC\\_SDGE & 48.9 & 1 & $\\dots$ \\\\\n",
       "\t14 & 14 & natural\\_gas\\_fired\\_combustion\\_turbine & WEC\\_SDGE & 48.9 & 1 & $\\dots$ \\\\\n",
       "\t15 & 15 & natural\\_gas\\_fired\\_combustion\\_turbine & WEC\\_SDGE & 51.3 & 1 & $\\dots$ \\\\\n",
       "\t16 & 16 & natural\\_gas\\_fired\\_combustion\\_turbine & WEC\\_SDGE & 51.3 & 1 & $\\dots$ \\\\\n",
       "\t17 & 17 & natural\\_gas\\_fired\\_combustion\\_turbine & WEC\\_SDGE & 98.2 & 2 & $\\dots$ \\\\\n",
       "\t18 & 18 & natural\\_gas\\_fired\\_combustion\\_turbine & WEC\\_SDGE & 98.2 & 2 & $\\dots$ \\\\\n",
       "\t19 & 19 & natural\\_gas\\_fired\\_combustion\\_turbine & WEC\\_SDGE & 98.2 & 2 & $\\dots$ \\\\\n",
       "\t20 & 20 & onshore\\_wind\\_turbine & WEC\\_SDGE & 200.0 & 3 & $\\dots$ \\\\\n",
       "\t21 & 21 & small\\_hydroelectric & WEC\\_SDGE & 50.0 & 6 & $\\dots$ \\\\\n",
       "\t22 & 22 & solar\\_photovoltaic & WEC\\_SDGE & 2500.0 & 20 & $\\dots$ \\\\\n",
       "\\end{tabular}\n"
      ],
      "text/plain": [
       "\u001b[1m22×30 DataFrame\u001b[0m\n",
       "\u001b[1m Row \u001b[0m│\u001b[1m r_id   \u001b[0m\u001b[1m resource                          \u001b[0m\u001b[1m region    \u001b[0m\u001b[1m existing_cap_mw \u001b[0m\u001b[1m \u001b[0m ⋯\n",
       "     │\u001b[90m Int64? \u001b[0m\u001b[90m String?                           \u001b[0m\u001b[90m String15? \u001b[0m\u001b[90m Float64?        \u001b[0m\u001b[90m \u001b[0m ⋯\n",
       "─────┼──────────────────────────────────────────────────────────────────────────\n",
       "   1 │      1  biomass                            WEC_SDGE              21.4   ⋯\n",
       "   2 │      2  hydroelectric_pumped_storage       WEC_SDGE             100.0\n",
       "   3 │      3  natural_gas_fired_combined_cycle   WEC_SDGE             600.0\n",
       "   4 │      4  natural_gas_fired_combined_cycle   WEC_SDGE             500.0\n",
       "   5 │      5  natural_gas_fired_combined_cycle   WEC_SDGE             336.0   ⋯\n",
       "   6 │      6  natural_gas_fired_combustion_tur…  WEC_SDGE              91.6\n",
       "   7 │      7  natural_gas_fired_combustion_tur…  WEC_SDGE              49.9\n",
       "   8 │      8  natural_gas_fired_combustion_tur…  WEC_SDGE              48.1\n",
       "   9 │      9  natural_gas_fired_combustion_tur…  WEC_SDGE              34.6   ⋯\n",
       "  10 │     10  natural_gas_fired_combustion_tur…  WEC_SDGE              96.6\n",
       "  11 │     11  natural_gas_fired_combustion_tur…  WEC_SDGE              98.2\n",
       "  12 │     12  natural_gas_fired_combustion_tur…  WEC_SDGE              98.2\n",
       "  13 │     13  natural_gas_fired_combustion_tur…  WEC_SDGE              48.9   ⋯\n",
       "  14 │     14  natural_gas_fired_combustion_tur…  WEC_SDGE              48.9\n",
       "  15 │     15  natural_gas_fired_combustion_tur…  WEC_SDGE              51.3\n",
       "  16 │     16  natural_gas_fired_combustion_tur…  WEC_SDGE              51.3\n",
       "  17 │     17  natural_gas_fired_combustion_tur…  WEC_SDGE              98.2   ⋯\n",
       "  18 │     18  natural_gas_fired_combustion_tur…  WEC_SDGE              98.2\n",
       "  19 │     19  natural_gas_fired_combustion_tur…  WEC_SDGE              98.2\n",
       "  20 │     20  onshore_wind_turbine               WEC_SDGE             200.0\n",
       "  21 │     21  small_hydroelectric                WEC_SDGE              50.0   ⋯\n",
       "  22 │     22  solar_photovoltaic                 WEC_SDGE            2500.0\n",
       "\u001b[36m                                                              26 columns omitted\u001b[0m"
      ]
     },
     "execution_count": 18,
     "metadata": {},
     "output_type": "execute_result"
    }
   ],
   "source": [
    "gen_df_sens = copy(gen_df)"
   ]
  },
  {
   "cell_type": "code",
   "execution_count": 45,
   "metadata": {},
   "outputs": [],
   "source": [
    "#i = gen_df.r_id\n",
    "\n",
    "sizei = size(gen_df_sens.r_id)[1]\n",
    "\n",
    "for i in [gen_df_sens.r_id]\n",
    "    gen_df_sens[gen_df_sens.r_id .==i, :start_cost_per_mw] .= 0\n",
    "    #gen_df_sens[gen_df_sens.r_id.==i,\n",
    "    #:start_cost_per_mw] .= 0\n",
    "end"
   ]
  },
  {
   "cell_type": "code",
   "execution_count": 46,
   "metadata": {},
   "outputs": [
    {
     "data": {
      "text/html": [
       "<div><div style = \"float: left;\"><span>22×30 DataFrame</span></div><div style = \"clear: both;\"></div></div><div class = \"data-frame\" style = \"overflow-x: scroll;\"><table class = \"data-frame\" style = \"margin-bottom: 6px;\"><thead><tr class = \"header\"><th class = \"rowNumber\" style = \"font-weight: bold; text-align: right;\">Row</th><th style = \"text-align: left;\">r_id</th><th style = \"text-align: left;\">resource</th><th style = \"text-align: left;\">region</th><th style = \"text-align: left;\">existing_cap_mw</th><th style = \"text-align: left;\">num_units</th><th style = \"text-align: left;\">cap_size</th><th style = \"text-align: left;\">var_om_cost_per_mwh</th><th style = \"text-align: left;\">var_om_cost_per_mwh_in</th><th style = \"text-align: left;\">fuel</th><th style = \"text-align: left;\">heat_rate_mmbtu_per_mwh</th><th style = \"text-align: left;\">heat_rate_mmbtu_mwh_iqr</th><th style = \"text-align: left;\">heat_rate_mmbtu_mwh_std</th><th style = \"text-align: left;\">min_power</th><th style = \"text-align: left;\">ramp_up_percentage</th><th style = \"text-align: left;\">ramp_dn_percentage</th><th style = \"text-align: left;\">start_cost_per_mw</th><th style = \"text-align: left;\">start_fuel_mmbtu_per_mw</th><th style = \"text-align: left;\">up_time</th><th style = \"text-align: left;\">down_time</th><th style = \"text-align: left;\">self_disch</th><th style = \"text-align: left;\">eff_up</th><th style = \"text-align: left;\">eff_down</th><th style = \"text-align: left;\">ratio_power_to_energy</th><th style = \"text-align: left;\">min_duration</th><th style = \"text-align: left;\">max_duration</th><th style = \"text-align: left;\">cluster</th><th style = \"text-align: left;\">fuel_cost</th><th style = \"text-align: left;\">co2_content_tons_per_mmbtu</th><th style = \"text-align: left;\">is_variable</th><th style = \"text-align: left;\">gen_full</th></tr><tr class = \"subheader headerLastRow\"><th class = \"rowNumber\" style = \"font-weight: bold; text-align: right;\"></th><th title = \"Union{Missing, Int64}\" style = \"text-align: left;\">Int64?</th><th title = \"Union{Missing, String}\" style = \"text-align: left;\">String?</th><th title = \"Union{Missing, String15}\" style = \"text-align: left;\">String15?</th><th title = \"Union{Missing, Float64}\" style = \"text-align: left;\">Float64?</th><th title = \"Union{Missing, Int64}\" style = \"text-align: left;\">Int64?</th><th title = \"Union{Missing, Float64}\" style = \"text-align: left;\">Float64?</th><th title = \"Union{Missing, Float64}\" style = \"text-align: left;\">Float64?</th><th title = \"Union{Missing, Int64}\" style = \"text-align: left;\">Int64?</th><th title = \"String31\" style = \"text-align: left;\">String31</th><th title = \"Union{Missing, Float64}\" style = \"text-align: left;\">Float64?</th><th title = \"Union{Missing, Float64}\" style = \"text-align: left;\">Float64?</th><th title = \"Union{Missing, Float64}\" style = \"text-align: left;\">Float64?</th><th title = \"Union{Missing, Float64}\" style = \"text-align: left;\">Float64?</th><th title = \"Union{Missing, Float64}\" style = \"text-align: left;\">Float64?</th><th title = \"Union{Missing, Float64}\" style = \"text-align: left;\">Float64?</th><th title = \"Union{Missing, Int64}\" style = \"text-align: left;\">Int64?</th><th title = \"Union{Missing, Float64}\" style = \"text-align: left;\">Float64?</th><th title = \"Union{Missing, Int64}\" style = \"text-align: left;\">Int64?</th><th title = \"Union{Missing, Int64}\" style = \"text-align: left;\">Int64?</th><th title = \"Union{Missing, Int64}\" style = \"text-align: left;\">Int64?</th><th title = \"Union{Missing, Float64}\" style = \"text-align: left;\">Float64?</th><th title = \"Union{Missing, Float64}\" style = \"text-align: left;\">Float64?</th><th title = \"Union{Missing, Float64}\" style = \"text-align: left;\">Float64?</th><th title = \"Union{Missing, Int64}\" style = \"text-align: left;\">Int64?</th><th title = \"Union{Missing, Int64}\" style = \"text-align: left;\">Int64?</th><th title = \"Union{Missing, Int64}\" style = \"text-align: left;\">Int64?</th><th title = \"Union{Missing, Float64}\" style = \"text-align: left;\">Float64?</th><th title = \"Union{Missing, Float64}\" style = \"text-align: left;\">Float64?</th><th title = \"Bool\" style = \"text-align: left;\">Bool</th><th title = \"String\" style = \"text-align: left;\">String</th></tr></thead><tbody><tr><td class = \"rowNumber\" style = \"font-weight: bold; text-align: right;\">1</td><td style = \"text-align: right;\">1</td><td style = \"text-align: left;\">biomass</td><td style = \"text-align: left;\">WEC_SDGE</td><td style = \"text-align: right;\">21.4</td><td style = \"text-align: right;\">20</td><td style = \"text-align: right;\">1.07</td><td style = \"text-align: right;\">5.234</td><td style = \"text-align: right;\">0</td><td style = \"text-align: left;\">None</td><td style = \"text-align: right;\">12.76</td><td style = \"text-align: right;\">1.471</td><td style = \"text-align: right;\">4.147</td><td style = \"text-align: right;\">0.71</td><td style = \"text-align: right;\">1.0</td><td style = \"text-align: right;\">1.0</td><td style = \"text-align: right;\">0</td><td style = \"text-align: right;\">0.0</td><td style = \"text-align: right;\">0</td><td style = \"text-align: right;\">0</td><td style = \"text-align: right;\">0</td><td style = \"text-align: right;\">1.0</td><td style = \"text-align: right;\">1.0</td><td style = \"text-align: right;\">1.0</td><td style = \"text-align: right;\">0</td><td style = \"text-align: right;\">0</td><td style = \"text-align: right;\">1</td><td style = \"text-align: right;\">0.0</td><td style = \"text-align: right;\">0.0</td><td style = \"text-align: right;\">false</td><td style = \"text-align: left;\">wec_sdge_biomass_1.0</td></tr><tr><td class = \"rowNumber\" style = \"font-weight: bold; text-align: right;\">2</td><td style = \"text-align: right;\">2</td><td style = \"text-align: left;\">hydroelectric_pumped_storage</td><td style = \"text-align: left;\">WEC_SDGE</td><td style = \"text-align: right;\">100.0</td><td style = \"text-align: right;\">2</td><td style = \"text-align: right;\">21.0</td><td style = \"text-align: right;\">0.0</td><td style = \"text-align: right;\">0</td><td style = \"text-align: left;\">None</td><td style = \"text-align: right;\">0.0</td><td style = \"text-align: right;\">0.0</td><td style = \"text-align: right;\">0.0</td><td style = \"text-align: right;\">0.0</td><td style = \"text-align: right;\">1.0</td><td style = \"text-align: right;\">1.0</td><td style = \"text-align: right;\">0</td><td style = \"text-align: right;\">0.0</td><td style = \"text-align: right;\">0</td><td style = \"text-align: right;\">0</td><td style = \"text-align: right;\">0</td><td style = \"text-align: right;\">0.866</td><td style = \"text-align: right;\">0.866</td><td style = \"text-align: right;\">0.25</td><td style = \"text-align: right;\">0</td><td style = \"text-align: right;\">0</td><td style = \"text-align: right;\">1</td><td style = \"text-align: right;\">0.0</td><td style = \"text-align: right;\">0.0</td><td style = \"text-align: right;\">false</td><td style = \"text-align: left;\">wec_sdge_hydroelectric_pumped_storage_1.0</td></tr><tr><td class = \"rowNumber\" style = \"font-weight: bold; text-align: right;\">3</td><td style = \"text-align: right;\">3</td><td style = \"text-align: left;\">natural_gas_fired_combined_cycle</td><td style = \"text-align: left;\">WEC_SDGE</td><td style = \"text-align: right;\">600.0</td><td style = \"text-align: right;\">1</td><td style = \"text-align: right;\">607.1</td><td style = \"text-align: right;\">3.4</td><td style = \"text-align: right;\">0</td><td style = \"text-align: left;\">pacific_naturalgas</td><td style = \"text-align: right;\">7.52</td><td style = \"text-align: right;\">0.0</td><td style = \"text-align: right;\">0.0</td><td style = \"text-align: right;\">0.362</td><td style = \"text-align: right;\">0.4</td><td style = \"text-align: right;\">0.4</td><td style = \"text-align: right;\">0</td><td style = \"text-align: right;\">2.0</td><td style = \"text-align: right;\">6</td><td style = \"text-align: right;\">6</td><td style = \"text-align: right;\">0</td><td style = \"text-align: right;\">1.0</td><td style = \"text-align: right;\">1.0</td><td style = \"text-align: right;\">1.0</td><td style = \"text-align: right;\">0</td><td style = \"text-align: right;\">0</td><td style = \"text-align: right;\">1</td><td style = \"text-align: right;\">2.57</td><td style = \"text-align: right;\">0.05306</td><td style = \"text-align: right;\">false</td><td style = \"text-align: left;\">wec_sdge_natural_gas_fired_combined_cycle_1.0</td></tr><tr><td class = \"rowNumber\" style = \"font-weight: bold; text-align: right;\">4</td><td style = \"text-align: right;\">4</td><td style = \"text-align: left;\">natural_gas_fired_combined_cycle</td><td style = \"text-align: left;\">WEC_SDGE</td><td style = \"text-align: right;\">500.0</td><td style = \"text-align: right;\">1</td><td style = \"text-align: right;\">570.0</td><td style = \"text-align: right;\">3.4</td><td style = \"text-align: right;\">0</td><td style = \"text-align: left;\">pacific_naturalgas</td><td style = \"text-align: right;\">7.15</td><td style = \"text-align: right;\">0.0</td><td style = \"text-align: right;\">0.0</td><td style = \"text-align: right;\">0.351</td><td style = \"text-align: right;\">0.4</td><td style = \"text-align: right;\">0.4</td><td style = \"text-align: right;\">0</td><td style = \"text-align: right;\">2.0</td><td style = \"text-align: right;\">6</td><td style = \"text-align: right;\">6</td><td style = \"text-align: right;\">0</td><td style = \"text-align: right;\">1.0</td><td style = \"text-align: right;\">1.0</td><td style = \"text-align: right;\">1.0</td><td style = \"text-align: right;\">0</td><td style = \"text-align: right;\">0</td><td style = \"text-align: right;\">2</td><td style = \"text-align: right;\">2.57</td><td style = \"text-align: right;\">0.05306</td><td style = \"text-align: right;\">false</td><td style = \"text-align: left;\">wec_sdge_natural_gas_fired_combined_cycle_2.0</td></tr><tr><td class = \"rowNumber\" style = \"font-weight: bold; text-align: right;\">5</td><td style = \"text-align: right;\">5</td><td style = \"text-align: left;\">natural_gas_fired_combined_cycle</td><td style = \"text-align: left;\">WEC_SDGE</td><td style = \"text-align: right;\">336.0</td><td style = \"text-align: right;\">3</td><td style = \"text-align: right;\">112.0</td><td style = \"text-align: right;\">10.8</td><td style = \"text-align: right;\">0</td><td style = \"text-align: left;\">pacific_naturalgas</td><td style = \"text-align: right;\">10.03</td><td style = \"text-align: right;\">0.0</td><td style = \"text-align: right;\">0.0</td><td style = \"text-align: right;\">0.446</td><td style = \"text-align: right;\">3.78</td><td style = \"text-align: right;\">3.78</td><td style = \"text-align: right;\">0</td><td style = \"text-align: right;\">3.5</td><td style = \"text-align: right;\">6</td><td style = \"text-align: right;\">6</td><td style = \"text-align: right;\">0</td><td style = \"text-align: right;\">1.0</td><td style = \"text-align: right;\">1.0</td><td style = \"text-align: right;\">1.0</td><td style = \"text-align: right;\">0</td><td style = \"text-align: right;\">0</td><td style = \"text-align: right;\">3</td><td style = \"text-align: right;\">2.57</td><td style = \"text-align: right;\">0.05306</td><td style = \"text-align: right;\">false</td><td style = \"text-align: left;\">wec_sdge_natural_gas_fired_combined_cycle_3.0</td></tr><tr><td class = \"rowNumber\" style = \"font-weight: bold; text-align: right;\">6</td><td style = \"text-align: right;\">6</td><td style = \"text-align: left;\">natural_gas_fired_combustion_turbine</td><td style = \"text-align: left;\">WEC_SDGE</td><td style = \"text-align: right;\">91.6</td><td style = \"text-align: right;\">2</td><td style = \"text-align: right;\">45.8</td><td style = \"text-align: right;\">10.8</td><td style = \"text-align: right;\">0</td><td style = \"text-align: left;\">pacific_naturalgas</td><td style = \"text-align: right;\">10.69</td><td style = \"text-align: right;\">0.0</td><td style = \"text-align: right;\">0.0</td><td style = \"text-align: right;\">0.8</td><td style = \"text-align: right;\">3.78</td><td style = \"text-align: right;\">3.78</td><td style = \"text-align: right;\">0</td><td style = \"text-align: right;\">3.5</td><td style = \"text-align: right;\">1</td><td style = \"text-align: right;\">1</td><td style = \"text-align: right;\">0</td><td style = \"text-align: right;\">1.0</td><td style = \"text-align: right;\">1.0</td><td style = \"text-align: right;\">1.0</td><td style = \"text-align: right;\">0</td><td style = \"text-align: right;\">0</td><td style = \"text-align: right;\">1</td><td style = \"text-align: right;\">2.57</td><td style = \"text-align: right;\">0.05306</td><td style = \"text-align: right;\">false</td><td style = \"text-align: left;\">wec_sdge_natural_gas_fired_combustion_turbine_1.0</td></tr><tr><td class = \"rowNumber\" style = \"font-weight: bold; text-align: right;\">7</td><td style = \"text-align: right;\">7</td><td style = \"text-align: left;\">natural_gas_fired_combustion_turbine</td><td style = \"text-align: left;\">WEC_SDGE</td><td style = \"text-align: right;\">49.9</td><td style = \"text-align: right;\">1</td><td style = \"text-align: right;\">49.9</td><td style = \"text-align: right;\">10.8</td><td style = \"text-align: right;\">0</td><td style = \"text-align: left;\">pacific_naturalgas</td><td style = \"text-align: right;\">10.48</td><td style = \"text-align: right;\">0.0</td><td style = \"text-align: right;\">0.0</td><td style = \"text-align: right;\">0.487</td><td style = \"text-align: right;\">3.78</td><td style = \"text-align: right;\">3.78</td><td style = \"text-align: right;\">0</td><td style = \"text-align: right;\">3.5</td><td style = \"text-align: right;\">1</td><td style = \"text-align: right;\">1</td><td style = \"text-align: right;\">0</td><td style = \"text-align: right;\">1.0</td><td style = \"text-align: right;\">1.0</td><td style = \"text-align: right;\">1.0</td><td style = \"text-align: right;\">0</td><td style = \"text-align: right;\">0</td><td style = \"text-align: right;\">2</td><td style = \"text-align: right;\">2.57</td><td style = \"text-align: right;\">0.05306</td><td style = \"text-align: right;\">false</td><td style = \"text-align: left;\">wec_sdge_natural_gas_fired_combustion_turbine_2.0</td></tr><tr><td class = \"rowNumber\" style = \"font-weight: bold; text-align: right;\">8</td><td style = \"text-align: right;\">8</td><td style = \"text-align: left;\">natural_gas_fired_combustion_turbine</td><td style = \"text-align: left;\">WEC_SDGE</td><td style = \"text-align: right;\">48.1</td><td style = \"text-align: right;\">1</td><td style = \"text-align: right;\">48.1</td><td style = \"text-align: right;\">10.8</td><td style = \"text-align: right;\">0</td><td style = \"text-align: left;\">pacific_naturalgas</td><td style = \"text-align: right;\">11.04</td><td style = \"text-align: right;\">0.0</td><td style = \"text-align: right;\">0.0</td><td style = \"text-align: right;\">0.437</td><td style = \"text-align: right;\">3.78</td><td style = \"text-align: right;\">3.78</td><td style = \"text-align: right;\">0</td><td style = \"text-align: right;\">3.5</td><td style = \"text-align: right;\">1</td><td style = \"text-align: right;\">1</td><td style = \"text-align: right;\">0</td><td style = \"text-align: right;\">1.0</td><td style = \"text-align: right;\">1.0</td><td style = \"text-align: right;\">1.0</td><td style = \"text-align: right;\">0</td><td style = \"text-align: right;\">0</td><td style = \"text-align: right;\">3</td><td style = \"text-align: right;\">2.57</td><td style = \"text-align: right;\">0.05306</td><td style = \"text-align: right;\">false</td><td style = \"text-align: left;\">wec_sdge_natural_gas_fired_combustion_turbine_3.0</td></tr><tr><td class = \"rowNumber\" style = \"font-weight: bold; text-align: right;\">9</td><td style = \"text-align: right;\">9</td><td style = \"text-align: left;\">natural_gas_fired_combustion_turbine</td><td style = \"text-align: left;\">WEC_SDGE</td><td style = \"text-align: right;\">34.6</td><td style = \"text-align: right;\">1</td><td style = \"text-align: right;\">34.6</td><td style = \"text-align: right;\">10.8</td><td style = \"text-align: right;\">0</td><td style = \"text-align: left;\">pacific_naturalgas</td><td style = \"text-align: right;\">16.86</td><td style = \"text-align: right;\">0.0</td><td style = \"text-align: right;\">0.0</td><td style = \"text-align: right;\">0.954</td><td style = \"text-align: right;\">3.78</td><td style = \"text-align: right;\">3.78</td><td style = \"text-align: right;\">0</td><td style = \"text-align: right;\">3.5</td><td style = \"text-align: right;\">1</td><td style = \"text-align: right;\">1</td><td style = \"text-align: right;\">0</td><td style = \"text-align: right;\">1.0</td><td style = \"text-align: right;\">1.0</td><td style = \"text-align: right;\">1.0</td><td style = \"text-align: right;\">0</td><td style = \"text-align: right;\">0</td><td style = \"text-align: right;\">4</td><td style = \"text-align: right;\">2.57</td><td style = \"text-align: right;\">0.05306</td><td style = \"text-align: right;\">false</td><td style = \"text-align: left;\">wec_sdge_natural_gas_fired_combustion_turbine_4.0</td></tr><tr><td class = \"rowNumber\" style = \"font-weight: bold; text-align: right;\">10</td><td style = \"text-align: right;\">10</td><td style = \"text-align: left;\">natural_gas_fired_combustion_turbine</td><td style = \"text-align: left;\">WEC_SDGE</td><td style = \"text-align: right;\">96.6</td><td style = \"text-align: right;\">3</td><td style = \"text-align: right;\">32.2</td><td style = \"text-align: right;\">10.8</td><td style = \"text-align: right;\">0</td><td style = \"text-align: left;\">pacific_naturalgas</td><td style = \"text-align: right;\">10.5</td><td style = \"text-align: right;\">0.0</td><td style = \"text-align: right;\">0.0</td><td style = \"text-align: right;\">0.932</td><td style = \"text-align: right;\">3.78</td><td style = \"text-align: right;\">3.78</td><td style = \"text-align: right;\">0</td><td style = \"text-align: right;\">3.5</td><td style = \"text-align: right;\">1</td><td style = \"text-align: right;\">1</td><td style = \"text-align: right;\">0</td><td style = \"text-align: right;\">1.0</td><td style = \"text-align: right;\">1.0</td><td style = \"text-align: right;\">1.0</td><td style = \"text-align: right;\">0</td><td style = \"text-align: right;\">0</td><td style = \"text-align: right;\">5</td><td style = \"text-align: right;\">2.57</td><td style = \"text-align: right;\">0.05306</td><td style = \"text-align: right;\">false</td><td style = \"text-align: left;\">wec_sdge_natural_gas_fired_combustion_turbine_5.0</td></tr><tr><td class = \"rowNumber\" style = \"font-weight: bold; text-align: right;\">11</td><td style = \"text-align: right;\">11</td><td style = \"text-align: left;\">natural_gas_fired_combustion_turbine</td><td style = \"text-align: left;\">WEC_SDGE</td><td style = \"text-align: right;\">98.2</td><td style = \"text-align: right;\">2</td><td style = \"text-align: right;\">49.1</td><td style = \"text-align: right;\">10.8</td><td style = \"text-align: right;\">0</td><td style = \"text-align: left;\">pacific_naturalgas</td><td style = \"text-align: right;\">11.15</td><td style = \"text-align: right;\">0.0</td><td style = \"text-align: right;\">0.0</td><td style = \"text-align: right;\">0.329</td><td style = \"text-align: right;\">3.78</td><td style = \"text-align: right;\">3.78</td><td style = \"text-align: right;\">0</td><td style = \"text-align: right;\">3.5</td><td style = \"text-align: right;\">1</td><td style = \"text-align: right;\">1</td><td style = \"text-align: right;\">0</td><td style = \"text-align: right;\">1.0</td><td style = \"text-align: right;\">1.0</td><td style = \"text-align: right;\">1.0</td><td style = \"text-align: right;\">0</td><td style = \"text-align: right;\">0</td><td style = \"text-align: right;\">6</td><td style = \"text-align: right;\">2.57</td><td style = \"text-align: right;\">0.05306</td><td style = \"text-align: right;\">false</td><td style = \"text-align: left;\">wec_sdge_natural_gas_fired_combustion_turbine_6.0</td></tr><tr><td class = \"rowNumber\" style = \"font-weight: bold; text-align: right;\">12</td><td style = \"text-align: right;\">12</td><td style = \"text-align: left;\">natural_gas_fired_combustion_turbine</td><td style = \"text-align: left;\">WEC_SDGE</td><td style = \"text-align: right;\">98.2</td><td style = \"text-align: right;\">2</td><td style = \"text-align: right;\">49.1</td><td style = \"text-align: right;\">10.8</td><td style = \"text-align: right;\">0</td><td style = \"text-align: left;\">pacific_naturalgas</td><td style = \"text-align: right;\">11.2</td><td style = \"text-align: right;\">0.0</td><td style = \"text-align: right;\">0.0</td><td style = \"text-align: right;\">0.329</td><td style = \"text-align: right;\">3.78</td><td style = \"text-align: right;\">3.78</td><td style = \"text-align: right;\">0</td><td style = \"text-align: right;\">3.5</td><td style = \"text-align: right;\">1</td><td style = \"text-align: right;\">1</td><td style = \"text-align: right;\">0</td><td style = \"text-align: right;\">1.0</td><td style = \"text-align: right;\">1.0</td><td style = \"text-align: right;\">1.0</td><td style = \"text-align: right;\">0</td><td style = \"text-align: right;\">0</td><td style = \"text-align: right;\">7</td><td style = \"text-align: right;\">2.57</td><td style = \"text-align: right;\">0.05306</td><td style = \"text-align: right;\">false</td><td style = \"text-align: left;\">wec_sdge_natural_gas_fired_combustion_turbine_7.0</td></tr><tr><td class = \"rowNumber\" style = \"font-weight: bold; text-align: right;\">13</td><td style = \"text-align: right;\">13</td><td style = \"text-align: left;\">natural_gas_fired_combustion_turbine</td><td style = \"text-align: left;\">WEC_SDGE</td><td style = \"text-align: right;\">48.9</td><td style = \"text-align: right;\">1</td><td style = \"text-align: right;\">48.9</td><td style = \"text-align: right;\">10.8</td><td style = \"text-align: right;\">0</td><td style = \"text-align: left;\">pacific_naturalgas</td><td style = \"text-align: right;\">11.22</td><td style = \"text-align: right;\">0.0</td><td style = \"text-align: right;\">0.0</td><td style = \"text-align: right;\">0.654</td><td style = \"text-align: right;\">3.78</td><td style = \"text-align: right;\">3.78</td><td style = \"text-align: right;\">0</td><td style = \"text-align: right;\">3.5</td><td style = \"text-align: right;\">1</td><td style = \"text-align: right;\">1</td><td style = \"text-align: right;\">0</td><td style = \"text-align: right;\">1.0</td><td style = \"text-align: right;\">1.0</td><td style = \"text-align: right;\">1.0</td><td style = \"text-align: right;\">0</td><td style = \"text-align: right;\">0</td><td style = \"text-align: right;\">8</td><td style = \"text-align: right;\">2.57</td><td style = \"text-align: right;\">0.05306</td><td style = \"text-align: right;\">false</td><td style = \"text-align: left;\">wec_sdge_natural_gas_fired_combustion_turbine_8.0</td></tr><tr><td class = \"rowNumber\" style = \"font-weight: bold; text-align: right;\">14</td><td style = \"text-align: right;\">14</td><td style = \"text-align: left;\">natural_gas_fired_combustion_turbine</td><td style = \"text-align: left;\">WEC_SDGE</td><td style = \"text-align: right;\">48.9</td><td style = \"text-align: right;\">1</td><td style = \"text-align: right;\">48.9</td><td style = \"text-align: right;\">10.8</td><td style = \"text-align: right;\">0</td><td style = \"text-align: left;\">pacific_naturalgas</td><td style = \"text-align: right;\">11.3</td><td style = \"text-align: right;\">0.0</td><td style = \"text-align: right;\">0.0</td><td style = \"text-align: right;\">0.654</td><td style = \"text-align: right;\">3.78</td><td style = \"text-align: right;\">3.78</td><td style = \"text-align: right;\">0</td><td style = \"text-align: right;\">3.5</td><td style = \"text-align: right;\">1</td><td style = \"text-align: right;\">1</td><td style = \"text-align: right;\">0</td><td style = \"text-align: right;\">1.0</td><td style = \"text-align: right;\">1.0</td><td style = \"text-align: right;\">1.0</td><td style = \"text-align: right;\">0</td><td style = \"text-align: right;\">0</td><td style = \"text-align: right;\">9</td><td style = \"text-align: right;\">2.57</td><td style = \"text-align: right;\">0.05306</td><td style = \"text-align: right;\">false</td><td style = \"text-align: left;\">wec_sdge_natural_gas_fired_combustion_turbine_9.0</td></tr><tr><td class = \"rowNumber\" style = \"font-weight: bold; text-align: right;\">15</td><td style = \"text-align: right;\">15</td><td style = \"text-align: left;\">natural_gas_fired_combustion_turbine</td><td style = \"text-align: left;\">WEC_SDGE</td><td style = \"text-align: right;\">51.3</td><td style = \"text-align: right;\">1</td><td style = \"text-align: right;\">51.3</td><td style = \"text-align: right;\">10.8</td><td style = \"text-align: right;\">0</td><td style = \"text-align: left;\">pacific_naturalgas</td><td style = \"text-align: right;\">11.08</td><td style = \"text-align: right;\">0.0</td><td style = \"text-align: right;\">0.0</td><td style = \"text-align: right;\">0.409</td><td style = \"text-align: right;\">3.78</td><td style = \"text-align: right;\">3.78</td><td style = \"text-align: right;\">0</td><td style = \"text-align: right;\">3.5</td><td style = \"text-align: right;\">1</td><td style = \"text-align: right;\">1</td><td style = \"text-align: right;\">0</td><td style = \"text-align: right;\">1.0</td><td style = \"text-align: right;\">1.0</td><td style = \"text-align: right;\">1.0</td><td style = \"text-align: right;\">0</td><td style = \"text-align: right;\">0</td><td style = \"text-align: right;\">10</td><td style = \"text-align: right;\">2.57</td><td style = \"text-align: right;\">0.05306</td><td style = \"text-align: right;\">false</td><td style = \"text-align: left;\">wec_sdge_natural_gas_fired_combustion_turbine_10.0</td></tr><tr><td class = \"rowNumber\" style = \"font-weight: bold; text-align: right;\">16</td><td style = \"text-align: right;\">16</td><td style = \"text-align: left;\">natural_gas_fired_combustion_turbine</td><td style = \"text-align: left;\">WEC_SDGE</td><td style = \"text-align: right;\">51.3</td><td style = \"text-align: right;\">1</td><td style = \"text-align: right;\">51.3</td><td style = \"text-align: right;\">10.8</td><td style = \"text-align: right;\">0</td><td style = \"text-align: left;\">pacific_naturalgas</td><td style = \"text-align: right;\">11.12</td><td style = \"text-align: right;\">0.0</td><td style = \"text-align: right;\">0.0</td><td style = \"text-align: right;\">0.409</td><td style = \"text-align: right;\">3.78</td><td style = \"text-align: right;\">3.78</td><td style = \"text-align: right;\">0</td><td style = \"text-align: right;\">3.5</td><td style = \"text-align: right;\">1</td><td style = \"text-align: right;\">1</td><td style = \"text-align: right;\">0</td><td style = \"text-align: right;\">1.0</td><td style = \"text-align: right;\">1.0</td><td style = \"text-align: right;\">1.0</td><td style = \"text-align: right;\">0</td><td style = \"text-align: right;\">0</td><td style = \"text-align: right;\">11</td><td style = \"text-align: right;\">2.57</td><td style = \"text-align: right;\">0.05306</td><td style = \"text-align: right;\">false</td><td style = \"text-align: left;\">wec_sdge_natural_gas_fired_combustion_turbine_11.0</td></tr><tr><td class = \"rowNumber\" style = \"font-weight: bold; text-align: right;\">17</td><td style = \"text-align: right;\">17</td><td style = \"text-align: left;\">natural_gas_fired_combustion_turbine</td><td style = \"text-align: left;\">WEC_SDGE</td><td style = \"text-align: right;\">98.2</td><td style = \"text-align: right;\">2</td><td style = \"text-align: right;\">49.1</td><td style = \"text-align: right;\">10.8</td><td style = \"text-align: right;\">0</td><td style = \"text-align: left;\">pacific_naturalgas</td><td style = \"text-align: right;\">10.55</td><td style = \"text-align: right;\">0.0</td><td style = \"text-align: right;\">0.0</td><td style = \"text-align: right;\">0.329</td><td style = \"text-align: right;\">3.78</td><td style = \"text-align: right;\">3.78</td><td style = \"text-align: right;\">0</td><td style = \"text-align: right;\">3.5</td><td style = \"text-align: right;\">1</td><td style = \"text-align: right;\">1</td><td style = \"text-align: right;\">0</td><td style = \"text-align: right;\">1.0</td><td style = \"text-align: right;\">1.0</td><td style = \"text-align: right;\">1.0</td><td style = \"text-align: right;\">0</td><td style = \"text-align: right;\">0</td><td style = \"text-align: right;\">12</td><td style = \"text-align: right;\">2.57</td><td style = \"text-align: right;\">0.05306</td><td style = \"text-align: right;\">false</td><td style = \"text-align: left;\">wec_sdge_natural_gas_fired_combustion_turbine_12.0</td></tr><tr><td class = \"rowNumber\" style = \"font-weight: bold; text-align: right;\">18</td><td style = \"text-align: right;\">18</td><td style = \"text-align: left;\">natural_gas_fired_combustion_turbine</td><td style = \"text-align: left;\">WEC_SDGE</td><td style = \"text-align: right;\">98.2</td><td style = \"text-align: right;\">2</td><td style = \"text-align: right;\">49.1</td><td style = \"text-align: right;\">10.8</td><td style = \"text-align: right;\">0</td><td style = \"text-align: left;\">pacific_naturalgas</td><td style = \"text-align: right;\">10.55</td><td style = \"text-align: right;\">0.0</td><td style = \"text-align: right;\">0.0</td><td style = \"text-align: right;\">0.329</td><td style = \"text-align: right;\">3.78</td><td style = \"text-align: right;\">3.78</td><td style = \"text-align: right;\">0</td><td style = \"text-align: right;\">3.5</td><td style = \"text-align: right;\">1</td><td style = \"text-align: right;\">1</td><td style = \"text-align: right;\">0</td><td style = \"text-align: right;\">1.0</td><td style = \"text-align: right;\">1.0</td><td style = \"text-align: right;\">1.0</td><td style = \"text-align: right;\">0</td><td style = \"text-align: right;\">0</td><td style = \"text-align: right;\">13</td><td style = \"text-align: right;\">2.57</td><td style = \"text-align: right;\">0.05306</td><td style = \"text-align: right;\">false</td><td style = \"text-align: left;\">wec_sdge_natural_gas_fired_combustion_turbine_13.0</td></tr><tr><td class = \"rowNumber\" style = \"font-weight: bold; text-align: right;\">19</td><td style = \"text-align: right;\">19</td><td style = \"text-align: left;\">natural_gas_fired_combustion_turbine</td><td style = \"text-align: left;\">WEC_SDGE</td><td style = \"text-align: right;\">98.2</td><td style = \"text-align: right;\">2</td><td style = \"text-align: right;\">49.1</td><td style = \"text-align: right;\">10.8</td><td style = \"text-align: right;\">0</td><td style = \"text-align: left;\">pacific_naturalgas</td><td style = \"text-align: right;\">10.55</td><td style = \"text-align: right;\">0.0</td><td style = \"text-align: right;\">0.0</td><td style = \"text-align: right;\">0.329</td><td style = \"text-align: right;\">3.78</td><td style = \"text-align: right;\">3.78</td><td style = \"text-align: right;\">0</td><td style = \"text-align: right;\">3.5</td><td style = \"text-align: right;\">1</td><td style = \"text-align: right;\">1</td><td style = \"text-align: right;\">0</td><td style = \"text-align: right;\">1.0</td><td style = \"text-align: right;\">1.0</td><td style = \"text-align: right;\">1.0</td><td style = \"text-align: right;\">0</td><td style = \"text-align: right;\">0</td><td style = \"text-align: right;\">14</td><td style = \"text-align: right;\">2.57</td><td style = \"text-align: right;\">0.05306</td><td style = \"text-align: right;\">false</td><td style = \"text-align: left;\">wec_sdge_natural_gas_fired_combustion_turbine_14.0</td></tr><tr><td class = \"rowNumber\" style = \"font-weight: bold; text-align: right;\">20</td><td style = \"text-align: right;\">20</td><td style = \"text-align: left;\">onshore_wind_turbine</td><td style = \"text-align: left;\">WEC_SDGE</td><td style = \"text-align: right;\">200.0</td><td style = \"text-align: right;\">3</td><td style = \"text-align: right;\">64.67</td><td style = \"text-align: right;\">0.0</td><td style = \"text-align: right;\">0</td><td style = \"text-align: left;\">None</td><td style = \"text-align: right;\">9.12</td><td style = \"text-align: right;\">0.0</td><td style = \"text-align: right;\">0.0</td><td style = \"text-align: right;\">0.0</td><td style = \"text-align: right;\">1.0</td><td style = \"text-align: right;\">1.0</td><td style = \"text-align: right;\">0</td><td style = \"text-align: right;\">0.0</td><td style = \"text-align: right;\">0</td><td style = \"text-align: right;\">0</td><td style = \"text-align: right;\">0</td><td style = \"text-align: right;\">1.0</td><td style = \"text-align: right;\">1.0</td><td style = \"text-align: right;\">1.0</td><td style = \"text-align: right;\">0</td><td style = \"text-align: right;\">0</td><td style = \"text-align: right;\">1</td><td style = \"text-align: right;\">0.0</td><td style = \"text-align: right;\">0.0</td><td style = \"text-align: right;\">true</td><td style = \"text-align: left;\">wec_sdge_onshore_wind_turbine_1.0</td></tr><tr><td class = \"rowNumber\" style = \"font-weight: bold; text-align: right;\">21</td><td style = \"text-align: right;\">21</td><td style = \"text-align: left;\">small_hydroelectric</td><td style = \"text-align: left;\">WEC_SDGE</td><td style = \"text-align: right;\">50.0</td><td style = \"text-align: right;\">6</td><td style = \"text-align: right;\">1.22</td><td style = \"text-align: right;\">0.0</td><td style = \"text-align: right;\">0</td><td style = \"text-align: left;\">None</td><td style = \"text-align: right;\">9.12</td><td style = \"text-align: right;\">0.002</td><td style = \"text-align: right;\">0.001</td><td style = \"text-align: right;\">0.385</td><td style = \"text-align: right;\">1.0</td><td style = \"text-align: right;\">1.0</td><td style = \"text-align: right;\">0</td><td style = \"text-align: right;\">0.0</td><td style = \"text-align: right;\">0</td><td style = \"text-align: right;\">0</td><td style = \"text-align: right;\">0</td><td style = \"text-align: right;\">1.0</td><td style = \"text-align: right;\">1.0</td><td style = \"text-align: right;\">1.0</td><td style = \"text-align: right;\">0</td><td style = \"text-align: right;\">0</td><td style = \"text-align: right;\">1</td><td style = \"text-align: right;\">0.0</td><td style = \"text-align: right;\">0.0</td><td style = \"text-align: right;\">true</td><td style = \"text-align: left;\">wec_sdge_small_hydroelectric_1.0</td></tr><tr><td class = \"rowNumber\" style = \"font-weight: bold; text-align: right;\">22</td><td style = \"text-align: right;\">22</td><td style = \"text-align: left;\">solar_photovoltaic</td><td style = \"text-align: left;\">WEC_SDGE</td><td style = \"text-align: right;\">2500.0</td><td style = \"text-align: right;\">20</td><td style = \"text-align: right;\">8.48</td><td style = \"text-align: right;\">0.0</td><td style = \"text-align: right;\">0</td><td style = \"text-align: left;\">None</td><td style = \"text-align: right;\">9.16</td><td style = \"text-align: right;\">0.0</td><td style = \"text-align: right;\">0.021</td><td style = \"text-align: right;\">0.0</td><td style = \"text-align: right;\">1.0</td><td style = \"text-align: right;\">1.0</td><td style = \"text-align: right;\">0</td><td style = \"text-align: right;\">0.0</td><td style = \"text-align: right;\">0</td><td style = \"text-align: right;\">0</td><td style = \"text-align: right;\">0</td><td style = \"text-align: right;\">1.0</td><td style = \"text-align: right;\">1.0</td><td style = \"text-align: right;\">1.0</td><td style = \"text-align: right;\">0</td><td style = \"text-align: right;\">0</td><td style = \"text-align: right;\">1</td><td style = \"text-align: right;\">0.0</td><td style = \"text-align: right;\">0.0</td><td style = \"text-align: right;\">true</td><td style = \"text-align: left;\">wec_sdge_solar_photovoltaic_1.0</td></tr></tbody></table></div>"
      ],
      "text/latex": [
       "\\begin{tabular}{r|cccccc}\n",
       "\t& r\\_id & resource & region & existing\\_cap\\_mw & num\\_units & \\\\\n",
       "\t\\hline\n",
       "\t& Int64? & String? & String15? & Float64? & Int64? & \\\\\n",
       "\t\\hline\n",
       "\t1 & 1 & biomass & WEC\\_SDGE & 21.4 & 20 & $\\dots$ \\\\\n",
       "\t2 & 2 & hydroelectric\\_pumped\\_storage & WEC\\_SDGE & 100.0 & 2 & $\\dots$ \\\\\n",
       "\t3 & 3 & natural\\_gas\\_fired\\_combined\\_cycle & WEC\\_SDGE & 600.0 & 1 & $\\dots$ \\\\\n",
       "\t4 & 4 & natural\\_gas\\_fired\\_combined\\_cycle & WEC\\_SDGE & 500.0 & 1 & $\\dots$ \\\\\n",
       "\t5 & 5 & natural\\_gas\\_fired\\_combined\\_cycle & WEC\\_SDGE & 336.0 & 3 & $\\dots$ \\\\\n",
       "\t6 & 6 & natural\\_gas\\_fired\\_combustion\\_turbine & WEC\\_SDGE & 91.6 & 2 & $\\dots$ \\\\\n",
       "\t7 & 7 & natural\\_gas\\_fired\\_combustion\\_turbine & WEC\\_SDGE & 49.9 & 1 & $\\dots$ \\\\\n",
       "\t8 & 8 & natural\\_gas\\_fired\\_combustion\\_turbine & WEC\\_SDGE & 48.1 & 1 & $\\dots$ \\\\\n",
       "\t9 & 9 & natural\\_gas\\_fired\\_combustion\\_turbine & WEC\\_SDGE & 34.6 & 1 & $\\dots$ \\\\\n",
       "\t10 & 10 & natural\\_gas\\_fired\\_combustion\\_turbine & WEC\\_SDGE & 96.6 & 3 & $\\dots$ \\\\\n",
       "\t11 & 11 & natural\\_gas\\_fired\\_combustion\\_turbine & WEC\\_SDGE & 98.2 & 2 & $\\dots$ \\\\\n",
       "\t12 & 12 & natural\\_gas\\_fired\\_combustion\\_turbine & WEC\\_SDGE & 98.2 & 2 & $\\dots$ \\\\\n",
       "\t13 & 13 & natural\\_gas\\_fired\\_combustion\\_turbine & WEC\\_SDGE & 48.9 & 1 & $\\dots$ \\\\\n",
       "\t14 & 14 & natural\\_gas\\_fired\\_combustion\\_turbine & WEC\\_SDGE & 48.9 & 1 & $\\dots$ \\\\\n",
       "\t15 & 15 & natural\\_gas\\_fired\\_combustion\\_turbine & WEC\\_SDGE & 51.3 & 1 & $\\dots$ \\\\\n",
       "\t16 & 16 & natural\\_gas\\_fired\\_combustion\\_turbine & WEC\\_SDGE & 51.3 & 1 & $\\dots$ \\\\\n",
       "\t17 & 17 & natural\\_gas\\_fired\\_combustion\\_turbine & WEC\\_SDGE & 98.2 & 2 & $\\dots$ \\\\\n",
       "\t18 & 18 & natural\\_gas\\_fired\\_combustion\\_turbine & WEC\\_SDGE & 98.2 & 2 & $\\dots$ \\\\\n",
       "\t19 & 19 & natural\\_gas\\_fired\\_combustion\\_turbine & WEC\\_SDGE & 98.2 & 2 & $\\dots$ \\\\\n",
       "\t20 & 20 & onshore\\_wind\\_turbine & WEC\\_SDGE & 200.0 & 3 & $\\dots$ \\\\\n",
       "\t21 & 21 & small\\_hydroelectric & WEC\\_SDGE & 50.0 & 6 & $\\dots$ \\\\\n",
       "\t22 & 22 & solar\\_photovoltaic & WEC\\_SDGE & 2500.0 & 20 & $\\dots$ \\\\\n",
       "\\end{tabular}\n"
      ],
      "text/plain": [
       "\u001b[1m22×30 DataFrame\u001b[0m\n",
       "\u001b[1m Row \u001b[0m│\u001b[1m r_id   \u001b[0m\u001b[1m resource                          \u001b[0m\u001b[1m region    \u001b[0m\u001b[1m existing_cap_mw \u001b[0m\u001b[1m \u001b[0m ⋯\n",
       "     │\u001b[90m Int64? \u001b[0m\u001b[90m String?                           \u001b[0m\u001b[90m String15? \u001b[0m\u001b[90m Float64?        \u001b[0m\u001b[90m \u001b[0m ⋯\n",
       "─────┼──────────────────────────────────────────────────────────────────────────\n",
       "   1 │      1  biomass                            WEC_SDGE              21.4   ⋯\n",
       "   2 │      2  hydroelectric_pumped_storage       WEC_SDGE             100.0\n",
       "   3 │      3  natural_gas_fired_combined_cycle   WEC_SDGE             600.0\n",
       "   4 │      4  natural_gas_fired_combined_cycle   WEC_SDGE             500.0\n",
       "   5 │      5  natural_gas_fired_combined_cycle   WEC_SDGE             336.0   ⋯\n",
       "   6 │      6  natural_gas_fired_combustion_tur…  WEC_SDGE              91.6\n",
       "   7 │      7  natural_gas_fired_combustion_tur…  WEC_SDGE              49.9\n",
       "   8 │      8  natural_gas_fired_combustion_tur…  WEC_SDGE              48.1\n",
       "   9 │      9  natural_gas_fired_combustion_tur…  WEC_SDGE              34.6   ⋯\n",
       "  10 │     10  natural_gas_fired_combustion_tur…  WEC_SDGE              96.6\n",
       "  11 │     11  natural_gas_fired_combustion_tur…  WEC_SDGE              98.2\n",
       "  12 │     12  natural_gas_fired_combustion_tur…  WEC_SDGE              98.2\n",
       "  13 │     13  natural_gas_fired_combustion_tur…  WEC_SDGE              48.9   ⋯\n",
       "  14 │     14  natural_gas_fired_combustion_tur…  WEC_SDGE              48.9\n",
       "  15 │     15  natural_gas_fired_combustion_tur…  WEC_SDGE              51.3\n",
       "  16 │     16  natural_gas_fired_combustion_tur…  WEC_SDGE              51.3\n",
       "  17 │     17  natural_gas_fired_combustion_tur…  WEC_SDGE              98.2   ⋯\n",
       "  18 │     18  natural_gas_fired_combustion_tur…  WEC_SDGE              98.2\n",
       "  19 │     19  natural_gas_fired_combustion_tur…  WEC_SDGE              98.2\n",
       "  20 │     20  onshore_wind_turbine               WEC_SDGE             200.0\n",
       "  21 │     21  small_hydroelectric                WEC_SDGE              50.0   ⋯\n",
       "  22 │     22  solar_photovoltaic                 WEC_SDGE            2500.0\n",
       "\u001b[36m                                                              26 columns omitted\u001b[0m"
      ]
     },
     "execution_count": 46,
     "metadata": {},
     "output_type": "execute_result"
    }
   ],
   "source": [
    "gen_df_sens"
   ]
  },
  {
   "cell_type": "code",
   "execution_count": 47,
   "metadata": {},
   "outputs": [
    {
     "name": "stdout",
     "output_type": "stream",
     "text": [
      "Running HiGHS 1.6.0: Copyright (c) 2023 HiGHS under MIT licence terms\n",
      "Presolving model\n",
      "2013 rows, 1707 cols, 6595 nonzeros\n",
      "1791 rows, 1423 cols, 7349 nonzeros\n",
      "\n",
      "Solving MIP model with:\n",
      "   1791 rows\n",
      "   1423 cols (968 binary, 0 integer, 0 implied int., 455 continuous)\n",
      "   7349 nonzeros\n",
      "\n",
      "        Nodes      |    B&B Tree     |            Objective Bounds              |  Dynamic Constraints |       Work      \n",
      "     Proc. InQueue |  Leaves   Expl. | BestBound       BestSol              Gap |   Cuts   InLp Confl. | LpIters     Time\n",
      "\n",
      "         0       0         0   0.00%   0               inf                  inf        0      0      0         0     0.0s\n",
      "         0       0         0   0.00%   391175.854994   inf                  inf        0      0     13       272     0.0s\n",
      " R       0       0         0   0.00%   394093.23285    396102.047135      0.51%      508     58     50       651     0.1s\n",
      "\n",
      "Solving report\n",
      "  Status            Optimal\n",
      "  Primal bound      396102.047135\n",
      "  Dual bound        394093.23285\n",
      "  Gap               0.507% (tolerance: 1%)\n",
      "  Solution status   feasible\n",
      "                    396102.047135 (objective)\n",
      "                    0 (bound viol.)\n",
      "                    0 (int. viol.)\n",
      "                    0 (row viol.)\n",
      "  Timing            0.11 (total)\n",
      "                    0.02 (presolve)\n",
      "                    0.00 (postsolve)\n",
      "  Nodes             1\n",
      "  LP iterations     651 (total)\n",
      "                    0 (strong br.)\n",
      "                    379 (separation)\n",
      "                    0 (heuristics)\n"
     ]
    }
   ],
   "source": [
    "solution = unit_commitment_simple(\n",
    "    gen_df_sens, loads_multi, gen_variable_multi, 0.01);"
   ]
  },
  {
   "cell_type": "code",
   "execution_count": 48,
   "metadata": {},
   "outputs": [
    {
     "data": {
      "application/vnd.vega.v5+json": {
       "$schema": "https://vega.github.io/schema/vega/v5.json",
       "axes": [
        {
         "aria": false,
         "domain": false,
         "grid": true,
         "gridScale": "y",
         "labels": false,
         "maxExtent": 0,
         "minExtent": 0,
         "orient": "bottom",
         "scale": "x",
         "tickCount": {
          "signal": "ceil(width/40)"
         },
         "ticks": false,
         "zindex": 0
        },
        {
         "aria": false,
         "domain": false,
         "grid": true,
         "gridScale": "x",
         "labels": false,
         "maxExtent": 0,
         "minExtent": 0,
         "orient": "left",
         "scale": "y",
         "tickCount": {
          "signal": "ceil(height/40)"
         },
         "ticks": false,
         "zindex": 0
        },
        {
         "grid": false,
         "labelFlush": true,
         "labelOverlap": true,
         "orient": "bottom",
         "scale": "x",
         "tickCount": {
          "signal": "ceil(width/40)"
         },
         "title": "hour",
         "zindex": 0
        },
        {
         "grid": false,
         "labelOverlap": true,
         "orient": "left",
         "scale": "y",
         "tickCount": {
          "signal": "ceil(height/40)"
         },
         "title": "gen_sum",
         "zindex": 0
        }
       ],
       "background": "white",
       "data": [
        {
         "name": "source_0",
         "values": [
          {
           "gen_sum": 21.4,
           "hour": 0,
           "resource": "biomass"
          },
          {
           "gen_sum": 100.00000000000003,
           "hour": 0,
           "resource": "hydroelectric_pumped_storage"
          },
          {
           "gen_sum": 788.795,
           "hour": 0,
           "resource": "natural_gas_fired_combined_cycle"
          },
          {
           "gen_sum": 0,
           "hour": 0,
           "resource": "natural_gas_fired_combustion_turbine"
          },
          {
           "gen_sum": 150.1,
           "hour": 0,
           "resource": "_onshore_wind_turbine"
          },
          {
           "gen_sum": 21.755,
           "hour": 0,
           "resource": "_small_hydroelectric"
          },
          {
           "gen_sum": 0,
           "hour": 0,
           "resource": "_solar_photovoltaic"
          },
          {
           "gen_sum": 21.4,
           "hour": 1,
           "resource": "biomass"
          },
          {
           "gen_sum": 100,
           "hour": 1,
           "resource": "hydroelectric_pumped_storage"
          },
          {
           "gen_sum": 741.2950000000001,
           "hour": 1,
           "resource": "natural_gas_fired_combined_cycle"
          },
          {
           "gen_sum": 0,
           "hour": 1,
           "resource": "natural_gas_fired_combustion_turbine"
          },
          {
           "gen_sum": 156.06,
           "hour": 1,
           "resource": "_onshore_wind_turbine"
          },
          {
           "gen_sum": 21.755,
           "hour": 1,
           "resource": "_small_hydroelectric"
          },
          {
           "gen_sum": 0,
           "hour": 1,
           "resource": "_solar_photovoltaic"
          },
          {
           "gen_sum": 21.4,
           "hour": 2,
           "resource": "biomass"
          },
          {
           "gen_sum": 100,
           "hour": 2,
           "resource": "hydroelectric_pumped_storage"
          },
          {
           "gen_sum": 768.1049999999999,
           "hour": 2,
           "resource": "natural_gas_fired_combined_cycle"
          },
          {
           "gen_sum": 0,
           "hour": 2,
           "resource": "natural_gas_fired_combustion_turbine"
          },
          {
           "gen_sum": 105.80000000000001,
           "hour": 2,
           "resource": "_onshore_wind_turbine"
          },
          {
           "gen_sum": 21.755,
           "hour": 2,
           "resource": "_small_hydroelectric"
          },
          {
           "gen_sum": 0,
           "hour": 2,
           "resource": "_solar_photovoltaic"
          },
          {
           "gen_sum": 21.4,
           "hour": 3,
           "resource": "biomass"
          },
          {
           "gen_sum": 100.00000000000001,
           "hour": 3,
           "resource": "hydroelectric_pumped_storage"
          },
          {
           "gen_sum": 810.9649999999999,
           "hour": 3,
           "resource": "natural_gas_fired_combined_cycle"
          },
          {
           "gen_sum": 0,
           "hour": 3,
           "resource": "natural_gas_fired_combustion_turbine"
          },
          {
           "gen_sum": 92.42,
           "hour": 3,
           "resource": "_onshore_wind_turbine"
          },
          {
           "gen_sum": 21.755,
           "hour": 3,
           "resource": "_small_hydroelectric"
          },
          {
           "gen_sum": 0,
           "hour": 3,
           "resource": "_solar_photovoltaic"
          },
          {
           "gen_sum": 21.4,
           "hour": 4,
           "resource": "biomass"
          },
          {
           "gen_sum": 100,
           "hour": 4,
           "resource": "hydroelectric_pumped_storage"
          },
          {
           "gen_sum": 943.895,
           "hour": 4,
           "resource": "natural_gas_fired_combined_cycle"
          },
          {
           "gen_sum": 0,
           "hour": 4,
           "resource": "natural_gas_fired_combustion_turbine"
          },
          {
           "gen_sum": 74.06,
           "hour": 4,
           "resource": "_onshore_wind_turbine"
          },
          {
           "gen_sum": 21.755,
           "hour": 4,
           "resource": "_small_hydroelectric"
          },
          {
           "gen_sum": 0,
           "hour": 4,
           "resource": "_solar_photovoltaic"
          },
          {
           "gen_sum": 21.4,
           "hour": 5,
           "resource": "biomass"
          },
          {
           "gen_sum": 100,
           "hour": 5,
           "resource": "hydroelectric_pumped_storage"
          },
          {
           "gen_sum": 1052.8450000000003,
           "hour": 5,
           "resource": "natural_gas_fired_combined_cycle"
          },
          {
           "gen_sum": 0,
           "hour": 5,
           "resource": "natural_gas_fired_combustion_turbine"
          },
          {
           "gen_sum": 127.91999999999999,
           "hour": 5,
           "resource": "_onshore_wind_turbine"
          },
          {
           "gen_sum": 21.755,
           "hour": 5,
           "resource": "_small_hydroelectric"
          },
          {
           "gen_sum": 0,
           "hour": 5,
           "resource": "_solar_photovoltaic"
          },
          {
           "gen_sum": 21.4,
           "hour": 6,
           "resource": "biomass"
          },
          {
           "gen_sum": 100.00000000000001,
           "hour": 6,
           "resource": "hydroelectric_pumped_storage"
          },
          {
           "gen_sum": 1099.9999999999998,
           "hour": 6,
           "resource": "natural_gas_fired_combined_cycle"
          },
          {
           "gen_sum": 73.99500000000008,
           "hour": 6,
           "resource": "natural_gas_fired_combustion_turbine"
          },
          {
           "gen_sum": 68.17999999999999,
           "hour": 6,
           "resource": "_onshore_wind_turbine"
          },
          {
           "gen_sum": 21.755,
           "hour": 6,
           "resource": "_small_hydroelectric"
          },
          {
           "gen_sum": 138.25,
           "hour": 6,
           "resource": "_solar_photovoltaic"
          },
          {
           "gen_sum": 21.4,
           "hour": 7,
           "resource": "biomass"
          },
          {
           "gen_sum": 100,
           "hour": 7,
           "resource": "hydroelectric_pumped_storage"
          },
          {
           "gen_sum": 966.3972000000001,
           "hour": 7,
           "resource": "natural_gas_fired_combined_cycle"
          },
          {
           "gen_sum": 32.3078,
           "hour": 7,
           "resource": "natural_gas_fired_combustion_turbine"
          },
          {
           "gen_sum": 45.379999999999995,
           "hour": 7,
           "resource": "_onshore_wind_turbine"
          },
          {
           "gen_sum": 21.755,
           "hour": 7,
           "resource": "_small_hydroelectric"
          },
          {
           "gen_sum": 552.75,
           "hour": 7,
           "resource": "_solar_photovoltaic"
          },
          {
           "gen_sum": 21.4,
           "hour": 8,
           "resource": "biomass"
          },
          {
           "gen_sum": 100.00000000000006,
           "hour": 8,
           "resource": "hydroelectric_pumped_storage"
          },
          {
           "gen_sum": 410.48499999999984,
           "hour": 8,
           "resource": "natural_gas_fired_combined_cycle"
          },
          {
           "gen_sum": 0,
           "hour": 8,
           "resource": "natural_gas_fired_combustion_turbine"
          },
          {
           "gen_sum": 153.82,
           "hour": 8,
           "resource": "_onshore_wind_turbine"
          },
          {
           "gen_sum": 21.755,
           "hour": 8,
           "resource": "_small_hydroelectric"
          },
          {
           "gen_sum": 1194,
           "hour": 8,
           "resource": "_solar_photovoltaic"
          },
          {
           "gen_sum": 21.399999999999864,
           "hour": 9,
           "resource": "biomass"
          },
          {
           "gen_sum": 99.99999999999996,
           "hour": 9,
           "resource": "hydroelectric_pumped_storage"
          },
          {
           "gen_sum": 322.08500000000015,
           "hour": 9,
           "resource": "natural_gas_fired_combined_cycle"
          },
          {
           "gen_sum": 0,
           "hour": 9,
           "resource": "natural_gas_fired_combustion_turbine"
          },
          {
           "gen_sum": 120.92,
           "hour": 9,
           "resource": "_onshore_wind_turbine"
          },
          {
           "gen_sum": 21.755,
           "hour": 9,
           "resource": "_small_hydroelectric"
          },
          {
           "gen_sum": 1439.25,
           "hour": 9,
           "resource": "_solar_photovoltaic"
          },
          {
           "gen_sum": 21.4,
           "hour": 10,
           "resource": "biomass"
          },
          {
           "gen_sum": 99.99999999999993,
           "hour": 10,
           "resource": "hydroelectric_pumped_storage"
          },
          {
           "gen_sum": 274.35659999999984,
           "hour": 10,
           "resource": "natural_gas_fired_combined_cycle"
          },
          {
           "gen_sum": 64.2884,
           "hour": 10,
           "resource": "natural_gas_fired_combustion_turbine"
          },
          {
           "gen_sum": 102.2,
           "hour": 10,
           "resource": "_onshore_wind_turbine"
          },
          {
           "gen_sum": 21.755,
           "hour": 10,
           "resource": "_small_hydroelectric"
          },
          {
           "gen_sum": 1509.75,
           "hour": 10,
           "resource": "_solar_photovoltaic"
          },
          {
           "gen_sum": 21.4,
           "hour": 11,
           "resource": "biomass"
          },
          {
           "gen_sum": 99.99999999999997,
           "hour": 11,
           "resource": "hydroelectric_pumped_storage"
          },
          {
           "gen_sum": 0,
           "hour": 11,
           "resource": "natural_gas_fired_combined_cycle"
          },
          {
           "gen_sum": 222.64499999999992,
           "hour": 11,
           "resource": "natural_gas_fired_combustion_turbine"
          },
          {
           "gen_sum": 84.66,
           "hour": 11,
           "resource": "_onshore_wind_turbine"
          },
          {
           "gen_sum": 21.755,
           "hour": 11,
           "resource": "_small_hydroelectric"
          },
          {
           "gen_sum": 1534.75,
           "hour": 11,
           "resource": "_solar_photovoltaic"
          },
          {
           "gen_sum": 21.4,
           "hour": 12,
           "resource": "biomass"
          },
          {
           "gen_sum": 100,
           "hour": 12,
           "resource": "hydroelectric_pumped_storage"
          },
          {
           "gen_sum": 0,
           "hour": 12,
           "resource": "natural_gas_fired_combined_cycle"
          },
          {
           "gen_sum": 35.27500000000009,
           "hour": 12,
           "resource": "natural_gas_fired_combustion_turbine"
          },
          {
           "gen_sum": 47.88,
           "hour": 12,
           "resource": "_onshore_wind_turbine"
          },
          {
           "gen_sum": 21.755,
           "hour": 12,
           "resource": "_small_hydroelectric"
          },
          {
           "gen_sum": 1611.4999999999998,
           "hour": 12,
           "resource": "_solar_photovoltaic"
          },
          {
           "gen_sum": 0,
           "hour": 13,
           "resource": "biomass"
          },
          {
           "gen_sum": 91.25500000000002,
           "hour": 13,
           "resource": "hydroelectric_pumped_storage"
          },
          {
           "gen_sum": 0,
           "hour": 13,
           "resource": "natural_gas_fired_combined_cycle"
          },
          {
           "gen_sum": 0,
           "hour": 13,
           "resource": "natural_gas_fired_combustion_turbine"
          },
          {
           "gen_sum": 59.46,
           "hour": 13,
           "resource": "_onshore_wind_turbine"
          },
          {
           "gen_sum": 21.755,
           "hour": 13,
           "resource": "_small_hydroelectric"
          },
          {
           "gen_sum": 1613.75,
           "hour": 13,
           "resource": "_solar_photovoltaic"
          },
          {
           "gen_sum": 0,
           "hour": 14,
           "resource": "biomass"
          },
          {
           "gen_sum": 79.03329999999994,
           "hour": 14,
           "resource": "hydroelectric_pumped_storage"
          },
          {
           "gen_sum": 0,
           "hour": 14,
           "resource": "natural_gas_fired_combined_cycle"
          },
          {
           "gen_sum": 20.981699999999996,
           "hour": 14,
           "resource": "natural_gas_fired_combustion_turbine"
          },
          {
           "gen_sum": 45.24,
           "hour": 14,
           "resource": "_onshore_wind_turbine"
          },
          {
           "gen_sum": 21.755,
           "hour": 14,
           "resource": "_small_hydroelectric"
          },
          {
           "gen_sum": 1560.25,
           "hour": 14,
           "resource": "_solar_photovoltaic"
          },
          {
           "gen_sum": 21.4,
           "hour": 15,
           "resource": "biomass"
          },
          {
           "gen_sum": 100,
           "hour": 15,
           "resource": "hydroelectric_pumped_storage"
          },
          {
           "gen_sum": 0,
           "hour": 15,
           "resource": "natural_gas_fired_combined_cycle"
          },
          {
           "gen_sum": 35.914999999999964,
           "hour": 15,
           "resource": "natural_gas_fired_combustion_turbine"
          },
          {
           "gen_sum": 60.12,
           "hour": 15,
           "resource": "_onshore_wind_turbine"
          },
          {
           "gen_sum": 21.755,
           "hour": 15,
           "resource": "_small_hydroelectric"
          },
          {
           "gen_sum": 1423.75,
           "hour": 15,
           "resource": "_solar_photovoltaic"
          },
          {
           "gen_sum": 0,
           "hour": 16,
           "resource": "biomass"
          },
          {
           "gen_sum": 76.01500000000001,
           "hour": 16,
           "resource": "hydroelectric_pumped_storage"
          },
          {
           "gen_sum": 217.2,
           "hour": 16,
           "resource": "natural_gas_fired_combined_cycle"
          },
          {
           "gen_sum": 0,
           "hour": 16,
           "resource": "natural_gas_fired_combustion_turbine"
          },
          {
           "gen_sum": 107.72,
           "hour": 16,
           "resource": "_onshore_wind_turbine"
          },
          {
           "gen_sum": 21.755,
           "hour": 16,
           "resource": "_small_hydroelectric"
          },
          {
           "gen_sum": 1357.5,
           "hour": 16,
           "resource": "_solar_photovoltaic"
          },
          {
           "gen_sum": 21.4,
           "hour": 17,
           "resource": "biomass"
          },
          {
           "gen_sum": 100.00000000000006,
           "hour": 17,
           "resource": "hydroelectric_pumped_storage"
          },
          {
           "gen_sum": 592.185,
           "hour": 17,
           "resource": "natural_gas_fired_combined_cycle"
          },
          {
           "gen_sum": 0,
           "hour": 17,
           "resource": "natural_gas_fired_combustion_turbine"
          },
          {
           "gen_sum": 117.56,
           "hour": 17,
           "resource": "_onshore_wind_turbine"
          },
          {
           "gen_sum": 21.755,
           "hour": 17,
           "resource": "_small_hydroelectric"
          },
          {
           "gen_sum": 835.5,
           "hour": 17,
           "resource": "_solar_photovoltaic"
          },
          {
           "gen_sum": 21.4,
           "hour": 18,
           "resource": "biomass"
          },
          {
           "gen_sum": 100,
           "hour": 18,
           "resource": "hydroelectric_pumped_storage"
          },
          {
           "gen_sum": 1100,
           "hour": 18,
           "resource": "natural_gas_fired_combined_cycle"
          },
          {
           "gen_sum": 140.10500000000016,
           "hour": 18,
           "resource": "natural_gas_fired_combustion_turbine"
          },
          {
           "gen_sum": 152.89999999999998,
           "hour": 18,
           "resource": "_onshore_wind_turbine"
          },
          {
           "gen_sum": 21.755,
           "hour": 18,
           "resource": "_small_hydroelectric"
          },
          {
           "gen_sum": 137.5,
           "hour": 18,
           "resource": "_solar_photovoltaic"
          },
          {
           "gen_sum": 21.4,
           "hour": 19,
           "resource": "biomass"
          },
          {
           "gen_sum": 100.00000000000003,
           "hour": 19,
           "resource": "hydroelectric_pumped_storage"
          },
          {
           "gen_sum": 1100,
           "hour": 19,
           "resource": "natural_gas_fired_combined_cycle"
          },
          {
           "gen_sum": 341.09499999999997,
           "hour": 19,
           "resource": "natural_gas_fired_combustion_turbine"
          },
          {
           "gen_sum": 155.73999999999998,
           "hour": 19,
           "resource": "_onshore_wind_turbine"
          },
          {
           "gen_sum": 21.755,
           "hour": 19,
           "resource": "_small_hydroelectric"
          },
          {
           "gen_sum": 0,
           "hour": 19,
           "resource": "_solar_photovoltaic"
          },
          {
           "gen_sum": 21.4,
           "hour": 20,
           "resource": "biomass"
          },
          {
           "gen_sum": 100,
           "hour": 20,
           "resource": "hydroelectric_pumped_storage"
          },
          {
           "gen_sum": 1100,
           "hour": 20,
           "resource": "natural_gas_fired_combined_cycle"
          },
          {
           "gen_sum": 309.84500000000014,
           "hour": 20,
           "resource": "natural_gas_fired_combustion_turbine"
          },
          {
           "gen_sum": 164.88,
           "hour": 20,
           "resource": "_onshore_wind_turbine"
          },
          {
           "gen_sum": 21.755,
           "hour": 20,
           "resource": "_small_hydroelectric"
          },
          {
           "gen_sum": 0,
           "hour": 20,
           "resource": "_solar_photovoltaic"
          },
          {
           "gen_sum": 21.4,
           "hour": 21,
           "resource": "biomass"
          },
          {
           "gen_sum": 100.00000000000003,
           "hour": 21,
           "resource": "hydroelectric_pumped_storage"
          },
          {
           "gen_sum": 1100,
           "hour": 21,
           "resource": "natural_gas_fired_combined_cycle"
          },
          {
           "gen_sum": 148.13500000000005,
           "hour": 21,
           "resource": "natural_gas_fired_combustion_turbine"
          },
          {
           "gen_sum": 139.66,
           "hour": 21,
           "resource": "_onshore_wind_turbine"
          },
          {
           "gen_sum": 21.755,
           "hour": 21,
           "resource": "_small_hydroelectric"
          },
          {
           "gen_sum": 0,
           "hour": 21,
           "resource": "_solar_photovoltaic"
          },
          {
           "gen_sum": 21.4,
           "hour": 22,
           "resource": "biomass"
          },
          {
           "gen_sum": 100,
           "hour": 22,
           "resource": "hydroelectric_pumped_storage"
          },
          {
           "gen_sum": 1021.8349999999999,
           "hour": 22,
           "resource": "natural_gas_fired_combined_cycle"
          },
          {
           "gen_sum": 0,
           "hour": 22,
           "resource": "natural_gas_fired_combustion_turbine"
          },
          {
           "gen_sum": 148.88,
           "hour": 22,
           "resource": "_onshore_wind_turbine"
          },
          {
           "gen_sum": 21.755,
           "hour": 22,
           "resource": "_small_hydroelectric"
          },
          {
           "gen_sum": 0,
           "hour": 22,
           "resource": "_solar_photovoltaic"
          },
          {
           "gen_sum": 21.4,
           "hour": 23,
           "resource": "biomass"
          },
          {
           "gen_sum": 100.00000000000003,
           "hour": 23,
           "resource": "hydroelectric_pumped_storage"
          },
          {
           "gen_sum": 859.5550000000001,
           "hour": 23,
           "resource": "natural_gas_fired_combined_cycle"
          },
          {
           "gen_sum": 0,
           "hour": 23,
           "resource": "natural_gas_fired_combustion_turbine"
          },
          {
           "gen_sum": 134.28,
           "hour": 23,
           "resource": "_onshore_wind_turbine"
          },
          {
           "gen_sum": 21.755,
           "hour": 23,
           "resource": "_small_hydroelectric"
          },
          {
           "gen_sum": 0,
           "hour": 23,
           "resource": "_solar_photovoltaic"
          },
          {
           "gen_sum": 0,
           "hour": 0,
           "resource": "_solar_photovoltaic_btm"
          },
          {
           "gen_sum": 0,
           "hour": 1,
           "resource": "_solar_photovoltaic_btm"
          },
          {
           "gen_sum": 0,
           "hour": 2,
           "resource": "_solar_photovoltaic_btm"
          },
          {
           "gen_sum": 0,
           "hour": 3,
           "resource": "_solar_photovoltaic_btm"
          },
          {
           "gen_sum": 0,
           "hour": 4,
           "resource": "_solar_photovoltaic_btm"
          },
          {
           "gen_sum": 0,
           "hour": 5,
           "resource": "_solar_photovoltaic_btm"
          },
          {
           "gen_sum": 33.18,
           "hour": 6,
           "resource": "_solar_photovoltaic_btm"
          },
          {
           "gen_sum": 132.66,
           "hour": 7,
           "resource": "_solar_photovoltaic_btm"
          },
          {
           "gen_sum": 286.56,
           "hour": 8,
           "resource": "_solar_photovoltaic_btm"
          },
          {
           "gen_sum": 345.42,
           "hour": 9,
           "resource": "_solar_photovoltaic_btm"
          },
          {
           "gen_sum": 362.34,
           "hour": 10,
           "resource": "_solar_photovoltaic_btm"
          },
          {
           "gen_sum": 368.34,
           "hour": 11,
           "resource": "_solar_photovoltaic_btm"
          },
          {
           "gen_sum": 386.76,
           "hour": 12,
           "resource": "_solar_photovoltaic_btm"
          },
          {
           "gen_sum": 387.29999999999995,
           "hour": 13,
           "resource": "_solar_photovoltaic_btm"
          },
          {
           "gen_sum": 374.46,
           "hour": 14,
           "resource": "_solar_photovoltaic_btm"
          },
          {
           "gen_sum": 341.7,
           "hour": 15,
           "resource": "_solar_photovoltaic_btm"
          },
          {
           "gen_sum": 325.8,
           "hour": 16,
           "resource": "_solar_photovoltaic_btm"
          },
          {
           "gen_sum": 200.52,
           "hour": 17,
           "resource": "_solar_photovoltaic_btm"
          },
          {
           "gen_sum": 33,
           "hour": 18,
           "resource": "_solar_photovoltaic_btm"
          },
          {
           "gen_sum": 0,
           "hour": 19,
           "resource": "_solar_photovoltaic_btm"
          },
          {
           "gen_sum": 0,
           "hour": 20,
           "resource": "_solar_photovoltaic_btm"
          },
          {
           "gen_sum": 0,
           "hour": 21,
           "resource": "_solar_photovoltaic_btm"
          },
          {
           "gen_sum": 0,
           "hour": 22,
           "resource": "_solar_photovoltaic_btm"
          },
          {
           "gen_sum": 0,
           "hour": 23,
           "resource": "_solar_photovoltaic_btm"
          },
          {
           "gen_sum": 0,
           "hour": 0,
           "resource": "_curtailment"
          },
          {
           "gen_sum": 0,
           "hour": 1,
           "resource": "_curtailment"
          },
          {
           "gen_sum": 0,
           "hour": 2,
           "resource": "_curtailment"
          },
          {
           "gen_sum": 0,
           "hour": 3,
           "resource": "_curtailment"
          },
          {
           "gen_sum": 0,
           "hour": 4,
           "resource": "_curtailment"
          },
          {
           "gen_sum": 0,
           "hour": 5,
           "resource": "_curtailment"
          },
          {
           "gen_sum": 0,
           "hour": 6,
           "resource": "_curtailment"
          },
          {
           "gen_sum": 0,
           "hour": 7,
           "resource": "_curtailment"
          },
          {
           "gen_sum": 0,
           "hour": 8,
           "resource": "_curtailment"
          },
          {
           "gen_sum": 0,
           "hour": 9,
           "resource": "_curtailment"
          },
          {
           "gen_sum": 0,
           "hour": 10,
           "resource": "_curtailment"
          },
          {
           "gen_sum": 0,
           "hour": 11,
           "resource": "_curtailment"
          },
          {
           "gen_sum": 0,
           "hour": 12,
           "resource": "_curtailment"
          },
          {
           "gen_sum": 0,
           "hour": 13,
           "resource": "_curtailment"
          },
          {
           "gen_sum": 0,
           "hour": 14,
           "resource": "_curtailment"
          },
          {
           "gen_sum": 0,
           "hour": 15,
           "resource": "_curtailment"
          },
          {
           "gen_sum": 0,
           "hour": 16,
           "resource": "_curtailment"
          },
          {
           "gen_sum": 0,
           "hour": 17,
           "resource": "_curtailment"
          },
          {
           "gen_sum": 0,
           "hour": 18,
           "resource": "_curtailment"
          },
          {
           "gen_sum": 0,
           "hour": 19,
           "resource": "_curtailment"
          },
          {
           "gen_sum": 0,
           "hour": 20,
           "resource": "_curtailment"
          },
          {
           "gen_sum": 0,
           "hour": 21,
           "resource": "_curtailment"
          },
          {
           "gen_sum": 0,
           "hour": 22,
           "resource": "_curtailment"
          },
          {
           "gen_sum": 0,
           "hour": 23,
           "resource": "_curtailment"
          }
         ]
        },
        {
         "name": "data_0",
         "source": "source_0",
         "transform": [
          {
           "as": "hour",
           "expr": "toNumber(datum[\"hour\"])",
           "type": "formula"
          },
          {
           "field": "gen_sum",
           "groupby": [
            "resource"
           ],
           "key": "hour",
           "method": "value",
           "type": "impute",
           "value": 0
          },
          {
           "as": [
            "gen_sum_start",
            "gen_sum_end"
           ],
           "field": "gen_sum",
           "groupby": [
            "hour"
           ],
           "offset": "zero",
           "sort": {
            "field": [
             "resource"
            ],
            "order": [
             "descending"
            ]
           },
           "type": "stack"
          }
         ]
        }
       ],
       "height": 200,
       "legends": [
        {
         "fill": "color",
         "symbolType": "circle",
         "title": "resource"
        }
       ],
       "marks": [
        {
         "encode": {
          "update": {
           "height": {
            "field": {
             "group": "height"
            }
           },
           "width": {
            "field": {
             "group": "width"
            }
           }
          }
         },
         "from": {
          "facet": {
           "data": "data_0",
           "groupby": [
            "resource"
           ],
           "name": "faceted_path_main"
          }
         },
         "marks": [
          {
           "encode": {
            "update": {
             "defined": {
              "signal": "isValid(datum[\"hour\"]) && isFinite(+datum[\"hour\"]) && isValid(datum[\"gen_sum\"]) && isFinite(+datum[\"gen_sum\"])"
             },
             "description": {
              "signal": "\"hour: \" + (format(datum[\"hour\"], \"\")) + \"; gen_sum: \" + (format(datum[\"gen_sum\"], \"\")) + \"; resource: \" + (isValid(datum[\"resource\"]) ? datum[\"resource\"] : \"\"+datum[\"resource\"])"
             },
             "fill": {
              "field": "resource",
              "scale": "color"
             },
             "orient": {
              "value": "vertical"
             },
             "x": {
              "field": "hour",
              "scale": "x"
             },
             "y": {
              "field": "gen_sum_end",
              "scale": "y"
             },
             "y2": {
              "field": "gen_sum_start",
              "scale": "y"
             }
            }
           },
           "from": {
            "data": "faceted_path_main"
           },
           "name": "marks",
           "sort": {
            "field": "datum[\"hour\"]"
           },
           "style": [
            "area"
           ],
           "type": "area"
          }
         ],
         "name": "pathgroup",
         "type": "group"
        }
       ],
       "padding": 5,
       "scales": [
        {
         "domain": {
          "data": "data_0",
          "field": "hour"
         },
         "name": "x",
         "nice": true,
         "range": [
          0,
          {
           "signal": "width"
          }
         ],
         "type": "linear",
         "zero": false
        },
        {
         "domain": {
          "data": "data_0",
          "fields": [
           "gen_sum_start",
           "gen_sum_end"
          ]
         },
         "name": "y",
         "nice": true,
         "range": [
          {
           "signal": "height"
          },
          0
         ],
         "type": "linear",
         "zero": true
        },
        {
         "domain": {
          "data": "data_0",
          "field": "resource",
          "sort": true
         },
         "name": "color",
         "range": {
          "scheme": "category10"
         },
         "type": "ordinal"
        }
       ],
       "style": "cell",
       "width": 200
      },
      "image/png": "[encoded data removed]",
      "image/svg+xml": [
       "<svg xmlns=\"http://www.w3.org/2000/svg\" xmlns:xlink=\"http://www.w3.org/1999/xlink\" version=\"1.1\" class=\"marks\" width=\"450\" height=\"242\" viewBox=\"0 0 450 242\"><rect width=\"450\" height=\"242\" fill=\"white\"/><g fill=\"none\" stroke-miterlimit=\"10\" transform=\"translate(53,5)\"><g class=\"mark-group role-frame root\" role=\"graphics-object\" aria-roledescription=\"group mark container\"><g transform=\"translate(0,0)\"><path class=\"background\" aria-hidden=\"true\" d=\"M0.5,0.5h200v200h-200Z\" stroke=\"#ddd\"/><g><g class=\"mark-group role-axis\" aria-hidden=\"true\"><g transform=\"translate(0.5,200.5)\"><path class=\"background\" aria-hidden=\"true\" d=\"M0,0h0v0h0Z\" pointer-events=\"none\"/><g><g class=\"mark-rule role-axis-grid\" pointer-events=\"none\"><line transform=\"translate(0,-200)\" x2=\"0\" y2=\"200\" stroke=\"#ddd\" stroke-width=\"1\" opacity=\"1\"/><line transform=\"translate(42,-200)\" x2=\"0\" y2=\"200\" stroke=\"#ddd\" stroke-width=\"1\" opacity=\"1\"/><line transform=\"translate(83,-200)\" x2=\"0\" y2=\"200\" stroke=\"#ddd\" stroke-width=\"1\" opacity=\"1\"/><line transform=\"translate(125,-200)\" x2=\"0\" y2=\"200\" stroke=\"#ddd\" stroke-width=\"1\" opacity=\"1\"/><line transform=\"translate(167,-200)\" x2=\"0\" y2=\"200\" stroke=\"#ddd\" stroke-width=\"1\" opacity=\"1\"/></g></g><path class=\"foreground\" aria-hidden=\"true\" d=\"\" pointer-events=\"none\" display=\"none\"/></g></g><g class=\"mark-group role-axis\" aria-hidden=\"true\"><g transform=\"translate(0.5,0.5)\"><path class=\"background\" aria-hidden=\"true\" d=\"M0,0h0v0h0Z\" pointer-events=\"none\"/><g><g class=\"mark-rule role-axis-grid\" pointer-events=\"none\"><line transform=\"translate(0,200)\" x2=\"200\" y2=\"0\" stroke=\"#ddd\" stroke-width=\"1\" opacity=\"1\"/><line transform=\"translate(0,162)\" x2=\"200\" y2=\"0\" stroke=\"#ddd\" stroke-width=\"1\" opacity=\"1\"/><line transform=\"translate(0,123)\" x2=\"200\" y2=\"0\" stroke=\"#ddd\" stroke-width=\"1\" opacity=\"1\"/><line transform=\"translate(0,85)\" x2=\"200\" y2=\"0\" stroke=\"#ddd\" stroke-width=\"1\" opacity=\"1\"/><line transform=\"translate(0,46)\" x2=\"200\" y2=\"0\" stroke=\"#ddd\" stroke-width=\"1\" opacity=\"1\"/><line transform=\"translate(0,8)\" x2=\"200\" y2=\"0\" stroke=\"#ddd\" stroke-width=\"1\" opacity=\"1\"/></g></g><path class=\"foreground\" aria-hidden=\"true\" d=\"\" pointer-events=\"none\" display=\"none\"/></g></g><g class=\"mark-group role-axis\" role=\"graphics-symbol\" aria-roledescription=\"axis\" aria-label=\"X-axis titled 'hour' for a linear scale with values from 0 to 24\"><g transform=\"translate(0.5,200.5)\"><path class=\"background\" aria-hidden=\"true\" d=\"M0,0h0v0h0Z\" pointer-events=\"none\"/><g><g class=\"mark-rule role-axis-tick\" pointer-events=\"none\"><line transform=\"translate(0,0)\" x2=\"0\" y2=\"5\" stroke=\"#888\" stroke-width=\"1\" opacity=\"1\"/><line transform=\"translate(42,0)\" x2=\"0\" y2=\"5\" stroke=\"#888\" stroke-width=\"1\" opacity=\"1\"/><line transform=\"translate(83,0)\" x2=\"0\" y2=\"5\" stroke=\"#888\" stroke-width=\"1\" opacity=\"1\"/><line transform=\"translate(125,0)\" x2=\"0\" y2=\"5\" stroke=\"#888\" stroke-width=\"1\" opacity=\"1\"/><line transform=\"translate(167,0)\" x2=\"0\" y2=\"5\" stroke=\"#888\" stroke-width=\"1\" opacity=\"1\"/></g><g class=\"mark-text role-axis-label\" pointer-events=\"none\"><text text-anchor=\"start\" transform=\"translate(0,15)\" font-family=\"sans-serif\" font-size=\"10px\" fill=\"#000\" opacity=\"1\">0</text><text text-anchor=\"middle\" transform=\"translate(41.66666666666667,15)\" font-family=\"sans-serif\" font-size=\"10px\" fill=\"#000\" opacity=\"1\">5</text><text text-anchor=\"middle\" transform=\"translate(83.33333333333334,15)\" font-family=\"sans-serif\" font-size=\"10px\" fill=\"#000\" opacity=\"1\">10</text><text text-anchor=\"middle\" transform=\"translate(125,15)\" font-family=\"sans-serif\" font-size=\"10px\" fill=\"#000\" opacity=\"1\">15</text><text text-anchor=\"middle\" transform=\"translate(166.66666666666669,15)\" font-family=\"sans-serif\" font-size=\"10px\" fill=\"#000\" opacity=\"1\">20</text></g><g class=\"mark-rule role-axis-domain\" pointer-events=\"none\"><line transform=\"translate(0,0)\" x2=\"200\" y2=\"0\" stroke=\"#888\" stroke-width=\"1\" opacity=\"1\"/></g><g class=\"mark-text role-axis-title\" pointer-events=\"none\"><text text-anchor=\"middle\" transform=\"translate(100,30)\" font-family=\"sans-serif\" font-size=\"11px\" font-weight=\"bold\" fill=\"#000\" opacity=\"1\">hour</text></g></g><path class=\"foreground\" aria-hidden=\"true\" d=\"\" pointer-events=\"none\" display=\"none\"/></g></g><g class=\"mark-group role-axis\" role=\"graphics-symbol\" aria-roledescription=\"axis\" aria-label=\"Y-axis titled 'gen_sum' for a linear scale with values from 0 to 2,600\"><g transform=\"translate(0.5,0.5)\"><path class=\"background\" aria-hidden=\"true\" d=\"M0,0h0v0h0Z\" pointer-events=\"none\"/><g><g class=\"mark-rule role-axis-tick\" pointer-events=\"none\"><line transform=\"translate(0,200)\" x2=\"-5\" y2=\"0\" stroke=\"#888\" stroke-width=\"1\" opacity=\"1\"/><line transform=\"translate(0,162)\" x2=\"-5\" y2=\"0\" stroke=\"#888\" stroke-width=\"1\" opacity=\"1\"/><line transform=\"translate(0,123)\" x2=\"-5\" y2=\"0\" stroke=\"#888\" stroke-width=\"1\" opacity=\"1\"/><line transform=\"translate(0,85)\" x2=\"-5\" y2=\"0\" stroke=\"#888\" stroke-width=\"1\" opacity=\"1\"/><line transform=\"translate(0,46)\" x2=\"-5\" y2=\"0\" stroke=\"#888\" stroke-width=\"1\" opacity=\"1\"/><line transform=\"translate(0,8)\" x2=\"-5\" y2=\"0\" stroke=\"#888\" stroke-width=\"1\" opacity=\"1\"/></g><g class=\"mark-text role-axis-label\" pointer-events=\"none\"><text text-anchor=\"end\" transform=\"translate(-7,203)\" font-family=\"sans-serif\" font-size=\"10px\" fill=\"#000\" opacity=\"1\">0</text><text text-anchor=\"end\" transform=\"translate(-7,164.53846153846155)\" font-family=\"sans-serif\" font-size=\"10px\" fill=\"#000\" opacity=\"1\">500</text><text text-anchor=\"end\" transform=\"translate(-7,126.07692307692308)\" font-family=\"sans-serif\" font-size=\"10px\" fill=\"#000\" opacity=\"1\">1,000</text><text text-anchor=\"end\" transform=\"translate(-7,87.61538461538463)\" font-family=\"sans-serif\" font-size=\"10px\" fill=\"#000\" opacity=\"1\">1,500</text><text text-anchor=\"end\" transform=\"translate(-7,49.153846153846146)\" font-family=\"sans-serif\" font-size=\"10px\" fill=\"#000\" opacity=\"1\">2,000</text><text text-anchor=\"end\" transform=\"translate(-7,10.692307692307686)\" font-family=\"sans-serif\" font-size=\"10px\" fill=\"#000\" opacity=\"1\">2,500</text></g><g class=\"mark-rule role-axis-domain\" pointer-events=\"none\"><line transform=\"translate(0,200)\" x2=\"0\" y2=\"-200\" stroke=\"#888\" stroke-width=\"1\" opacity=\"1\"/></g><g class=\"mark-text role-axis-title\" pointer-events=\"none\"><text text-anchor=\"middle\" transform=\"translate(-36.0244140625,100) rotate(-90) translate(0,-2)\" font-family=\"sans-serif\" font-size=\"11px\" font-weight=\"bold\" fill=\"#000\" opacity=\"1\">gen_sum</text></g></g><path class=\"foreground\" aria-hidden=\"true\" d=\"\" pointer-events=\"none\" display=\"none\"/></g></g><g class=\"mark-group role-scope pathgroup\" role=\"graphics-object\" aria-roledescription=\"group mark container\"><g transform=\"translate(0,0)\"><path class=\"background\" aria-hidden=\"true\" d=\"M0,0h200v200h-200Z\"/><g><g class=\"mark-area role-mark marks\" role=\"graphics-object\" aria-roledescription=\"area mark container\"><path aria-label=\"hour: 0; gen_sum: 21.4; resource: biomass\" role=\"graphics-symbol\" aria-roledescription=\"area mark\" d=\"M0,129.985L8.333,133.639L16.667,131.577L25,128.28L33.333,118.054L41.667,109.673L50,100.354L58.333,113.838L66.667,159.086L75,165.886L83.333,164.612L91.667,173.535L100,187.948L108.333,192.98L116.667,192.307L125,187.899L133.333,177.445L141.667,145.109L150,95.269L158.333,79.808L166.667,82.212L175,94.651L183.333,112.059L191.667,124.542L191.667,126.188L183.333,113.705L175,96.297L166.667,83.858L158.333,81.454L150,96.915L141.667,146.755L133.333,177.445L125,189.545L116.667,192.307L108.333,192.98L100,189.594L91.667,175.181L83.333,166.258L75,167.532L66.667,160.732L58.333,115.484L50,102L41.667,111.32L33.333,119.7L25,129.926L16.667,133.223L8.333,135.285L0,131.631Z\" fill=\"#8c564b\"/></g></g><path class=\"foreground\" aria-hidden=\"true\" d=\"\" display=\"none\"/></g><g transform=\"translate(0,0)\"><path class=\"background\" aria-hidden=\"true\" d=\"M0,0h200v200h-200Z\"/><g><g class=\"mark-area role-mark marks\" role=\"graphics-object\" aria-roledescription=\"area mark container\"><path aria-label=\"hour: 0; gen_sum: 100; resource: hydroelectric_pumped_storage\" role=\"graphics-symbol\" aria-roledescription=\"area mark\" d=\"M0,131.631L8.333,135.285L16.667,133.223L25,129.926L33.333,119.7L41.667,111.32L50,102L58.333,115.484L66.667,160.732L75,167.532L83.333,166.258L91.667,175.181L100,189.594L108.333,192.98L116.667,192.307L125,189.545L133.333,177.445L141.667,146.755L150,96.915L158.333,81.454L166.667,83.858L175,96.297L183.333,113.705L191.667,126.188L191.667,133.88L183.333,121.397L175,103.99L166.667,91.55L158.333,89.147L150,104.607L141.667,154.447L133.333,183.292L125,197.237L116.667,198.386L108.333,200L100,197.287L91.667,182.873L83.333,173.95L75,175.224L66.667,168.424L58.333,123.177L50,109.693L41.667,119.012L33.333,127.393L25,137.618L16.667,140.915L8.333,142.977L0,139.323Z\" fill=\"#e377c2\"/></g></g><path class=\"foreground\" aria-hidden=\"true\" d=\"\" display=\"none\"/></g><g transform=\"translate(0,0)\"><path class=\"background\" aria-hidden=\"true\" d=\"M0,0h200v200h-200Z\"/><g><g class=\"mark-area role-mark marks\" role=\"graphics-object\" aria-roledescription=\"area mark container\"><path aria-label=\"hour: 0; gen_sum: 788.795; resource: natural_gas_fired_combined_cycle\" role=\"graphics-symbol\" aria-roledescription=\"area mark\" d=\"M0,139.323L8.333,142.977L16.667,140.915L25,137.618L33.333,127.393L41.667,119.012L50,109.693L58.333,123.177L66.667,168.424L75,175.224L83.333,173.95L91.667,182.873L100,197.287L108.333,200L116.667,198.386L125,197.237L133.333,183.292L141.667,154.447L150,104.607L158.333,89.147L166.667,91.55L175,103.99L183.333,121.397L191.667,133.88L191.667,200L183.333,200L175,188.605L166.667,176.166L158.333,173.762L150,189.223L141.667,200L133.333,200L125,197.237L116.667,198.386L108.333,200L100,197.287L91.667,182.873L83.333,195.055L75,200L66.667,200L58.333,197.515L50,194.308L41.667,200L33.333,200L25,200L16.667,200L8.333,200L0,200Z\" fill=\"#7f7f7f\"/></g></g><path class=\"foreground\" aria-hidden=\"true\" d=\"\" display=\"none\"/></g><g transform=\"translate(0,0)\"><path class=\"background\" aria-hidden=\"true\" d=\"M0,0h200v200h-200Z\"/><g><g class=\"mark-area role-mark marks\" role=\"graphics-object\" aria-roledescription=\"area mark container\"><path aria-label=\"hour: 0; gen_sum: 0; resource: natural_gas_fired_combustion_turbine\" role=\"graphics-symbol\" aria-roledescription=\"area mark\" d=\"M0,200L8.333,200L16.667,200L25,200L33.333,200L41.667,200L50,194.308L58.333,197.515L66.667,200L75,200L83.333,195.055L91.667,182.873L100,197.287L108.333,200L116.667,198.386L125,197.237L133.333,200L141.667,200L150,189.223L158.333,173.762L166.667,176.166L175,188.605L183.333,200L191.667,200L191.667,200L183.333,200L175,200L166.667,200L158.333,200L150,200L141.667,200L133.333,200L125,200L116.667,200L108.333,200L100,200L91.667,200L83.333,200L75,200L66.667,200L58.333,200L50,200L41.667,200L33.333,200L25,200L16.667,200L8.333,200L0,200Z\" fill=\"#bcbd22\"/></g></g><path class=\"foreground\" aria-hidden=\"true\" d=\"\" display=\"none\"/></g><g transform=\"translate(0,0)\"><path class=\"background\" aria-hidden=\"true\" d=\"M0,0h200v200h-200Z\"/><g><g class=\"mark-area role-mark marks\" role=\"graphics-object\" aria-roledescription=\"area mark container\"><path aria-label=\"hour: 0; gen_sum: 150.1; resource: _onshore_wind_turbine\" role=\"graphics-symbol\" aria-roledescription=\"area mark\" d=\"M0,116.765L8.333,119.961L16.667,121.765L25,119.497L33.333,110.684L41.667,98.16L50,80.249L58.333,55.95L66.667,31.691L75,17.628L83.333,11.07L91.667,18.958L100,28.879L108.333,32.806L116.667,38.329L125,45.797L133.333,38.001L141.667,54.698L150,68.718L158.333,66.155L166.667,67.855L175,82.235L183.333,98.933L191.667,112.539L191.667,122.868L183.333,110.385L175,92.978L166.667,80.538L158.333,78.135L150,80.48L141.667,63.742L133.333,46.287L125,50.422L116.667,41.809L108.333,37.38L100,32.562L91.667,25.47L83.333,18.932L75,26.93L66.667,43.523L58.333,59.441L50,85.494L41.667,108L33.333,116.381L25,126.606L16.667,129.903L8.333,131.965L0,128.312Z\" fill=\"#ff7f0e\"/></g></g><path class=\"foreground\" aria-hidden=\"true\" d=\"\" display=\"none\"/></g><g transform=\"translate(0,0)\"><path class=\"background\" aria-hidden=\"true\" d=\"M0,0h200v200h-200Z\"/><g><g class=\"mark-area role-mark marks\" role=\"graphics-object\" aria-roledescription=\"area mark container\"><path aria-label=\"hour: 0; gen_sum: 21.755; resource: _small_hydroelectric\" role=\"graphics-symbol\" aria-roledescription=\"area mark\" d=\"M0,128.312L8.333,131.965L16.667,129.903L25,126.606L33.333,116.381L41.667,108L50,85.494L58.333,59.441L66.667,43.523L75,26.93L83.333,18.932L91.667,25.47L100,32.562L108.333,37.38L116.667,41.809L125,50.422L133.333,46.287L141.667,63.742L150,80.48L158.333,78.135L166.667,80.538L175,92.978L183.333,110.385L191.667,122.868L191.667,124.542L183.333,112.059L175,94.651L166.667,82.212L158.333,79.808L150,82.153L141.667,65.415L133.333,47.96L125,52.095L116.667,43.483L108.333,39.053L100,34.236L91.667,27.143L83.333,20.605L75,28.603L66.667,45.197L58.333,61.114L50,87.167L41.667,109.673L33.333,118.054L25,128.28L16.667,131.577L8.333,133.639L0,129.985Z\" fill=\"#2ca02c\"/></g></g><path class=\"foreground\" aria-hidden=\"true\" d=\"\" display=\"none\"/></g><g transform=\"translate(0,0)\"><path class=\"background\" aria-hidden=\"true\" d=\"M0,0h200v200h-200Z\"/><g><g class=\"mark-area role-mark marks\" role=\"graphics-object\" aria-roledescription=\"area mark container\"><path aria-label=\"hour: 0; gen_sum: 0; resource: _solar_photovoltaic\" role=\"graphics-symbol\" aria-roledescription=\"area mark\" d=\"M0,129.985L8.333,133.639L16.667,131.577L25,128.28L33.333,118.054L41.667,109.673L50,87.167L58.333,61.114L66.667,45.197L75,28.603L83.333,20.605L91.667,27.143L100,34.236L108.333,39.053L116.667,43.483L125,52.095L133.333,47.96L141.667,65.415L150,82.153L158.333,79.808L166.667,82.212L175,94.651L183.333,112.059L191.667,124.542L191.667,124.542L183.333,112.059L175,94.651L166.667,82.212L158.333,79.808L150,92.73L141.667,129.684L133.333,152.383L125,161.614L116.667,163.502L108.333,163.188L100,158.197L91.667,145.201L83.333,136.74L75,139.315L66.667,137.043L58.333,103.633L50,97.802L41.667,109.673L33.333,118.054L25,128.28L16.667,131.577L8.333,133.639L0,129.985Z\" fill=\"#d62728\"/></g></g><path class=\"foreground\" aria-hidden=\"true\" d=\"\" display=\"none\"/></g><g transform=\"translate(0,0)\"><path class=\"background\" aria-hidden=\"true\" d=\"M0,0h200v200h-200Z\"/><g><g class=\"mark-area role-mark marks\" role=\"graphics-object\" aria-roledescription=\"area mark container\"><path aria-label=\"hour: 0; gen_sum: 0; resource: _solar_photovoltaic_btm\" role=\"graphics-symbol\" aria-roledescription=\"area mark\" d=\"M0,129.985L8.333,133.639L16.667,131.577L25,128.28L33.333,118.054L41.667,109.673L50,97.802L58.333,103.633L66.667,137.043L75,139.315L83.333,136.74L91.667,145.201L100,158.197L108.333,163.188L116.667,163.502L125,161.614L133.333,152.383L141.667,129.684L150,92.73L158.333,79.808L166.667,82.212L175,94.651L183.333,112.059L191.667,124.542L191.667,124.542L183.333,112.059L175,94.651L166.667,82.212L158.333,79.808L150,95.269L141.667,145.109L133.333,177.445L125,187.899L116.667,192.307L108.333,192.98L100,187.948L91.667,173.535L83.333,164.612L75,165.886L66.667,159.086L58.333,113.838L50,100.354L41.667,109.673L33.333,118.054L25,128.28L16.667,131.577L8.333,133.639L0,129.985Z\" fill=\"#9467bd\"/></g></g><path class=\"foreground\" aria-hidden=\"true\" d=\"\" display=\"none\"/></g><g transform=\"translate(0,0)\"><path class=\"background\" aria-hidden=\"true\" d=\"M0,0h200v200h-200Z\"/><g><g class=\"mark-area role-mark marks\" role=\"graphics-object\" aria-roledescription=\"area mark container\"><path aria-label=\"hour: 0; gen_sum: 0; resource: _curtailment\" role=\"graphics-symbol\" aria-roledescription=\"area mark\" d=\"M0,116.765L8.333,119.961L16.667,121.765L25,119.497L33.333,110.684L41.667,98.16L50,80.249L58.333,55.95L66.667,31.691L75,17.628L83.333,11.07L91.667,18.958L100,28.879L108.333,32.806L116.667,38.329L125,45.797L133.333,38.001L141.667,54.698L150,68.718L158.333,66.155L166.667,67.855L175,82.235L183.333,98.933L191.667,112.539L191.667,112.539L183.333,98.933L175,82.235L166.667,67.855L158.333,66.155L150,68.718L141.667,54.698L133.333,38.001L125,45.797L116.667,38.329L108.333,32.806L100,28.879L91.667,18.958L83.333,11.07L75,17.628L66.667,31.691L58.333,55.95L50,80.249L41.667,98.16L33.333,110.684L25,119.497L16.667,121.765L8.333,119.961L0,116.765Z\" fill=\"#1f77b4\"/></g></g><path class=\"foreground\" aria-hidden=\"true\" d=\"\" display=\"none\"/></g></g><g class=\"mark-group role-legend\" role=\"graphics-symbol\" aria-roledescription=\"legend\" aria-label=\"Symbol legend titled 'resource' for fill color with 9 values: _curtailment, _onshore_wind_turbine, _small_hydroelectric, _solar_photovoltaic, _solar_photovoltaic_btm, ending with natural_gas_fired_combustion_turbine\"><g transform=\"translate(218,0)\"><path class=\"background\" aria-hidden=\"true\" d=\"M0,0h174v131h-174Z\" pointer-events=\"none\"/><g><g class=\"mark-group role-legend-entry\"><g transform=\"translate(0,16)\"><path class=\"background\" aria-hidden=\"true\" d=\"M0,0h0v0h0Z\" pointer-events=\"none\"/><g><g class=\"mark-group role-scope\" role=\"graphics-object\" aria-roledescription=\"group mark container\"><g transform=\"translate(0,0)\"><path class=\"background\" aria-hidden=\"true\" d=\"M0,0h173.8759765625v11h-173.8759765625Z\" pointer-events=\"none\" opacity=\"1\"/><g><g class=\"mark-symbol role-legend-symbol\" pointer-events=\"none\"><path transform=\"translate(6,6)\" d=\"M5,0A5,5,0,1,1,-5,0A5,5,0,1,1,5,0\" fill=\"#1f77b4\" stroke-width=\"1.5\" opacity=\"1\"/></g><g class=\"mark-text role-legend-label\" pointer-events=\"none\"><text text-anchor=\"start\" transform=\"translate(16,9)\" font-family=\"sans-serif\" font-size=\"10px\" fill=\"#000\" opacity=\"1\">_curtailment</text></g></g><path class=\"foreground\" aria-hidden=\"true\" d=\"\" pointer-events=\"none\" display=\"none\"/></g><g transform=\"translate(0,13)\"><path class=\"background\" aria-hidden=\"true\" d=\"M0,0h173.8759765625v11h-173.8759765625Z\" pointer-events=\"none\" opacity=\"1\"/><g><g class=\"mark-symbol role-legend-symbol\" pointer-events=\"none\"><path transform=\"translate(6,6)\" d=\"M5,0A5,5,0,1,1,-5,0A5,5,0,1,1,5,0\" fill=\"#ff7f0e\" stroke-width=\"1.5\" opacity=\"1\"/></g><g class=\"mark-text role-legend-label\" pointer-events=\"none\"><text text-anchor=\"start\" transform=\"translate(16,9)\" font-family=\"sans-serif\" font-size=\"10px\" fill=\"#000\" opacity=\"1\">_onshore_wind_turbine</text></g></g><path class=\"foreground\" aria-hidden=\"true\" d=\"\" pointer-events=\"none\" display=\"none\"/></g><g transform=\"translate(0,26)\"><path class=\"background\" aria-hidden=\"true\" d=\"M0,0h173.8759765625v11h-173.8759765625Z\" pointer-events=\"none\" opacity=\"1\"/><g><g class=\"mark-symbol role-legend-symbol\" pointer-events=\"none\"><path transform=\"translate(6,6)\" d=\"M5,0A5,5,0,1,1,-5,0A5,5,0,1,1,5,0\" fill=\"#2ca02c\" stroke-width=\"1.5\" opacity=\"1\"/></g><g class=\"mark-text role-legend-label\" pointer-events=\"none\"><text text-anchor=\"start\" transform=\"translate(16,9)\" font-family=\"sans-serif\" font-size=\"10px\" fill=\"#000\" opacity=\"1\">_small_hydroelectric</text></g></g><path class=\"foreground\" aria-hidden=\"true\" d=\"\" pointer-events=\"none\" display=\"none\"/></g><g transform=\"translate(0,39)\"><path class=\"background\" aria-hidden=\"true\" d=\"M0,0h173.8759765625v11h-173.8759765625Z\" pointer-events=\"none\" opacity=\"1\"/><g><g class=\"mark-symbol role-legend-symbol\" pointer-events=\"none\"><path transform=\"translate(6,6)\" d=\"M5,0A5,5,0,1,1,-5,0A5,5,0,1,1,5,0\" fill=\"#d62728\" stroke-width=\"1.5\" opacity=\"1\"/></g><g class=\"mark-text role-legend-label\" pointer-events=\"none\"><text text-anchor=\"start\" transform=\"translate(16,9)\" font-family=\"sans-serif\" font-size=\"10px\" fill=\"#000\" opacity=\"1\">_solar_photovoltaic</text></g></g><path class=\"foreground\" aria-hidden=\"true\" d=\"\" pointer-events=\"none\" display=\"none\"/></g><g transform=\"translate(0,52)\"><path class=\"background\" aria-hidden=\"true\" d=\"M0,0h173.8759765625v11h-173.8759765625Z\" pointer-events=\"none\" opacity=\"1\"/><g><g class=\"mark-symbol role-legend-symbol\" pointer-events=\"none\"><path transform=\"translate(6,6)\" d=\"M5,0A5,5,0,1,1,-5,0A5,5,0,1,1,5,0\" fill=\"#9467bd\" stroke-width=\"1.5\" opacity=\"1\"/></g><g class=\"mark-text role-legend-label\" pointer-events=\"none\"><text text-anchor=\"start\" transform=\"translate(16,9)\" font-family=\"sans-serif\" font-size=\"10px\" fill=\"#000\" opacity=\"1\">_solar_photovoltaic_btm</text></g></g><path class=\"foreground\" aria-hidden=\"true\" d=\"\" pointer-events=\"none\" display=\"none\"/></g><g transform=\"translate(0,65)\"><path class=\"background\" aria-hidden=\"true\" d=\"M0,0h173.8759765625v11h-173.8759765625Z\" pointer-events=\"none\" opacity=\"1\"/><g><g class=\"mark-symbol role-legend-symbol\" pointer-events=\"none\"><path transform=\"translate(6,6)\" d=\"M5,0A5,5,0,1,1,-5,0A5,5,0,1,1,5,0\" fill=\"#8c564b\" stroke-width=\"1.5\" opacity=\"1\"/></g><g class=\"mark-text role-legend-label\" pointer-events=\"none\"><text text-anchor=\"start\" transform=\"translate(16,9)\" font-family=\"sans-serif\" font-size=\"10px\" fill=\"#000\" opacity=\"1\">biomass</text></g></g><path class=\"foreground\" aria-hidden=\"true\" d=\"\" pointer-events=\"none\" display=\"none\"/></g><g transform=\"translate(0,78)\"><path class=\"background\" aria-hidden=\"true\" d=\"M0,0h173.8759765625v11h-173.8759765625Z\" pointer-events=\"none\" opacity=\"1\"/><g><g class=\"mark-symbol role-legend-symbol\" pointer-events=\"none\"><path transform=\"translate(6,6)\" d=\"M5,0A5,5,0,1,1,-5,0A5,5,0,1,1,5,0\" fill=\"#e377c2\" stroke-width=\"1.5\" opacity=\"1\"/></g><g class=\"mark-text role-legend-label\" pointer-events=\"none\"><text text-anchor=\"start\" transform=\"translate(16,9)\" font-family=\"sans-serif\" font-size=\"10px\" fill=\"#000\" opacity=\"1\">hydroelectric_pumped_storage</text></g></g><path class=\"foreground\" aria-hidden=\"true\" d=\"\" pointer-events=\"none\" display=\"none\"/></g><g transform=\"translate(0,91)\"><path class=\"background\" aria-hidden=\"true\" d=\"M0,0h173.8759765625v11h-173.8759765625Z\" pointer-events=\"none\" opacity=\"1\"/><g><g class=\"mark-symbol role-legend-symbol\" pointer-events=\"none\"><path transform=\"translate(6,6)\" d=\"M5,0A5,5,0,1,1,-5,0A5,5,0,1,1,5,0\" fill=\"#7f7f7f\" stroke-width=\"1.5\" opacity=\"1\"/></g><g class=\"mark-text role-legend-label\" pointer-events=\"none\"><text text-anchor=\"start\" transform=\"translate(16,9)\" font-family=\"sans-serif\" font-size=\"10px\" fill=\"#000\" opacity=\"1\">natural_gas_fired_combined_cycle</text></g></g><path class=\"foreground\" aria-hidden=\"true\" d=\"\" pointer-events=\"none\" display=\"none\"/></g><g transform=\"translate(0,104)\"><path class=\"background\" aria-hidden=\"true\" d=\"M0,0h173.8759765625v11h-173.8759765625Z\" pointer-events=\"none\" opacity=\"1\"/><g><g class=\"mark-symbol role-legend-symbol\" pointer-events=\"none\"><path transform=\"translate(6,6)\" d=\"M5,0A5,5,0,1,1,-5,0A5,5,0,1,1,5,0\" fill=\"#bcbd22\" stroke-width=\"1.5\" opacity=\"1\"/></g><g class=\"mark-text role-legend-label\" pointer-events=\"none\"><text text-anchor=\"start\" transform=\"translate(16,9)\" font-family=\"sans-serif\" font-size=\"10px\" fill=\"#000\" opacity=\"1\">natural_gas_fired_combustion_tu…</text></g></g><path class=\"foreground\" aria-hidden=\"true\" d=\"\" pointer-events=\"none\" display=\"none\"/></g></g></g><path class=\"foreground\" aria-hidden=\"true\" d=\"\" pointer-events=\"none\" display=\"none\"/></g></g><g class=\"mark-text role-legend-title\" pointer-events=\"none\"><text text-anchor=\"start\" transform=\"translate(0,9)\" font-family=\"sans-serif\" font-size=\"11px\" font-weight=\"bold\" fill=\"#000\" opacity=\"1\">resource</text></g></g><path class=\"foreground\" aria-hidden=\"true\" d=\"\" pointer-events=\"none\" display=\"none\"/></g></g></g><path class=\"foreground\" aria-hidden=\"true\" d=\"\" display=\"none\"/></g></g></g></svg>"
      ],
      "text/plain": [
       "@vlplot(\n",
       "    mark=\"area\",\n",
       "    encoding={\n",
       "        x={\n",
       "            field=\"hour\"\n",
       "        },\n",
       "        y={\n",
       "            stack=\"zero\",\n",
       "            field=\"gen_sum\"\n",
       "        },\n",
       "        color={\n",
       "            scale={\n",
       "                scheme=\"category10\"\n",
       "            },\n",
       "            field=\"resource\",\n",
       "            type=\"nominal\"\n",
       "        }\n",
       "    },\n",
       "    data={\n",
       "        values=...\n",
       "    }\n",
       ")"
      ]
     },
     "execution_count": 48,
     "metadata": {},
     "output_type": "execute_result"
    }
   ],
   "source": [
    "# Add in BTM solar and curtailment and plot results\n",
    "\n",
    "sol_gen = innerjoin(solution.gen, \n",
    "                    gen_df[!, [:r_id, :resource]], \n",
    "                    on = :r_id)\n",
    "sol_gen = combine(groupby(sol_gen, [:resource, :hour]), \n",
    "            :gen => sum)\n",
    "\n",
    "# Rename generators (for plotting purposes)\n",
    "sol_gen[sol_gen.resource .== \"solar_photovoltaic\", :resource] .= \"_solar_photovoltaic\"\n",
    "sol_gen[sol_gen.resource .== \"onshore_wind_turbine\", :resource] .= \"_onshore_wind_turbine\"\n",
    "sol_gen[sol_gen.resource .== \"small_hydroelectric\", :resource] .= \"_small_hydroelectric\"\n",
    "\n",
    "# BTM solar\n",
    "btm = DataFrame(resource = repeat([\"_solar_photovoltaic_btm\"]; outer=length(T_period)), \n",
    "    hour = T_period,\n",
    "    gen_sum = gen_variable_multi[gen_variable_multi.gen_full .== \"wec_sdge_solar_photovoltaic_1.0\",:cf] * 600)\n",
    "append!(sol_gen, btm)\n",
    "\n",
    "# Curtailment\n",
    "curtail = combine(groupby(solution.curtail, [:hour]),\n",
    "            :curt => sum)\n",
    "curtail[!, :resource] .= \"_curtailment\"\n",
    "rename!(curtail, :curt_sum => :gen_sum)\n",
    "append!(sol_gen, curtail[:,[:resource, :hour, :gen_sum]])\n",
    "\n",
    "# Rescale hours\n",
    "sol_gen.hour = sol_gen.hour .- T_period[1]\n",
    "\n",
    "sol_gen |>\n",
    "@vlplot(:area, \n",
    "    x=:hour, y={:gen_sum, stack=:zero}, \n",
    "    color={\"resource:n\", scale={scheme=\"category10\"}})"
   ]
  },
  {
   "cell_type": "markdown",
   "metadata": {},
   "source": [
    "## Question 2: Implement pumped hydropower storage\n",
    "\n",
    "In the data, we have a generator `hydroelectric_pumped_storage` which is a pumped hydro storage (PHS) facility. We have been treating it as a free resource, but in fact, it's a battery. \n",
    "\n",
    "The PHS equations for stored water are identical to the state of charge for the battery in Notebook 2:\n",
    "\n",
    "\\begin{align*} \n",
    "SOC_t = SOC_{t-1} + \\big(CHARGE_t * battery\\_eff - \\frac{DISCHARGE_t}{battery\\_eff}\\big)  \\quad \\forall t \\in T\n",
    "\\end{align*}\n",
    "\n",
    "In addition, the PHS has a power capacity constraint given in the dataframe's `existing_cap_mw` variable. You will also need to implement an energy capacity constraint. \n",
    "\n",
    "**A. Code pumped hydropower storage constraints.**\n",
    "\n",
    "Copy the `unit_commitment_simple` code above into a new cell below and rename the function `unit_commitment_storage`.\n",
    "\n",
    "Reviewing [Notebook 2](https://github.com/east-winds/power-systems-optimization/tree/master/Notebooks), add in relevant constraints for charging and discharging pumped hydropower. Assume the following parameters:\n",
    "\n",
    "- One-way efficiency is $battery_{eff} = 0.84$ (i.e., round-trip efficiency = $0.7$)\n",
    "- Energy capacity = 4 x Power capacity\n",
    "- Stored energy starts and ends the day at 50% capacity (you will need to code these constraints)\n",
    "\n",
    "Indicate which equations and variables you have added and explain your steps using inline code comments (e.g. `# Comment`)."
   ]
  },
  {
   "cell_type": "code",
   "execution_count": 49,
   "metadata": {},
   "outputs": [
    {
     "data": {
      "text/plain": [
       "unit_commitment_storage (generic function with 1 method)"
      ]
     },
     "execution_count": 49,
     "metadata": {},
     "output_type": "execute_result"
    }
   ],
   "source": [
    "function unit_commitment_storage(gen_df, loads, gen_variable, mip_gap)\n",
    "    unit_commitment = Model(HiGHS.Optimizer)\n",
    "    set_optimizer_attribute(unit_commitment, \"mip_rel_gap\", mip_gap)\n",
    "    \n",
    "        # Thermal resources for which unit commitment constraints apply\n",
    "    G_thermal = gen_df[gen_df[!,:up_time] .> 0,:r_id] \n",
    "        # Non-thermal resources for which unit commitment constraints do NOT apply \n",
    "    G_nonthermal = gen_df[gen_df[!,:up_time] .== 0,:r_id]\n",
    "        # Variable renewable resources\n",
    "    G_var = gen_df[gen_df[!,:is_variable] .== 1,:r_id]\n",
    "        # Non-variable (dispatchable) resources\n",
    "    G_nonvar = gen_df[gen_df[!,:is_variable] .== 0,:r_id]\n",
    "        # Non-variable and non-thermal resources\n",
    "    G_nt_nonvar = intersect(G_nonvar, G_nonthermal)\n",
    "        # Set of all generators (above are all subsets of this)\n",
    "    G = gen_df.r_id\n",
    "        # All time periods (hours) over which we are optimizing\n",
    "    T = loads.hour\n",
    "        # A subset of time periods that excludes the last time period\n",
    "    T_red = loads.hour[1:end-1]  # reduced time periods without last one\n",
    "\n",
    "    # Generator capacity factor time series for variable generators\n",
    "    gen_var_cf = innerjoin(gen_variable, \n",
    "                    gen_df[gen_df.is_variable .== 1 , \n",
    "                        [:r_id, :gen_full, :existing_cap_mw]], \n",
    "                    on = :gen_full)\n",
    "        \n",
    "    # Decision variables   \n",
    "    @variables(unit_commitment, begin\n",
    "            # Continuous decision variables\n",
    "        GEN[G, T]  >= 0     # generation\n",
    "            # Bin = binary variables; \n",
    "            # the following are all binary decisions that \n",
    "            # can ONLY take the values 0 or 1\n",
    "            # The presence of these discrete decisions makes this an MILP\n",
    "        COMMIT[G_thermal, T], Bin # commitment status (Bin=binary)\n",
    "        START[G_thermal, T], Bin  # startup decision\n",
    "        SHUT[G_thermal, T], Bin   # shutdown decision\n",
    "        SOC[T] >= 0 # state of charge\n",
    "    end)\n",
    "                \n",
    "    # Objective function\n",
    "        # Sum of variable costs + start-up costs for all generators and time periods\n",
    "    @objective(unit_commitment, Min, \n",
    "        sum( (gen_df[gen_df.r_id .== i,:heat_rate_mmbtu_per_mwh][1] * gen_df[gen_df.r_id .== i,:fuel_cost][1] +\n",
    "            gen_df[gen_df.r_id .== i,:var_om_cost_per_mwh][1]) * GEN[i,t] \n",
    "                        for i in G_nonvar for t in T) + \n",
    "        sum(gen_df[gen_df.r_id .== i,:var_om_cost_per_mwh][1] * GEN[i,t] \n",
    "                        for i in G_var for t in T)  + \n",
    "        sum(gen_df[gen_df.r_id .== i,:start_cost_per_mw][1] * \n",
    "            gen_df[gen_df.r_id .== i,:existing_cap_mw][1] *\n",
    "            START[i,t] \n",
    "                        for i in G_thermal for t in T)\n",
    "    )\n",
    "    \n",
    "    # Demand balance constraint (supply must = demand in all time periods)\n",
    "    @constraint(unit_commitment, cDemand[t in T], \n",
    "        sum(GEN[i,t] for i in G) == loads[loads.hour .== t,:demand][1])\n",
    "\n",
    "    # Capacity constraints \n",
    "      # 1. thermal generators requiring commitment\n",
    "    @constraint(unit_commitment, Cap_thermal_min[i in G_thermal, t in T], \n",
    "        GEN[i,t] >= COMMIT[i, t] * gen_df[gen_df.r_id .== i,:existing_cap_mw][1] *\n",
    "                        gen_df[gen_df.r_id .== i,:min_power][1])\n",
    "    @constraint(unit_commitment, Cap_thermal_max[i in G_thermal, t in T], \n",
    "        GEN[i,t] <= COMMIT[i, t] * gen_df[gen_df.r_id .== i,:existing_cap_mw][1])\n",
    "\n",
    "      # 2. non-variable generation not requiring commitment\n",
    "    @constraint(unit_commitment, Cap_nt_nonvar[i in G_nt_nonvar, t in T], \n",
    "        GEN[i,t] <= gen_df[gen_df.r_id .== i,:existing_cap_mw][1])\n",
    "    \n",
    "      # 3. variable generation, accounting for hourly capacity factor\n",
    "    @constraint(unit_commitment, Cap_var[i in 1:nrow(gen_var_cf)], \n",
    "            GEN[gen_var_cf[i,:r_id], gen_var_cf[i,:hour] ] <= \n",
    "                        gen_var_cf[i,:cf] *\n",
    "                        gen_var_cf[i,:existing_cap_mw])\n",
    "    \n",
    "    # Unit commitment constraints\n",
    "      # 1. Minimum up time\n",
    "    @constraint(unit_commitment, Startup[i in G_thermal, t in T],\n",
    "        COMMIT[i, t] >= sum(START[i, tt] \n",
    "                        for tt in intersect(T,\n",
    "                            (t-gen_df[gen_df.r_id .== i,:up_time][1]):t)))\n",
    "\n",
    "      # 2. Minimum down time\n",
    "    @constraint(unit_commitment, Shutdown[i in G_thermal, t in T],\n",
    "        1-COMMIT[i, t] >= sum(SHUT[i, tt] \n",
    "                        for tt in intersect(T,\n",
    "                            (t-gen_df[gen_df.r_id .== i,:down_time][1]):t)))\n",
    " \n",
    "      # 3. Commitment state\n",
    "    @constraint(unit_commitment, CommitmentStatus[i in G_thermal, t in T_red],\n",
    "        COMMIT[i,t+1] - COMMIT[i,t] == START[i,t+1] - SHUT[i,t+1])\n",
    "\n",
    "\n",
    "    \n",
    "    ##PHS charging constraints\n",
    "\n",
    "    battery_eff = 0.84\n",
    "    energy_cap = 4*gen_df[gen_df.resource.==\"hydroelectric_pumped_storage\", :existing_cap_mw][1]\n",
    "    start_charge = 0.5*energy_cap\n",
    "    \n",
    "    #@constraint(unit_commitment, cEnergyCapacity\n",
    "     #   EGEN[t] <= 4*gen_df[gen_df.resource.==\"hydroelectric_pumped_storage\", :existing_cap_mw][1])\n",
    "    # First period state of charge:\n",
    "    @constraint(unit_commitment, cStateOfChargeStart,\n",
    "        SOC[1] == start_charge + (CHARGE[1]*battery_eff - DISCHARGE[1]/battery_eff)\n",
    "        ) \n",
    "\n",
    "    # All other time periods, defined recursively based on prior state of charge:\n",
    "    @constraint(PV_model, cStateOfCharge[t in time_series.T[(time_series.T .> 1)]],\n",
    "        SOC[t] == SOC[t-1] + (CHARGE[t]*battery_eff - DISCHARGE[t]/battery_eff)\n",
    "        );\n",
    "\n",
    "    #last period state of charge\n",
    "    @constraint(PV_model, cStateOfChargeEnd,\n",
    "        SOC[24] == start_charge + (CHARGE[1]*battery_eff - DISCHARGE[1]/battery_eff)\n",
    "        ) \n",
    "    # Solve statement (! indicates runs in place)\n",
    "    optimize!(unit_commitment)\n",
    "\n",
    "    # Generation solution and convert to data frame \n",
    "    # with our helper function defined above\n",
    "    gen = value_to_df_2dim(value.(GEN))\n",
    "\n",
    "    # Commitment status solution and convert to data frame\n",
    "    commit = value_to_df_2dim(value.(COMMIT))\n",
    "\n",
    "    # Calculate curtailment = available wind and/or solar output that \n",
    "    # had to be wasted due to operating constraints\n",
    "    curtail = innerjoin(gen_var_cf, gen, on = [:r_id, :hour])\n",
    "    curtail.curt = curtail.cf .* curtail.existing_cap_mw - curtail.gen\n",
    "    \n",
    "    # Return the solution parameters and objective\n",
    "    return (\n",
    "        gen,\n",
    "        commit,\n",
    "        curtail,\n",
    "        cost = objective_value(unit_commitment),\n",
    "        status = termination_status(unit_commitment)\n",
    "    )\n",
    "\n",
    "end"
   ]
  },
  {
   "cell_type": "code",
   "execution_count": 50,
   "metadata": {},
   "outputs": [
    {
     "name": "stdout",
     "output_type": "stream",
     "text": [
      "Running HiGHS 1.6.0: Copyright (c) 2023 HiGHS under MIT licence terms\n",
      "Presolving model\n",
      "2013 rows, 1707 cols, 6595 nonzeros\n",
      "1791 rows, 1423 cols, 7349 nonzeros\n",
      "\n",
      "Solving MIP model with:\n",
      "   1791 rows\n",
      "   1423 cols (968 binary, 0 integer, 0 implied int., 455 continuous)\n",
      "   7349 nonzeros\n",
      "\n",
      "        Nodes      |    B&B Tree     |            Objective Bounds              |  Dynamic Constraints |       Work      \n",
      "     Proc. InQueue |  Leaves   Expl. | BestBound       BestSol              Gap |   Cuts   InLp Confl. | LpIters     Time\n",
      "\n",
      "         0       0         0   0.00%   0               inf                  inf        0      0      0         0     0.0s\n",
      "         0       0         0   0.00%   391175.854994   inf                  inf        0      0     13       272     0.1s\n",
      " R       0       0         0   0.00%   394093.23285    396102.047135      0.51%      508     58     50       651     0.1s\n",
      "\n",
      "Solving report\n",
      "  Status            Optimal\n",
      "  Primal bound      396102.047135\n",
      "  Dual bound        394093.23285\n",
      "  Gap               0.507% (tolerance: 1%)\n",
      "  Solution status   feasible\n",
      "                    396102.047135 (objective)\n",
      "                    0 (bound viol.)\n",
      "                    0 (int. viol.)\n",
      "                    0 (row viol.)\n",
      "  Timing            0.13 (total)\n",
      "                    0.03 (presolve)\n",
      "                    0.00 (postsolve)\n",
      "  Nodes             1\n",
      "  LP iterations     651 (total)\n",
      "                    0 (strong br.)\n",
      "                    379 (separation)\n",
      "                    0 (heuristics)\n"
     ]
    }
   ],
   "source": [
    "solution = unit_commitment_simple(\n",
    "    gen_df_sens, loads_multi, gen_variable_multi, 0.01);"
   ]
  },
  {
   "cell_type": "markdown",
   "metadata": {},
   "source": [
    "**B. Solve the new UC with PHS and plot.**\n",
    "\n",
    "Using the above formulation, solve for the same parameters in Problem 1 and plot. For the purposes of plotting, you will want to create two resources&mdash;PHS_charge and PHS_discharge. By convention, you could put PHS_charge on top to indicate this is increasing system load."
   ]
  },
  {
   "cell_type": "code",
   "execution_count": null,
   "metadata": {},
   "outputs": [],
   "source": []
  },
  {
   "cell_type": "markdown",
   "metadata": {},
   "source": [
    "**C. Interpret results**\n",
    "\n",
    "Answer with a few sentences each of the following:\n",
    "\n",
    "1. Compare your results to `unit_commitment_simple`. Have any commitments changed?\n",
    "\n",
    "2. Interpret what is happening with the PHS facility during the day in terms of charging and discharging.\n",
    "\n",
    "3. Has curtailment reduced? (Explain this in the context of the PHS operation.)"
   ]
  },
  {
   "cell_type": "code",
   "execution_count": null,
   "metadata": {},
   "outputs": [],
   "source": []
  }
 ],
 "metadata": {
  "@webio": {
   "lastCommId": null,
   "lastKernelId": null
  },
  "kernelspec": {
   "display_name": "Julia 1.9.3",
   "language": "julia",
   "name": "julia-1.9"
  },
  "language_info": {
   "file_extension": ".jl",
   "mimetype": "application/julia",
   "name": "julia",
   "version": "1.9.3"
  }
 },
 "nbformat": 4,
 "nbformat_minor": 4
}
