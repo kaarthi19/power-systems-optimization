{
 "cells": [
  {
   "cell_type": "markdown",
   "metadata": {},
   "source": [
    "# Homework 4"
   ]
  },
  {
   "cell_type": "markdown",
   "metadata": {},
   "source": [
    "This Notebook builds on the DCOPF model introduced in [Notebook 6](https://github.com/east-winds/power-systems-optimization/tree/master/Notebooks) and incorporates some elements of Economic Dispatch introduced in [Notebook 4](https://github.com/east-winds/power-systems-optimization/tree/master/Notebooks).\n",
    "\n",
    "First, load (or install if necessary) a set of packages you'll need for this assignment..."
   ]
  },
  {
   "cell_type": "code",
   "execution_count": 1,
   "metadata": {},
   "outputs": [],
   "source": [
    "using JuMP\n",
    "using HiGHS\n",
    "using DataFrames\n",
    "using CSV\n",
    "using Plots; plotly();\n",
    "import Pkg;\n",
    "#Pkg.add(\"Clp\");\n",
    "using Clp\n",
    "#Pkg.add(\"GLPK\");\n",
    "using GLPK"
   ]
  },
  {
   "cell_type": "markdown",
   "metadata": {},
   "source": [
    "## Question 1: Modifying IEEE-14\n",
    "\n",
    "**A. Increased generation costs**\n",
    "\n",
    "Copy the IEEE 14 bus system and DCOPF solver function from Notebook 6. In addition, add the following line to the return call of the function:\n",
    "```julia\n",
    "status = termination_status(DCOPF)\n",
    "```\n",
    "This tells you the solver termination status for the problem: e.g. was an optimal solution found, was the solution infeasible, was it unbounded, etc.\n",
    "\n",
    "Make the following change to the system:\n",
    "\n",
    "- Increase the variable cost of Generator 1 to \\$30 / MWh\n",
    "\n",
    "Run the DCOPF and output generation, flows, and prices."
   ]
  },
  {
   "cell_type": "code",
   "execution_count": 2,
   "metadata": {},
   "outputs": [],
   "source": [
    "datadir = joinpath(\"..\",\"Notebooks\",\"ieee_test_cases\") \n",
    "gens = CSV.read(joinpath(datadir,\"Gen14.csv\"), DataFrame);\n",
    "lines = CSV.read(joinpath(datadir,\"Tran14.csv\"), DataFrame);\n",
    "loads = CSV.read(joinpath(datadir,\"Load14.csv\"), DataFrame);\n",
    "\n",
    "# Rename all columns to lowercase (by convention)\n",
    "for f in [gens, lines, loads]\n",
    "    rename!(f,lowercase.(names(f)))\n",
    "end\n",
    "\n",
    "# create generator ids \n",
    "gens.id = 1:nrow(gens);\n",
    "\n",
    "# create line ids \n",
    "lines.id = 1:nrow(lines);\n",
    "# add set of rows for reverse direction with same parameters\n",
    "lines2 = copy(lines)\n",
    "lines2.f = lines2.fromnode\n",
    "lines2.fromnode = lines.tonode\n",
    "lines2.tonode = lines2.f\n",
    "lines2 = lines2[:,names(lines)]\n",
    "append!(lines,lines2)\n",
    "\n",
    "# calculate simple susceptance, ignoring resistance as earlier \n",
    "lines.b = 1 ./ lines.reactance\n",
    "\n",
    "# keep only a single time period\n",
    "loads = loads[:,[\"connnode\",\"interval-1_load\"]]\n",
    "rename!(loads,\"interval-1_load\" => \"demand\");"
   ]
  },
  {
   "cell_type": "code",
   "execution_count": 3,
   "metadata": {},
   "outputs": [
    {
     "data": {
      "text/plain": [
       "1-element view(::Vector{Int64}, [1]) with eltype Int64:\n",
       " 30"
      ]
     },
     "execution_count": 3,
     "metadata": {},
     "output_type": "execute_result"
    }
   ],
   "source": [
    "gens_copy1a = copy(gens)\n",
    "gens_copy1a[gens_copy1a.connnode.==1, :c1] .= 30"
   ]
  },
  {
   "cell_type": "code",
   "execution_count": 4,
   "metadata": {},
   "outputs": [
    {
     "data": {
      "text/html": [
       "<div><div style = \"float: left;\"><span>2×10 DataFrame</span></div><div style = \"clear: both;\"></div></div><div class = \"data-frame\" style = \"overflow-x: scroll;\"><table class = \"data-frame\" style = \"margin-bottom: 6px;\"><thead><tr class = \"header\"><th class = \"rowNumber\" style = \"font-weight: bold; text-align: right;\">Row</th><th style = \"text-align: left;\">connnode</th><th style = \"text-align: left;\">c2</th><th style = \"text-align: left;\">c1</th><th style = \"text-align: left;\">c0</th><th style = \"text-align: left;\">pgmax</th><th style = \"text-align: left;\">pgmin</th><th style = \"text-align: left;\">rgmax</th><th style = \"text-align: left;\">rgmin</th><th style = \"text-align: left;\">pgprev</th><th style = \"text-align: left;\">id</th></tr><tr class = \"subheader headerLastRow\"><th class = \"rowNumber\" style = \"font-weight: bold; text-align: right;\"></th><th title = \"Int64\" style = \"text-align: left;\">Int64</th><th title = \"Float64\" style = \"text-align: left;\">Float64</th><th title = \"Int64\" style = \"text-align: left;\">Int64</th><th title = \"Int64\" style = \"text-align: left;\">Int64</th><th title = \"Int64\" style = \"text-align: left;\">Int64</th><th title = \"Int64\" style = \"text-align: left;\">Int64</th><th title = \"Int64\" style = \"text-align: left;\">Int64</th><th title = \"Int64\" style = \"text-align: left;\">Int64</th><th title = \"Float64\" style = \"text-align: left;\">Float64</th><th title = \"Int64\" style = \"text-align: left;\">Int64</th></tr></thead><tbody><tr><td class = \"rowNumber\" style = \"font-weight: bold; text-align: right;\">1</td><td style = \"text-align: right;\">1</td><td style = \"text-align: right;\">0.0430293</td><td style = \"text-align: right;\">30</td><td style = \"text-align: right;\">0</td><td style = \"text-align: right;\">300</td><td style = \"text-align: right;\">0</td><td style = \"text-align: right;\">100</td><td style = \"text-align: right;\">-100</td><td style = \"text-align: right;\">161.62</td><td style = \"text-align: right;\">1</td></tr><tr><td class = \"rowNumber\" style = \"font-weight: bold; text-align: right;\">2</td><td style = \"text-align: right;\">2</td><td style = \"text-align: right;\">0.25</td><td style = \"text-align: right;\">25</td><td style = \"text-align: right;\">0</td><td style = \"text-align: right;\">140</td><td style = \"text-align: right;\">0</td><td style = \"text-align: right;\">100</td><td style = \"text-align: right;\">-100</td><td style = \"text-align: right;\">97.47</td><td style = \"text-align: right;\">2</td></tr></tbody></table></div>"
      ],
      "text/latex": [
       "\\begin{tabular}{r|cccccccccc}\n",
       "\t& connnode & c2 & c1 & c0 & pgmax & pgmin & rgmax & rgmin & pgprev & id\\\\\n",
       "\t\\hline\n",
       "\t& Int64 & Float64 & Int64 & Int64 & Int64 & Int64 & Int64 & Int64 & Float64 & Int64\\\\\n",
       "\t\\hline\n",
       "\t1 & 1 & 0.0430293 & 30 & 0 & 300 & 0 & 100 & -100 & 161.62 & 1 \\\\\n",
       "\t2 & 2 & 0.25 & 25 & 0 & 140 & 0 & 100 & -100 & 97.47 & 2 \\\\\n",
       "\\end{tabular}\n"
      ],
      "text/plain": [
       "\u001b[1m2×10 DataFrame\u001b[0m\n",
       "\u001b[1m Row \u001b[0m│\u001b[1m connnode \u001b[0m\u001b[1m c2        \u001b[0m\u001b[1m c1    \u001b[0m\u001b[1m c0    \u001b[0m\u001b[1m pgmax \u001b[0m\u001b[1m pgmin \u001b[0m\u001b[1m rgmax \u001b[0m\u001b[1m rgmin \u001b[0m\u001b[1m pgprev  \u001b[0m\u001b[1m\u001b[0m ⋯\n",
       "     │\u001b[90m Int64    \u001b[0m\u001b[90m Float64   \u001b[0m\u001b[90m Int64 \u001b[0m\u001b[90m Int64 \u001b[0m\u001b[90m Int64 \u001b[0m\u001b[90m Int64 \u001b[0m\u001b[90m Int64 \u001b[0m\u001b[90m Int64 \u001b[0m\u001b[90m Float64 \u001b[0m\u001b[90m\u001b[0m ⋯\n",
       "─────┼──────────────────────────────────────────────────────────────────────────\n",
       "   1 │        1  0.0430293     30      0    300      0    100   -100   161.62  ⋯\n",
       "   2 │        2  0.25          25      0    140      0    100   -100    97.47\n",
       "\u001b[36m                                                                1 column omitted\u001b[0m"
      ]
     },
     "execution_count": 4,
     "metadata": {},
     "output_type": "execute_result"
    }
   ],
   "source": [
    "gens_copy1a"
   ]
  },
  {
   "cell_type": "code",
   "execution_count": 5,
   "metadata": {},
   "outputs": [
    {
     "data": {
      "text/plain": [
       "dcopf_ieee (generic function with 1 method)"
      ]
     },
     "execution_count": 5,
     "metadata": {},
     "output_type": "execute_result"
    }
   ],
   "source": [
    "#=\n",
    "Function to solve DC OPF problem using IEEE test cases\n",
    "Inputs:\n",
    "    gen_info -- dataframe with generator info\n",
    "    line_info -- dataframe with transmission lines info\n",
    "    loads  -- dataframe with load info\n",
    "=#\n",
    "function dcopf_ieee(gens, lines, loads)\n",
    "    try \n",
    "        DCOPF = Model(GLPK.Optimizer) # You could use Clp as well, with Clp.Optimizer\n",
    "        \n",
    "        # Define sets based on data\n",
    "          # Set of generator buses\n",
    "        G = gens.connnode\n",
    "        \n",
    "          # Set of all nodes\n",
    "        N = sort(union(unique(lines.fromnode), \n",
    "                unique(lines.tonode)))\n",
    "        \n",
    "          # sets J_i and G_i will be described using dataframe indexing below\n",
    "    \n",
    "        # Define per unit base units for the system \n",
    "        # used to convert from per unit values to standard unit\n",
    "        # values (e.g. p.u. power flows to MW/MVA)\n",
    "        baseMVA = 100 # base MVA is 100 MVA for this system\n",
    "        \n",
    "        # Decision variables   \n",
    "        @variables(DCOPF, begin\n",
    "            GEN[N]  >= 0     # generation        \n",
    "            # Note: we assume Pmin = 0 for all resources for simplicty here\n",
    "            THETA[N]         # voltage phase angle of bus\n",
    "            FLOW[N,N]        # flows between all pairs of nodes\n",
    "        end)\n",
    "        \n",
    "        # Create slack bus with reference angle = 0; use bus 1 with generator\n",
    "        fix(THETA[1],0)\n",
    "                    \n",
    "        # Objective function\n",
    "        @objective(DCOPF, Min, \n",
    "            sum( gens[g,:c1] * GEN[g] for g in G)\n",
    "        )\n",
    "        \n",
    "        # Supply demand balances\n",
    "        @constraint(DCOPF, cBalance[i in N], \n",
    "            sum(GEN[g] for g in gens[gens.connnode .== i,:connnode]) \n",
    "                + sum(load for load in loads[loads.connnode .== i,:demand]) \n",
    "            == sum(FLOW[i,j] for j in lines[lines.fromnode .== i,:tonode])\n",
    "        )\n",
    "    \n",
    "        # Max generation constraint\n",
    "        @constraint(DCOPF, cMaxGen[g in G],\n",
    "                        GEN[g] <= gens[g,:pgmax])\n",
    "        \n",
    "        # Flow constraints on each branch \n",
    "        @constraint(DCOPF, cLineFlows[l in 1:nrow(lines)],\n",
    "                FLOW[lines[l,:fromnode],lines[l,:tonode]] == \n",
    "                baseMVA * lines[l,:b] * \n",
    "                (THETA[lines[l,:fromnode]] - THETA[lines[l,:tonode]])\n",
    "        )\n",
    "        \n",
    "        # Max line flow constraints\n",
    "        @constraint(DCOPF, cLineLimits[l in 1:nrow(lines)], \n",
    "                FLOW[lines[l,:fromnode],lines[l,:tonode]] <=\n",
    "                lines[l,:capacity]\n",
    "        ) \n",
    "    \n",
    "    \n",
    "        # Solve statement (! indicates runs in place)\n",
    "        optimize!(DCOPF)\n",
    "    \n",
    "        # Output variables\n",
    "        generation = DataFrame(\n",
    "            node = gens.connnode,\n",
    "            gen = value.(GEN).data[gens.connnode]\n",
    "            )\n",
    "        \n",
    "        angles = value.(THETA).data\n",
    "        \n",
    "        flows = DataFrame(\n",
    "            fbus = lines.fromnode,\n",
    "            tbus = lines.tonode,\n",
    "            flow = baseMVA * lines.b .* (angles[lines.fromnode] .- \n",
    "                            angles[lines.tonode]))\n",
    "        \n",
    "        # We output the marginal values of the demand constraints, \n",
    "        # which will in fact be the prices to deliver power at a given bus.\n",
    "        prices = DataFrame(\n",
    "            node = N,\n",
    "            value = dual.(cBalance).data)\n",
    "        \n",
    "        # Return the solution and objective as named tuple\n",
    "        return (\n",
    "            generation = generation, \n",
    "            angles,\n",
    "            flows,\n",
    "            prices,\n",
    "            cost = objective_value(DCOPF),\n",
    "            status = termination_status(DCOPF)\n",
    "        )\n",
    "    catch e\n",
    "        status = termination_status(DCOPF)\n",
    "    end\n",
    "end"
   ]
  },
  {
   "cell_type": "code",
   "execution_count": 6,
   "metadata": {},
   "outputs": [
    {
     "data": {
      "text/plain": [
       "OPTIMAL::TerminationStatusCode = 1"
      ]
     },
     "execution_count": 6,
     "metadata": {},
     "output_type": "execute_result"
    }
   ],
   "source": [
    "solution1a = dcopf_ieee(gens_copy1a, lines,loads)\n",
    "solution1a.status\n",
    "#solution.generation"
   ]
  },
  {
   "cell_type": "code",
   "execution_count": 7,
   "metadata": {},
   "outputs": [
    {
     "data": {
      "text/html": [
       "<div><div style = \"float: left;\"><span>2×2 DataFrame</span></div><div style = \"clear: both;\"></div></div><div class = \"data-frame\" style = \"overflow-x: scroll;\"><table class = \"data-frame\" style = \"margin-bottom: 6px;\"><thead><tr class = \"header\"><th class = \"rowNumber\" style = \"font-weight: bold; text-align: right;\">Row</th><th style = \"text-align: left;\">node</th><th style = \"text-align: left;\">gen</th></tr><tr class = \"subheader headerLastRow\"><th class = \"rowNumber\" style = \"font-weight: bold; text-align: right;\"></th><th title = \"Int64\" style = \"text-align: left;\">Int64</th><th title = \"Float64\" style = \"text-align: left;\">Float64</th></tr></thead><tbody><tr><td class = \"rowNumber\" style = \"font-weight: bold; text-align: right;\">1</td><td style = \"text-align: right;\">1</td><td style = \"text-align: right;\">119.0</td></tr><tr><td class = \"rowNumber\" style = \"font-weight: bold; text-align: right;\">2</td><td style = \"text-align: right;\">2</td><td style = \"text-align: right;\">140.0</td></tr></tbody></table></div>"
      ],
      "text/latex": [
       "\\begin{tabular}{r|cc}\n",
       "\t& node & gen\\\\\n",
       "\t\\hline\n",
       "\t& Int64 & Float64\\\\\n",
       "\t\\hline\n",
       "\t1 & 1 & 119.0 \\\\\n",
       "\t2 & 2 & 140.0 \\\\\n",
       "\\end{tabular}\n"
      ],
      "text/plain": [
       "\u001b[1m2×2 DataFrame\u001b[0m\n",
       "\u001b[1m Row \u001b[0m│\u001b[1m node  \u001b[0m\u001b[1m gen     \u001b[0m\n",
       "     │\u001b[90m Int64 \u001b[0m\u001b[90m Float64 \u001b[0m\n",
       "─────┼────────────────\n",
       "   1 │     1    119.0\n",
       "   2 │     2    140.0"
      ]
     },
     "execution_count": 7,
     "metadata": {},
     "output_type": "execute_result"
    }
   ],
   "source": [
    "solution1a.generation"
   ]
  },
  {
   "cell_type": "code",
   "execution_count": 8,
   "metadata": {},
   "outputs": [
    {
     "data": {
      "text/plain": [
       "14-element Vector{Float64}:\n",
       "  0.0\n",
       " -0.03791491976786273\n",
       " -0.18200655970723797\n",
       " -0.1453797728538324\n",
       " -0.12249815256001242\n",
       " -0.22741136081397662\n",
       " -0.20659753163771283\n",
       " -0.20659753163771283\n",
       " -0.23880184324738518\n",
       " -0.2442681772629424\n",
       " -0.239406951515819\n",
       " -0.24660972634711795\n",
       " -0.2494179036348092\n",
       " -0.26611574994200304"
      ]
     },
     "execution_count": 8,
     "metadata": {},
     "output_type": "execute_result"
    }
   ],
   "source": [
    "solution1a.angles"
   ]
  },
  {
   "cell_type": "code",
   "execution_count": 9,
   "metadata": {},
   "outputs": [
    {
     "data": {
      "text/html": [
       "<div><div style = \"float: left;\"><span>14×2 DataFrame</span></div><div style = \"clear: both;\"></div></div><div class = \"data-frame\" style = \"overflow-x: scroll;\"><table class = \"data-frame\" style = \"margin-bottom: 6px;\"><thead><tr class = \"header\"><th class = \"rowNumber\" style = \"font-weight: bold; text-align: right;\">Row</th><th style = \"text-align: left;\">node</th><th style = \"text-align: left;\">value</th></tr><tr class = \"subheader headerLastRow\"><th class = \"rowNumber\" style = \"font-weight: bold; text-align: right;\"></th><th title = \"Int64\" style = \"text-align: left;\">Int64</th><th title = \"Float64\" style = \"text-align: left;\">Float64</th></tr></thead><tbody><tr><td class = \"rowNumber\" style = \"font-weight: bold; text-align: right;\">1</td><td style = \"text-align: right;\">1</td><td style = \"text-align: right;\">30.0</td></tr><tr><td class = \"rowNumber\" style = \"font-weight: bold; text-align: right;\">2</td><td style = \"text-align: right;\">2</td><td style = \"text-align: right;\">30.0</td></tr><tr><td class = \"rowNumber\" style = \"font-weight: bold; text-align: right;\">3</td><td style = \"text-align: right;\">3</td><td style = \"text-align: right;\">30.0</td></tr><tr><td class = \"rowNumber\" style = \"font-weight: bold; text-align: right;\">4</td><td style = \"text-align: right;\">4</td><td style = \"text-align: right;\">30.0</td></tr><tr><td class = \"rowNumber\" style = \"font-weight: bold; text-align: right;\">5</td><td style = \"text-align: right;\">5</td><td style = \"text-align: right;\">30.0</td></tr><tr><td class = \"rowNumber\" style = \"font-weight: bold; text-align: right;\">6</td><td style = \"text-align: right;\">6</td><td style = \"text-align: right;\">30.0</td></tr><tr><td class = \"rowNumber\" style = \"font-weight: bold; text-align: right;\">7</td><td style = \"text-align: right;\">7</td><td style = \"text-align: right;\">30.0</td></tr><tr><td class = \"rowNumber\" style = \"font-weight: bold; text-align: right;\">8</td><td style = \"text-align: right;\">8</td><td style = \"text-align: right;\">30.0</td></tr><tr><td class = \"rowNumber\" style = \"font-weight: bold; text-align: right;\">9</td><td style = \"text-align: right;\">9</td><td style = \"text-align: right;\">30.0</td></tr><tr><td class = \"rowNumber\" style = \"font-weight: bold; text-align: right;\">10</td><td style = \"text-align: right;\">10</td><td style = \"text-align: right;\">30.0</td></tr><tr><td class = \"rowNumber\" style = \"font-weight: bold; text-align: right;\">11</td><td style = \"text-align: right;\">11</td><td style = \"text-align: right;\">30.0</td></tr><tr><td class = \"rowNumber\" style = \"font-weight: bold; text-align: right;\">12</td><td style = \"text-align: right;\">12</td><td style = \"text-align: right;\">30.0</td></tr><tr><td class = \"rowNumber\" style = \"font-weight: bold; text-align: right;\">13</td><td style = \"text-align: right;\">13</td><td style = \"text-align: right;\">30.0</td></tr><tr><td class = \"rowNumber\" style = \"font-weight: bold; text-align: right;\">14</td><td style = \"text-align: right;\">14</td><td style = \"text-align: right;\">30.0</td></tr></tbody></table></div>"
      ],
      "text/latex": [
       "\\begin{tabular}{r|cc}\n",
       "\t& node & value\\\\\n",
       "\t\\hline\n",
       "\t& Int64 & Float64\\\\\n",
       "\t\\hline\n",
       "\t1 & 1 & 30.0 \\\\\n",
       "\t2 & 2 & 30.0 \\\\\n",
       "\t3 & 3 & 30.0 \\\\\n",
       "\t4 & 4 & 30.0 \\\\\n",
       "\t5 & 5 & 30.0 \\\\\n",
       "\t6 & 6 & 30.0 \\\\\n",
       "\t7 & 7 & 30.0 \\\\\n",
       "\t8 & 8 & 30.0 \\\\\n",
       "\t9 & 9 & 30.0 \\\\\n",
       "\t10 & 10 & 30.0 \\\\\n",
       "\t11 & 11 & 30.0 \\\\\n",
       "\t12 & 12 & 30.0 \\\\\n",
       "\t13 & 13 & 30.0 \\\\\n",
       "\t14 & 14 & 30.0 \\\\\n",
       "\\end{tabular}\n"
      ],
      "text/plain": [
       "\u001b[1m14×2 DataFrame\u001b[0m\n",
       "\u001b[1m Row \u001b[0m│\u001b[1m node  \u001b[0m\u001b[1m value   \u001b[0m\n",
       "     │\u001b[90m Int64 \u001b[0m\u001b[90m Float64 \u001b[0m\n",
       "─────┼────────────────\n",
       "   1 │     1     30.0\n",
       "   2 │     2     30.0\n",
       "   3 │     3     30.0\n",
       "   4 │     4     30.0\n",
       "   5 │     5     30.0\n",
       "   6 │     6     30.0\n",
       "   7 │     7     30.0\n",
       "   8 │     8     30.0\n",
       "   9 │     9     30.0\n",
       "  10 │    10     30.0\n",
       "  11 │    11     30.0\n",
       "  12 │    12     30.0\n",
       "  13 │    13     30.0\n",
       "  14 │    14     30.0"
      ]
     },
     "execution_count": 9,
     "metadata": {},
     "output_type": "execute_result"
    }
   ],
   "source": [
    "solution1a.prices"
   ]
  },
  {
   "cell_type": "code",
   "execution_count": 10,
   "metadata": {},
   "outputs": [
    {
     "data": {
      "text/html": [
       "<div><div style = \"float: left;\"><span>40×3 DataFrame</span></div><div style = \"float: right;\"><span style = \"font-style: italic;\">15 rows omitted</span></div><div style = \"clear: both;\"></div></div><div class = \"data-frame\" style = \"overflow-x: scroll;\"><table class = \"data-frame\" style = \"margin-bottom: 6px;\"><thead><tr class = \"header\"><th class = \"rowNumber\" style = \"font-weight: bold; text-align: right;\">Row</th><th style = \"text-align: left;\">fbus</th><th style = \"text-align: left;\">tbus</th><th style = \"text-align: left;\">flow</th></tr><tr class = \"subheader headerLastRow\"><th class = \"rowNumber\" style = \"font-weight: bold; text-align: right;\"></th><th title = \"Int64\" style = \"text-align: left;\">Int64</th><th title = \"Int64\" style = \"text-align: left;\">Int64</th><th title = \"Float64\" style = \"text-align: left;\">Float64</th></tr></thead><tbody><tr><td class = \"rowNumber\" style = \"font-weight: bold; text-align: right;\">1</td><td style = \"text-align: right;\">1</td><td style = \"text-align: right;\">2</td><td style = \"text-align: right;\">64.0779</td></tr><tr><td class = \"rowNumber\" style = \"font-weight: bold; text-align: right;\">2</td><td style = \"text-align: right;\">1</td><td style = \"text-align: right;\">5</td><td style = \"text-align: right;\">54.9221</td></tr><tr><td class = \"rowNumber\" style = \"font-weight: bold; text-align: right;\">3</td><td style = \"text-align: right;\">2</td><td style = \"text-align: right;\">3</td><td style = \"text-align: right;\">72.7846</td></tr><tr><td class = \"rowNumber\" style = \"font-weight: bold; text-align: right;\">4</td><td style = \"text-align: right;\">2</td><td style = \"text-align: right;\">4</td><td style = \"text-align: right;\">60.9488</td></tr><tr><td class = \"rowNumber\" style = \"font-weight: bold; text-align: right;\">5</td><td style = \"text-align: right;\">2</td><td style = \"text-align: right;\">5</td><td style = \"text-align: right;\">48.6446</td></tr><tr><td class = \"rowNumber\" style = \"font-weight: bold; text-align: right;\">6</td><td style = \"text-align: right;\">3</td><td style = \"text-align: right;\">4</td><td style = \"text-align: right;\">-21.4154</td></tr><tr><td class = \"rowNumber\" style = \"font-weight: bold; text-align: right;\">7</td><td style = \"text-align: right;\">4</td><td style = \"text-align: right;\">5</td><td style = \"text-align: right;\">-54.3377</td></tr><tr><td class = \"rowNumber\" style = \"font-weight: bold; text-align: right;\">8</td><td style = \"text-align: right;\">4</td><td style = \"text-align: right;\">7</td><td style = \"text-align: right;\">29.274</td></tr><tr><td class = \"rowNumber\" style = \"font-weight: bold; text-align: right;\">9</td><td style = \"text-align: right;\">4</td><td style = \"text-align: right;\">9</td><td style = \"text-align: right;\">16.7971</td></tr><tr><td class = \"rowNumber\" style = \"font-weight: bold; text-align: right;\">10</td><td style = \"text-align: right;\">5</td><td style = \"text-align: right;\">6</td><td style = \"text-align: right;\">41.6289</td></tr><tr><td class = \"rowNumber\" style = \"font-weight: bold; text-align: right;\">11</td><td style = \"text-align: right;\">6</td><td style = \"text-align: right;\">11</td><td style = \"text-align: right;\">6.03097</td></tr><tr><td class = \"rowNumber\" style = \"font-weight: bold; text-align: right;\">12</td><td style = \"text-align: right;\">6</td><td style = \"text-align: right;\">12</td><td style = \"text-align: right;\">7.50493</td></tr><tr><td class = \"rowNumber\" style = \"font-weight: bold; text-align: right;\">13</td><td style = \"text-align: right;\">6</td><td style = \"text-align: right;\">13</td><td style = \"text-align: right;\">16.893</td></tr><tr><td style = \"text-align: right;\">&vellip;</td><td style = \"text-align: right;\">&vellip;</td><td style = \"text-align: right;\">&vellip;</td><td style = \"text-align: right;\">&vellip;</td></tr><tr><td class = \"rowNumber\" style = \"font-weight: bold; text-align: right;\">29</td><td style = \"text-align: right;\">9</td><td style = \"text-align: right;\">4</td><td style = \"text-align: right;\">-16.7971</td></tr><tr><td class = \"rowNumber\" style = \"font-weight: bold; text-align: right;\">30</td><td style = \"text-align: right;\">6</td><td style = \"text-align: right;\">5</td><td style = \"text-align: right;\">-41.6289</td></tr><tr><td class = \"rowNumber\" style = \"font-weight: bold; text-align: right;\">31</td><td style = \"text-align: right;\">11</td><td style = \"text-align: right;\">6</td><td style = \"text-align: right;\">-6.03097</td></tr><tr><td class = \"rowNumber\" style = \"font-weight: bold; text-align: right;\">32</td><td style = \"text-align: right;\">12</td><td style = \"text-align: right;\">6</td><td style = \"text-align: right;\">-7.50493</td></tr><tr><td class = \"rowNumber\" style = \"font-weight: bold; text-align: right;\">33</td><td style = \"text-align: right;\">13</td><td style = \"text-align: right;\">6</td><td style = \"text-align: right;\">-16.893</td></tr><tr><td class = \"rowNumber\" style = \"font-weight: bold; text-align: right;\">34</td><td style = \"text-align: right;\">8</td><td style = \"text-align: right;\">7</td><td style = \"text-align: right;\">0.0</td></tr><tr><td class = \"rowNumber\" style = \"font-weight: bold; text-align: right;\">35</td><td style = \"text-align: right;\">9</td><td style = \"text-align: right;\">7</td><td style = \"text-align: right;\">-29.274</td></tr><tr><td class = \"rowNumber\" style = \"font-weight: bold; text-align: right;\">36</td><td style = \"text-align: right;\">10</td><td style = \"text-align: right;\">9</td><td style = \"text-align: right;\">-6.46903</td></tr><tr><td class = \"rowNumber\" style = \"font-weight: bold; text-align: right;\">37</td><td style = \"text-align: right;\">14</td><td style = \"text-align: right;\">9</td><td style = \"text-align: right;\">-10.102</td></tr><tr><td class = \"rowNumber\" style = \"font-weight: bold; text-align: right;\">38</td><td style = \"text-align: right;\">11</td><td style = \"text-align: right;\">10</td><td style = \"text-align: right;\">2.53097</td></tr><tr><td class = \"rowNumber\" style = \"font-weight: bold; text-align: right;\">39</td><td style = \"text-align: right;\">13</td><td style = \"text-align: right;\">12</td><td style = \"text-align: right;\">-1.40493</td></tr><tr><td class = \"rowNumber\" style = \"font-weight: bold; text-align: right;\">40</td><td style = \"text-align: right;\">14</td><td style = \"text-align: right;\">13</td><td style = \"text-align: right;\">-4.79796</td></tr></tbody></table></div>"
      ],
      "text/latex": [
       "\\begin{tabular}{r|ccc}\n",
       "\t& fbus & tbus & flow\\\\\n",
       "\t\\hline\n",
       "\t& Int64 & Int64 & Float64\\\\\n",
       "\t\\hline\n",
       "\t1 & 1 & 2 & 64.0779 \\\\\n",
       "\t2 & 1 & 5 & 54.9221 \\\\\n",
       "\t3 & 2 & 3 & 72.7846 \\\\\n",
       "\t4 & 2 & 4 & 60.9488 \\\\\n",
       "\t5 & 2 & 5 & 48.6446 \\\\\n",
       "\t6 & 3 & 4 & -21.4154 \\\\\n",
       "\t7 & 4 & 5 & -54.3377 \\\\\n",
       "\t8 & 4 & 7 & 29.274 \\\\\n",
       "\t9 & 4 & 9 & 16.7971 \\\\\n",
       "\t10 & 5 & 6 & 41.6289 \\\\\n",
       "\t11 & 6 & 11 & 6.03097 \\\\\n",
       "\t12 & 6 & 12 & 7.50493 \\\\\n",
       "\t13 & 6 & 13 & 16.893 \\\\\n",
       "\t14 & 7 & 8 & 0.0 \\\\\n",
       "\t15 & 7 & 9 & 29.274 \\\\\n",
       "\t16 & 9 & 10 & 6.46903 \\\\\n",
       "\t17 & 9 & 14 & 10.102 \\\\\n",
       "\t18 & 10 & 11 & -2.53097 \\\\\n",
       "\t19 & 12 & 13 & 1.40493 \\\\\n",
       "\t20 & 13 & 14 & 4.79796 \\\\\n",
       "\t21 & 2 & 1 & -64.0779 \\\\\n",
       "\t22 & 5 & 1 & -54.9221 \\\\\n",
       "\t23 & 3 & 2 & -72.7846 \\\\\n",
       "\t24 & 4 & 2 & -60.9488 \\\\\n",
       "\t25 & 5 & 2 & -48.6446 \\\\\n",
       "\t26 & 4 & 3 & 21.4154 \\\\\n",
       "\t27 & 5 & 4 & 54.3377 \\\\\n",
       "\t28 & 7 & 4 & -29.274 \\\\\n",
       "\t29 & 9 & 4 & -16.7971 \\\\\n",
       "\t30 & 6 & 5 & -41.6289 \\\\\n",
       "\t$\\dots$ & $\\dots$ & $\\dots$ & $\\dots$ \\\\\n",
       "\\end{tabular}\n"
      ],
      "text/plain": [
       "\u001b[1m40×3 DataFrame\u001b[0m\n",
       "\u001b[1m Row \u001b[0m│\u001b[1m fbus  \u001b[0m\u001b[1m tbus  \u001b[0m\u001b[1m flow      \u001b[0m\n",
       "     │\u001b[90m Int64 \u001b[0m\u001b[90m Int64 \u001b[0m\u001b[90m Float64   \u001b[0m\n",
       "─────┼─────────────────────────\n",
       "   1 │     1      2   64.0779\n",
       "   2 │     1      5   54.9221\n",
       "   3 │     2      3   72.7846\n",
       "   4 │     2      4   60.9488\n",
       "   5 │     2      5   48.6446\n",
       "   6 │     3      4  -21.4154\n",
       "   7 │     4      5  -54.3377\n",
       "   8 │     4      7   29.274\n",
       "   9 │     4      9   16.7971\n",
       "  10 │     5      6   41.6289\n",
       "  11 │     6     11    6.03097\n",
       "  ⋮  │   ⋮      ⋮        ⋮\n",
       "  31 │    11      6   -6.03097\n",
       "  32 │    12      6   -7.50493\n",
       "  33 │    13      6  -16.893\n",
       "  34 │     8      7    0.0\n",
       "  35 │     9      7  -29.274\n",
       "  36 │    10      9   -6.46903\n",
       "  37 │    14      9  -10.102\n",
       "  38 │    11     10    2.53097\n",
       "  39 │    13     12   -1.40493\n",
       "  40 │    14     13   -4.79796\n",
       "\u001b[36m                19 rows omitted\u001b[0m"
      ]
     },
     "execution_count": 10,
     "metadata": {},
     "output_type": "execute_result"
    }
   ],
   "source": [
    "solution1a.flows"
   ]
  },
  {
   "cell_type": "markdown",
   "metadata": {},
   "source": [
    "Regarding the above results, answer the following:\n",
    "\n",
    "- How has generation changed compared to the default system?\n",
    "  **ANS** \n",
    "- What explains the new prices?\n",
    "  **ANS** All prices are equal to the generator 1 because it has not achieved its maximum transmission capacity. The marginal cost of production of generator is 30 dollars per MWh, so all prices are 30."
   ]
  },
  {
   "cell_type": "code",
   "execution_count": null,
   "metadata": {},
   "outputs": [],
   "source": []
  },
  {
   "cell_type": "markdown",
   "metadata": {},
   "source": [
    "**B. Constrained line**\n",
    "\n",
    "Make the following changes to the system:\n",
    "\n",
    "- Increase the variable cost of Generator 1 to \\$30 / MWh\n",
    "- Reduce flow limit on the line connecting 2 and 3 ($l_{23}$) to 70 MW\n",
    "\n",
    "Run the DCOPF and output generation, flows, and prices."
   ]
  },
  {
   "cell_type": "code",
   "execution_count": 11,
   "metadata": {},
   "outputs": [
    {
     "data": {
      "text/plain": [
       "2-element view(::Vector{Int64}, [3, 23]) with eltype Int64:\n",
       " 70\n",
       " 70"
      ]
     },
     "execution_count": 11,
     "metadata": {},
     "output_type": "execute_result"
    }
   ],
   "source": [
    "gens_copy1b = copy(gens)\n",
    "lines_copy1b = copy(lines)\n",
    "\n",
    "gens_copy1b[gens_copy1b.connnode.==1, :c1] .= 30\n",
    "lines_copy1b[lines_copy1b.id.==3, :capacity] .=70"
   ]
  },
  {
   "cell_type": "code",
   "execution_count": 12,
   "metadata": {},
   "outputs": [
    {
     "data": {
      "text/html": [
       "<div><div style = \"float: left;\"><span>40×8 DataFrame</span></div><div style = \"float: right;\"><span style = \"font-style: italic;\">15 rows omitted</span></div><div style = \"clear: both;\"></div></div><div class = \"data-frame\" style = \"overflow-x: scroll;\"><table class = \"data-frame\" style = \"margin-bottom: 6px;\"><thead><tr class = \"header\"><th class = \"rowNumber\" style = \"font-weight: bold; text-align: right;\">Row</th><th style = \"text-align: left;\">fromnode</th><th style = \"text-align: left;\">tonode</th><th style = \"text-align: left;\">resistance</th><th style = \"text-align: left;\">reactance</th><th style = \"text-align: left;\">contingencymarked</th><th style = \"text-align: left;\">capacity</th><th style = \"text-align: left;\">id</th><th style = \"text-align: left;\">b</th></tr><tr class = \"subheader headerLastRow\"><th class = \"rowNumber\" style = \"font-weight: bold; text-align: right;\"></th><th title = \"Int64\" style = \"text-align: left;\">Int64</th><th title = \"Int64\" style = \"text-align: left;\">Int64</th><th title = \"Float64\" style = \"text-align: left;\">Float64</th><th title = \"Float64\" style = \"text-align: left;\">Float64</th><th title = \"Int64\" style = \"text-align: left;\">Int64</th><th title = \"Int64\" style = \"text-align: left;\">Int64</th><th title = \"Int64\" style = \"text-align: left;\">Int64</th><th title = \"Float64\" style = \"text-align: left;\">Float64</th></tr></thead><tbody><tr><td class = \"rowNumber\" style = \"font-weight: bold; text-align: right;\">1</td><td style = \"text-align: right;\">1</td><td style = \"text-align: right;\">2</td><td style = \"text-align: right;\">0.01938</td><td style = \"text-align: right;\">0.05917</td><td style = \"text-align: right;\">1</td><td style = \"text-align: right;\">10000</td><td style = \"text-align: right;\">1</td><td style = \"text-align: right;\">16.9005</td></tr><tr><td class = \"rowNumber\" style = \"font-weight: bold; text-align: right;\">2</td><td style = \"text-align: right;\">1</td><td style = \"text-align: right;\">5</td><td style = \"text-align: right;\">0.05403</td><td style = \"text-align: right;\">0.22304</td><td style = \"text-align: right;\">1</td><td style = \"text-align: right;\">10000</td><td style = \"text-align: right;\">2</td><td style = \"text-align: right;\">4.4835</td></tr><tr><td class = \"rowNumber\" style = \"font-weight: bold; text-align: right;\">3</td><td style = \"text-align: right;\">2</td><td style = \"text-align: right;\">3</td><td style = \"text-align: right;\">0.04699</td><td style = \"text-align: right;\">0.19797</td><td style = \"text-align: right;\">1</td><td style = \"text-align: right;\">70</td><td style = \"text-align: right;\">3</td><td style = \"text-align: right;\">5.05127</td></tr><tr><td class = \"rowNumber\" style = \"font-weight: bold; text-align: right;\">4</td><td style = \"text-align: right;\">2</td><td style = \"text-align: right;\">4</td><td style = \"text-align: right;\">0.05811</td><td style = \"text-align: right;\">0.17632</td><td style = \"text-align: right;\">1</td><td style = \"text-align: right;\">10000</td><td style = \"text-align: right;\">4</td><td style = \"text-align: right;\">5.67151</td></tr><tr><td class = \"rowNumber\" style = \"font-weight: bold; text-align: right;\">5</td><td style = \"text-align: right;\">2</td><td style = \"text-align: right;\">5</td><td style = \"text-align: right;\">0.05695</td><td style = \"text-align: right;\">0.17388</td><td style = \"text-align: right;\">1</td><td style = \"text-align: right;\">10000</td><td style = \"text-align: right;\">5</td><td style = \"text-align: right;\">5.75109</td></tr><tr><td class = \"rowNumber\" style = \"font-weight: bold; text-align: right;\">6</td><td style = \"text-align: right;\">3</td><td style = \"text-align: right;\">4</td><td style = \"text-align: right;\">0.06701</td><td style = \"text-align: right;\">0.17103</td><td style = \"text-align: right;\">1</td><td style = \"text-align: right;\">10000</td><td style = \"text-align: right;\">6</td><td style = \"text-align: right;\">5.84693</td></tr><tr><td class = \"rowNumber\" style = \"font-weight: bold; text-align: right;\">7</td><td style = \"text-align: right;\">4</td><td style = \"text-align: right;\">5</td><td style = \"text-align: right;\">0.01335</td><td style = \"text-align: right;\">0.04211</td><td style = \"text-align: right;\">1</td><td style = \"text-align: right;\">10000</td><td style = \"text-align: right;\">7</td><td style = \"text-align: right;\">23.7473</td></tr><tr><td class = \"rowNumber\" style = \"font-weight: bold; text-align: right;\">8</td><td style = \"text-align: right;\">4</td><td style = \"text-align: right;\">7</td><td style = \"text-align: right;\">0.0</td><td style = \"text-align: right;\">0.20912</td><td style = \"text-align: right;\">1</td><td style = \"text-align: right;\">10000</td><td style = \"text-align: right;\">8</td><td style = \"text-align: right;\">4.78194</td></tr><tr><td class = \"rowNumber\" style = \"font-weight: bold; text-align: right;\">9</td><td style = \"text-align: right;\">4</td><td style = \"text-align: right;\">9</td><td style = \"text-align: right;\">0.0</td><td style = \"text-align: right;\">0.55618</td><td style = \"text-align: right;\">1</td><td style = \"text-align: right;\">10000</td><td style = \"text-align: right;\">9</td><td style = \"text-align: right;\">1.79798</td></tr><tr><td class = \"rowNumber\" style = \"font-weight: bold; text-align: right;\">10</td><td style = \"text-align: right;\">5</td><td style = \"text-align: right;\">6</td><td style = \"text-align: right;\">0.0</td><td style = \"text-align: right;\">0.25202</td><td style = \"text-align: right;\">1</td><td style = \"text-align: right;\">10000</td><td style = \"text-align: right;\">10</td><td style = \"text-align: right;\">3.96794</td></tr><tr><td class = \"rowNumber\" style = \"font-weight: bold; text-align: right;\">11</td><td style = \"text-align: right;\">6</td><td style = \"text-align: right;\">11</td><td style = \"text-align: right;\">0.09498</td><td style = \"text-align: right;\">0.1989</td><td style = \"text-align: right;\">1</td><td style = \"text-align: right;\">10000</td><td style = \"text-align: right;\">11</td><td style = \"text-align: right;\">5.02765</td></tr><tr><td class = \"rowNumber\" style = \"font-weight: bold; text-align: right;\">12</td><td style = \"text-align: right;\">6</td><td style = \"text-align: right;\">12</td><td style = \"text-align: right;\">0.12291</td><td style = \"text-align: right;\">0.25581</td><td style = \"text-align: right;\">1</td><td style = \"text-align: right;\">10000</td><td style = \"text-align: right;\">12</td><td style = \"text-align: right;\">3.90915</td></tr><tr><td class = \"rowNumber\" style = \"font-weight: bold; text-align: right;\">13</td><td style = \"text-align: right;\">6</td><td style = \"text-align: right;\">13</td><td style = \"text-align: right;\">0.06615</td><td style = \"text-align: right;\">0.13027</td><td style = \"text-align: right;\">1</td><td style = \"text-align: right;\">10000</td><td style = \"text-align: right;\">13</td><td style = \"text-align: right;\">7.67636</td></tr><tr><td style = \"text-align: right;\">&vellip;</td><td style = \"text-align: right;\">&vellip;</td><td style = \"text-align: right;\">&vellip;</td><td style = \"text-align: right;\">&vellip;</td><td style = \"text-align: right;\">&vellip;</td><td style = \"text-align: right;\">&vellip;</td><td style = \"text-align: right;\">&vellip;</td><td style = \"text-align: right;\">&vellip;</td><td style = \"text-align: right;\">&vellip;</td></tr><tr><td class = \"rowNumber\" style = \"font-weight: bold; text-align: right;\">29</td><td style = \"text-align: right;\">9</td><td style = \"text-align: right;\">4</td><td style = \"text-align: right;\">0.0</td><td style = \"text-align: right;\">0.55618</td><td style = \"text-align: right;\">1</td><td style = \"text-align: right;\">10000</td><td style = \"text-align: right;\">9</td><td style = \"text-align: right;\">1.79798</td></tr><tr><td class = \"rowNumber\" style = \"font-weight: bold; text-align: right;\">30</td><td style = \"text-align: right;\">6</td><td style = \"text-align: right;\">5</td><td style = \"text-align: right;\">0.0</td><td style = \"text-align: right;\">0.25202</td><td style = \"text-align: right;\">1</td><td style = \"text-align: right;\">10000</td><td style = \"text-align: right;\">10</td><td style = \"text-align: right;\">3.96794</td></tr><tr><td class = \"rowNumber\" style = \"font-weight: bold; text-align: right;\">31</td><td style = \"text-align: right;\">11</td><td style = \"text-align: right;\">6</td><td style = \"text-align: right;\">0.09498</td><td style = \"text-align: right;\">0.1989</td><td style = \"text-align: right;\">1</td><td style = \"text-align: right;\">10000</td><td style = \"text-align: right;\">11</td><td style = \"text-align: right;\">5.02765</td></tr><tr><td class = \"rowNumber\" style = \"font-weight: bold; text-align: right;\">32</td><td style = \"text-align: right;\">12</td><td style = \"text-align: right;\">6</td><td style = \"text-align: right;\">0.12291</td><td style = \"text-align: right;\">0.25581</td><td style = \"text-align: right;\">1</td><td style = \"text-align: right;\">10000</td><td style = \"text-align: right;\">12</td><td style = \"text-align: right;\">3.90915</td></tr><tr><td class = \"rowNumber\" style = \"font-weight: bold; text-align: right;\">33</td><td style = \"text-align: right;\">13</td><td style = \"text-align: right;\">6</td><td style = \"text-align: right;\">0.06615</td><td style = \"text-align: right;\">0.13027</td><td style = \"text-align: right;\">1</td><td style = \"text-align: right;\">10000</td><td style = \"text-align: right;\">13</td><td style = \"text-align: right;\">7.67636</td></tr><tr><td class = \"rowNumber\" style = \"font-weight: bold; text-align: right;\">34</td><td style = \"text-align: right;\">8</td><td style = \"text-align: right;\">7</td><td style = \"text-align: right;\">0.0</td><td style = \"text-align: right;\">0.17615</td><td style = \"text-align: right;\">1</td><td style = \"text-align: right;\">10000</td><td style = \"text-align: right;\">14</td><td style = \"text-align: right;\">5.67698</td></tr><tr><td class = \"rowNumber\" style = \"font-weight: bold; text-align: right;\">35</td><td style = \"text-align: right;\">9</td><td style = \"text-align: right;\">7</td><td style = \"text-align: right;\">0.0</td><td style = \"text-align: right;\">0.11001</td><td style = \"text-align: right;\">1</td><td style = \"text-align: right;\">10000</td><td style = \"text-align: right;\">15</td><td style = \"text-align: right;\">9.09008</td></tr><tr><td class = \"rowNumber\" style = \"font-weight: bold; text-align: right;\">36</td><td style = \"text-align: right;\">10</td><td style = \"text-align: right;\">9</td><td style = \"text-align: right;\">0.03181</td><td style = \"text-align: right;\">0.0845</td><td style = \"text-align: right;\">1</td><td style = \"text-align: right;\">10000</td><td style = \"text-align: right;\">16</td><td style = \"text-align: right;\">11.8343</td></tr><tr><td class = \"rowNumber\" style = \"font-weight: bold; text-align: right;\">37</td><td style = \"text-align: right;\">14</td><td style = \"text-align: right;\">9</td><td style = \"text-align: right;\">0.12711</td><td style = \"text-align: right;\">0.27038</td><td style = \"text-align: right;\">1</td><td style = \"text-align: right;\">10000</td><td style = \"text-align: right;\">17</td><td style = \"text-align: right;\">3.6985</td></tr><tr><td class = \"rowNumber\" style = \"font-weight: bold; text-align: right;\">38</td><td style = \"text-align: right;\">11</td><td style = \"text-align: right;\">10</td><td style = \"text-align: right;\">0.08205</td><td style = \"text-align: right;\">0.19207</td><td style = \"text-align: right;\">1</td><td style = \"text-align: right;\">10000</td><td style = \"text-align: right;\">18</td><td style = \"text-align: right;\">5.20644</td></tr><tr><td class = \"rowNumber\" style = \"font-weight: bold; text-align: right;\">39</td><td style = \"text-align: right;\">13</td><td style = \"text-align: right;\">12</td><td style = \"text-align: right;\">0.22092</td><td style = \"text-align: right;\">0.19988</td><td style = \"text-align: right;\">1</td><td style = \"text-align: right;\">10000</td><td style = \"text-align: right;\">19</td><td style = \"text-align: right;\">5.003</td></tr><tr><td class = \"rowNumber\" style = \"font-weight: bold; text-align: right;\">40</td><td style = \"text-align: right;\">14</td><td style = \"text-align: right;\">13</td><td style = \"text-align: right;\">0.17093</td><td style = \"text-align: right;\">0.34802</td><td style = \"text-align: right;\">1</td><td style = \"text-align: right;\">10000</td><td style = \"text-align: right;\">20</td><td style = \"text-align: right;\">2.8734</td></tr></tbody></table></div>"
      ],
      "text/latex": [
       "\\begin{tabular}{r|cccccccc}\n",
       "\t& fromnode & tonode & resistance & reactance & contingencymarked & capacity & id & b\\\\\n",
       "\t\\hline\n",
       "\t& Int64 & Int64 & Float64 & Float64 & Int64 & Int64 & Int64 & Float64\\\\\n",
       "\t\\hline\n",
       "\t1 & 1 & 2 & 0.01938 & 0.05917 & 1 & 10000 & 1 & 16.9005 \\\\\n",
       "\t2 & 1 & 5 & 0.05403 & 0.22304 & 1 & 10000 & 2 & 4.4835 \\\\\n",
       "\t3 & 2 & 3 & 0.04699 & 0.19797 & 1 & 70 & 3 & 5.05127 \\\\\n",
       "\t4 & 2 & 4 & 0.05811 & 0.17632 & 1 & 10000 & 4 & 5.67151 \\\\\n",
       "\t5 & 2 & 5 & 0.05695 & 0.17388 & 1 & 10000 & 5 & 5.75109 \\\\\n",
       "\t6 & 3 & 4 & 0.06701 & 0.17103 & 1 & 10000 & 6 & 5.84693 \\\\\n",
       "\t7 & 4 & 5 & 0.01335 & 0.04211 & 1 & 10000 & 7 & 23.7473 \\\\\n",
       "\t8 & 4 & 7 & 0.0 & 0.20912 & 1 & 10000 & 8 & 4.78194 \\\\\n",
       "\t9 & 4 & 9 & 0.0 & 0.55618 & 1 & 10000 & 9 & 1.79798 \\\\\n",
       "\t10 & 5 & 6 & 0.0 & 0.25202 & 1 & 10000 & 10 & 3.96794 \\\\\n",
       "\t11 & 6 & 11 & 0.09498 & 0.1989 & 1 & 10000 & 11 & 5.02765 \\\\\n",
       "\t12 & 6 & 12 & 0.12291 & 0.25581 & 1 & 10000 & 12 & 3.90915 \\\\\n",
       "\t13 & 6 & 13 & 0.06615 & 0.13027 & 1 & 10000 & 13 & 7.67636 \\\\\n",
       "\t14 & 7 & 8 & 0.0 & 0.17615 & 1 & 10000 & 14 & 5.67698 \\\\\n",
       "\t15 & 7 & 9 & 0.0 & 0.11001 & 1 & 10000 & 15 & 9.09008 \\\\\n",
       "\t16 & 9 & 10 & 0.03181 & 0.0845 & 1 & 10000 & 16 & 11.8343 \\\\\n",
       "\t17 & 9 & 14 & 0.12711 & 0.27038 & 1 & 10000 & 17 & 3.6985 \\\\\n",
       "\t18 & 10 & 11 & 0.08205 & 0.19207 & 1 & 10000 & 18 & 5.20644 \\\\\n",
       "\t19 & 12 & 13 & 0.22092 & 0.19988 & 1 & 10000 & 19 & 5.003 \\\\\n",
       "\t20 & 13 & 14 & 0.17093 & 0.34802 & 1 & 10000 & 20 & 2.8734 \\\\\n",
       "\t21 & 2 & 1 & 0.01938 & 0.05917 & 1 & 10000 & 1 & 16.9005 \\\\\n",
       "\t22 & 5 & 1 & 0.05403 & 0.22304 & 1 & 10000 & 2 & 4.4835 \\\\\n",
       "\t23 & 3 & 2 & 0.04699 & 0.19797 & 1 & 70 & 3 & 5.05127 \\\\\n",
       "\t24 & 4 & 2 & 0.05811 & 0.17632 & 1 & 10000 & 4 & 5.67151 \\\\\n",
       "\t25 & 5 & 2 & 0.05695 & 0.17388 & 1 & 10000 & 5 & 5.75109 \\\\\n",
       "\t26 & 4 & 3 & 0.06701 & 0.17103 & 1 & 10000 & 6 & 5.84693 \\\\\n",
       "\t27 & 5 & 4 & 0.01335 & 0.04211 & 1 & 10000 & 7 & 23.7473 \\\\\n",
       "\t28 & 7 & 4 & 0.0 & 0.20912 & 1 & 10000 & 8 & 4.78194 \\\\\n",
       "\t29 & 9 & 4 & 0.0 & 0.55618 & 1 & 10000 & 9 & 1.79798 \\\\\n",
       "\t30 & 6 & 5 & 0.0 & 0.25202 & 1 & 10000 & 10 & 3.96794 \\\\\n",
       "\t$\\dots$ & $\\dots$ & $\\dots$ & $\\dots$ & $\\dots$ & $\\dots$ & $\\dots$ & $\\dots$ & $\\dots$ \\\\\n",
       "\\end{tabular}\n"
      ],
      "text/plain": [
       "\u001b[1m40×8 DataFrame\u001b[0m\n",
       "\u001b[1m Row \u001b[0m│\u001b[1m fromnode \u001b[0m\u001b[1m tonode \u001b[0m\u001b[1m resistance \u001b[0m\u001b[1m reactance \u001b[0m\u001b[1m contingencymarked \u001b[0m\u001b[1m capacity \u001b[0m\u001b[1m i\u001b[0m ⋯\n",
       "     │\u001b[90m Int64    \u001b[0m\u001b[90m Int64  \u001b[0m\u001b[90m Float64    \u001b[0m\u001b[90m Float64   \u001b[0m\u001b[90m Int64             \u001b[0m\u001b[90m Int64    \u001b[0m\u001b[90m I\u001b[0m ⋯\n",
       "─────┼──────────────────────────────────────────────────────────────────────────\n",
       "   1 │        1       2     0.01938    0.05917                  1     10000    ⋯\n",
       "   2 │        1       5     0.05403    0.22304                  1     10000\n",
       "   3 │        2       3     0.04699    0.19797                  1        70\n",
       "   4 │        2       4     0.05811    0.17632                  1     10000\n",
       "   5 │        2       5     0.05695    0.17388                  1     10000    ⋯\n",
       "   6 │        3       4     0.06701    0.17103                  1     10000\n",
       "   7 │        4       5     0.01335    0.04211                  1     10000\n",
       "   8 │        4       7     0.0        0.20912                  1     10000\n",
       "   9 │        4       9     0.0        0.55618                  1     10000    ⋯\n",
       "  10 │        5       6     0.0        0.25202                  1     10000\n",
       "  11 │        6      11     0.09498    0.1989                   1     10000\n",
       "  ⋮  │    ⋮        ⋮         ⋮           ⋮              ⋮             ⋮        ⋱\n",
       "  31 │       11       6     0.09498    0.1989                   1     10000\n",
       "  32 │       12       6     0.12291    0.25581                  1     10000    ⋯\n",
       "  33 │       13       6     0.06615    0.13027                  1     10000\n",
       "  34 │        8       7     0.0        0.17615                  1     10000\n",
       "  35 │        9       7     0.0        0.11001                  1     10000\n",
       "  36 │       10       9     0.03181    0.0845                   1     10000    ⋯\n",
       "  37 │       14       9     0.12711    0.27038                  1     10000\n",
       "  38 │       11      10     0.08205    0.19207                  1     10000\n",
       "  39 │       13      12     0.22092    0.19988                  1     10000\n",
       "  40 │       14      13     0.17093    0.34802                  1     10000    ⋯\n",
       "\u001b[36m                                                   2 columns and 19 rows omitted\u001b[0m"
      ]
     },
     "execution_count": 12,
     "metadata": {},
     "output_type": "execute_result"
    }
   ],
   "source": [
    "lines_copy1b"
   ]
  },
  {
   "cell_type": "code",
   "execution_count": 13,
   "metadata": {},
   "outputs": [
    {
     "data": {
      "text/plain": [
       "OPTIMAL::TerminationStatusCode = 1"
      ]
     },
     "execution_count": 13,
     "metadata": {},
     "output_type": "execute_result"
    }
   ],
   "source": [
    "solution1b = dcopf_ieee(gens_copy1b, lines_copy1b,loads)\n",
    "solution1b.status"
   ]
  },
  {
   "cell_type": "code",
   "execution_count": 14,
   "metadata": {},
   "outputs": [
    {
     "data": {
      "text/html": [
       "<div><div style = \"float: left;\"><span>2×2 DataFrame</span></div><div style = \"clear: both;\"></div></div><div class = \"data-frame\" style = \"overflow-x: scroll;\"><table class = \"data-frame\" style = \"margin-bottom: 6px;\"><thead><tr class = \"header\"><th class = \"rowNumber\" style = \"font-weight: bold; text-align: right;\">Row</th><th style = \"text-align: left;\">node</th><th style = \"text-align: left;\">gen</th></tr><tr class = \"subheader headerLastRow\"><th class = \"rowNumber\" style = \"font-weight: bold; text-align: right;\"></th><th title = \"Int64\" style = \"text-align: left;\">Int64</th><th title = \"Float64\" style = \"text-align: left;\">Float64</th></tr></thead><tbody><tr><td class = \"rowNumber\" style = \"font-weight: bold; text-align: right;\">1</td><td style = \"text-align: right;\">1</td><td style = \"text-align: right;\">220.837</td></tr><tr><td class = \"rowNumber\" style = \"font-weight: bold; text-align: right;\">2</td><td style = \"text-align: right;\">2</td><td style = \"text-align: right;\">38.1627</td></tr></tbody></table></div>"
      ],
      "text/latex": [
       "\\begin{tabular}{r|cc}\n",
       "\t& node & gen\\\\\n",
       "\t\\hline\n",
       "\t& Int64 & Float64\\\\\n",
       "\t\\hline\n",
       "\t1 & 1 & 220.837 \\\\\n",
       "\t2 & 2 & 38.1627 \\\\\n",
       "\\end{tabular}\n"
      ],
      "text/plain": [
       "\u001b[1m2×2 DataFrame\u001b[0m\n",
       "\u001b[1m Row \u001b[0m│\u001b[1m node  \u001b[0m\u001b[1m gen      \u001b[0m\n",
       "     │\u001b[90m Int64 \u001b[0m\u001b[90m Float64  \u001b[0m\n",
       "─────┼─────────────────\n",
       "   1 │     1  220.837\n",
       "   2 │     2   38.1627"
      ]
     },
     "execution_count": 14,
     "metadata": {},
     "output_type": "execute_result"
    }
   ],
   "source": [
    "solution1b.generation"
   ]
  },
  {
   "cell_type": "code",
   "execution_count": 15,
   "metadata": {},
   "outputs": [
    {
     "data": {
      "text/plain": [
       "14-element Vector{Float64}:\n",
       "  0.0\n",
       " -0.08841199137462448\n",
       " -0.22699099137462464\n",
       " -0.1856017313746246\n",
       " -0.15928852895264203\n",
       " -0.265368664465032\n",
       " -0.2462042313708681\n",
       " -0.24620423137086814\n",
       " -0.2780848789635744\n",
       " -0.28331560534983047\n",
       " -0.27791883927892164\n",
       " -0.2846717894172209\n",
       " -0.28756182164678\n",
       " -0.30490073480944296"
      ]
     },
     "execution_count": 15,
     "metadata": {},
     "output_type": "execute_result"
    }
   ],
   "source": [
    "solution1b.angles"
   ]
  },
  {
   "cell_type": "code",
   "execution_count": 16,
   "metadata": {},
   "outputs": [
    {
     "data": {
      "text/html": [
       "<div><div style = \"float: left;\"><span>14×2 DataFrame</span></div><div style = \"clear: both;\"></div></div><div class = \"data-frame\" style = \"overflow-x: scroll;\"><table class = \"data-frame\" style = \"margin-bottom: 6px;\"><thead><tr class = \"header\"><th class = \"rowNumber\" style = \"font-weight: bold; text-align: right;\">Row</th><th style = \"text-align: left;\">node</th><th style = \"text-align: left;\">value</th></tr><tr class = \"subheader headerLastRow\"><th class = \"rowNumber\" style = \"font-weight: bold; text-align: right;\"></th><th title = \"Int64\" style = \"text-align: left;\">Int64</th><th title = \"Float64\" style = \"text-align: left;\">Float64</th></tr></thead><tbody><tr><td class = \"rowNumber\" style = \"font-weight: bold; text-align: right;\">1</td><td style = \"text-align: right;\">1</td><td style = \"text-align: right;\">30.0</td></tr><tr><td class = \"rowNumber\" style = \"font-weight: bold; text-align: right;\">2</td><td style = \"text-align: right;\">2</td><td style = \"text-align: right;\">25.0</td></tr><tr><td class = \"rowNumber\" style = \"font-weight: bold; text-align: right;\">3</td><td style = \"text-align: right;\">3</td><td style = \"text-align: right;\">127.287</td></tr><tr><td class = \"rowNumber\" style = \"font-weight: bold; text-align: right;\">4</td><td style = \"text-align: right;\">4</td><td style = \"text-align: right;\">57.6793</td></tr><tr><td class = \"rowNumber\" style = \"font-weight: bold; text-align: right;\">5</td><td style = \"text-align: right;\">5</td><td style = \"text-align: right;\">48.8474</td></tr><tr><td class = \"rowNumber\" style = \"font-weight: bold; text-align: right;\">6</td><td style = \"text-align: right;\">6</td><td style = \"text-align: right;\">51.8507</td></tr><tr><td class = \"rowNumber\" style = \"font-weight: bold; text-align: right;\">7</td><td style = \"text-align: right;\">7</td><td style = \"text-align: right;\">56.0958</td></tr><tr><td class = \"rowNumber\" style = \"font-weight: bold; text-align: right;\">8</td><td style = \"text-align: right;\">8</td><td style = \"text-align: right;\">56.0958</td></tr><tr><td class = \"rowNumber\" style = \"font-weight: bold; text-align: right;\">9</td><td style = \"text-align: right;\">9</td><td style = \"text-align: right;\">55.2628</td></tr><tr><td class = \"rowNumber\" style = \"font-weight: bold; text-align: right;\">10</td><td style = \"text-align: right;\">10</td><td style = \"text-align: right;\">54.6564</td></tr><tr><td class = \"rowNumber\" style = \"font-weight: bold; text-align: right;\">11</td><td style = \"text-align: right;\">11</td><td style = \"text-align: right;\">53.2781</td></tr><tr><td class = \"rowNumber\" style = \"font-weight: bold; text-align: right;\">12</td><td style = \"text-align: right;\">12</td><td style = \"text-align: right;\">52.1203</td></tr><tr><td class = \"rowNumber\" style = \"font-weight: bold; text-align: right;\">13</td><td style = \"text-align: right;\">13</td><td style = \"text-align: right;\">52.331</td></tr><tr><td class = \"rowNumber\" style = \"font-weight: bold; text-align: right;\">14</td><td style = \"text-align: right;\">14</td><td style = \"text-align: right;\">53.9809</td></tr></tbody></table></div>"
      ],
      "text/latex": [
       "\\begin{tabular}{r|cc}\n",
       "\t& node & value\\\\\n",
       "\t\\hline\n",
       "\t& Int64 & Float64\\\\\n",
       "\t\\hline\n",
       "\t1 & 1 & 30.0 \\\\\n",
       "\t2 & 2 & 25.0 \\\\\n",
       "\t3 & 3 & 127.287 \\\\\n",
       "\t4 & 4 & 57.6793 \\\\\n",
       "\t5 & 5 & 48.8474 \\\\\n",
       "\t6 & 6 & 51.8507 \\\\\n",
       "\t7 & 7 & 56.0958 \\\\\n",
       "\t8 & 8 & 56.0958 \\\\\n",
       "\t9 & 9 & 55.2628 \\\\\n",
       "\t10 & 10 & 54.6564 \\\\\n",
       "\t11 & 11 & 53.2781 \\\\\n",
       "\t12 & 12 & 52.1203 \\\\\n",
       "\t13 & 13 & 52.331 \\\\\n",
       "\t14 & 14 & 53.9809 \\\\\n",
       "\\end{tabular}\n"
      ],
      "text/plain": [
       "\u001b[1m14×2 DataFrame\u001b[0m\n",
       "\u001b[1m Row \u001b[0m│\u001b[1m node  \u001b[0m\u001b[1m value    \u001b[0m\n",
       "     │\u001b[90m Int64 \u001b[0m\u001b[90m Float64  \u001b[0m\n",
       "─────┼─────────────────\n",
       "   1 │     1   30.0\n",
       "   2 │     2   25.0\n",
       "   3 │     3  127.287\n",
       "   4 │     4   57.6793\n",
       "   5 │     5   48.8474\n",
       "   6 │     6   51.8507\n",
       "   7 │     7   56.0958\n",
       "   8 │     8   56.0958\n",
       "   9 │     9   55.2628\n",
       "  10 │    10   54.6564\n",
       "  11 │    11   53.2781\n",
       "  12 │    12   52.1203\n",
       "  13 │    13   52.331\n",
       "  14 │    14   53.9809"
      ]
     },
     "execution_count": 16,
     "metadata": {},
     "output_type": "execute_result"
    }
   ],
   "source": [
    "solution1b.prices"
   ]
  },
  {
   "cell_type": "code",
   "execution_count": 17,
   "metadata": {},
   "outputs": [
    {
     "data": {
      "text/html": [
       "<div><div style = \"float: left;\"><span>40×3 DataFrame</span></div><div style = \"float: right;\"><span style = \"font-style: italic;\">15 rows omitted</span></div><div style = \"clear: both;\"></div></div><div class = \"data-frame\" style = \"overflow-x: scroll;\"><table class = \"data-frame\" style = \"margin-bottom: 6px;\"><thead><tr class = \"header\"><th class = \"rowNumber\" style = \"font-weight: bold; text-align: right;\">Row</th><th style = \"text-align: left;\">fbus</th><th style = \"text-align: left;\">tbus</th><th style = \"text-align: left;\">flow</th></tr><tr class = \"subheader headerLastRow\"><th class = \"rowNumber\" style = \"font-weight: bold; text-align: right;\"></th><th title = \"Int64\" style = \"text-align: left;\">Int64</th><th title = \"Int64\" style = \"text-align: left;\">Int64</th><th title = \"Float64\" style = \"text-align: left;\">Float64</th></tr></thead><tbody><tr><td class = \"rowNumber\" style = \"font-weight: bold; text-align: right;\">1</td><td style = \"text-align: right;\">1</td><td style = \"text-align: right;\">2</td><td style = \"text-align: right;\">149.42</td></tr><tr><td class = \"rowNumber\" style = \"font-weight: bold; text-align: right;\">2</td><td style = \"text-align: right;\">1</td><td style = \"text-align: right;\">5</td><td style = \"text-align: right;\">71.417</td></tr><tr><td class = \"rowNumber\" style = \"font-weight: bold; text-align: right;\">3</td><td style = \"text-align: right;\">2</td><td style = \"text-align: right;\">3</td><td style = \"text-align: right;\">70.0</td></tr><tr><td class = \"rowNumber\" style = \"font-weight: bold; text-align: right;\">4</td><td style = \"text-align: right;\">2</td><td style = \"text-align: right;\">4</td><td style = \"text-align: right;\">55.1212</td></tr><tr><td class = \"rowNumber\" style = \"font-weight: bold; text-align: right;\">5</td><td style = \"text-align: right;\">2</td><td style = \"text-align: right;\">5</td><td style = \"text-align: right;\">40.7618</td></tr><tr><td class = \"rowNumber\" style = \"font-weight: bold; text-align: right;\">6</td><td style = \"text-align: right;\">3</td><td style = \"text-align: right;\">4</td><td style = \"text-align: right;\">-24.2</td></tr><tr><td class = \"rowNumber\" style = \"font-weight: bold; text-align: right;\">7</td><td style = \"text-align: right;\">4</td><td style = \"text-align: right;\">5</td><td style = \"text-align: right;\">-62.4868</td></tr><tr><td class = \"rowNumber\" style = \"font-weight: bold; text-align: right;\">8</td><td style = \"text-align: right;\">4</td><td style = \"text-align: right;\">7</td><td style = \"text-align: right;\">28.9798</td></tr><tr><td class = \"rowNumber\" style = \"font-weight: bold; text-align: right;\">9</td><td style = \"text-align: right;\">4</td><td style = \"text-align: right;\">9</td><td style = \"text-align: right;\">16.6283</td></tr><tr><td class = \"rowNumber\" style = \"font-weight: bold; text-align: right;\">10</td><td style = \"text-align: right;\">5</td><td style = \"text-align: right;\">6</td><td style = \"text-align: right;\">42.092</td></tr><tr><td class = \"rowNumber\" style = \"font-weight: bold; text-align: right;\">11</td><td style = \"text-align: right;\">6</td><td style = \"text-align: right;\">11</td><td style = \"text-align: right;\">6.30979</td></tr><tr><td class = \"rowNumber\" style = \"font-weight: bold; text-align: right;\">12</td><td style = \"text-align: right;\">6</td><td style = \"text-align: right;\">12</td><td style = \"text-align: right;\">7.54588</td></tr><tr><td class = \"rowNumber\" style = \"font-weight: bold; text-align: right;\">13</td><td style = \"text-align: right;\">6</td><td style = \"text-align: right;\">13</td><td style = \"text-align: right;\">17.0363</td></tr><tr><td style = \"text-align: right;\">&vellip;</td><td style = \"text-align: right;\">&vellip;</td><td style = \"text-align: right;\">&vellip;</td><td style = \"text-align: right;\">&vellip;</td></tr><tr><td class = \"rowNumber\" style = \"font-weight: bold; text-align: right;\">29</td><td style = \"text-align: right;\">9</td><td style = \"text-align: right;\">4</td><td style = \"text-align: right;\">-16.6283</td></tr><tr><td class = \"rowNumber\" style = \"font-weight: bold; text-align: right;\">30</td><td style = \"text-align: right;\">6</td><td style = \"text-align: right;\">5</td><td style = \"text-align: right;\">-42.092</td></tr><tr><td class = \"rowNumber\" style = \"font-weight: bold; text-align: right;\">31</td><td style = \"text-align: right;\">11</td><td style = \"text-align: right;\">6</td><td style = \"text-align: right;\">-6.30979</td></tr><tr><td class = \"rowNumber\" style = \"font-weight: bold; text-align: right;\">32</td><td style = \"text-align: right;\">12</td><td style = \"text-align: right;\">6</td><td style = \"text-align: right;\">-7.54588</td></tr><tr><td class = \"rowNumber\" style = \"font-weight: bold; text-align: right;\">33</td><td style = \"text-align: right;\">13</td><td style = \"text-align: right;\">6</td><td style = \"text-align: right;\">-17.0363</td></tr><tr><td class = \"rowNumber\" style = \"font-weight: bold; text-align: right;\">34</td><td style = \"text-align: right;\">8</td><td style = \"text-align: right;\">7</td><td style = \"text-align: right;\">-1.57568e-14</td></tr><tr><td class = \"rowNumber\" style = \"font-weight: bold; text-align: right;\">35</td><td style = \"text-align: right;\">9</td><td style = \"text-align: right;\">7</td><td style = \"text-align: right;\">-28.9798</td></tr><tr><td class = \"rowNumber\" style = \"font-weight: bold; text-align: right;\">36</td><td style = \"text-align: right;\">10</td><td style = \"text-align: right;\">9</td><td style = \"text-align: right;\">-6.19021</td></tr><tr><td class = \"rowNumber\" style = \"font-weight: bold; text-align: right;\">37</td><td style = \"text-align: right;\">14</td><td style = \"text-align: right;\">9</td><td style = \"text-align: right;\">-9.91784</td></tr><tr><td class = \"rowNumber\" style = \"font-weight: bold; text-align: right;\">38</td><td style = \"text-align: right;\">11</td><td style = \"text-align: right;\">10</td><td style = \"text-align: right;\">2.80979</td></tr><tr><td class = \"rowNumber\" style = \"font-weight: bold; text-align: right;\">39</td><td style = \"text-align: right;\">13</td><td style = \"text-align: right;\">12</td><td style = \"text-align: right;\">-1.44588</td></tr><tr><td class = \"rowNumber\" style = \"font-weight: bold; text-align: right;\">40</td><td style = \"text-align: right;\">14</td><td style = \"text-align: right;\">13</td><td style = \"text-align: right;\">-4.98216</td></tr></tbody></table></div>"
      ],
      "text/latex": [
       "\\begin{tabular}{r|ccc}\n",
       "\t& fbus & tbus & flow\\\\\n",
       "\t\\hline\n",
       "\t& Int64 & Int64 & Float64\\\\\n",
       "\t\\hline\n",
       "\t1 & 1 & 2 & 149.42 \\\\\n",
       "\t2 & 1 & 5 & 71.417 \\\\\n",
       "\t3 & 2 & 3 & 70.0 \\\\\n",
       "\t4 & 2 & 4 & 55.1212 \\\\\n",
       "\t5 & 2 & 5 & 40.7618 \\\\\n",
       "\t6 & 3 & 4 & -24.2 \\\\\n",
       "\t7 & 4 & 5 & -62.4868 \\\\\n",
       "\t8 & 4 & 7 & 28.9798 \\\\\n",
       "\t9 & 4 & 9 & 16.6283 \\\\\n",
       "\t10 & 5 & 6 & 42.092 \\\\\n",
       "\t11 & 6 & 11 & 6.30979 \\\\\n",
       "\t12 & 6 & 12 & 7.54588 \\\\\n",
       "\t13 & 6 & 13 & 17.0363 \\\\\n",
       "\t14 & 7 & 8 & 1.57568e-14 \\\\\n",
       "\t15 & 7 & 9 & 28.9798 \\\\\n",
       "\t16 & 9 & 10 & 6.19021 \\\\\n",
       "\t17 & 9 & 14 & 9.91784 \\\\\n",
       "\t18 & 10 & 11 & -2.80979 \\\\\n",
       "\t19 & 12 & 13 & 1.44588 \\\\\n",
       "\t20 & 13 & 14 & 4.98216 \\\\\n",
       "\t21 & 2 & 1 & -149.42 \\\\\n",
       "\t22 & 5 & 1 & -71.417 \\\\\n",
       "\t23 & 3 & 2 & -70.0 \\\\\n",
       "\t24 & 4 & 2 & -55.1212 \\\\\n",
       "\t25 & 5 & 2 & -40.7618 \\\\\n",
       "\t26 & 4 & 3 & 24.2 \\\\\n",
       "\t27 & 5 & 4 & 62.4868 \\\\\n",
       "\t28 & 7 & 4 & -28.9798 \\\\\n",
       "\t29 & 9 & 4 & -16.6283 \\\\\n",
       "\t30 & 6 & 5 & -42.092 \\\\\n",
       "\t$\\dots$ & $\\dots$ & $\\dots$ & $\\dots$ \\\\\n",
       "\\end{tabular}\n"
      ],
      "text/plain": [
       "\u001b[1m40×3 DataFrame\u001b[0m\n",
       "\u001b[1m Row \u001b[0m│\u001b[1m fbus  \u001b[0m\u001b[1m tbus  \u001b[0m\u001b[1m flow          \u001b[0m\n",
       "     │\u001b[90m Int64 \u001b[0m\u001b[90m Int64 \u001b[0m\u001b[90m Float64       \u001b[0m\n",
       "─────┼─────────────────────────────\n",
       "   1 │     1      2  149.42\n",
       "   2 │     1      5   71.417\n",
       "   3 │     2      3   70.0\n",
       "   4 │     2      4   55.1212\n",
       "   5 │     2      5   40.7618\n",
       "   6 │     3      4  -24.2\n",
       "   7 │     4      5  -62.4868\n",
       "   8 │     4      7   28.9798\n",
       "   9 │     4      9   16.6283\n",
       "  10 │     5      6   42.092\n",
       "  11 │     6     11    6.30979\n",
       "  ⋮  │   ⋮      ⋮          ⋮\n",
       "  31 │    11      6   -6.30979\n",
       "  32 │    12      6   -7.54588\n",
       "  33 │    13      6  -17.0363\n",
       "  34 │     8      7   -1.57568e-14\n",
       "  35 │     9      7  -28.9798\n",
       "  36 │    10      9   -6.19021\n",
       "  37 │    14      9   -9.91784\n",
       "  38 │    11     10    2.80979\n",
       "  39 │    13     12   -1.44588\n",
       "  40 │    14     13   -4.98216\n",
       "\u001b[36m                    19 rows omitted\u001b[0m"
      ]
     },
     "execution_count": 17,
     "metadata": {},
     "output_type": "execute_result"
    }
   ],
   "source": [
    "solution1b.flows"
   ]
  },
  {
   "cell_type": "markdown",
   "metadata": {},
   "source": [
    "Regarding the above results, answer the following:\n",
    "\n",
    "- Which node has the highest price and why?\n",
    "  **ANS** Node 3 gas the highest price since we are limiting the flow which forces the system to increase the price at Node 3 to redirect the flow through other nodes.\n",
    "- What is the difference in prices across $l_{23}$, also known as the congestion rent? How do you interpret this value (what is it's practical meaning?)\n",
    "  **ANS**The price difference is 102.29 dollars, where congestion rent is the price difference between loads and exports and the revenue received by generators and imports."
   ]
  },
  {
   "cell_type": "code",
   "execution_count": null,
   "metadata": {},
   "outputs": [],
   "source": []
  },
  {
   "cell_type": "markdown",
   "metadata": {},
   "source": [
    "**C. Demand increase**\n",
    "\n",
    "Make the following changes to the system:\n",
    "\n",
    "- Increase the variable cost of Generator 1 to \\$30 / MWh\n",
    "- Reduce flow limit on the line connecting 2 and 3 ($l_{23}$) to 70 MW\n",
    "- Increase demands everywhere by 5\\%."
   ]
  },
  {
   "cell_type": "code",
   "execution_count": 18,
   "metadata": {},
   "outputs": [
    {
     "data": {
      "text/plain": [
       "11-element Vector{Float64}:\n",
       " -22.785\n",
       " -98.91000000000001\n",
       " -50.19\n",
       "  -7.9799999999999995\n",
       " -11.76\n",
       " -30.975\n",
       "  -9.450000000000001\n",
       "  -3.6750000000000003\n",
       "  -6.405\n",
       " -14.175\n",
       " -15.645000000000001"
      ]
     },
     "execution_count": 18,
     "metadata": {},
     "output_type": "execute_result"
    }
   ],
   "source": [
    "gens_copy1c = copy(gens_copy1b)\n",
    "lines_copy1c = copy(lines_copy1b)\n",
    "loads_copy1c = copy(loads)\n",
    "\n",
    "loads_copy1c.demand *= 1.05"
   ]
  },
  {
   "cell_type": "markdown",
   "metadata": {},
   "source": [
    "Calculate the total available generating capacity:"
   ]
  },
  {
   "cell_type": "code",
   "execution_count": 19,
   "metadata": {},
   "outputs": [
    {
     "data": {
      "text/html": [
       "<div><div style = \"float: left;\"><span>11×2 DataFrame</span></div><div style = \"clear: both;\"></div></div><div class = \"data-frame\" style = \"overflow-x: scroll;\"><table class = \"data-frame\" style = \"margin-bottom: 6px;\"><thead><tr class = \"header\"><th class = \"rowNumber\" style = \"font-weight: bold; text-align: right;\">Row</th><th style = \"text-align: left;\">connnode</th><th style = \"text-align: left;\">demand</th></tr><tr class = \"subheader headerLastRow\"><th class = \"rowNumber\" style = \"font-weight: bold; text-align: right;\"></th><th title = \"Int64\" style = \"text-align: left;\">Int64</th><th title = \"Float64\" style = \"text-align: left;\">Float64</th></tr></thead><tbody><tr><td class = \"rowNumber\" style = \"font-weight: bold; text-align: right;\">1</td><td style = \"text-align: right;\">2</td><td style = \"text-align: right;\">-22.785</td></tr><tr><td class = \"rowNumber\" style = \"font-weight: bold; text-align: right;\">2</td><td style = \"text-align: right;\">3</td><td style = \"text-align: right;\">-98.91</td></tr><tr><td class = \"rowNumber\" style = \"font-weight: bold; text-align: right;\">3</td><td style = \"text-align: right;\">4</td><td style = \"text-align: right;\">-50.19</td></tr><tr><td class = \"rowNumber\" style = \"font-weight: bold; text-align: right;\">4</td><td style = \"text-align: right;\">5</td><td style = \"text-align: right;\">-7.98</td></tr><tr><td class = \"rowNumber\" style = \"font-weight: bold; text-align: right;\">5</td><td style = \"text-align: right;\">6</td><td style = \"text-align: right;\">-11.76</td></tr><tr><td class = \"rowNumber\" style = \"font-weight: bold; text-align: right;\">6</td><td style = \"text-align: right;\">9</td><td style = \"text-align: right;\">-30.975</td></tr><tr><td class = \"rowNumber\" style = \"font-weight: bold; text-align: right;\">7</td><td style = \"text-align: right;\">10</td><td style = \"text-align: right;\">-9.45</td></tr><tr><td class = \"rowNumber\" style = \"font-weight: bold; text-align: right;\">8</td><td style = \"text-align: right;\">11</td><td style = \"text-align: right;\">-3.675</td></tr><tr><td class = \"rowNumber\" style = \"font-weight: bold; text-align: right;\">9</td><td style = \"text-align: right;\">12</td><td style = \"text-align: right;\">-6.405</td></tr><tr><td class = \"rowNumber\" style = \"font-weight: bold; text-align: right;\">10</td><td style = \"text-align: right;\">13</td><td style = \"text-align: right;\">-14.175</td></tr><tr><td class = \"rowNumber\" style = \"font-weight: bold; text-align: right;\">11</td><td style = \"text-align: right;\">14</td><td style = \"text-align: right;\">-15.645</td></tr></tbody></table></div>"
      ],
      "text/latex": [
       "\\begin{tabular}{r|cc}\n",
       "\t& connnode & demand\\\\\n",
       "\t\\hline\n",
       "\t& Int64 & Float64\\\\\n",
       "\t\\hline\n",
       "\t1 & 2 & -22.785 \\\\\n",
       "\t2 & 3 & -98.91 \\\\\n",
       "\t3 & 4 & -50.19 \\\\\n",
       "\t4 & 5 & -7.98 \\\\\n",
       "\t5 & 6 & -11.76 \\\\\n",
       "\t6 & 9 & -30.975 \\\\\n",
       "\t7 & 10 & -9.45 \\\\\n",
       "\t8 & 11 & -3.675 \\\\\n",
       "\t9 & 12 & -6.405 \\\\\n",
       "\t10 & 13 & -14.175 \\\\\n",
       "\t11 & 14 & -15.645 \\\\\n",
       "\\end{tabular}\n"
      ],
      "text/plain": [
       "\u001b[1m11×2 DataFrame\u001b[0m\n",
       "\u001b[1m Row \u001b[0m│\u001b[1m connnode \u001b[0m\u001b[1m demand  \u001b[0m\n",
       "     │\u001b[90m Int64    \u001b[0m\u001b[90m Float64 \u001b[0m\n",
       "─────┼───────────────────\n",
       "   1 │        2  -22.785\n",
       "   2 │        3  -98.91\n",
       "   3 │        4  -50.19\n",
       "   4 │        5   -7.98\n",
       "   5 │        6  -11.76\n",
       "   6 │        9  -30.975\n",
       "   7 │       10   -9.45\n",
       "   8 │       11   -3.675\n",
       "   9 │       12   -6.405\n",
       "  10 │       13  -14.175\n",
       "  11 │       14  -15.645"
      ]
     },
     "execution_count": 19,
     "metadata": {},
     "output_type": "execute_result"
    }
   ],
   "source": [
    "loads_copy1c"
   ]
  },
  {
   "cell_type": "markdown",
   "metadata": {},
   "source": [
    "Calculate the new total demand:"
   ]
  },
  {
   "cell_type": "code",
   "execution_count": 20,
   "metadata": {},
   "outputs": [
    {
     "name": "stdout",
     "output_type": "stream",
     "text": [
      "-258.99999999999994\n"
     ]
    }
   ],
   "source": [
    "sum = 0;\n",
    "for i in 1:size(loads,1)\n",
    "    sum = sum + loads.demand[i]\n",
    "end\n",
    "\n",
    "println(sum)"
   ]
  },
  {
   "cell_type": "markdown",
   "metadata": {},
   "source": [
    "Run the DCOPF and show prices."
   ]
  },
  {
   "cell_type": "code",
   "execution_count": 21,
   "metadata": {},
   "outputs": [
    {
     "data": {
      "text/plain": [
       "INFEASIBLE::TerminationStatusCode = 2"
      ]
     },
     "execution_count": 21,
     "metadata": {},
     "output_type": "execute_result"
    }
   ],
   "source": [
    "solution1c = dcopf_ieee(gens_copy1c, lines_copy1c,loads_copy1c)\n",
    "solution1c.status"
   ]
  },
  {
   "cell_type": "markdown",
   "metadata": {},
   "source": [
    "**What is happening in this system?** "
   ]
  },
  {
   "cell_type": "markdown",
   "metadata": {},
   "source": [
    "**ANS** The infeasibility indicates that the model cannot solve the "
   ]
  },
  {
   "cell_type": "markdown",
   "metadata": {},
   "source": [
    "## Question 2: Linear losses\n",
    "\n",
    "Up until now, we have ignored transmission losses. A quadratic approximation of losses is given by:\n",
    "\n",
    "\\begin{align}\n",
    "LOSS_{ij} &\\approx \\frac{G_{ij}}{BaseMVA} (\\theta_i-\\theta_j)^2 \\\\\n",
    " & \\approx \\frac{1}{BaseMVA} \\frac{R_{ij}}{R_{ij}^2+X_{ij}^2}(\\theta_i-\\theta_j)^2\n",
    "\\end{align}\n",
    "\n",
    "\n",
    "where $G$ is the line's conductance, $R$ is the line's resistance and $X$ is the line's reactance. See the `lines` data frame for these parameters.\n",
    "\n",
    "For our purposes, we will approximate this quadratic via:\n",
    "\n",
    "\n",
    "$$\n",
    "LOSS_{ij} \\geq \\frac{R_{ij}}{BaseMVA} \\times (MaxFlow_{ij})^2 \n",
    "\\left(\\frac{|FLOW_{ij}|}{MaxFlow_{ij}} - 0.165 \\right)\n",
    "$$\n",
    "\n",
    "where $MaxFlow_{ij}=200 MW$ in this problem. Note the greater than equal sign, as we do not want to have negative losses.\n",
    "\n",
    "This approximation is based on Fitiwi et al. (2016), \"Finding a representative network losses model for large-scale transmission expansion planning with renewable energy sources,\" *Energy* 101: 343-358, https://doi.org/10.1016/j.energy.2016.02.015. \n",
    "\n",
    "Note that this is a linear approximation of transmission losses, which are actually a quadratic function of power flows. Fitiwi et al. 2016 and other papers describe piece-wise or segment-wise linear approximations of the quadratic function which provide a tighter lower bound approximation of losses, but we'll use a single linear term for this assignment. \n",
    "\n",
    "See Jenkins & Sepulveda et al. 2017, \"Enhanced decision support for a changing electricity landscape: the GenX configurable electricity resource capacity expansion model\", MIT Energy Initiative Working Paper 2017-10 http://bit.ly/GenXModel Section 5.8, for an example of a linear segment-wise approximation of quadratic transmission losses. \n",
    "\n",
    "\n",
    "**A. Code linear losses**\n",
    "\n",
    "Reload the original data from Notebook 6 and copy the IEEE 14 bus system and DCOPF solver function from Notebook 6 into a new function `dcopf_ieee_lossy`.\n",
    "\n",
    "Make the following changes:\n",
    "- Increase the variable cost of Generator 1 to \\$30 / MWh\n",
    "- Change all transmission line capacities to 200 MW\n",
    "\n",
    "Implement losses into the supply/demand balance equations. A standard way to implement absolute values in linear programming is by introducing two non-negative auxiliary variables $x^+$, $x^-$ $\\geq 0$:\n",
    "\n",
    "$$\n",
    "x = x^+ - x^-\n",
    "$$\n",
    "\n",
    "and the absolute value can be represented as:\n",
    "\n",
    "$$\n",
    "|x| = x^+ + x^-\n",
    "$$\n",
    "\n",
    "(You should satisfy yourself that this equality holds.)\n",
    "\n",
    "It makes the formulation easier if losses are added to the supply/demand balance constraint in each node by splitting losses in half between the receiving and sending end.\n",
    "\n",
    "Indicate which equations and variables you have added and explain your steps using inline code comments (e.g. `# Comment`).\n",
    "\n",
    "Run the lossy DCOPF and output generation, flows, losses, and prices."
   ]
  },
  {
   "cell_type": "code",
   "execution_count": 22,
   "metadata": {},
   "outputs": [
    {
     "data": {
      "text/plain": [
       "40-element Vector{Int64}:\n",
       " 200\n",
       " 200\n",
       " 200\n",
       " 200\n",
       " 200\n",
       " 200\n",
       " 200\n",
       " 200\n",
       " 200\n",
       " 200\n",
       " 200\n",
       " 200\n",
       " 200\n",
       "   ⋮\n",
       " 200\n",
       " 200\n",
       " 200\n",
       " 200\n",
       " 200\n",
       " 200\n",
       " 200\n",
       " 200\n",
       " 200\n",
       " 200\n",
       " 200\n",
       " 200"
      ]
     },
     "execution_count": 22,
     "metadata": {},
     "output_type": "execute_result"
    }
   ],
   "source": [
    "gens_copy2a = copy(gens_copy1a)\n",
    "lines_copy2a = copy(lines_copy1b) \n",
    "\n",
    "lines_copy2a[!, :capacity] .= 200"
   ]
  },
  {
   "cell_type": "code",
   "execution_count": 23,
   "metadata": {},
   "outputs": [
    {
     "data": {
      "text/html": [
       "<div><div style = \"float: left;\"><span>40×8 DataFrame</span></div><div style = \"float: right;\"><span style = \"font-style: italic;\">15 rows omitted</span></div><div style = \"clear: both;\"></div></div><div class = \"data-frame\" style = \"overflow-x: scroll;\"><table class = \"data-frame\" style = \"margin-bottom: 6px;\"><thead><tr class = \"header\"><th class = \"rowNumber\" style = \"font-weight: bold; text-align: right;\">Row</th><th style = \"text-align: left;\">fromnode</th><th style = \"text-align: left;\">tonode</th><th style = \"text-align: left;\">resistance</th><th style = \"text-align: left;\">reactance</th><th style = \"text-align: left;\">contingencymarked</th><th style = \"text-align: left;\">capacity</th><th style = \"text-align: left;\">id</th><th style = \"text-align: left;\">b</th></tr><tr class = \"subheader headerLastRow\"><th class = \"rowNumber\" style = \"font-weight: bold; text-align: right;\"></th><th title = \"Int64\" style = \"text-align: left;\">Int64</th><th title = \"Int64\" style = \"text-align: left;\">Int64</th><th title = \"Float64\" style = \"text-align: left;\">Float64</th><th title = \"Float64\" style = \"text-align: left;\">Float64</th><th title = \"Int64\" style = \"text-align: left;\">Int64</th><th title = \"Int64\" style = \"text-align: left;\">Int64</th><th title = \"Int64\" style = \"text-align: left;\">Int64</th><th title = \"Float64\" style = \"text-align: left;\">Float64</th></tr></thead><tbody><tr><td class = \"rowNumber\" style = \"font-weight: bold; text-align: right;\">1</td><td style = \"text-align: right;\">1</td><td style = \"text-align: right;\">2</td><td style = \"text-align: right;\">0.01938</td><td style = \"text-align: right;\">0.05917</td><td style = \"text-align: right;\">1</td><td style = \"text-align: right;\">200</td><td style = \"text-align: right;\">1</td><td style = \"text-align: right;\">16.9005</td></tr><tr><td class = \"rowNumber\" style = \"font-weight: bold; text-align: right;\">2</td><td style = \"text-align: right;\">1</td><td style = \"text-align: right;\">5</td><td style = \"text-align: right;\">0.05403</td><td style = \"text-align: right;\">0.22304</td><td style = \"text-align: right;\">1</td><td style = \"text-align: right;\">200</td><td style = \"text-align: right;\">2</td><td style = \"text-align: right;\">4.4835</td></tr><tr><td class = \"rowNumber\" style = \"font-weight: bold; text-align: right;\">3</td><td style = \"text-align: right;\">2</td><td style = \"text-align: right;\">3</td><td style = \"text-align: right;\">0.04699</td><td style = \"text-align: right;\">0.19797</td><td style = \"text-align: right;\">1</td><td style = \"text-align: right;\">200</td><td style = \"text-align: right;\">3</td><td style = \"text-align: right;\">5.05127</td></tr><tr><td class = \"rowNumber\" style = \"font-weight: bold; text-align: right;\">4</td><td style = \"text-align: right;\">2</td><td style = \"text-align: right;\">4</td><td style = \"text-align: right;\">0.05811</td><td style = \"text-align: right;\">0.17632</td><td style = \"text-align: right;\">1</td><td style = \"text-align: right;\">200</td><td style = \"text-align: right;\">4</td><td style = \"text-align: right;\">5.67151</td></tr><tr><td class = \"rowNumber\" style = \"font-weight: bold; text-align: right;\">5</td><td style = \"text-align: right;\">2</td><td style = \"text-align: right;\">5</td><td style = \"text-align: right;\">0.05695</td><td style = \"text-align: right;\">0.17388</td><td style = \"text-align: right;\">1</td><td style = \"text-align: right;\">200</td><td style = \"text-align: right;\">5</td><td style = \"text-align: right;\">5.75109</td></tr><tr><td class = \"rowNumber\" style = \"font-weight: bold; text-align: right;\">6</td><td style = \"text-align: right;\">3</td><td style = \"text-align: right;\">4</td><td style = \"text-align: right;\">0.06701</td><td style = \"text-align: right;\">0.17103</td><td style = \"text-align: right;\">1</td><td style = \"text-align: right;\">200</td><td style = \"text-align: right;\">6</td><td style = \"text-align: right;\">5.84693</td></tr><tr><td class = \"rowNumber\" style = \"font-weight: bold; text-align: right;\">7</td><td style = \"text-align: right;\">4</td><td style = \"text-align: right;\">5</td><td style = \"text-align: right;\">0.01335</td><td style = \"text-align: right;\">0.04211</td><td style = \"text-align: right;\">1</td><td style = \"text-align: right;\">200</td><td style = \"text-align: right;\">7</td><td style = \"text-align: right;\">23.7473</td></tr><tr><td class = \"rowNumber\" style = \"font-weight: bold; text-align: right;\">8</td><td style = \"text-align: right;\">4</td><td style = \"text-align: right;\">7</td><td style = \"text-align: right;\">0.0</td><td style = \"text-align: right;\">0.20912</td><td style = \"text-align: right;\">1</td><td style = \"text-align: right;\">200</td><td style = \"text-align: right;\">8</td><td style = \"text-align: right;\">4.78194</td></tr><tr><td class = \"rowNumber\" style = \"font-weight: bold; text-align: right;\">9</td><td style = \"text-align: right;\">4</td><td style = \"text-align: right;\">9</td><td style = \"text-align: right;\">0.0</td><td style = \"text-align: right;\">0.55618</td><td style = \"text-align: right;\">1</td><td style = \"text-align: right;\">200</td><td style = \"text-align: right;\">9</td><td style = \"text-align: right;\">1.79798</td></tr><tr><td class = \"rowNumber\" style = \"font-weight: bold; text-align: right;\">10</td><td style = \"text-align: right;\">5</td><td style = \"text-align: right;\">6</td><td style = \"text-align: right;\">0.0</td><td style = \"text-align: right;\">0.25202</td><td style = \"text-align: right;\">1</td><td style = \"text-align: right;\">200</td><td style = \"text-align: right;\">10</td><td style = \"text-align: right;\">3.96794</td></tr><tr><td class = \"rowNumber\" style = \"font-weight: bold; text-align: right;\">11</td><td style = \"text-align: right;\">6</td><td style = \"text-align: right;\">11</td><td style = \"text-align: right;\">0.09498</td><td style = \"text-align: right;\">0.1989</td><td style = \"text-align: right;\">1</td><td style = \"text-align: right;\">200</td><td style = \"text-align: right;\">11</td><td style = \"text-align: right;\">5.02765</td></tr><tr><td class = \"rowNumber\" style = \"font-weight: bold; text-align: right;\">12</td><td style = \"text-align: right;\">6</td><td style = \"text-align: right;\">12</td><td style = \"text-align: right;\">0.12291</td><td style = \"text-align: right;\">0.25581</td><td style = \"text-align: right;\">1</td><td style = \"text-align: right;\">200</td><td style = \"text-align: right;\">12</td><td style = \"text-align: right;\">3.90915</td></tr><tr><td class = \"rowNumber\" style = \"font-weight: bold; text-align: right;\">13</td><td style = \"text-align: right;\">6</td><td style = \"text-align: right;\">13</td><td style = \"text-align: right;\">0.06615</td><td style = \"text-align: right;\">0.13027</td><td style = \"text-align: right;\">1</td><td style = \"text-align: right;\">200</td><td style = \"text-align: right;\">13</td><td style = \"text-align: right;\">7.67636</td></tr><tr><td style = \"text-align: right;\">&vellip;</td><td style = \"text-align: right;\">&vellip;</td><td style = \"text-align: right;\">&vellip;</td><td style = \"text-align: right;\">&vellip;</td><td style = \"text-align: right;\">&vellip;</td><td style = \"text-align: right;\">&vellip;</td><td style = \"text-align: right;\">&vellip;</td><td style = \"text-align: right;\">&vellip;</td><td style = \"text-align: right;\">&vellip;</td></tr><tr><td class = \"rowNumber\" style = \"font-weight: bold; text-align: right;\">29</td><td style = \"text-align: right;\">9</td><td style = \"text-align: right;\">4</td><td style = \"text-align: right;\">0.0</td><td style = \"text-align: right;\">0.55618</td><td style = \"text-align: right;\">1</td><td style = \"text-align: right;\">200</td><td style = \"text-align: right;\">9</td><td style = \"text-align: right;\">1.79798</td></tr><tr><td class = \"rowNumber\" style = \"font-weight: bold; text-align: right;\">30</td><td style = \"text-align: right;\">6</td><td style = \"text-align: right;\">5</td><td style = \"text-align: right;\">0.0</td><td style = \"text-align: right;\">0.25202</td><td style = \"text-align: right;\">1</td><td style = \"text-align: right;\">200</td><td style = \"text-align: right;\">10</td><td style = \"text-align: right;\">3.96794</td></tr><tr><td class = \"rowNumber\" style = \"font-weight: bold; text-align: right;\">31</td><td style = \"text-align: right;\">11</td><td style = \"text-align: right;\">6</td><td style = \"text-align: right;\">0.09498</td><td style = \"text-align: right;\">0.1989</td><td style = \"text-align: right;\">1</td><td style = \"text-align: right;\">200</td><td style = \"text-align: right;\">11</td><td style = \"text-align: right;\">5.02765</td></tr><tr><td class = \"rowNumber\" style = \"font-weight: bold; text-align: right;\">32</td><td style = \"text-align: right;\">12</td><td style = \"text-align: right;\">6</td><td style = \"text-align: right;\">0.12291</td><td style = \"text-align: right;\">0.25581</td><td style = \"text-align: right;\">1</td><td style = \"text-align: right;\">200</td><td style = \"text-align: right;\">12</td><td style = \"text-align: right;\">3.90915</td></tr><tr><td class = \"rowNumber\" style = \"font-weight: bold; text-align: right;\">33</td><td style = \"text-align: right;\">13</td><td style = \"text-align: right;\">6</td><td style = \"text-align: right;\">0.06615</td><td style = \"text-align: right;\">0.13027</td><td style = \"text-align: right;\">1</td><td style = \"text-align: right;\">200</td><td style = \"text-align: right;\">13</td><td style = \"text-align: right;\">7.67636</td></tr><tr><td class = \"rowNumber\" style = \"font-weight: bold; text-align: right;\">34</td><td style = \"text-align: right;\">8</td><td style = \"text-align: right;\">7</td><td style = \"text-align: right;\">0.0</td><td style = \"text-align: right;\">0.17615</td><td style = \"text-align: right;\">1</td><td style = \"text-align: right;\">200</td><td style = \"text-align: right;\">14</td><td style = \"text-align: right;\">5.67698</td></tr><tr><td class = \"rowNumber\" style = \"font-weight: bold; text-align: right;\">35</td><td style = \"text-align: right;\">9</td><td style = \"text-align: right;\">7</td><td style = \"text-align: right;\">0.0</td><td style = \"text-align: right;\">0.11001</td><td style = \"text-align: right;\">1</td><td style = \"text-align: right;\">200</td><td style = \"text-align: right;\">15</td><td style = \"text-align: right;\">9.09008</td></tr><tr><td class = \"rowNumber\" style = \"font-weight: bold; text-align: right;\">36</td><td style = \"text-align: right;\">10</td><td style = \"text-align: right;\">9</td><td style = \"text-align: right;\">0.03181</td><td style = \"text-align: right;\">0.0845</td><td style = \"text-align: right;\">1</td><td style = \"text-align: right;\">200</td><td style = \"text-align: right;\">16</td><td style = \"text-align: right;\">11.8343</td></tr><tr><td class = \"rowNumber\" style = \"font-weight: bold; text-align: right;\">37</td><td style = \"text-align: right;\">14</td><td style = \"text-align: right;\">9</td><td style = \"text-align: right;\">0.12711</td><td style = \"text-align: right;\">0.27038</td><td style = \"text-align: right;\">1</td><td style = \"text-align: right;\">200</td><td style = \"text-align: right;\">17</td><td style = \"text-align: right;\">3.6985</td></tr><tr><td class = \"rowNumber\" style = \"font-weight: bold; text-align: right;\">38</td><td style = \"text-align: right;\">11</td><td style = \"text-align: right;\">10</td><td style = \"text-align: right;\">0.08205</td><td style = \"text-align: right;\">0.19207</td><td style = \"text-align: right;\">1</td><td style = \"text-align: right;\">200</td><td style = \"text-align: right;\">18</td><td style = \"text-align: right;\">5.20644</td></tr><tr><td class = \"rowNumber\" style = \"font-weight: bold; text-align: right;\">39</td><td style = \"text-align: right;\">13</td><td style = \"text-align: right;\">12</td><td style = \"text-align: right;\">0.22092</td><td style = \"text-align: right;\">0.19988</td><td style = \"text-align: right;\">1</td><td style = \"text-align: right;\">200</td><td style = \"text-align: right;\">19</td><td style = \"text-align: right;\">5.003</td></tr><tr><td class = \"rowNumber\" style = \"font-weight: bold; text-align: right;\">40</td><td style = \"text-align: right;\">14</td><td style = \"text-align: right;\">13</td><td style = \"text-align: right;\">0.17093</td><td style = \"text-align: right;\">0.34802</td><td style = \"text-align: right;\">1</td><td style = \"text-align: right;\">200</td><td style = \"text-align: right;\">20</td><td style = \"text-align: right;\">2.8734</td></tr></tbody></table></div>"
      ],
      "text/latex": [
       "\\begin{tabular}{r|cccccccc}\n",
       "\t& fromnode & tonode & resistance & reactance & contingencymarked & capacity & id & b\\\\\n",
       "\t\\hline\n",
       "\t& Int64 & Int64 & Float64 & Float64 & Int64 & Int64 & Int64 & Float64\\\\\n",
       "\t\\hline\n",
       "\t1 & 1 & 2 & 0.01938 & 0.05917 & 1 & 200 & 1 & 16.9005 \\\\\n",
       "\t2 & 1 & 5 & 0.05403 & 0.22304 & 1 & 200 & 2 & 4.4835 \\\\\n",
       "\t3 & 2 & 3 & 0.04699 & 0.19797 & 1 & 200 & 3 & 5.05127 \\\\\n",
       "\t4 & 2 & 4 & 0.05811 & 0.17632 & 1 & 200 & 4 & 5.67151 \\\\\n",
       "\t5 & 2 & 5 & 0.05695 & 0.17388 & 1 & 200 & 5 & 5.75109 \\\\\n",
       "\t6 & 3 & 4 & 0.06701 & 0.17103 & 1 & 200 & 6 & 5.84693 \\\\\n",
       "\t7 & 4 & 5 & 0.01335 & 0.04211 & 1 & 200 & 7 & 23.7473 \\\\\n",
       "\t8 & 4 & 7 & 0.0 & 0.20912 & 1 & 200 & 8 & 4.78194 \\\\\n",
       "\t9 & 4 & 9 & 0.0 & 0.55618 & 1 & 200 & 9 & 1.79798 \\\\\n",
       "\t10 & 5 & 6 & 0.0 & 0.25202 & 1 & 200 & 10 & 3.96794 \\\\\n",
       "\t11 & 6 & 11 & 0.09498 & 0.1989 & 1 & 200 & 11 & 5.02765 \\\\\n",
       "\t12 & 6 & 12 & 0.12291 & 0.25581 & 1 & 200 & 12 & 3.90915 \\\\\n",
       "\t13 & 6 & 13 & 0.06615 & 0.13027 & 1 & 200 & 13 & 7.67636 \\\\\n",
       "\t14 & 7 & 8 & 0.0 & 0.17615 & 1 & 200 & 14 & 5.67698 \\\\\n",
       "\t15 & 7 & 9 & 0.0 & 0.11001 & 1 & 200 & 15 & 9.09008 \\\\\n",
       "\t16 & 9 & 10 & 0.03181 & 0.0845 & 1 & 200 & 16 & 11.8343 \\\\\n",
       "\t17 & 9 & 14 & 0.12711 & 0.27038 & 1 & 200 & 17 & 3.6985 \\\\\n",
       "\t18 & 10 & 11 & 0.08205 & 0.19207 & 1 & 200 & 18 & 5.20644 \\\\\n",
       "\t19 & 12 & 13 & 0.22092 & 0.19988 & 1 & 200 & 19 & 5.003 \\\\\n",
       "\t20 & 13 & 14 & 0.17093 & 0.34802 & 1 & 200 & 20 & 2.8734 \\\\\n",
       "\t21 & 2 & 1 & 0.01938 & 0.05917 & 1 & 200 & 1 & 16.9005 \\\\\n",
       "\t22 & 5 & 1 & 0.05403 & 0.22304 & 1 & 200 & 2 & 4.4835 \\\\\n",
       "\t23 & 3 & 2 & 0.04699 & 0.19797 & 1 & 200 & 3 & 5.05127 \\\\\n",
       "\t24 & 4 & 2 & 0.05811 & 0.17632 & 1 & 200 & 4 & 5.67151 \\\\\n",
       "\t25 & 5 & 2 & 0.05695 & 0.17388 & 1 & 200 & 5 & 5.75109 \\\\\n",
       "\t26 & 4 & 3 & 0.06701 & 0.17103 & 1 & 200 & 6 & 5.84693 \\\\\n",
       "\t27 & 5 & 4 & 0.01335 & 0.04211 & 1 & 200 & 7 & 23.7473 \\\\\n",
       "\t28 & 7 & 4 & 0.0 & 0.20912 & 1 & 200 & 8 & 4.78194 \\\\\n",
       "\t29 & 9 & 4 & 0.0 & 0.55618 & 1 & 200 & 9 & 1.79798 \\\\\n",
       "\t30 & 6 & 5 & 0.0 & 0.25202 & 1 & 200 & 10 & 3.96794 \\\\\n",
       "\t$\\dots$ & $\\dots$ & $\\dots$ & $\\dots$ & $\\dots$ & $\\dots$ & $\\dots$ & $\\dots$ & $\\dots$ \\\\\n",
       "\\end{tabular}\n"
      ],
      "text/plain": [
       "\u001b[1m40×8 DataFrame\u001b[0m\n",
       "\u001b[1m Row \u001b[0m│\u001b[1m fromnode \u001b[0m\u001b[1m tonode \u001b[0m\u001b[1m resistance \u001b[0m\u001b[1m reactance \u001b[0m\u001b[1m contingencymarked \u001b[0m\u001b[1m capacity \u001b[0m\u001b[1m i\u001b[0m ⋯\n",
       "     │\u001b[90m Int64    \u001b[0m\u001b[90m Int64  \u001b[0m\u001b[90m Float64    \u001b[0m\u001b[90m Float64   \u001b[0m\u001b[90m Int64             \u001b[0m\u001b[90m Int64    \u001b[0m\u001b[90m I\u001b[0m ⋯\n",
       "─────┼──────────────────────────────────────────────────────────────────────────\n",
       "   1 │        1       2     0.01938    0.05917                  1       200    ⋯\n",
       "   2 │        1       5     0.05403    0.22304                  1       200\n",
       "   3 │        2       3     0.04699    0.19797                  1       200\n",
       "   4 │        2       4     0.05811    0.17632                  1       200\n",
       "   5 │        2       5     0.05695    0.17388                  1       200    ⋯\n",
       "   6 │        3       4     0.06701    0.17103                  1       200\n",
       "   7 │        4       5     0.01335    0.04211                  1       200\n",
       "   8 │        4       7     0.0        0.20912                  1       200\n",
       "   9 │        4       9     0.0        0.55618                  1       200    ⋯\n",
       "  10 │        5       6     0.0        0.25202                  1       200\n",
       "  11 │        6      11     0.09498    0.1989                   1       200\n",
       "  ⋮  │    ⋮        ⋮         ⋮           ⋮              ⋮             ⋮        ⋱\n",
       "  31 │       11       6     0.09498    0.1989                   1       200\n",
       "  32 │       12       6     0.12291    0.25581                  1       200    ⋯\n",
       "  33 │       13       6     0.06615    0.13027                  1       200\n",
       "  34 │        8       7     0.0        0.17615                  1       200\n",
       "  35 │        9       7     0.0        0.11001                  1       200\n",
       "  36 │       10       9     0.03181    0.0845                   1       200    ⋯\n",
       "  37 │       14       9     0.12711    0.27038                  1       200\n",
       "  38 │       11      10     0.08205    0.19207                  1       200\n",
       "  39 │       13      12     0.22092    0.19988                  1       200\n",
       "  40 │       14      13     0.17093    0.34802                  1       200    ⋯\n",
       "\u001b[36m                                                   2 columns and 19 rows omitted\u001b[0m"
      ]
     },
     "execution_count": 23,
     "metadata": {},
     "output_type": "execute_result"
    }
   ],
   "source": [
    "lines_copy2a"
   ]
  },
  {
   "cell_type": "code",
   "execution_count": 24,
   "metadata": {},
   "outputs": [
    {
     "data": {
      "text/html": [
       "<div><div style = \"float: left;\"><span>2×10 DataFrame</span></div><div style = \"clear: both;\"></div></div><div class = \"data-frame\" style = \"overflow-x: scroll;\"><table class = \"data-frame\" style = \"margin-bottom: 6px;\"><thead><tr class = \"header\"><th class = \"rowNumber\" style = \"font-weight: bold; text-align: right;\">Row</th><th style = \"text-align: left;\">connnode</th><th style = \"text-align: left;\">c2</th><th style = \"text-align: left;\">c1</th><th style = \"text-align: left;\">c0</th><th style = \"text-align: left;\">pgmax</th><th style = \"text-align: left;\">pgmin</th><th style = \"text-align: left;\">rgmax</th><th style = \"text-align: left;\">rgmin</th><th style = \"text-align: left;\">pgprev</th><th style = \"text-align: left;\">id</th></tr><tr class = \"subheader headerLastRow\"><th class = \"rowNumber\" style = \"font-weight: bold; text-align: right;\"></th><th title = \"Int64\" style = \"text-align: left;\">Int64</th><th title = \"Float64\" style = \"text-align: left;\">Float64</th><th title = \"Int64\" style = \"text-align: left;\">Int64</th><th title = \"Int64\" style = \"text-align: left;\">Int64</th><th title = \"Int64\" style = \"text-align: left;\">Int64</th><th title = \"Int64\" style = \"text-align: left;\">Int64</th><th title = \"Int64\" style = \"text-align: left;\">Int64</th><th title = \"Int64\" style = \"text-align: left;\">Int64</th><th title = \"Float64\" style = \"text-align: left;\">Float64</th><th title = \"Int64\" style = \"text-align: left;\">Int64</th></tr></thead><tbody><tr><td class = \"rowNumber\" style = \"font-weight: bold; text-align: right;\">1</td><td style = \"text-align: right;\">1</td><td style = \"text-align: right;\">0.0430293</td><td style = \"text-align: right;\">30</td><td style = \"text-align: right;\">0</td><td style = \"text-align: right;\">300</td><td style = \"text-align: right;\">0</td><td style = \"text-align: right;\">100</td><td style = \"text-align: right;\">-100</td><td style = \"text-align: right;\">161.62</td><td style = \"text-align: right;\">1</td></tr><tr><td class = \"rowNumber\" style = \"font-weight: bold; text-align: right;\">2</td><td style = \"text-align: right;\">2</td><td style = \"text-align: right;\">0.25</td><td style = \"text-align: right;\">25</td><td style = \"text-align: right;\">0</td><td style = \"text-align: right;\">140</td><td style = \"text-align: right;\">0</td><td style = \"text-align: right;\">100</td><td style = \"text-align: right;\">-100</td><td style = \"text-align: right;\">97.47</td><td style = \"text-align: right;\">2</td></tr></tbody></table></div>"
      ],
      "text/latex": [
       "\\begin{tabular}{r|cccccccccc}\n",
       "\t& connnode & c2 & c1 & c0 & pgmax & pgmin & rgmax & rgmin & pgprev & id\\\\\n",
       "\t\\hline\n",
       "\t& Int64 & Float64 & Int64 & Int64 & Int64 & Int64 & Int64 & Int64 & Float64 & Int64\\\\\n",
       "\t\\hline\n",
       "\t1 & 1 & 0.0430293 & 30 & 0 & 300 & 0 & 100 & -100 & 161.62 & 1 \\\\\n",
       "\t2 & 2 & 0.25 & 25 & 0 & 140 & 0 & 100 & -100 & 97.47 & 2 \\\\\n",
       "\\end{tabular}\n"
      ],
      "text/plain": [
       "\u001b[1m2×10 DataFrame\u001b[0m\n",
       "\u001b[1m Row \u001b[0m│\u001b[1m connnode \u001b[0m\u001b[1m c2        \u001b[0m\u001b[1m c1    \u001b[0m\u001b[1m c0    \u001b[0m\u001b[1m pgmax \u001b[0m\u001b[1m pgmin \u001b[0m\u001b[1m rgmax \u001b[0m\u001b[1m rgmin \u001b[0m\u001b[1m pgprev  \u001b[0m\u001b[1m\u001b[0m ⋯\n",
       "     │\u001b[90m Int64    \u001b[0m\u001b[90m Float64   \u001b[0m\u001b[90m Int64 \u001b[0m\u001b[90m Int64 \u001b[0m\u001b[90m Int64 \u001b[0m\u001b[90m Int64 \u001b[0m\u001b[90m Int64 \u001b[0m\u001b[90m Int64 \u001b[0m\u001b[90m Float64 \u001b[0m\u001b[90m\u001b[0m ⋯\n",
       "─────┼──────────────────────────────────────────────────────────────────────────\n",
       "   1 │        1  0.0430293     30      0    300      0    100   -100   161.62  ⋯\n",
       "   2 │        2  0.25          25      0    140      0    100   -100    97.47\n",
       "\u001b[36m                                                                1 column omitted\u001b[0m"
      ]
     },
     "execution_count": 24,
     "metadata": {},
     "output_type": "execute_result"
    }
   ],
   "source": [
    "gens_copy2a"
   ]
  },
  {
   "cell_type": "code",
   "execution_count": 25,
   "metadata": {},
   "outputs": [
    {
     "data": {
      "text/plain": [
       "dcopf_ieee_lossy (generic function with 1 method)"
      ]
     },
     "execution_count": 25,
     "metadata": {},
     "output_type": "execute_result"
    }
   ],
   "source": [
    "#=\n",
    "Function to solve DC OPF problem using IEEE test cases\n",
    "Inputs:\n",
    "    gen_info -- dataframe with generator info\n",
    "    line_info -- dataframe with transmission lines info\n",
    "    loads  -- dataframe with load info\n",
    "=#\n",
    "function dcopf_ieee_lossy(gens, lines, loads)\n",
    "    DCOPF = Model(HiGHS.Optimizer) # You could use Clp as well, with Clp.Optimizer\n",
    "    \n",
    "    # Define sets based on data\n",
    "      # Set of generator buses\n",
    "    G = gens.connnode\n",
    "    \n",
    "      # Set of all nodes\n",
    "    N = sort(union(unique(lines.fromnode), \n",
    "            unique(lines.tonode)))\n",
    "    \n",
    "      # sets J_i and G_i will be described using dataframe indexing below\n",
    "\n",
    "    # Define per unit base units for the system \n",
    "    # used to convert from per unit values to standard unit\n",
    "    # values (e.g. p.u. power flows to MW/MVA)\n",
    "    baseMVA = 100 # base MVA is 100 MVA for this system\n",
    "    maxFlow = 200\n",
    "    \n",
    "    # Decision variables   \n",
    "    @variables(DCOPF, begin\n",
    "        GEN[N]  >= 0     # generation        \n",
    "        # Note: we assume Pmin = 0 for all resources for simplicty here\n",
    "        THETA[N]         # voltage phase angle of bus\n",
    "        FLOW[N,N]        # flows between all pairs of nodes\n",
    "        LOSS[N,N]\n",
    "        FLOWN[N,N] >= 0\n",
    "        FLOWP[N,N] >= 0\n",
    "    end)\n",
    "    \n",
    "    # Create slack bus with reference angle = 0; use bus 1 with generator\n",
    "    fix(THETA[1],0)\n",
    "                \n",
    "    # Objective function\n",
    "    @objective(DCOPF, Min, \n",
    "        sum( gens[g,:c1] * GEN[g] for g in G)\n",
    "    )\n",
    "    \n",
    "    # Supply demand balances\n",
    "    @constraint(DCOPF, cBalance[i in N], \n",
    "        sum(GEN[g] for g in gens[gens.connnode .== i,:connnode]) \n",
    "            + sum(load for load in loads[loads.connnode .== i,:demand]) \n",
    "        == sum(FLOW[i,j] for j in lines[lines.fromnode .== i,:tonode]) + \n",
    "        sum(LOSS[i,j] for j in lines[lines.fromnode .== i,:tonode])\n",
    "    )\n",
    "\n",
    "    # Max generation constraint\n",
    "    @constraint(DCOPF, cMaxGen[g in G],\n",
    "                    GEN[g] <= gens[g,:pgmax])\n",
    "    \n",
    "    # Flow constraints on each branch \n",
    "    @constraint(DCOPF, cLineFlows[l in 1:nrow(lines)],\n",
    "            FLOW[lines[l,:fromnode],lines[l,:tonode]] == \n",
    "            baseMVA * lines[l,:b] * \n",
    "            (THETA[lines[l,:fromnode]] - THETA[lines[l,:tonode]])\n",
    "    )\n",
    "    \n",
    "    # Max line flow constraints\n",
    "    @constraint(DCOPF, cLineLimits[l in 1:nrow(lines)], \n",
    "            FLOW[lines[l,:fromnode],lines[l,:tonode]] <=\n",
    "            lines[l,:capacity]\n",
    "    )\n",
    "    \n",
    "    #flow constraints\n",
    "    @constraint(DCOPF, cFLow[l in 1:nrow(lines)],\n",
    "        FLOW[lines[l,:fromnode], lines[l,:tonode]] == FLOWP[lines[l, :fromnode],lines[l,:tonode]] - \n",
    "        FLOWN[lines[l,:fromnode],lines[l,:tonode]]\n",
    "    )\n",
    "    \n",
    "    #loss constraints\n",
    "    @constraint(DCOPF, cLoss[l in 1:nrow(lines)],\n",
    "        (lines[l, :resistance]/baseMVA) *\n",
    "        (maxFlow^2) *\n",
    "        (((FLOWP[lines[l,:fromnode], lines[l,:tonode]] + \n",
    "        FLOWN[lines[l, :fromnode],lines[l,:tonode]])/maxFlow)-0.165)\n",
    "        <= LOSS[lines[l,:fromnode], lines[l,:tonode]]\n",
    "    )\n",
    "\n",
    "    # Solve statement (! indicates runs in place)\n",
    "    optimize!(DCOPF)\n",
    "\n",
    "    # Output variables\n",
    "    generation = DataFrame(\n",
    "        node = gens.connnode,\n",
    "        gen = value.(GEN).data[gens.connnode]\n",
    "        )\n",
    "    \n",
    "    angles = value.(THETA).data\n",
    "    \n",
    "    flows = DataFrame(\n",
    "        fbus = lines.fromnode,\n",
    "        tbus = lines.tonode,\n",
    "        flow = baseMVA * lines.b .* (angles[lines.fromnode] .- \n",
    "                        angles[lines.tonode]))\n",
    "    losses = value.(LOSS).data\n",
    "    # We output the marginal values of the demand constraints, \n",
    "    # which will in fact be the prices to deliver power at a given bus.\n",
    "    prices = DataFrame(\n",
    "        node = N,\n",
    "        value = dual.(cBalance).data)\n",
    "    \n",
    "    # Return the solution and objective as named tuple\n",
    "    return (\n",
    "        generation = generation, \n",
    "        angles,\n",
    "        flows,\n",
    "        losses,\n",
    "        prices,\n",
    "        cost = objective_value(DCOPF),\n",
    "        status = termination_status(DCOPF)\n",
    "    )\n",
    "end"
   ]
  },
  {
   "cell_type": "code",
   "execution_count": 26,
   "metadata": {},
   "outputs": [
    {
     "name": "stdout",
     "output_type": "stream",
     "text": [
      "Running HiGHS 1.6.0: Copyright (c) 2023 HiGHS under MIT licence terms\n",
      "Presolving model\n",
      "122 rows, 166 cols, 397 nonzeros\n",
      "109 rows, 144 cols, 362 nonzeros\n",
      "Presolve : Reductions: rows 109(-67); columns 144(-668); elements 362(-102)\n",
      "Solving the presolved LP\n",
      "Using EKK dual simplex solver - serial\n",
      "  Iteration        Objective     Infeasibilities num(sum)\n",
      "          0    -1.5328908654e-01 Pr: 78(18118.3); Du: 0(2.11278e-11) 0s\n",
      "        112     4.3880642140e+03 Pr: 0(0) 0s\n",
      "Solving the original LP from the solution after postsolve\n",
      "Model   status      : Optimal\n",
      "Simplex   iterations: 112\n",
      "Objective value     :  4.3880642140e+03\n",
      "HiGHS run time      :          0.00\n"
     ]
    },
    {
     "data": {
      "text/plain": [
       "OPTIMAL::TerminationStatusCode = 1"
      ]
     },
     "execution_count": 26,
     "metadata": {},
     "output_type": "execute_result"
    }
   ],
   "source": [
    "solution2a = dcopf_ieee_lossy(gens_copy2a, lines_copy2a, loads)\n",
    "solution2a.status"
   ]
  },
  {
   "cell_type": "code",
   "execution_count": 27,
   "metadata": {},
   "outputs": [
    {
     "data": {
      "text/html": [
       "<div><div style = \"float: left;\"><span>2×2 DataFrame</span></div><div style = \"clear: both;\"></div></div><div class = \"data-frame\" style = \"overflow-x: scroll;\"><table class = \"data-frame\" style = \"margin-bottom: 6px;\"><thead><tr class = \"header\"><th class = \"rowNumber\" style = \"font-weight: bold; text-align: right;\">Row</th><th style = \"text-align: left;\">node</th><th style = \"text-align: left;\">gen</th></tr><tr class = \"subheader headerLastRow\"><th class = \"rowNumber\" style = \"font-weight: bold; text-align: right;\"></th><th title = \"Int64\" style = \"text-align: left;\">Int64</th><th title = \"Float64\" style = \"text-align: left;\">Float64</th></tr></thead><tbody><tr><td class = \"rowNumber\" style = \"font-weight: bold; text-align: right;\">1</td><td style = \"text-align: right;\">1</td><td style = \"text-align: right;\">29.6021</td></tr><tr><td class = \"rowNumber\" style = \"font-weight: bold; text-align: right;\">2</td><td style = \"text-align: right;\">2</td><td style = \"text-align: right;\">140.0</td></tr></tbody></table></div>"
      ],
      "text/latex": [
       "\\begin{tabular}{r|cc}\n",
       "\t& node & gen\\\\\n",
       "\t\\hline\n",
       "\t& Int64 & Float64\\\\\n",
       "\t\\hline\n",
       "\t1 & 1 & 29.6021 \\\\\n",
       "\t2 & 2 & 140.0 \\\\\n",
       "\\end{tabular}\n"
      ],
      "text/plain": [
       "\u001b[1m2×2 DataFrame\u001b[0m\n",
       "\u001b[1m Row \u001b[0m│\u001b[1m node  \u001b[0m\u001b[1m gen      \u001b[0m\n",
       "     │\u001b[90m Int64 \u001b[0m\u001b[90m Float64  \u001b[0m\n",
       "─────┼─────────────────\n",
       "   1 │     1   29.6021\n",
       "   2 │     2  140.0"
      ]
     },
     "execution_count": 27,
     "metadata": {},
     "output_type": "execute_result"
    }
   ],
   "source": [
    "solution2a.generation"
   ]
  },
  {
   "cell_type": "code",
   "execution_count": 28,
   "metadata": {},
   "outputs": [
    {
     "data": {
      "text/plain": [
       "14-element Vector{Float64}:\n",
       "  0.0\n",
       " -0.005429569832512419\n",
       " -0.12990757520756363\n",
       " -0.07123464821617222\n",
       " -0.05015171202636636\n",
       " -0.030113608834597714\n",
       " -0.07674798913522084\n",
       " -0.07674798913522084\n",
       " -0.07964834603319589\n",
       " -0.07218921964310085\n",
       " -0.047202873339041586\n",
       " -0.011717275451053465\n",
       " -0.022299591865420042\n",
       " -0.055733703063809065"
      ]
     },
     "execution_count": 28,
     "metadata": {},
     "output_type": "execute_result"
    }
   ],
   "source": [
    "solution2a.angles"
   ]
  },
  {
   "cell_type": "code",
   "execution_count": 29,
   "metadata": {},
   "outputs": [
    {
     "data": {
      "text/html": [
       "<div><div style = \"float: left;\"><span>14×2 DataFrame</span></div><div style = \"clear: both;\"></div></div><div class = \"data-frame\" style = \"overflow-x: scroll;\"><table class = \"data-frame\" style = \"margin-bottom: 6px;\"><thead><tr class = \"header\"><th class = \"rowNumber\" style = \"font-weight: bold; text-align: right;\">Row</th><th style = \"text-align: left;\">node</th><th style = \"text-align: left;\">value</th></tr><tr class = \"subheader headerLastRow\"><th class = \"rowNumber\" style = \"font-weight: bold; text-align: right;\"></th><th title = \"Int64\" style = \"text-align: left;\">Int64</th><th title = \"Float64\" style = \"text-align: left;\">Float64</th></tr></thead><tbody><tr><td class = \"rowNumber\" style = \"font-weight: bold; text-align: right;\">1</td><td style = \"text-align: right;\">1</td><td style = \"text-align: right;\">30.0</td></tr><tr><td class = \"rowNumber\" style = \"font-weight: bold; text-align: right;\">2</td><td style = \"text-align: right;\">2</td><td style = \"text-align: right;\">32.5304</td></tr><tr><td class = \"rowNumber\" style = \"font-weight: bold; text-align: right;\">3</td><td style = \"text-align: right;\">3</td><td style = \"text-align: right;\">45.8675</td></tr><tr><td class = \"rowNumber\" style = \"font-weight: bold; text-align: right;\">4</td><td style = \"text-align: right;\">4</td><td style = \"text-align: right;\">39.5736</td></tr><tr><td class = \"rowNumber\" style = \"font-weight: bold; text-align: right;\">5</td><td style = \"text-align: right;\">5</td><td style = \"text-align: right;\">36.8181</td></tr><tr><td class = \"rowNumber\" style = \"font-weight: bold; text-align: right;\">6</td><td style = \"text-align: right;\">6</td><td style = \"text-align: right;\">26.8452</td></tr><tr><td class = \"rowNumber\" style = \"font-weight: bold; text-align: right;\">7</td><td style = \"text-align: right;\">7</td><td style = \"text-align: right;\">44.8318</td></tr><tr><td class = \"rowNumber\" style = \"font-weight: bold; text-align: right;\">8</td><td style = \"text-align: right;\">8</td><td style = \"text-align: right;\">44.8318</td></tr><tr><td class = \"rowNumber\" style = \"font-weight: bold; text-align: right;\">9</td><td style = \"text-align: right;\">9</td><td style = \"text-align: right;\">47.598</td></tr><tr><td class = \"rowNumber\" style = \"font-weight: bold; text-align: right;\">10</td><td style = \"text-align: right;\">10</td><td style = \"text-align: right;\">43.4918</td></tr><tr><td class = \"rowNumber\" style = \"font-weight: bold; text-align: right;\">11</td><td style = \"text-align: right;\">11</td><td style = \"text-align: right;\">34.5279</td></tr><tr><td class = \"rowNumber\" style = \"font-weight: bold; text-align: right;\">12</td><td style = \"text-align: right;\">12</td><td style = \"text-align: right;\">11.41</td></tr><tr><td class = \"rowNumber\" style = \"font-weight: bold; text-align: right;\">13</td><td style = \"text-align: right;\">13</td><td style = \"text-align: right;\">21.0313</td></tr><tr><td class = \"rowNumber\" style = \"font-weight: bold; text-align: right;\">14</td><td style = \"text-align: right;\">14</td><td style = \"text-align: right;\">32.5243</td></tr></tbody></table></div>"
      ],
      "text/latex": [
       "\\begin{tabular}{r|cc}\n",
       "\t& node & value\\\\\n",
       "\t\\hline\n",
       "\t& Int64 & Float64\\\\\n",
       "\t\\hline\n",
       "\t1 & 1 & 30.0 \\\\\n",
       "\t2 & 2 & 32.5304 \\\\\n",
       "\t3 & 3 & 45.8675 \\\\\n",
       "\t4 & 4 & 39.5736 \\\\\n",
       "\t5 & 5 & 36.8181 \\\\\n",
       "\t6 & 6 & 26.8452 \\\\\n",
       "\t7 & 7 & 44.8318 \\\\\n",
       "\t8 & 8 & 44.8318 \\\\\n",
       "\t9 & 9 & 47.598 \\\\\n",
       "\t10 & 10 & 43.4918 \\\\\n",
       "\t11 & 11 & 34.5279 \\\\\n",
       "\t12 & 12 & 11.41 \\\\\n",
       "\t13 & 13 & 21.0313 \\\\\n",
       "\t14 & 14 & 32.5243 \\\\\n",
       "\\end{tabular}\n"
      ],
      "text/plain": [
       "\u001b[1m14×2 DataFrame\u001b[0m\n",
       "\u001b[1m Row \u001b[0m│\u001b[1m node  \u001b[0m\u001b[1m value   \u001b[0m\n",
       "     │\u001b[90m Int64 \u001b[0m\u001b[90m Float64 \u001b[0m\n",
       "─────┼────────────────\n",
       "   1 │     1  30.0\n",
       "   2 │     2  32.5304\n",
       "   3 │     3  45.8675\n",
       "   4 │     4  39.5736\n",
       "   5 │     5  36.8181\n",
       "   6 │     6  26.8452\n",
       "   7 │     7  44.8318\n",
       "   8 │     8  44.8318\n",
       "   9 │     9  47.598\n",
       "  10 │    10  43.4918\n",
       "  11 │    11  34.5279\n",
       "  12 │    12  11.41\n",
       "  13 │    13  21.0313\n",
       "  14 │    14  32.5243"
      ]
     },
     "execution_count": 29,
     "metadata": {},
     "output_type": "execute_result"
    }
   ],
   "source": [
    "solution2a.prices"
   ]
  },
  {
   "cell_type": "code",
   "execution_count": 30,
   "metadata": {},
   "outputs": [
    {
     "data": {
      "text/html": [
       "<div><div style = \"float: left;\"><span>40×3 DataFrame</span></div><div style = \"float: right;\"><span style = \"font-style: italic;\">15 rows omitted</span></div><div style = \"clear: both;\"></div></div><div class = \"data-frame\" style = \"overflow-x: scroll;\"><table class = \"data-frame\" style = \"margin-bottom: 6px;\"><thead><tr class = \"header\"><th class = \"rowNumber\" style = \"font-weight: bold; text-align: right;\">Row</th><th style = \"text-align: left;\">fbus</th><th style = \"text-align: left;\">tbus</th><th style = \"text-align: left;\">flow</th></tr><tr class = \"subheader headerLastRow\"><th class = \"rowNumber\" style = \"font-weight: bold; text-align: right;\"></th><th title = \"Int64\" style = \"text-align: left;\">Int64</th><th title = \"Int64\" style = \"text-align: left;\">Int64</th><th title = \"Float64\" style = \"text-align: left;\">Float64</th></tr></thead><tbody><tr><td class = \"rowNumber\" style = \"font-weight: bold; text-align: right;\">1</td><td style = \"text-align: right;\">1</td><td style = \"text-align: right;\">2</td><td style = \"text-align: right;\">9.17622</td></tr><tr><td class = \"rowNumber\" style = \"font-weight: bold; text-align: right;\">2</td><td style = \"text-align: right;\">1</td><td style = \"text-align: right;\">5</td><td style = \"text-align: right;\">22.4855</td></tr><tr><td class = \"rowNumber\" style = \"font-weight: bold; text-align: right;\">3</td><td style = \"text-align: right;\">2</td><td style = \"text-align: right;\">3</td><td style = \"text-align: right;\">62.8772</td></tr><tr><td class = \"rowNumber\" style = \"font-weight: bold; text-align: right;\">4</td><td style = \"text-align: right;\">2</td><td style = \"text-align: right;\">4</td><td style = \"text-align: right;\">37.3214</td></tr><tr><td class = \"rowNumber\" style = \"font-weight: bold; text-align: right;\">5</td><td style = \"text-align: right;\">2</td><td style = \"text-align: right;\">5</td><td style = \"text-align: right;\">25.7201</td></tr><tr><td class = \"rowNumber\" style = \"font-weight: bold; text-align: right;\">6</td><td style = \"text-align: right;\">3</td><td style = \"text-align: right;\">4</td><td style = \"text-align: right;\">-34.3056</td></tr><tr><td class = \"rowNumber\" style = \"font-weight: bold; text-align: right;\">7</td><td style = \"text-align: right;\">4</td><td style = \"text-align: right;\">5</td><td style = \"text-align: right;\">-50.0663</td></tr><tr><td class = \"rowNumber\" style = \"font-weight: bold; text-align: right;\">8</td><td style = \"text-align: right;\">4</td><td style = \"text-align: right;\">7</td><td style = \"text-align: right;\">2.63645</td></tr><tr><td class = \"rowNumber\" style = \"font-weight: bold; text-align: right;\">9</td><td style = \"text-align: right;\">4</td><td style = \"text-align: right;\">9</td><td style = \"text-align: right;\">1.51277</td></tr><tr><td class = \"rowNumber\" style = \"font-weight: bold; text-align: right;\">10</td><td style = \"text-align: right;\">5</td><td style = \"text-align: right;\">6</td><td style = \"text-align: right;\">-7.951</td></tr><tr><td class = \"rowNumber\" style = \"font-weight: bold; text-align: right;\">11</td><td style = \"text-align: right;\">6</td><td style = \"text-align: right;\">11</td><td style = \"text-align: right;\">8.59189</td></tr><tr><td class = \"rowNumber\" style = \"font-weight: bold; text-align: right;\">12</td><td style = \"text-align: right;\">6</td><td style = \"text-align: right;\">12</td><td style = \"text-align: right;\">-7.19141</td></tr><tr><td class = \"rowNumber\" style = \"font-weight: bold; text-align: right;\">13</td><td style = \"text-align: right;\">6</td><td style = \"text-align: right;\">13</td><td style = \"text-align: right;\">-5.99832</td></tr><tr><td style = \"text-align: right;\">&vellip;</td><td style = \"text-align: right;\">&vellip;</td><td style = \"text-align: right;\">&vellip;</td><td style = \"text-align: right;\">&vellip;</td></tr><tr><td class = \"rowNumber\" style = \"font-weight: bold; text-align: right;\">29</td><td style = \"text-align: right;\">9</td><td style = \"text-align: right;\">4</td><td style = \"text-align: right;\">-1.51277</td></tr><tr><td class = \"rowNumber\" style = \"font-weight: bold; text-align: right;\">30</td><td style = \"text-align: right;\">6</td><td style = \"text-align: right;\">5</td><td style = \"text-align: right;\">7.951</td></tr><tr><td class = \"rowNumber\" style = \"font-weight: bold; text-align: right;\">31</td><td style = \"text-align: right;\">11</td><td style = \"text-align: right;\">6</td><td style = \"text-align: right;\">-8.59189</td></tr><tr><td class = \"rowNumber\" style = \"font-weight: bold; text-align: right;\">32</td><td style = \"text-align: right;\">12</td><td style = \"text-align: right;\">6</td><td style = \"text-align: right;\">7.19141</td></tr><tr><td class = \"rowNumber\" style = \"font-weight: bold; text-align: right;\">33</td><td style = \"text-align: right;\">13</td><td style = \"text-align: right;\">6</td><td style = \"text-align: right;\">5.99832</td></tr><tr><td class = \"rowNumber\" style = \"font-weight: bold; text-align: right;\">34</td><td style = \"text-align: right;\">8</td><td style = \"text-align: right;\">7</td><td style = \"text-align: right;\">0.0</td></tr><tr><td class = \"rowNumber\" style = \"font-weight: bold; text-align: right;\">35</td><td style = \"text-align: right;\">9</td><td style = \"text-align: right;\">7</td><td style = \"text-align: right;\">-2.63645</td></tr><tr><td class = \"rowNumber\" style = \"font-weight: bold; text-align: right;\">36</td><td style = \"text-align: right;\">10</td><td style = \"text-align: right;\">9</td><td style = \"text-align: right;\">8.82737</td></tr><tr><td class = \"rowNumber\" style = \"font-weight: bold; text-align: right;\">37</td><td style = \"text-align: right;\">14</td><td style = \"text-align: right;\">9</td><td style = \"text-align: right;\">8.84483</td></tr><tr><td class = \"rowNumber\" style = \"font-weight: bold; text-align: right;\">38</td><td style = \"text-align: right;\">11</td><td style = \"text-align: right;\">10</td><td style = \"text-align: right;\">13.009</td></tr><tr><td class = \"rowNumber\" style = \"font-weight: bold; text-align: right;\">39</td><td style = \"text-align: right;\">13</td><td style = \"text-align: right;\">12</td><td style = \"text-align: right;\">-5.29433</td></tr><tr><td class = \"rowNumber\" style = \"font-weight: bold; text-align: right;\">40</td><td style = \"text-align: right;\">14</td><td style = \"text-align: right;\">13</td><td style = \"text-align: right;\">-9.60695</td></tr></tbody></table></div>"
      ],
      "text/latex": [
       "\\begin{tabular}{r|ccc}\n",
       "\t& fbus & tbus & flow\\\\\n",
       "\t\\hline\n",
       "\t& Int64 & Int64 & Float64\\\\\n",
       "\t\\hline\n",
       "\t1 & 1 & 2 & 9.17622 \\\\\n",
       "\t2 & 1 & 5 & 22.4855 \\\\\n",
       "\t3 & 2 & 3 & 62.8772 \\\\\n",
       "\t4 & 2 & 4 & 37.3214 \\\\\n",
       "\t5 & 2 & 5 & 25.7201 \\\\\n",
       "\t6 & 3 & 4 & -34.3056 \\\\\n",
       "\t7 & 4 & 5 & -50.0663 \\\\\n",
       "\t8 & 4 & 7 & 2.63645 \\\\\n",
       "\t9 & 4 & 9 & 1.51277 \\\\\n",
       "\t10 & 5 & 6 & -7.951 \\\\\n",
       "\t11 & 6 & 11 & 8.59189 \\\\\n",
       "\t12 & 6 & 12 & -7.19141 \\\\\n",
       "\t13 & 6 & 13 & -5.99832 \\\\\n",
       "\t14 & 7 & 8 & 0.0 \\\\\n",
       "\t15 & 7 & 9 & 2.63645 \\\\\n",
       "\t16 & 9 & 10 & -8.82737 \\\\\n",
       "\t17 & 9 & 14 & -8.84483 \\\\\n",
       "\t18 & 10 & 11 & -13.009 \\\\\n",
       "\t19 & 12 & 13 & 5.29433 \\\\\n",
       "\t20 & 13 & 14 & 9.60695 \\\\\n",
       "\t21 & 2 & 1 & -9.17622 \\\\\n",
       "\t22 & 5 & 1 & -22.4855 \\\\\n",
       "\t23 & 3 & 2 & -62.8772 \\\\\n",
       "\t24 & 4 & 2 & -37.3214 \\\\\n",
       "\t25 & 5 & 2 & -25.7201 \\\\\n",
       "\t26 & 4 & 3 & 34.3056 \\\\\n",
       "\t27 & 5 & 4 & 50.0663 \\\\\n",
       "\t28 & 7 & 4 & -2.63645 \\\\\n",
       "\t29 & 9 & 4 & -1.51277 \\\\\n",
       "\t30 & 6 & 5 & 7.951 \\\\\n",
       "\t$\\dots$ & $\\dots$ & $\\dots$ & $\\dots$ \\\\\n",
       "\\end{tabular}\n"
      ],
      "text/plain": [
       "\u001b[1m40×3 DataFrame\u001b[0m\n",
       "\u001b[1m Row \u001b[0m│\u001b[1m fbus  \u001b[0m\u001b[1m tbus  \u001b[0m\u001b[1m flow      \u001b[0m\n",
       "     │\u001b[90m Int64 \u001b[0m\u001b[90m Int64 \u001b[0m\u001b[90m Float64   \u001b[0m\n",
       "─────┼─────────────────────────\n",
       "   1 │     1      2    9.17622\n",
       "   2 │     1      5   22.4855\n",
       "   3 │     2      3   62.8772\n",
       "   4 │     2      4   37.3214\n",
       "   5 │     2      5   25.7201\n",
       "   6 │     3      4  -34.3056\n",
       "   7 │     4      5  -50.0663\n",
       "   8 │     4      7    2.63645\n",
       "   9 │     4      9    1.51277\n",
       "  10 │     5      6   -7.951\n",
       "  11 │     6     11    8.59189\n",
       "  ⋮  │   ⋮      ⋮        ⋮\n",
       "  31 │    11      6   -8.59189\n",
       "  32 │    12      6    7.19141\n",
       "  33 │    13      6    5.99832\n",
       "  34 │     8      7    0.0\n",
       "  35 │     9      7   -2.63645\n",
       "  36 │    10      9    8.82737\n",
       "  37 │    14      9    8.84483\n",
       "  38 │    11     10   13.009\n",
       "  39 │    13     12   -5.29433\n",
       "  40 │    14     13   -9.60695\n",
       "\u001b[36m                19 rows omitted\u001b[0m"
      ]
     },
     "execution_count": 30,
     "metadata": {},
     "output_type": "execute_result"
    }
   ],
   "source": [
    "solution2a.flows"
   ]
  },
  {
   "cell_type": "code",
   "execution_count": 31,
   "metadata": {},
   "outputs": [
    {
     "data": {
      "text/plain": [
       "14×14 Matrix{Float64}:\n",
       "  0.0      -0.92341   0.0        0.0       …    0.0        0.0       0.0\n",
       " -0.92341   0.0       2.80786    0.502232       0.0        0.0       0.0\n",
       "  0.0       2.80786   0.0        0.174981       0.0        0.0       0.0\n",
       "  0.0       0.502232  0.174981   0.0            0.0        0.0       0.0\n",
       " -1.13619  -0.829178  0.0        0.455671       0.0        0.0       0.0\n",
       "  0.0       0.0       0.0        0.0       …   -6.34427   -3.57232   0.0\n",
       "  0.0       0.0       0.0       -0.0            0.0        0.0       0.0\n",
       "  0.0       0.0       0.0        0.0            0.0        0.0       0.0\n",
       "  0.0       0.0       0.0       -0.0            0.0        0.0      -6.14073\n",
       "  0.0       0.0       0.0        0.0            0.0        0.0       0.0\n",
       "  0.0       0.0       0.0        0.0       …    0.0        0.0       0.0\n",
       "  0.0       0.0       0.0        0.0            0.0      -12.2415    0.0\n",
       "  0.0       0.0       0.0        0.0          -12.2415     0.0      -7.99715\n",
       "  0.0       0.0       0.0        0.0            0.0       -7.99715   0.0"
      ]
     },
     "execution_count": 31,
     "metadata": {},
     "output_type": "execute_result"
    }
   ],
   "source": [
    "solution2a.losses"
   ]
  },
  {
   "cell_type": "markdown",
   "metadata": {},
   "source": [
    "**B. Interpret results**\n",
    "\n",
    "Run the same parameters in the lossless OPF from problem 1. How do prices and flows change? What is the largest magnitude difference in prices between the solution with losses and the lossless OPF solution?"
   ]
  },
  {
   "cell_type": "code",
   "execution_count": 32,
   "metadata": {},
   "outputs": [
    {
     "data": {
      "text/plain": [
       "OPTIMAL::TerminationStatusCode = 1"
      ]
     },
     "execution_count": 32,
     "metadata": {},
     "output_type": "execute_result"
    }
   ],
   "source": [
    "solution2b = dcopf_ieee(gens_copy2a, lines_copy2a, loads)\n",
    "solution2b.status"
   ]
  },
  {
   "cell_type": "code",
   "execution_count": 33,
   "metadata": {},
   "outputs": [
    {
     "data": {
      "text/html": [
       "<div><div style = \"float: left;\"><span>2×2 DataFrame</span></div><div style = \"clear: both;\"></div></div><div class = \"data-frame\" style = \"overflow-x: scroll;\"><table class = \"data-frame\" style = \"margin-bottom: 6px;\"><thead><tr class = \"header\"><th class = \"rowNumber\" style = \"font-weight: bold; text-align: right;\">Row</th><th style = \"text-align: left;\">node</th><th style = \"text-align: left;\">gen</th></tr><tr class = \"subheader headerLastRow\"><th class = \"rowNumber\" style = \"font-weight: bold; text-align: right;\"></th><th title = \"Int64\" style = \"text-align: left;\">Int64</th><th title = \"Float64\" style = \"text-align: left;\">Float64</th></tr></thead><tbody><tr><td class = \"rowNumber\" style = \"font-weight: bold; text-align: right;\">1</td><td style = \"text-align: right;\">1</td><td style = \"text-align: right;\">119.0</td></tr><tr><td class = \"rowNumber\" style = \"font-weight: bold; text-align: right;\">2</td><td style = \"text-align: right;\">2</td><td style = \"text-align: right;\">140.0</td></tr></tbody></table></div>"
      ],
      "text/latex": [
       "\\begin{tabular}{r|cc}\n",
       "\t& node & gen\\\\\n",
       "\t\\hline\n",
       "\t& Int64 & Float64\\\\\n",
       "\t\\hline\n",
       "\t1 & 1 & 119.0 \\\\\n",
       "\t2 & 2 & 140.0 \\\\\n",
       "\\end{tabular}\n"
      ],
      "text/plain": [
       "\u001b[1m2×2 DataFrame\u001b[0m\n",
       "\u001b[1m Row \u001b[0m│\u001b[1m node  \u001b[0m\u001b[1m gen     \u001b[0m\n",
       "     │\u001b[90m Int64 \u001b[0m\u001b[90m Float64 \u001b[0m\n",
       "─────┼────────────────\n",
       "   1 │     1    119.0\n",
       "   2 │     2    140.0"
      ]
     },
     "execution_count": 33,
     "metadata": {},
     "output_type": "execute_result"
    }
   ],
   "source": [
    "solution2b.generation"
   ]
  },
  {
   "cell_type": "code",
   "execution_count": 34,
   "metadata": {},
   "outputs": [
    {
     "data": {
      "text/plain": [
       "14-element Vector{Float64}:\n",
       "  0.0\n",
       " -0.03791491976786273\n",
       " -0.18200655970723797\n",
       " -0.1453797728538324\n",
       " -0.12249815256001242\n",
       " -0.22741136081397662\n",
       " -0.20659753163771283\n",
       " -0.20659753163771283\n",
       " -0.23880184324738518\n",
       " -0.2442681772629424\n",
       " -0.239406951515819\n",
       " -0.24660972634711795\n",
       " -0.2494179036348092\n",
       " -0.26611574994200304"
      ]
     },
     "execution_count": 34,
     "metadata": {},
     "output_type": "execute_result"
    }
   ],
   "source": [
    "solution2b.angles"
   ]
  },
  {
   "cell_type": "code",
   "execution_count": 35,
   "metadata": {},
   "outputs": [
    {
     "data": {
      "text/html": [
       "<div><div style = \"float: left;\"><span>14×2 DataFrame</span></div><div style = \"clear: both;\"></div></div><div class = \"data-frame\" style = \"overflow-x: scroll;\"><table class = \"data-frame\" style = \"margin-bottom: 6px;\"><thead><tr class = \"header\"><th class = \"rowNumber\" style = \"font-weight: bold; text-align: right;\">Row</th><th style = \"text-align: left;\">node</th><th style = \"text-align: left;\">value</th></tr><tr class = \"subheader headerLastRow\"><th class = \"rowNumber\" style = \"font-weight: bold; text-align: right;\"></th><th title = \"Int64\" style = \"text-align: left;\">Int64</th><th title = \"Float64\" style = \"text-align: left;\">Float64</th></tr></thead><tbody><tr><td class = \"rowNumber\" style = \"font-weight: bold; text-align: right;\">1</td><td style = \"text-align: right;\">1</td><td style = \"text-align: right;\">30.0</td></tr><tr><td class = \"rowNumber\" style = \"font-weight: bold; text-align: right;\">2</td><td style = \"text-align: right;\">2</td><td style = \"text-align: right;\">30.0</td></tr><tr><td class = \"rowNumber\" style = \"font-weight: bold; text-align: right;\">3</td><td style = \"text-align: right;\">3</td><td style = \"text-align: right;\">30.0</td></tr><tr><td class = \"rowNumber\" style = \"font-weight: bold; text-align: right;\">4</td><td style = \"text-align: right;\">4</td><td style = \"text-align: right;\">30.0</td></tr><tr><td class = \"rowNumber\" style = \"font-weight: bold; text-align: right;\">5</td><td style = \"text-align: right;\">5</td><td style = \"text-align: right;\">30.0</td></tr><tr><td class = \"rowNumber\" style = \"font-weight: bold; text-align: right;\">6</td><td style = \"text-align: right;\">6</td><td style = \"text-align: right;\">30.0</td></tr><tr><td class = \"rowNumber\" style = \"font-weight: bold; text-align: right;\">7</td><td style = \"text-align: right;\">7</td><td style = \"text-align: right;\">30.0</td></tr><tr><td class = \"rowNumber\" style = \"font-weight: bold; text-align: right;\">8</td><td style = \"text-align: right;\">8</td><td style = \"text-align: right;\">30.0</td></tr><tr><td class = \"rowNumber\" style = \"font-weight: bold; text-align: right;\">9</td><td style = \"text-align: right;\">9</td><td style = \"text-align: right;\">30.0</td></tr><tr><td class = \"rowNumber\" style = \"font-weight: bold; text-align: right;\">10</td><td style = \"text-align: right;\">10</td><td style = \"text-align: right;\">30.0</td></tr><tr><td class = \"rowNumber\" style = \"font-weight: bold; text-align: right;\">11</td><td style = \"text-align: right;\">11</td><td style = \"text-align: right;\">30.0</td></tr><tr><td class = \"rowNumber\" style = \"font-weight: bold; text-align: right;\">12</td><td style = \"text-align: right;\">12</td><td style = \"text-align: right;\">30.0</td></tr><tr><td class = \"rowNumber\" style = \"font-weight: bold; text-align: right;\">13</td><td style = \"text-align: right;\">13</td><td style = \"text-align: right;\">30.0</td></tr><tr><td class = \"rowNumber\" style = \"font-weight: bold; text-align: right;\">14</td><td style = \"text-align: right;\">14</td><td style = \"text-align: right;\">30.0</td></tr></tbody></table></div>"
      ],
      "text/latex": [
       "\\begin{tabular}{r|cc}\n",
       "\t& node & value\\\\\n",
       "\t\\hline\n",
       "\t& Int64 & Float64\\\\\n",
       "\t\\hline\n",
       "\t1 & 1 & 30.0 \\\\\n",
       "\t2 & 2 & 30.0 \\\\\n",
       "\t3 & 3 & 30.0 \\\\\n",
       "\t4 & 4 & 30.0 \\\\\n",
       "\t5 & 5 & 30.0 \\\\\n",
       "\t6 & 6 & 30.0 \\\\\n",
       "\t7 & 7 & 30.0 \\\\\n",
       "\t8 & 8 & 30.0 \\\\\n",
       "\t9 & 9 & 30.0 \\\\\n",
       "\t10 & 10 & 30.0 \\\\\n",
       "\t11 & 11 & 30.0 \\\\\n",
       "\t12 & 12 & 30.0 \\\\\n",
       "\t13 & 13 & 30.0 \\\\\n",
       "\t14 & 14 & 30.0 \\\\\n",
       "\\end{tabular}\n"
      ],
      "text/plain": [
       "\u001b[1m14×2 DataFrame\u001b[0m\n",
       "\u001b[1m Row \u001b[0m│\u001b[1m node  \u001b[0m\u001b[1m value   \u001b[0m\n",
       "     │\u001b[90m Int64 \u001b[0m\u001b[90m Float64 \u001b[0m\n",
       "─────┼────────────────\n",
       "   1 │     1     30.0\n",
       "   2 │     2     30.0\n",
       "   3 │     3     30.0\n",
       "   4 │     4     30.0\n",
       "   5 │     5     30.0\n",
       "   6 │     6     30.0\n",
       "   7 │     7     30.0\n",
       "   8 │     8     30.0\n",
       "   9 │     9     30.0\n",
       "  10 │    10     30.0\n",
       "  11 │    11     30.0\n",
       "  12 │    12     30.0\n",
       "  13 │    13     30.0\n",
       "  14 │    14     30.0"
      ]
     },
     "execution_count": 35,
     "metadata": {},
     "output_type": "execute_result"
    }
   ],
   "source": [
    "solution2b.prices"
   ]
  },
  {
   "cell_type": "code",
   "execution_count": 36,
   "metadata": {},
   "outputs": [
    {
     "data": {
      "text/html": [
       "<div><div style = \"float: left;\"><span>40×3 DataFrame</span></div><div style = \"float: right;\"><span style = \"font-style: italic;\">15 rows omitted</span></div><div style = \"clear: both;\"></div></div><div class = \"data-frame\" style = \"overflow-x: scroll;\"><table class = \"data-frame\" style = \"margin-bottom: 6px;\"><thead><tr class = \"header\"><th class = \"rowNumber\" style = \"font-weight: bold; text-align: right;\">Row</th><th style = \"text-align: left;\">fbus</th><th style = \"text-align: left;\">tbus</th><th style = \"text-align: left;\">flow</th></tr><tr class = \"subheader headerLastRow\"><th class = \"rowNumber\" style = \"font-weight: bold; text-align: right;\"></th><th title = \"Int64\" style = \"text-align: left;\">Int64</th><th title = \"Int64\" style = \"text-align: left;\">Int64</th><th title = \"Float64\" style = \"text-align: left;\">Float64</th></tr></thead><tbody><tr><td class = \"rowNumber\" style = \"font-weight: bold; text-align: right;\">1</td><td style = \"text-align: right;\">1</td><td style = \"text-align: right;\">2</td><td style = \"text-align: right;\">64.0779</td></tr><tr><td class = \"rowNumber\" style = \"font-weight: bold; text-align: right;\">2</td><td style = \"text-align: right;\">1</td><td style = \"text-align: right;\">5</td><td style = \"text-align: right;\">54.9221</td></tr><tr><td class = \"rowNumber\" style = \"font-weight: bold; text-align: right;\">3</td><td style = \"text-align: right;\">2</td><td style = \"text-align: right;\">3</td><td style = \"text-align: right;\">72.7846</td></tr><tr><td class = \"rowNumber\" style = \"font-weight: bold; text-align: right;\">4</td><td style = \"text-align: right;\">2</td><td style = \"text-align: right;\">4</td><td style = \"text-align: right;\">60.9488</td></tr><tr><td class = \"rowNumber\" style = \"font-weight: bold; text-align: right;\">5</td><td style = \"text-align: right;\">2</td><td style = \"text-align: right;\">5</td><td style = \"text-align: right;\">48.6446</td></tr><tr><td class = \"rowNumber\" style = \"font-weight: bold; text-align: right;\">6</td><td style = \"text-align: right;\">3</td><td style = \"text-align: right;\">4</td><td style = \"text-align: right;\">-21.4154</td></tr><tr><td class = \"rowNumber\" style = \"font-weight: bold; text-align: right;\">7</td><td style = \"text-align: right;\">4</td><td style = \"text-align: right;\">5</td><td style = \"text-align: right;\">-54.3377</td></tr><tr><td class = \"rowNumber\" style = \"font-weight: bold; text-align: right;\">8</td><td style = \"text-align: right;\">4</td><td style = \"text-align: right;\">7</td><td style = \"text-align: right;\">29.274</td></tr><tr><td class = \"rowNumber\" style = \"font-weight: bold; text-align: right;\">9</td><td style = \"text-align: right;\">4</td><td style = \"text-align: right;\">9</td><td style = \"text-align: right;\">16.7971</td></tr><tr><td class = \"rowNumber\" style = \"font-weight: bold; text-align: right;\">10</td><td style = \"text-align: right;\">5</td><td style = \"text-align: right;\">6</td><td style = \"text-align: right;\">41.6289</td></tr><tr><td class = \"rowNumber\" style = \"font-weight: bold; text-align: right;\">11</td><td style = \"text-align: right;\">6</td><td style = \"text-align: right;\">11</td><td style = \"text-align: right;\">6.03097</td></tr><tr><td class = \"rowNumber\" style = \"font-weight: bold; text-align: right;\">12</td><td style = \"text-align: right;\">6</td><td style = \"text-align: right;\">12</td><td style = \"text-align: right;\">7.50493</td></tr><tr><td class = \"rowNumber\" style = \"font-weight: bold; text-align: right;\">13</td><td style = \"text-align: right;\">6</td><td style = \"text-align: right;\">13</td><td style = \"text-align: right;\">16.893</td></tr><tr><td style = \"text-align: right;\">&vellip;</td><td style = \"text-align: right;\">&vellip;</td><td style = \"text-align: right;\">&vellip;</td><td style = \"text-align: right;\">&vellip;</td></tr><tr><td class = \"rowNumber\" style = \"font-weight: bold; text-align: right;\">29</td><td style = \"text-align: right;\">9</td><td style = \"text-align: right;\">4</td><td style = \"text-align: right;\">-16.7971</td></tr><tr><td class = \"rowNumber\" style = \"font-weight: bold; text-align: right;\">30</td><td style = \"text-align: right;\">6</td><td style = \"text-align: right;\">5</td><td style = \"text-align: right;\">-41.6289</td></tr><tr><td class = \"rowNumber\" style = \"font-weight: bold; text-align: right;\">31</td><td style = \"text-align: right;\">11</td><td style = \"text-align: right;\">6</td><td style = \"text-align: right;\">-6.03097</td></tr><tr><td class = \"rowNumber\" style = \"font-weight: bold; text-align: right;\">32</td><td style = \"text-align: right;\">12</td><td style = \"text-align: right;\">6</td><td style = \"text-align: right;\">-7.50493</td></tr><tr><td class = \"rowNumber\" style = \"font-weight: bold; text-align: right;\">33</td><td style = \"text-align: right;\">13</td><td style = \"text-align: right;\">6</td><td style = \"text-align: right;\">-16.893</td></tr><tr><td class = \"rowNumber\" style = \"font-weight: bold; text-align: right;\">34</td><td style = \"text-align: right;\">8</td><td style = \"text-align: right;\">7</td><td style = \"text-align: right;\">0.0</td></tr><tr><td class = \"rowNumber\" style = \"font-weight: bold; text-align: right;\">35</td><td style = \"text-align: right;\">9</td><td style = \"text-align: right;\">7</td><td style = \"text-align: right;\">-29.274</td></tr><tr><td class = \"rowNumber\" style = \"font-weight: bold; text-align: right;\">36</td><td style = \"text-align: right;\">10</td><td style = \"text-align: right;\">9</td><td style = \"text-align: right;\">-6.46903</td></tr><tr><td class = \"rowNumber\" style = \"font-weight: bold; text-align: right;\">37</td><td style = \"text-align: right;\">14</td><td style = \"text-align: right;\">9</td><td style = \"text-align: right;\">-10.102</td></tr><tr><td class = \"rowNumber\" style = \"font-weight: bold; text-align: right;\">38</td><td style = \"text-align: right;\">11</td><td style = \"text-align: right;\">10</td><td style = \"text-align: right;\">2.53097</td></tr><tr><td class = \"rowNumber\" style = \"font-weight: bold; text-align: right;\">39</td><td style = \"text-align: right;\">13</td><td style = \"text-align: right;\">12</td><td style = \"text-align: right;\">-1.40493</td></tr><tr><td class = \"rowNumber\" style = \"font-weight: bold; text-align: right;\">40</td><td style = \"text-align: right;\">14</td><td style = \"text-align: right;\">13</td><td style = \"text-align: right;\">-4.79796</td></tr></tbody></table></div>"
      ],
      "text/latex": [
       "\\begin{tabular}{r|ccc}\n",
       "\t& fbus & tbus & flow\\\\\n",
       "\t\\hline\n",
       "\t& Int64 & Int64 & Float64\\\\\n",
       "\t\\hline\n",
       "\t1 & 1 & 2 & 64.0779 \\\\\n",
       "\t2 & 1 & 5 & 54.9221 \\\\\n",
       "\t3 & 2 & 3 & 72.7846 \\\\\n",
       "\t4 & 2 & 4 & 60.9488 \\\\\n",
       "\t5 & 2 & 5 & 48.6446 \\\\\n",
       "\t6 & 3 & 4 & -21.4154 \\\\\n",
       "\t7 & 4 & 5 & -54.3377 \\\\\n",
       "\t8 & 4 & 7 & 29.274 \\\\\n",
       "\t9 & 4 & 9 & 16.7971 \\\\\n",
       "\t10 & 5 & 6 & 41.6289 \\\\\n",
       "\t11 & 6 & 11 & 6.03097 \\\\\n",
       "\t12 & 6 & 12 & 7.50493 \\\\\n",
       "\t13 & 6 & 13 & 16.893 \\\\\n",
       "\t14 & 7 & 8 & 0.0 \\\\\n",
       "\t15 & 7 & 9 & 29.274 \\\\\n",
       "\t16 & 9 & 10 & 6.46903 \\\\\n",
       "\t17 & 9 & 14 & 10.102 \\\\\n",
       "\t18 & 10 & 11 & -2.53097 \\\\\n",
       "\t19 & 12 & 13 & 1.40493 \\\\\n",
       "\t20 & 13 & 14 & 4.79796 \\\\\n",
       "\t21 & 2 & 1 & -64.0779 \\\\\n",
       "\t22 & 5 & 1 & -54.9221 \\\\\n",
       "\t23 & 3 & 2 & -72.7846 \\\\\n",
       "\t24 & 4 & 2 & -60.9488 \\\\\n",
       "\t25 & 5 & 2 & -48.6446 \\\\\n",
       "\t26 & 4 & 3 & 21.4154 \\\\\n",
       "\t27 & 5 & 4 & 54.3377 \\\\\n",
       "\t28 & 7 & 4 & -29.274 \\\\\n",
       "\t29 & 9 & 4 & -16.7971 \\\\\n",
       "\t30 & 6 & 5 & -41.6289 \\\\\n",
       "\t$\\dots$ & $\\dots$ & $\\dots$ & $\\dots$ \\\\\n",
       "\\end{tabular}\n"
      ],
      "text/plain": [
       "\u001b[1m40×3 DataFrame\u001b[0m\n",
       "\u001b[1m Row \u001b[0m│\u001b[1m fbus  \u001b[0m\u001b[1m tbus  \u001b[0m\u001b[1m flow      \u001b[0m\n",
       "     │\u001b[90m Int64 \u001b[0m\u001b[90m Int64 \u001b[0m\u001b[90m Float64   \u001b[0m\n",
       "─────┼─────────────────────────\n",
       "   1 │     1      2   64.0779\n",
       "   2 │     1      5   54.9221\n",
       "   3 │     2      3   72.7846\n",
       "   4 │     2      4   60.9488\n",
       "   5 │     2      5   48.6446\n",
       "   6 │     3      4  -21.4154\n",
       "   7 │     4      5  -54.3377\n",
       "   8 │     4      7   29.274\n",
       "   9 │     4      9   16.7971\n",
       "  10 │     5      6   41.6289\n",
       "  11 │     6     11    6.03097\n",
       "  ⋮  │   ⋮      ⋮        ⋮\n",
       "  31 │    11      6   -6.03097\n",
       "  32 │    12      6   -7.50493\n",
       "  33 │    13      6  -16.893\n",
       "  34 │     8      7    0.0\n",
       "  35 │     9      7  -29.274\n",
       "  36 │    10      9   -6.46903\n",
       "  37 │    14      9  -10.102\n",
       "  38 │    11     10    2.53097\n",
       "  39 │    13     12   -1.40493\n",
       "  40 │    14     13   -4.79796\n",
       "\u001b[36m                19 rows omitted\u001b[0m"
      ]
     },
     "execution_count": 36,
     "metadata": {},
     "output_type": "execute_result"
    }
   ],
   "source": [
    "solution2b.flows"
   ]
  },
  {
   "cell_type": "markdown",
   "metadata": {},
   "source": [
    "**ANS** the prices remained constant in the lossless model but the prices in the loss model varies greatly by node. This happened for flows too, especially at Node 3 where we controlled the flow. We can see that the lossless model maximizes the flow at Node 3 while the model with losses does not maximize the flow. The largest magnitude difference of prices happen at Node 11 which is 17.598 dollars."
   ]
  },
  {
   "cell_type": "markdown",
   "metadata": {},
   "source": [
    "## Question 3 - Security contingencies\n",
    "\n",
    "Power system operators need to ensure that power is delivered reliably even in the event of unexpected outages (**contingencies**). One common contigency that must be planned for is the loss of a transmission line. The security-constrained OPF (SCOPF) run by operators solves for an optimal dispatch that is simultaneously robust (i.e., feasible) to each of the lines failing individually. This is what is known as **N-1 security**, because we assume that at most one component fails in any given scenario.\n",
    "\n",
    "In this problem, we will not code a full SCOPF, but rather investigate what happens to the feasibility of our problem when we remove transmission lines.\n",
    "\n",
    "**A. Setup data**\n",
    "\n",
    "The following code loads the original dataset (with one row per line) and includes a function `format_lines` that converts this to a format that our solver function can use (duplicating rows for both directions, adding susceptance, etc.)."
   ]
  },
  {
   "cell_type": "code",
   "execution_count": 37,
   "metadata": {},
   "outputs": [
    {
     "data": {
      "text/plain": [
       "format_lines (generic function with 1 method)"
      ]
     },
     "execution_count": 37,
     "metadata": {},
     "output_type": "execute_result"
    }
   ],
   "source": [
    "lines = CSV.read(joinpath(datadir,\"Tran14.csv\"), DataFrame);\n",
    "rename!(lines,lowercase.(names(lines)))\n",
    "\n",
    "function format_lines(lines)\n",
    "    # create line ids \n",
    "    lines.id = 1:nrow(lines);\n",
    "    # add set of rows for reverse direction with same parameters\n",
    "    lines2 = copy(lines)\n",
    "    lines2.f = lines2.fromnode\n",
    "    lines2.fromnode = lines.tonode\n",
    "    lines2.tonode = lines2.f\n",
    "    lines2 = lines2[:,names(lines)]\n",
    "    append!(lines,lines2)\n",
    "\n",
    "    # calculate simple susceptance, ignoring resistance as earlier \n",
    "    lines.b = 1 ./ lines.reactance\n",
    "    return(lines)\n",
    "end"
   ]
  },
  {
   "cell_type": "markdown",
   "metadata": {},
   "source": [
    "Next:\n",
    "\n",
    "1. Set the capacity of all lines in the system at 100 MW, except for the line $l_{12}$, which you should set to 200 MW.\n",
    "\n",
    "2. Create a load dataframe `loads_sens` that increases demands everywhere by 10\\%"
   ]
  },
  {
   "cell_type": "code",
   "execution_count": 38,
   "metadata": {},
   "outputs": [
    {
     "data": {
      "text/plain": [
       "11-element Vector{Float64}:\n",
       "  -23.87\n",
       " -103.62\n",
       "  -52.58\n",
       "   -8.36\n",
       "  -12.32\n",
       "  -32.45\n",
       "   -9.9\n",
       "   -3.8500000000000005\n",
       "   -6.71\n",
       "  -14.850000000000001\n",
       "  -16.39"
      ]
     },
     "execution_count": 38,
     "metadata": {},
     "output_type": "execute_result"
    }
   ],
   "source": [
    "gens_copy3 = copy(gens)\n",
    "lines_copy3 = copy(lines_copy1b)\n",
    "loads_sens = copy(loads)\n",
    "\n",
    "lines_copy3[!, :capacity] .= 200\n",
    "lines_copy3[lines_copy3.id.==1, :capacity] .= 100\n",
    "\n",
    "loads_sens.demand *= 1.1"
   ]
  },
  {
   "cell_type": "markdown",
   "metadata": {},
   "source": [
    "**B. Loop over line contingencies**\n",
    "\n",
    "Create a dataframe `status` with the `fromnode` and `tonode` columns of `lines`.\n",
    "\n",
    "Create a [for loop](https://docs.julialang.org/en/v1/manual/control-flow/#man-loops) that iterates over each line and:\n",
    "- sets the reactance to be a very high value, 1e9 (i.e., no power will be transmitted)\n",
    "- creates a version of the dataframe that our solver function can use via `format_lines`\n",
    "- runs DCOPF\n",
    "- stores the solution status in a `opf` column in the corresponding row of the `status` dataframe\n",
    "\n",
    "Show the `status` results."
   ]
  },
  {
   "cell_type": "code",
   "execution_count": 39,
   "metadata": {},
   "outputs": [
    {
     "data": {
      "text/plain": [
       "20"
      ]
     },
     "execution_count": 39,
     "metadata": {},
     "output_type": "execute_result"
    }
   ],
   "source": [
    "#status = DataFrame(lines_copy3.fromnode, lines_copy3.tonode)\n",
    "lines_copy3.fromnode[1:20]\n",
    "lines_copy3.fromnode[21:40]\n",
    "#opf1 = Array{String, 1}(20)\n",
    "status = DataFrame(fromnode = [], tonode = [], opf = [])\n",
    "size1 = 20"
   ]
  },
  {
   "cell_type": "code",
   "execution_count": 40,
   "metadata": {},
   "outputs": [
    {
     "data": {
      "text/html": [
       "<div><div style = \"float: left;\"><span>40×8 DataFrame</span></div><div style = \"float: right;\"><span style = \"font-style: italic;\">15 rows omitted</span></div><div style = \"clear: both;\"></div></div><div class = \"data-frame\" style = \"overflow-x: scroll;\"><table class = \"data-frame\" style = \"margin-bottom: 6px;\"><thead><tr class = \"header\"><th class = \"rowNumber\" style = \"font-weight: bold; text-align: right;\">Row</th><th style = \"text-align: left;\">fromnode</th><th style = \"text-align: left;\">tonode</th><th style = \"text-align: left;\">resistance</th><th style = \"text-align: left;\">reactance</th><th style = \"text-align: left;\">contingencymarked</th><th style = \"text-align: left;\">capacity</th><th style = \"text-align: left;\">id</th><th style = \"text-align: left;\">b</th></tr><tr class = \"subheader headerLastRow\"><th class = \"rowNumber\" style = \"font-weight: bold; text-align: right;\"></th><th title = \"Int64\" style = \"text-align: left;\">Int64</th><th title = \"Int64\" style = \"text-align: left;\">Int64</th><th title = \"Float64\" style = \"text-align: left;\">Float64</th><th title = \"Float64\" style = \"text-align: left;\">Float64</th><th title = \"Int64\" style = \"text-align: left;\">Int64</th><th title = \"Int64\" style = \"text-align: left;\">Int64</th><th title = \"Int64\" style = \"text-align: left;\">Int64</th><th title = \"Float64\" style = \"text-align: left;\">Float64</th></tr></thead><tbody><tr><td class = \"rowNumber\" style = \"font-weight: bold; text-align: right;\">1</td><td style = \"text-align: right;\">1</td><td style = \"text-align: right;\">2</td><td style = \"text-align: right;\">0.01938</td><td style = \"text-align: right;\">0.05917</td><td style = \"text-align: right;\">1</td><td style = \"text-align: right;\">100</td><td style = \"text-align: right;\">1</td><td style = \"text-align: right;\">16.9005</td></tr><tr><td class = \"rowNumber\" style = \"font-weight: bold; text-align: right;\">2</td><td style = \"text-align: right;\">1</td><td style = \"text-align: right;\">5</td><td style = \"text-align: right;\">0.05403</td><td style = \"text-align: right;\">0.22304</td><td style = \"text-align: right;\">1</td><td style = \"text-align: right;\">200</td><td style = \"text-align: right;\">2</td><td style = \"text-align: right;\">4.4835</td></tr><tr><td class = \"rowNumber\" style = \"font-weight: bold; text-align: right;\">3</td><td style = \"text-align: right;\">2</td><td style = \"text-align: right;\">3</td><td style = \"text-align: right;\">0.04699</td><td style = \"text-align: right;\">0.19797</td><td style = \"text-align: right;\">1</td><td style = \"text-align: right;\">200</td><td style = \"text-align: right;\">3</td><td style = \"text-align: right;\">5.05127</td></tr><tr><td class = \"rowNumber\" style = \"font-weight: bold; text-align: right;\">4</td><td style = \"text-align: right;\">2</td><td style = \"text-align: right;\">4</td><td style = \"text-align: right;\">0.05811</td><td style = \"text-align: right;\">0.17632</td><td style = \"text-align: right;\">1</td><td style = \"text-align: right;\">200</td><td style = \"text-align: right;\">4</td><td style = \"text-align: right;\">5.67151</td></tr><tr><td class = \"rowNumber\" style = \"font-weight: bold; text-align: right;\">5</td><td style = \"text-align: right;\">2</td><td style = \"text-align: right;\">5</td><td style = \"text-align: right;\">0.05695</td><td style = \"text-align: right;\">0.17388</td><td style = \"text-align: right;\">1</td><td style = \"text-align: right;\">200</td><td style = \"text-align: right;\">5</td><td style = \"text-align: right;\">5.75109</td></tr><tr><td class = \"rowNumber\" style = \"font-weight: bold; text-align: right;\">6</td><td style = \"text-align: right;\">3</td><td style = \"text-align: right;\">4</td><td style = \"text-align: right;\">0.06701</td><td style = \"text-align: right;\">0.17103</td><td style = \"text-align: right;\">1</td><td style = \"text-align: right;\">200</td><td style = \"text-align: right;\">6</td><td style = \"text-align: right;\">5.84693</td></tr><tr><td class = \"rowNumber\" style = \"font-weight: bold; text-align: right;\">7</td><td style = \"text-align: right;\">4</td><td style = \"text-align: right;\">5</td><td style = \"text-align: right;\">0.01335</td><td style = \"text-align: right;\">0.04211</td><td style = \"text-align: right;\">1</td><td style = \"text-align: right;\">200</td><td style = \"text-align: right;\">7</td><td style = \"text-align: right;\">23.7473</td></tr><tr><td class = \"rowNumber\" style = \"font-weight: bold; text-align: right;\">8</td><td style = \"text-align: right;\">4</td><td style = \"text-align: right;\">7</td><td style = \"text-align: right;\">0.0</td><td style = \"text-align: right;\">0.20912</td><td style = \"text-align: right;\">1</td><td style = \"text-align: right;\">200</td><td style = \"text-align: right;\">8</td><td style = \"text-align: right;\">4.78194</td></tr><tr><td class = \"rowNumber\" style = \"font-weight: bold; text-align: right;\">9</td><td style = \"text-align: right;\">4</td><td style = \"text-align: right;\">9</td><td style = \"text-align: right;\">0.0</td><td style = \"text-align: right;\">0.55618</td><td style = \"text-align: right;\">1</td><td style = \"text-align: right;\">200</td><td style = \"text-align: right;\">9</td><td style = \"text-align: right;\">1.79798</td></tr><tr><td class = \"rowNumber\" style = \"font-weight: bold; text-align: right;\">10</td><td style = \"text-align: right;\">5</td><td style = \"text-align: right;\">6</td><td style = \"text-align: right;\">0.0</td><td style = \"text-align: right;\">0.25202</td><td style = \"text-align: right;\">1</td><td style = \"text-align: right;\">200</td><td style = \"text-align: right;\">10</td><td style = \"text-align: right;\">3.96794</td></tr><tr><td class = \"rowNumber\" style = \"font-weight: bold; text-align: right;\">11</td><td style = \"text-align: right;\">6</td><td style = \"text-align: right;\">11</td><td style = \"text-align: right;\">0.09498</td><td style = \"text-align: right;\">0.1989</td><td style = \"text-align: right;\">1</td><td style = \"text-align: right;\">200</td><td style = \"text-align: right;\">11</td><td style = \"text-align: right;\">5.02765</td></tr><tr><td class = \"rowNumber\" style = \"font-weight: bold; text-align: right;\">12</td><td style = \"text-align: right;\">6</td><td style = \"text-align: right;\">12</td><td style = \"text-align: right;\">0.12291</td><td style = \"text-align: right;\">0.25581</td><td style = \"text-align: right;\">1</td><td style = \"text-align: right;\">200</td><td style = \"text-align: right;\">12</td><td style = \"text-align: right;\">3.90915</td></tr><tr><td class = \"rowNumber\" style = \"font-weight: bold; text-align: right;\">13</td><td style = \"text-align: right;\">6</td><td style = \"text-align: right;\">13</td><td style = \"text-align: right;\">0.06615</td><td style = \"text-align: right;\">0.13027</td><td style = \"text-align: right;\">1</td><td style = \"text-align: right;\">200</td><td style = \"text-align: right;\">13</td><td style = \"text-align: right;\">7.67636</td></tr><tr><td style = \"text-align: right;\">&vellip;</td><td style = \"text-align: right;\">&vellip;</td><td style = \"text-align: right;\">&vellip;</td><td style = \"text-align: right;\">&vellip;</td><td style = \"text-align: right;\">&vellip;</td><td style = \"text-align: right;\">&vellip;</td><td style = \"text-align: right;\">&vellip;</td><td style = \"text-align: right;\">&vellip;</td><td style = \"text-align: right;\">&vellip;</td></tr><tr><td class = \"rowNumber\" style = \"font-weight: bold; text-align: right;\">29</td><td style = \"text-align: right;\">9</td><td style = \"text-align: right;\">4</td><td style = \"text-align: right;\">0.0</td><td style = \"text-align: right;\">0.55618</td><td style = \"text-align: right;\">1</td><td style = \"text-align: right;\">200</td><td style = \"text-align: right;\">9</td><td style = \"text-align: right;\">1.79798</td></tr><tr><td class = \"rowNumber\" style = \"font-weight: bold; text-align: right;\">30</td><td style = \"text-align: right;\">6</td><td style = \"text-align: right;\">5</td><td style = \"text-align: right;\">0.0</td><td style = \"text-align: right;\">0.25202</td><td style = \"text-align: right;\">1</td><td style = \"text-align: right;\">200</td><td style = \"text-align: right;\">10</td><td style = \"text-align: right;\">3.96794</td></tr><tr><td class = \"rowNumber\" style = \"font-weight: bold; text-align: right;\">31</td><td style = \"text-align: right;\">11</td><td style = \"text-align: right;\">6</td><td style = \"text-align: right;\">0.09498</td><td style = \"text-align: right;\">0.1989</td><td style = \"text-align: right;\">1</td><td style = \"text-align: right;\">200</td><td style = \"text-align: right;\">11</td><td style = \"text-align: right;\">5.02765</td></tr><tr><td class = \"rowNumber\" style = \"font-weight: bold; text-align: right;\">32</td><td style = \"text-align: right;\">12</td><td style = \"text-align: right;\">6</td><td style = \"text-align: right;\">0.12291</td><td style = \"text-align: right;\">0.25581</td><td style = \"text-align: right;\">1</td><td style = \"text-align: right;\">200</td><td style = \"text-align: right;\">12</td><td style = \"text-align: right;\">3.90915</td></tr><tr><td class = \"rowNumber\" style = \"font-weight: bold; text-align: right;\">33</td><td style = \"text-align: right;\">13</td><td style = \"text-align: right;\">6</td><td style = \"text-align: right;\">0.06615</td><td style = \"text-align: right;\">0.13027</td><td style = \"text-align: right;\">1</td><td style = \"text-align: right;\">200</td><td style = \"text-align: right;\">13</td><td style = \"text-align: right;\">7.67636</td></tr><tr><td class = \"rowNumber\" style = \"font-weight: bold; text-align: right;\">34</td><td style = \"text-align: right;\">8</td><td style = \"text-align: right;\">7</td><td style = \"text-align: right;\">0.0</td><td style = \"text-align: right;\">0.17615</td><td style = \"text-align: right;\">1</td><td style = \"text-align: right;\">200</td><td style = \"text-align: right;\">14</td><td style = \"text-align: right;\">5.67698</td></tr><tr><td class = \"rowNumber\" style = \"font-weight: bold; text-align: right;\">35</td><td style = \"text-align: right;\">9</td><td style = \"text-align: right;\">7</td><td style = \"text-align: right;\">0.0</td><td style = \"text-align: right;\">0.11001</td><td style = \"text-align: right;\">1</td><td style = \"text-align: right;\">200</td><td style = \"text-align: right;\">15</td><td style = \"text-align: right;\">9.09008</td></tr><tr><td class = \"rowNumber\" style = \"font-weight: bold; text-align: right;\">36</td><td style = \"text-align: right;\">10</td><td style = \"text-align: right;\">9</td><td style = \"text-align: right;\">0.03181</td><td style = \"text-align: right;\">0.0845</td><td style = \"text-align: right;\">1</td><td style = \"text-align: right;\">200</td><td style = \"text-align: right;\">16</td><td style = \"text-align: right;\">11.8343</td></tr><tr><td class = \"rowNumber\" style = \"font-weight: bold; text-align: right;\">37</td><td style = \"text-align: right;\">14</td><td style = \"text-align: right;\">9</td><td style = \"text-align: right;\">0.12711</td><td style = \"text-align: right;\">0.27038</td><td style = \"text-align: right;\">1</td><td style = \"text-align: right;\">200</td><td style = \"text-align: right;\">17</td><td style = \"text-align: right;\">3.6985</td></tr><tr><td class = \"rowNumber\" style = \"font-weight: bold; text-align: right;\">38</td><td style = \"text-align: right;\">11</td><td style = \"text-align: right;\">10</td><td style = \"text-align: right;\">0.08205</td><td style = \"text-align: right;\">0.19207</td><td style = \"text-align: right;\">1</td><td style = \"text-align: right;\">200</td><td style = \"text-align: right;\">18</td><td style = \"text-align: right;\">5.20644</td></tr><tr><td class = \"rowNumber\" style = \"font-weight: bold; text-align: right;\">39</td><td style = \"text-align: right;\">13</td><td style = \"text-align: right;\">12</td><td style = \"text-align: right;\">0.22092</td><td style = \"text-align: right;\">0.19988</td><td style = \"text-align: right;\">1</td><td style = \"text-align: right;\">200</td><td style = \"text-align: right;\">19</td><td style = \"text-align: right;\">5.003</td></tr><tr><td class = \"rowNumber\" style = \"font-weight: bold; text-align: right;\">40</td><td style = \"text-align: right;\">14</td><td style = \"text-align: right;\">13</td><td style = \"text-align: right;\">0.17093</td><td style = \"text-align: right;\">0.34802</td><td style = \"text-align: right;\">1</td><td style = \"text-align: right;\">200</td><td style = \"text-align: right;\">20</td><td style = \"text-align: right;\">2.8734</td></tr></tbody></table></div>"
      ],
      "text/latex": [
       "\\begin{tabular}{r|cccccccc}\n",
       "\t& fromnode & tonode & resistance & reactance & contingencymarked & capacity & id & b\\\\\n",
       "\t\\hline\n",
       "\t& Int64 & Int64 & Float64 & Float64 & Int64 & Int64 & Int64 & Float64\\\\\n",
       "\t\\hline\n",
       "\t1 & 1 & 2 & 0.01938 & 0.05917 & 1 & 100 & 1 & 16.9005 \\\\\n",
       "\t2 & 1 & 5 & 0.05403 & 0.22304 & 1 & 200 & 2 & 4.4835 \\\\\n",
       "\t3 & 2 & 3 & 0.04699 & 0.19797 & 1 & 200 & 3 & 5.05127 \\\\\n",
       "\t4 & 2 & 4 & 0.05811 & 0.17632 & 1 & 200 & 4 & 5.67151 \\\\\n",
       "\t5 & 2 & 5 & 0.05695 & 0.17388 & 1 & 200 & 5 & 5.75109 \\\\\n",
       "\t6 & 3 & 4 & 0.06701 & 0.17103 & 1 & 200 & 6 & 5.84693 \\\\\n",
       "\t7 & 4 & 5 & 0.01335 & 0.04211 & 1 & 200 & 7 & 23.7473 \\\\\n",
       "\t8 & 4 & 7 & 0.0 & 0.20912 & 1 & 200 & 8 & 4.78194 \\\\\n",
       "\t9 & 4 & 9 & 0.0 & 0.55618 & 1 & 200 & 9 & 1.79798 \\\\\n",
       "\t10 & 5 & 6 & 0.0 & 0.25202 & 1 & 200 & 10 & 3.96794 \\\\\n",
       "\t11 & 6 & 11 & 0.09498 & 0.1989 & 1 & 200 & 11 & 5.02765 \\\\\n",
       "\t12 & 6 & 12 & 0.12291 & 0.25581 & 1 & 200 & 12 & 3.90915 \\\\\n",
       "\t13 & 6 & 13 & 0.06615 & 0.13027 & 1 & 200 & 13 & 7.67636 \\\\\n",
       "\t14 & 7 & 8 & 0.0 & 0.17615 & 1 & 200 & 14 & 5.67698 \\\\\n",
       "\t15 & 7 & 9 & 0.0 & 0.11001 & 1 & 200 & 15 & 9.09008 \\\\\n",
       "\t16 & 9 & 10 & 0.03181 & 0.0845 & 1 & 200 & 16 & 11.8343 \\\\\n",
       "\t17 & 9 & 14 & 0.12711 & 0.27038 & 1 & 200 & 17 & 3.6985 \\\\\n",
       "\t18 & 10 & 11 & 0.08205 & 0.19207 & 1 & 200 & 18 & 5.20644 \\\\\n",
       "\t19 & 12 & 13 & 0.22092 & 0.19988 & 1 & 200 & 19 & 5.003 \\\\\n",
       "\t20 & 13 & 14 & 0.17093 & 0.34802 & 1 & 200 & 20 & 2.8734 \\\\\n",
       "\t21 & 2 & 1 & 0.01938 & 0.05917 & 1 & 100 & 1 & 16.9005 \\\\\n",
       "\t22 & 5 & 1 & 0.05403 & 0.22304 & 1 & 200 & 2 & 4.4835 \\\\\n",
       "\t23 & 3 & 2 & 0.04699 & 0.19797 & 1 & 200 & 3 & 5.05127 \\\\\n",
       "\t24 & 4 & 2 & 0.05811 & 0.17632 & 1 & 200 & 4 & 5.67151 \\\\\n",
       "\t25 & 5 & 2 & 0.05695 & 0.17388 & 1 & 200 & 5 & 5.75109 \\\\\n",
       "\t26 & 4 & 3 & 0.06701 & 0.17103 & 1 & 200 & 6 & 5.84693 \\\\\n",
       "\t27 & 5 & 4 & 0.01335 & 0.04211 & 1 & 200 & 7 & 23.7473 \\\\\n",
       "\t28 & 7 & 4 & 0.0 & 0.20912 & 1 & 200 & 8 & 4.78194 \\\\\n",
       "\t29 & 9 & 4 & 0.0 & 0.55618 & 1 & 200 & 9 & 1.79798 \\\\\n",
       "\t30 & 6 & 5 & 0.0 & 0.25202 & 1 & 200 & 10 & 3.96794 \\\\\n",
       "\t$\\dots$ & $\\dots$ & $\\dots$ & $\\dots$ & $\\dots$ & $\\dots$ & $\\dots$ & $\\dots$ & $\\dots$ \\\\\n",
       "\\end{tabular}\n"
      ],
      "text/plain": [
       "\u001b[1m40×8 DataFrame\u001b[0m\n",
       "\u001b[1m Row \u001b[0m│\u001b[1m fromnode \u001b[0m\u001b[1m tonode \u001b[0m\u001b[1m resistance \u001b[0m\u001b[1m reactance \u001b[0m\u001b[1m contingencymarked \u001b[0m\u001b[1m capacity \u001b[0m\u001b[1m i\u001b[0m ⋯\n",
       "     │\u001b[90m Int64    \u001b[0m\u001b[90m Int64  \u001b[0m\u001b[90m Float64    \u001b[0m\u001b[90m Float64   \u001b[0m\u001b[90m Int64             \u001b[0m\u001b[90m Int64    \u001b[0m\u001b[90m I\u001b[0m ⋯\n",
       "─────┼──────────────────────────────────────────────────────────────────────────\n",
       "   1 │        1       2     0.01938    0.05917                  1       100    ⋯\n",
       "   2 │        1       5     0.05403    0.22304                  1       200\n",
       "   3 │        2       3     0.04699    0.19797                  1       200\n",
       "   4 │        2       4     0.05811    0.17632                  1       200\n",
       "   5 │        2       5     0.05695    0.17388                  1       200    ⋯\n",
       "   6 │        3       4     0.06701    0.17103                  1       200\n",
       "   7 │        4       5     0.01335    0.04211                  1       200\n",
       "   8 │        4       7     0.0        0.20912                  1       200\n",
       "   9 │        4       9     0.0        0.55618                  1       200    ⋯\n",
       "  10 │        5       6     0.0        0.25202                  1       200\n",
       "  11 │        6      11     0.09498    0.1989                   1       200\n",
       "  ⋮  │    ⋮        ⋮         ⋮           ⋮              ⋮             ⋮        ⋱\n",
       "  31 │       11       6     0.09498    0.1989                   1       200\n",
       "  32 │       12       6     0.12291    0.25581                  1       200    ⋯\n",
       "  33 │       13       6     0.06615    0.13027                  1       200\n",
       "  34 │        8       7     0.0        0.17615                  1       200\n",
       "  35 │        9       7     0.0        0.11001                  1       200\n",
       "  36 │       10       9     0.03181    0.0845                   1       200    ⋯\n",
       "  37 │       14       9     0.12711    0.27038                  1       200\n",
       "  38 │       11      10     0.08205    0.19207                  1       200\n",
       "  39 │       13      12     0.22092    0.19988                  1       200\n",
       "  40 │       14      13     0.17093    0.34802                  1       200    ⋯\n",
       "\u001b[36m                                                   2 columns and 19 rows omitted\u001b[0m"
      ]
     },
     "execution_count": 40,
     "metadata": {},
     "output_type": "execute_result"
    }
   ],
   "source": [
    "lines_copy3"
   ]
  },
  {
   "cell_type": "code",
   "execution_count": 41,
   "metadata": {},
   "outputs": [
    {
     "ename": "LoadError",
     "evalue": "MethodError: no method matching copyto!(::Float64, ::Base.Broadcast.Broadcasted{Base.Broadcast.DefaultArrayStyle{0}, Tuple{}, typeof(identity), Tuple{Float64}})\n\n\u001b[0mClosest candidates are:\n\u001b[0m  copyto!(\u001b[91m::AbstractDataFrame\u001b[39m, ::Base.Broadcast.Broadcasted{<:Base.Broadcast.AbstractArrayStyle{0}})\n\u001b[0m\u001b[90m   @\u001b[39m \u001b[35mDataFrames\u001b[39m \u001b[90m~/.julia/packages/DataFrames/58MUJ/src/other/\u001b[39m\u001b[90m\u001b[4mbroadcasting.jl:320\u001b[24m\u001b[39m\n\u001b[0m  copyto!(\u001b[91m::AbstractDataFrame\u001b[39m, ::Base.Broadcast.Broadcasted)\n\u001b[0m\u001b[90m   @\u001b[39m \u001b[35mDataFrames\u001b[39m \u001b[90m~/.julia/packages/DataFrames/58MUJ/src/other/\u001b[39m\u001b[90m\u001b[4mbroadcasting.jl:296\u001b[24m\u001b[39m\n\u001b[0m  copyto!(\u001b[91m::DataFrames.LazyNewColDataFrame\u001b[39m, ::Base.Broadcast.Broadcasted{T}) where T\n\u001b[0m\u001b[90m   @\u001b[39m \u001b[35mDataFrames\u001b[39m \u001b[90m~/.julia/packages/DataFrames/58MUJ/src/other/\u001b[39m\u001b[90m\u001b[4mbroadcasting.jl:196\u001b[24m\u001b[39m\n\u001b[0m  ...\n",
     "output_type": "error",
     "traceback": [
      "MethodError: no method matching copyto!(::Float64, ::Base.Broadcast.Broadcasted{Base.Broadcast.DefaultArrayStyle{0}, Tuple{}, typeof(identity), Tuple{Float64}})\n\n\u001b[0mClosest candidates are:\n\u001b[0m  copyto!(\u001b[91m::AbstractDataFrame\u001b[39m, ::Base.Broadcast.Broadcasted{<:Base.Broadcast.AbstractArrayStyle{0}})\n\u001b[0m\u001b[90m   @\u001b[39m \u001b[35mDataFrames\u001b[39m \u001b[90m~/.julia/packages/DataFrames/58MUJ/src/other/\u001b[39m\u001b[90m\u001b[4mbroadcasting.jl:320\u001b[24m\u001b[39m\n\u001b[0m  copyto!(\u001b[91m::AbstractDataFrame\u001b[39m, ::Base.Broadcast.Broadcasted)\n\u001b[0m\u001b[90m   @\u001b[39m \u001b[35mDataFrames\u001b[39m \u001b[90m~/.julia/packages/DataFrames/58MUJ/src/other/\u001b[39m\u001b[90m\u001b[4mbroadcasting.jl:296\u001b[24m\u001b[39m\n\u001b[0m  copyto!(\u001b[91m::DataFrames.LazyNewColDataFrame\u001b[39m, ::Base.Broadcast.Broadcasted{T}) where T\n\u001b[0m\u001b[90m   @\u001b[39m \u001b[35mDataFrames\u001b[39m \u001b[90m~/.julia/packages/DataFrames/58MUJ/src/other/\u001b[39m\u001b[90m\u001b[4mbroadcasting.jl:196\u001b[24m\u001b[39m\n\u001b[0m  ...\n",
      "",
      "Stacktrace:",
      " [1] materialize!",
      "   @ ./broadcast.jl:884 [inlined]",
      " [2] materialize!(dest::Float64, bc::Base.Broadcast.Broadcasted{Base.Broadcast.DefaultArrayStyle{0}, Nothing, typeof(identity), Tuple{Float64}})",
      "   @ Base.Broadcast ./broadcast.jl:881",
      " [3] top-level scope",
      "   @ ./In[41]:5"
     ]
    }
   ],
   "source": [
    "#status_array = Array{Float64}(undef, 20)\n",
    "\n",
    "for i in 1:size1\n",
    "    #store = lines_copy3.reactance[i];\n",
    "    lines_copy3.reactance[i] .= 1e9;\n",
    "    lines_copy3_new = format_lines(lines_copy3)\n",
    "    solution3 = dcopf_ieee(gens_copy3, lines_copy3_new, loads_sens)\n",
    "    push!(status, ([lines_copy3_new[lines_copy3_new.id.==i, :fromnode],lines_copy3_new[lines_copy3_new.id.==i, :tonode], solution3.status]))\n",
    "    #lines_copy3.reactance[i] .= store;\n",
    "end"
   ]
  },
  {
   "cell_type": "code",
   "execution_count": 42,
   "metadata": {},
   "outputs": [
    {
     "data": {
      "text/html": [
       "<div><div style = \"float: left;\"><span>0×3 DataFrame</span></div><div style = \"clear: both;\"></div></div><div class = \"data-frame\" style = \"overflow-x: scroll;\"><table class = \"data-frame\" style = \"margin-bottom: 6px;\"><thead><tr class = \"header\"><th class = \"rowNumber\" style = \"font-weight: bold; text-align: right;\">Row</th><th style = \"text-align: left;\">fromnode</th><th style = \"text-align: left;\">tonode</th><th style = \"text-align: left;\">opf</th></tr><tr class = \"subheader headerLastRow\"><th class = \"rowNumber\" style = \"font-weight: bold; text-align: right;\"></th><th title = \"Any\" style = \"text-align: left;\">Any</th><th title = \"Any\" style = \"text-align: left;\">Any</th><th title = \"Any\" style = \"text-align: left;\">Any</th></tr></thead><tbody></tbody></table></div>"
      ],
      "text/latex": [
       "\\begin{tabular}{r|ccc}\n",
       "\t& fromnode & tonode & opf\\\\\n",
       "\t\\hline\n",
       "\t& Any & Any & Any\\\\\n",
       "\t\\hline\n",
       "\\end{tabular}\n"
      ],
      "text/plain": [
       "\u001b[1m0×3 DataFrame\u001b[0m\n",
       "\u001b[1m Row \u001b[0m│\u001b[1m fromnode \u001b[0m\u001b[1m tonode \u001b[0m\u001b[1m opf \u001b[0m\n",
       "     │\u001b[90m Any      \u001b[0m\u001b[90m Any    \u001b[0m\u001b[90m Any \u001b[0m\n",
       "─────┴───────────────────────"
      ]
     },
     "execution_count": 42,
     "metadata": {},
     "output_type": "execute_result"
    }
   ],
   "source": [
    "status"
   ]
  },
  {
   "cell_type": "markdown",
   "metadata": {},
   "source": [
    "**3. Interpret results**\n",
    "\n",
    "Are all of the cases feasible? If not, how many are infeasible? "
   ]
  },
  {
   "cell_type": "markdown",
   "metadata": {},
   "source": [
    "**ANS** I was able to do this the first time I ran this notebook, then it is throwing me out an error that I was not able to fix. Anyways the only case 5 was giving me a dual-infeasible, so 1 case."
   ]
  },
  {
   "cell_type": "markdown",
   "metadata": {},
   "source": [
    "Pick two cases where the solution gives a different status. (For our purposes, dual infeasible and primal infeasible are the same.) What is happening here?\n",
    "\n",
    "Given this, do you conclude that the system with the assumed transmission line ratings is secure as-is, or do we need to add more redundancy to the system?"
   ]
  },
  {
   "cell_type": "markdown",
   "metadata": {},
   "source": [
    "**ANS** Comparing case 1 and case 5, the solution is feasible and infeasible respectively. In the situation of the infeasible case, the model conclude that the certain line cannot be removed as it would break the system. This implies that we need to add more redundacy to the system to prevent such cases where the system breaks if a certain line is removed."
   ]
  }
 ],
 "metadata": {
  "@webio": {
   "lastCommId": null,
   "lastKernelId": null
  },
  "kernelspec": {
   "display_name": "Julia 1.9.3",
   "language": "julia",
   "name": "julia-1.9"
  },
  "language_info": {
   "file_extension": ".jl",
   "mimetype": "application/julia",
   "name": "julia",
   "version": "1.9.3"
  }
 },
 "nbformat": 4,
 "nbformat_minor": 4
}
